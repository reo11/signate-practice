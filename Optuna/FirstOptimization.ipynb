{
 "cells": [
  {
   "cell_type": "code",
   "execution_count": 1,
   "metadata": {},
   "outputs": [
    {
     "name": "stderr",
     "output_type": "stream",
     "text": [
      "Using TensorFlow backend.\n",
      "/Users/reo/.pyenv/versions/anaconda3-5.3.0/envs/Kaggle/lib/python3.6/site-packages/lightgbm/__init__.py:46: UserWarning: Starting from version 2.2.1, the library file in distribution wheels for macOS is built by the Apple Clang (Xcode_8.3.3) compiler.\n",
      "This means that in case of installing LightGBM from PyPI via the ``pip install lightgbm`` command, you don't need to install the gcc compiler anymore.\n",
      "Instead of that, you need to install the OpenMP library, which is required for running LightGBM on the system with the Apple Clang compiler.\n",
      "You can install the OpenMP library by the following command: ``brew install libomp``.\n",
      "  \"You can install the OpenMP library by the following command: ``brew install libomp``.\", UserWarning)\n"
     ]
    }
   ],
   "source": [
    "import optuna"
   ]
  },
  {
   "cell_type": "code",
   "execution_count": 2,
   "metadata": {},
   "outputs": [],
   "source": [
    "def objective(trial):\n",
    "    x = trial.suggest_uniform('x', -10, 10)\n",
    "    return (x-2) ** 2"
   ]
  },
  {
   "cell_type": "code",
   "execution_count": 3,
   "metadata": {},
   "outputs": [
    {
     "name": "stderr",
     "output_type": "stream",
     "text": [
      "[I 2019-03-13 03:25:19,889] Finished a trial resulted in value: 5.178563145238184. Current best value is 5.178563145238184 with parameters: {'x': -0.2756456545864481}.\n",
      "[I 2019-03-13 03:25:19,895] Finished a trial resulted in value: 46.917594459846. Current best value is 5.178563145238184 with parameters: {'x': -0.2756456545864481}.\n",
      "[I 2019-03-13 03:25:19,898] Finished a trial resulted in value: 12.012566327742633. Current best value is 5.178563145238184 with parameters: {'x': -0.2756456545864481}.\n",
      "[I 2019-03-13 03:25:19,901] Finished a trial resulted in value: 2.839738405473628. Current best value is 2.839738405473628 with parameters: {'x': 0.3148476610485247}.\n",
      "[I 2019-03-13 03:25:19,905] Finished a trial resulted in value: 58.62948115101917. Current best value is 2.839738405473628 with parameters: {'x': 0.3148476610485247}.\n",
      "[I 2019-03-13 03:25:19,909] Finished a trial resulted in value: 8.019745183610317. Current best value is 2.839738405473628 with parameters: {'x': 0.3148476610485247}.\n",
      "[I 2019-03-13 03:25:19,914] Finished a trial resulted in value: 25.341689736204838. Current best value is 2.839738405473628 with parameters: {'x': 0.3148476610485247}.\n",
      "[I 2019-03-13 03:25:19,919] Finished a trial resulted in value: 42.23050746101336. Current best value is 2.839738405473628 with parameters: {'x': 0.3148476610485247}.\n",
      "[I 2019-03-13 03:25:19,927] Finished a trial resulted in value: 11.374759013102267. Current best value is 2.839738405473628 with parameters: {'x': 0.3148476610485247}.\n",
      "[I 2019-03-13 03:25:19,933] Finished a trial resulted in value: 116.14132959523151. Current best value is 2.839738405473628 with parameters: {'x': 0.3148476610485247}.\n",
      "[I 2019-03-13 03:25:19,950] Finished a trial resulted in value: 2.7775747674269455. Current best value is 2.7775747674269455 with parameters: {'x': 3.66660576244862}.\n",
      "[I 2019-03-13 03:25:19,965] Finished a trial resulted in value: 4.627247830650966. Current best value is 2.7775747674269455 with parameters: {'x': 3.66660576244862}.\n",
      "[I 2019-03-13 03:25:19,974] Finished a trial resulted in value: 5.163740876456686. Current best value is 2.7775747674269455 with parameters: {'x': 3.66660576244862}.\n",
      "[I 2019-03-13 03:25:19,986] Finished a trial resulted in value: 65.87298976841136. Current best value is 2.7775747674269455 with parameters: {'x': 3.66660576244862}.\n",
      "[I 2019-03-13 03:25:20,002] Finished a trial resulted in value: 24.409118395407805. Current best value is 2.7775747674269455 with parameters: {'x': 3.66660576244862}.\n",
      "[I 2019-03-13 03:25:20,012] Finished a trial resulted in value: 3.072798695917257. Current best value is 2.7775747674269455 with parameters: {'x': 3.66660576244862}.\n",
      "[I 2019-03-13 03:25:20,027] Finished a trial resulted in value: 0.38387886140021654. Current best value is 0.38387886140021654 with parameters: {'x': 1.3804204156040836}.\n",
      "[I 2019-03-13 03:25:20,036] Finished a trial resulted in value: 0.03546820668204013. Current best value is 0.03546820668204013 with parameters: {'x': 1.8116699527902143}.\n",
      "[I 2019-03-13 03:25:20,046] Finished a trial resulted in value: 0.07508199063174575. Current best value is 0.03546820668204013 with parameters: {'x': 1.8116699527902143}.\n",
      "[I 2019-03-13 03:25:20,057] Finished a trial resulted in value: 0.001453988551565082. Current best value is 0.001453988551565082 with parameters: {'x': 2.038131201811182}.\n",
      "[I 2019-03-13 03:25:20,070] Finished a trial resulted in value: 25.409225638821628. Current best value is 0.001453988551565082 with parameters: {'x': 2.038131201811182}.\n",
      "[I 2019-03-13 03:25:20,079] Finished a trial resulted in value: 26.235824357659812. Current best value is 0.001453988551565082 with parameters: {'x': 2.038131201811182}.\n",
      "[I 2019-03-13 03:25:20,091] Finished a trial resulted in value: 76.6375164089052. Current best value is 0.001453988551565082 with parameters: {'x': 2.038131201811182}.\n",
      "[I 2019-03-13 03:25:20,102] Finished a trial resulted in value: 0.009383241587649055. Current best value is 0.001453988551565082 with parameters: {'x': 2.038131201811182}.\n",
      "[I 2019-03-13 03:25:20,114] Finished a trial resulted in value: 14.189109575043796. Current best value is 0.001453988551565082 with parameters: {'x': 2.038131201811182}.\n",
      "[I 2019-03-13 03:25:20,125] Finished a trial resulted in value: 0.013432422720479117. Current best value is 0.001453988551565082 with parameters: {'x': 2.038131201811182}.\n",
      "[I 2019-03-13 03:25:20,136] Finished a trial resulted in value: 20.483172760696075. Current best value is 0.001453988551565082 with parameters: {'x': 2.038131201811182}.\n",
      "[I 2019-03-13 03:25:20,145] Finished a trial resulted in value: 0.9153094450368591. Current best value is 0.001453988551565082 with parameters: {'x': 2.038131201811182}.\n",
      "[I 2019-03-13 03:25:20,155] Finished a trial resulted in value: 3.7830896819668243. Current best value is 0.001453988551565082 with parameters: {'x': 2.038131201811182}.\n",
      "[I 2019-03-13 03:25:20,166] Finished a trial resulted in value: 38.04998819308078. Current best value is 0.001453988551565082 with parameters: {'x': 2.038131201811182}.\n",
      "[I 2019-03-13 03:25:20,175] Finished a trial resulted in value: 52.89257748254513. Current best value is 0.001453988551565082 with parameters: {'x': 2.038131201811182}.\n",
      "[I 2019-03-13 03:25:20,185] Finished a trial resulted in value: 15.322987558368093. Current best value is 0.001453988551565082 with parameters: {'x': 2.038131201811182}.\n",
      "[I 2019-03-13 03:25:20,195] Finished a trial resulted in value: 40.32724161168367. Current best value is 0.001453988551565082 with parameters: {'x': 2.038131201811182}.\n",
      "[I 2019-03-13 03:25:20,206] Finished a trial resulted in value: 2.1720373892639766. Current best value is 0.001453988551565082 with parameters: {'x': 2.038131201811182}.\n",
      "[I 2019-03-13 03:25:20,214] Finished a trial resulted in value: 139.78631470543772. Current best value is 0.001453988551565082 with parameters: {'x': 2.038131201811182}.\n",
      "[I 2019-03-13 03:25:20,222] Finished a trial resulted in value: 8.994151718239694. Current best value is 0.001453988551565082 with parameters: {'x': 2.038131201811182}.\n",
      "[I 2019-03-13 03:25:20,233] Finished a trial resulted in value: 10.817552749510455. Current best value is 0.001453988551565082 with parameters: {'x': 2.038131201811182}.\n",
      "[I 2019-03-13 03:25:20,244] Finished a trial resulted in value: 0.4943277115045618. Current best value is 0.001453988551565082 with parameters: {'x': 2.038131201811182}.\n",
      "[I 2019-03-13 03:25:20,256] Finished a trial resulted in value: 58.17626190930854. Current best value is 0.001453988551565082 with parameters: {'x': 2.038131201811182}.\n",
      "[I 2019-03-13 03:25:20,266] Finished a trial resulted in value: 101.09987432656395. Current best value is 0.001453988551565082 with parameters: {'x': 2.038131201811182}.\n",
      "[I 2019-03-13 03:25:20,276] Finished a trial resulted in value: 5.805239437317077. Current best value is 0.001453988551565082 with parameters: {'x': 2.038131201811182}.\n",
      "[I 2019-03-13 03:25:20,285] Finished a trial resulted in value: 1.6689671047657628. Current best value is 0.001453988551565082 with parameters: {'x': 2.038131201811182}.\n",
      "[I 2019-03-13 03:25:20,296] Finished a trial resulted in value: 30.695942635683597. Current best value is 0.001453988551565082 with parameters: {'x': 2.038131201811182}.\n",
      "[I 2019-03-13 03:25:20,308] Finished a trial resulted in value: 23.250058939872854. Current best value is 0.001453988551565082 with parameters: {'x': 2.038131201811182}.\n",
      "[I 2019-03-13 03:25:20,318] Finished a trial resulted in value: 8.422826408798397. Current best value is 0.001453988551565082 with parameters: {'x': 2.038131201811182}.\n",
      "[I 2019-03-13 03:25:20,331] Finished a trial resulted in value: 0.7291293951500826. Current best value is 0.001453988551565082 with parameters: {'x': 2.038131201811182}.\n",
      "[I 2019-03-13 03:25:20,343] Finished a trial resulted in value: 11.695299668238464. Current best value is 0.001453988551565082 with parameters: {'x': 2.038131201811182}.\n",
      "[I 2019-03-13 03:25:20,352] Finished a trial resulted in value: 62.82495891107267. Current best value is 0.001453988551565082 with parameters: {'x': 2.038131201811182}.\n"
     ]
    },
    {
     "name": "stderr",
     "output_type": "stream",
     "text": [
      "[I 2019-03-13 03:25:20,363] Finished a trial resulted in value: 17.559890747196278. Current best value is 0.001453988551565082 with parameters: {'x': 2.038131201811182}.\n",
      "[I 2019-03-13 03:25:20,374] Finished a trial resulted in value: 41.572596998609626. Current best value is 0.001453988551565082 with parameters: {'x': 2.038131201811182}.\n",
      "[I 2019-03-13 03:25:20,383] Finished a trial resulted in value: 5.800830257266731. Current best value is 0.001453988551565082 with parameters: {'x': 2.038131201811182}.\n",
      "[I 2019-03-13 03:25:20,395] Finished a trial resulted in value: 1.0560755314111268. Current best value is 0.001453988551565082 with parameters: {'x': 2.038131201811182}.\n",
      "[I 2019-03-13 03:25:20,405] Finished a trial resulted in value: 0.03168318425495253. Current best value is 0.001453988551565082 with parameters: {'x': 2.038131201811182}.\n",
      "[I 2019-03-13 03:25:20,417] Finished a trial resulted in value: 33.596895828109744. Current best value is 0.001453988551565082 with parameters: {'x': 2.038131201811182}.\n",
      "[I 2019-03-13 03:25:20,428] Finished a trial resulted in value: 56.09335500517734. Current best value is 0.001453988551565082 with parameters: {'x': 2.038131201811182}.\n",
      "[I 2019-03-13 03:25:20,438] Finished a trial resulted in value: 2.5169933477057436. Current best value is 0.001453988551565082 with parameters: {'x': 2.038131201811182}.\n",
      "[I 2019-03-13 03:25:20,448] Finished a trial resulted in value: 4.483316692014512. Current best value is 0.001453988551565082 with parameters: {'x': 2.038131201811182}.\n",
      "[I 2019-03-13 03:25:20,460] Finished a trial resulted in value: 17.478840294297406. Current best value is 0.001453988551565082 with parameters: {'x': 2.038131201811182}.\n",
      "[I 2019-03-13 03:25:20,473] Finished a trial resulted in value: 97.6249582600181. Current best value is 0.001453988551565082 with parameters: {'x': 2.038131201811182}.\n",
      "[I 2019-03-13 03:25:20,486] Finished a trial resulted in value: 31.215301045373028. Current best value is 0.001453988551565082 with parameters: {'x': 2.038131201811182}.\n",
      "[I 2019-03-13 03:25:20,500] Finished a trial resulted in value: 0.764694402962924. Current best value is 0.001453988551565082 with parameters: {'x': 2.038131201811182}.\n",
      "[I 2019-03-13 03:25:20,514] Finished a trial resulted in value: 17.770035202687627. Current best value is 0.001453988551565082 with parameters: {'x': 2.038131201811182}.\n",
      "[I 2019-03-13 03:25:20,525] Finished a trial resulted in value: 47.941593541629594. Current best value is 0.001453988551565082 with parameters: {'x': 2.038131201811182}.\n",
      "[I 2019-03-13 03:25:20,538] Finished a trial resulted in value: 6.909081303266707. Current best value is 0.001453988551565082 with parameters: {'x': 2.038131201811182}.\n",
      "[I 2019-03-13 03:25:20,550] Finished a trial resulted in value: 6.991723622307873. Current best value is 0.001453988551565082 with parameters: {'x': 2.038131201811182}.\n",
      "[I 2019-03-13 03:25:20,563] Finished a trial resulted in value: 0.04414313981659119. Current best value is 0.001453988551565082 with parameters: {'x': 2.038131201811182}.\n",
      "[I 2019-03-13 03:25:20,578] Finished a trial resulted in value: 1.390678176584299. Current best value is 0.001453988551565082 with parameters: {'x': 2.038131201811182}.\n",
      "[I 2019-03-13 03:25:20,594] Finished a trial resulted in value: 0.14780220418973541. Current best value is 0.001453988551565082 with parameters: {'x': 2.038131201811182}.\n",
      "[I 2019-03-13 03:25:20,608] Finished a trial resulted in value: 3.483727711356091. Current best value is 0.001453988551565082 with parameters: {'x': 2.038131201811182}.\n",
      "[I 2019-03-13 03:25:20,622] Finished a trial resulted in value: 2.7012686682894707. Current best value is 0.001453988551565082 with parameters: {'x': 2.038131201811182}.\n",
      "[I 2019-03-13 03:25:20,633] Finished a trial resulted in value: 9.870200125860801. Current best value is 0.001453988551565082 with parameters: {'x': 2.038131201811182}.\n",
      "[I 2019-03-13 03:25:20,646] Finished a trial resulted in value: 24.004800032338295. Current best value is 0.001453988551565082 with parameters: {'x': 2.038131201811182}.\n",
      "[I 2019-03-13 03:25:20,660] Finished a trial resulted in value: 11.53748795529773. Current best value is 0.001453988551565082 with parameters: {'x': 2.038131201811182}.\n",
      "[I 2019-03-13 03:25:20,671] Finished a trial resulted in value: 14.726987841177582. Current best value is 0.001453988551565082 with parameters: {'x': 2.038131201811182}.\n",
      "[I 2019-03-13 03:25:20,684] Finished a trial resulted in value: 42.32018036563699. Current best value is 0.001453988551565082 with parameters: {'x': 2.038131201811182}.\n",
      "[I 2019-03-13 03:25:20,696] Finished a trial resulted in value: 72.53912964586624. Current best value is 0.001453988551565082 with parameters: {'x': 2.038131201811182}.\n",
      "[I 2019-03-13 03:25:20,710] Finished a trial resulted in value: 0.04512792423099819. Current best value is 0.001453988551565082 with parameters: {'x': 2.038131201811182}.\n",
      "[I 2019-03-13 03:25:20,725] Finished a trial resulted in value: 1.8787876226126403. Current best value is 0.001453988551565082 with parameters: {'x': 2.038131201811182}.\n",
      "[I 2019-03-13 03:25:20,739] Finished a trial resulted in value: 32.23930469487304. Current best value is 0.001453988551565082 with parameters: {'x': 2.038131201811182}.\n",
      "[I 2019-03-13 03:25:20,757] Finished a trial resulted in value: 49.77471443084918. Current best value is 0.001453988551565082 with parameters: {'x': 2.038131201811182}.\n",
      "[I 2019-03-13 03:25:20,770] Finished a trial resulted in value: 18.945477268606943. Current best value is 0.001453988551565082 with parameters: {'x': 2.038131201811182}.\n",
      "[I 2019-03-13 03:25:20,784] Finished a trial resulted in value: 127.50492669235548. Current best value is 0.001453988551565082 with parameters: {'x': 2.038131201811182}.\n",
      "[I 2019-03-13 03:25:20,797] Finished a trial resulted in value: 9.414808390215109. Current best value is 0.001453988551565082 with parameters: {'x': 2.038131201811182}.\n",
      "[I 2019-03-13 03:25:20,813] Finished a trial resulted in value: 0.2649218147491252. Current best value is 0.001453988551565082 with parameters: {'x': 2.038131201811182}.\n",
      "[I 2019-03-13 03:25:20,828] Finished a trial resulted in value: 3.8708264086257542. Current best value is 0.001453988551565082 with parameters: {'x': 2.038131201811182}.\n",
      "[I 2019-03-13 03:25:20,842] Finished a trial resulted in value: 0.3558887532283047. Current best value is 0.001453988551565082 with parameters: {'x': 2.038131201811182}.\n",
      "[I 2019-03-13 03:25:20,854] Finished a trial resulted in value: 3.501607373789951. Current best value is 0.001453988551565082 with parameters: {'x': 2.038131201811182}.\n",
      "[I 2019-03-13 03:25:20,869] Finished a trial resulted in value: 31.954744971032316. Current best value is 0.001453988551565082 with parameters: {'x': 2.038131201811182}.\n",
      "[I 2019-03-13 03:25:20,883] Finished a trial resulted in value: 20.807915547000135. Current best value is 0.001453988551565082 with parameters: {'x': 2.038131201811182}.\n",
      "[I 2019-03-13 03:25:20,897] Finished a trial resulted in value: 90.19087143547776. Current best value is 0.001453988551565082 with parameters: {'x': 2.038131201811182}.\n",
      "[I 2019-03-13 03:25:20,911] Finished a trial resulted in value: 1.201358840653673. Current best value is 0.001453988551565082 with parameters: {'x': 2.038131201811182}.\n",
      "[I 2019-03-13 03:25:20,924] Finished a trial resulted in value: 11.662873599360001. Current best value is 0.001453988551565082 with parameters: {'x': 2.038131201811182}.\n",
      "[I 2019-03-13 03:25:20,938] Finished a trial resulted in value: 14.336498574758625. Current best value is 0.001453988551565082 with parameters: {'x': 2.038131201811182}.\n",
      "[I 2019-03-13 03:25:20,953] Finished a trial resulted in value: 5.751544015731306. Current best value is 0.001453988551565082 with parameters: {'x': 2.038131201811182}.\n",
      "[I 2019-03-13 03:25:20,967] Finished a trial resulted in value: 55.318691114636366. Current best value is 0.001453988551565082 with parameters: {'x': 2.038131201811182}.\n",
      "[I 2019-03-13 03:25:20,982] Finished a trial resulted in value: 0.0069528456920642965. Current best value is 0.001453988551565082 with parameters: {'x': 2.038131201811182}.\n"
     ]
    },
    {
     "name": "stderr",
     "output_type": "stream",
     "text": [
      "[I 2019-03-13 03:25:20,996] Finished a trial resulted in value: 5.475775244375092. Current best value is 0.001453988551565082 with parameters: {'x': 2.038131201811182}.\n",
      "[I 2019-03-13 03:25:21,015] Finished a trial resulted in value: 23.258872550519268. Current best value is 0.001453988551565082 with parameters: {'x': 2.038131201811182}.\n",
      "[I 2019-03-13 03:25:21,034] Finished a trial resulted in value: 27.683339428937124. Current best value is 0.001453988551565082 with parameters: {'x': 2.038131201811182}.\n",
      "[I 2019-03-13 03:25:21,054] Finished a trial resulted in value: 28.926845930660907. Current best value is 0.001453988551565082 with parameters: {'x': 2.038131201811182}.\n"
     ]
    }
   ],
   "source": [
    "study = optuna.create_study()\n",
    "study.optimize(objective, n_trials=100)"
   ]
  },
  {
   "cell_type": "code",
   "execution_count": 4,
   "metadata": {},
   "outputs": [
    {
     "data": {
      "text/plain": [
       "{'x': 2.038131201811182}"
      ]
     },
     "execution_count": 4,
     "metadata": {},
     "output_type": "execute_result"
    }
   ],
   "source": [
    "study.best_params"
   ]
  },
  {
   "cell_type": "code",
   "execution_count": 5,
   "metadata": {},
   "outputs": [
    {
     "data": {
      "text/html": [
       "<script type=\"text/javascript\">window.PlotlyConfig = {MathJaxConfig: 'local'};</script><script type=\"text/javascript\">if (window.MathJax) {MathJax.Hub.Config({SVG: {font: \"STIX-Web\"}});}</script><script>requirejs.config({paths: { 'plotly': ['https://cdn.plot.ly/plotly-latest.min']},});if(!window._Plotly) {require(['plotly'],function(plotly) {window._Plotly=plotly;});}</script>"
      ],
      "text/vnd.plotly.v1+html": [
       "<script type=\"text/javascript\">window.PlotlyConfig = {MathJaxConfig: 'local'};</script><script type=\"text/javascript\">if (window.MathJax) {MathJax.Hub.Config({SVG: {font: \"STIX-Web\"}});}</script><script>requirejs.config({paths: { 'plotly': ['https://cdn.plot.ly/plotly-latest.min']},});if(!window._Plotly) {require(['plotly'],function(plotly) {window._Plotly=plotly;});}</script>"
      ]
     },
     "metadata": {},
     "output_type": "display_data"
    },
    {
     "data": {
      "application/vnd.plotly.v1+json": {
       "config": {
        "linkText": "Export to plot.ly",
        "plotlyServerURL": "https://plot.ly",
        "showLink": false
       },
       "data": [],
       "layout": {
        "showlegend": false
       }
      },
      "text/html": [
       "<div id=\"e6f71c49-ff60-403d-9676-676a6d96389a\" style=\"height: 525px; width: 100%;\" class=\"plotly-graph-div\"></div><script type=\"text/javascript\">require([\"plotly\"], function(Plotly) { window.PLOTLYENV=window.PLOTLYENV || {};window.PLOTLYENV.BASE_URL=\"https://plot.ly\";\n",
       "if (document.getElementById(\"e6f71c49-ff60-403d-9676-676a6d96389a\")) {\n",
       "    Plotly.newPlot(\"e6f71c49-ff60-403d-9676-676a6d96389a\", [], {\"showlegend\": false}, {\"showLink\": false, \"linkText\": \"Export to plot.ly\", \"plotlyServerURL\": \"https://plot.ly\"}); \n",
       "}\n",
       "});</script><script type=\"text/javascript\">window.addEventListener(\"resize\", function(){if (document.getElementById(\"e6f71c49-ff60-403d-9676-676a6d96389a\")) {window._Plotly.Plots.resize(document.getElementById(\"e6f71c49-ff60-403d-9676-676a6d96389a\"));};})</script>"
      ],
      "text/vnd.plotly.v1+html": [
       "<div id=\"e6f71c49-ff60-403d-9676-676a6d96389a\" style=\"height: 525px; width: 100%;\" class=\"plotly-graph-div\"></div><script type=\"text/javascript\">require([\"plotly\"], function(Plotly) { window.PLOTLYENV=window.PLOTLYENV || {};window.PLOTLYENV.BASE_URL=\"https://plot.ly\";\n",
       "if (document.getElementById(\"e6f71c49-ff60-403d-9676-676a6d96389a\")) {\n",
       "    Plotly.newPlot(\"e6f71c49-ff60-403d-9676-676a6d96389a\", [], {\"showlegend\": false}, {\"showLink\": false, \"linkText\": \"Export to plot.ly\", \"plotlyServerURL\": \"https://plot.ly\"}); \n",
       "}\n",
       "});</script><script type=\"text/javascript\">window.addEventListener(\"resize\", function(){if (document.getElementById(\"e6f71c49-ff60-403d-9676-676a6d96389a\")) {window._Plotly.Plots.resize(document.getElementById(\"e6f71c49-ff60-403d-9676-676a6d96389a\"));};})</script>"
      ]
     },
     "metadata": {},
     "output_type": "display_data"
    }
   ],
   "source": [
    "optuna.visualization.plot_intermediate_values(study)"
   ]
  },
  {
   "cell_type": "code",
   "execution_count": null,
   "metadata": {},
   "outputs": [],
   "source": []
  }
 ],
 "metadata": {
  "kernelspec": {
   "display_name": "Python 3",
   "language": "python",
   "name": "python3"
  },
  "language_info": {
   "codemirror_mode": {
    "name": "ipython",
    "version": 3
   },
   "file_extension": ".py",
   "mimetype": "text/x-python",
   "name": "python",
   "nbconvert_exporter": "python",
   "pygments_lexer": "ipython3",
   "version": "3.6.7"
  }
 },
 "nbformat": 4,
 "nbformat_minor": 2
}
