{
 "cells": [
  {
   "cell_type": "code",
   "execution_count": 1,
   "metadata": {},
   "outputs": [
    {
     "name": "stderr",
     "output_type": "stream",
     "text": [
      "Using TensorFlow backend.\n",
      "/Users/reo/.pyenv/versions/anaconda3-5.3.0/envs/Kaggle/lib/python3.6/site-packages/lightgbm/__init__.py:46: UserWarning: Starting from version 2.2.1, the library file in distribution wheels for macOS is built by the Apple Clang (Xcode_8.3.3) compiler.\n",
      "This means that in case of installing LightGBM from PyPI via the ``pip install lightgbm`` command, you don't need to install the gcc compiler anymore.\n",
      "Instead of that, you need to install the OpenMP library, which is required for running LightGBM on the system with the Apple Clang compiler.\n",
      "You can install the OpenMP library by the following command: ``brew install libomp``.\n",
      "  \"You can install the OpenMP library by the following command: ``brew install libomp``.\", UserWarning)\n"
     ]
    },
    {
     "name": "stdout",
     "output_type": "stream",
     "text": [
      "train data shape:(199, 7), test data shape:(199, 6)\n"
     ]
    }
   ],
   "source": [
    "import pandas as pd\n",
    "import numpy as np\n",
    "import matplotlib.pyplot as plt\n",
    "import seaborn as sns\n",
    "import optuna\n",
    "\n",
    "train_df = pd.read_table('../input/train.tsv')\n",
    "test_df = pd.read_table('../input/test.tsv')\n",
    "drop_list = ['car name', 'horsepower', 'id']\n",
    "train_df.drop(drop_list, axis=1, inplace=True)\n",
    "test_id = test_df.id.values\n",
    "test_df.drop(drop_list, axis=1, inplace=True)\n",
    "feature_list = ['weight', 'model year']\n",
    "print(\"train data shape:{}, test data shape:{}\".format(train_df.shape, test_df.shape))\n",
    "\n",
    "corr = train_df.corr()\n",
    "sns.heatmap(corr, square=True, annot=True);"
   ]
  },
  {
   "cell_type": "code",
   "execution_count": 2,
   "metadata": {},
   "outputs": [],
   "source": [
    "import lightgbm as lgb\n",
    "from sklearn.model_selection import KFold\n",
    "\n",
    "N = 5\n",
    "kf = KFold(n_splits=N)\n",
    "\n",
    "def create_model(params, train_data_set, test_data_set):\n",
    "    return lgb.train(params,                                                                                  \n",
    "                    train_data_set,                                                                               \n",
    "                    num_boost_round=200,                                                                      \n",
    "                    valid_sets=test_data_set,                                                                     \n",
    "                    early_stopping_rounds=10\n",
    "                    )\n",
    "\n",
    "def objective(trial):\n",
    "    #最適化するパラメータの設定\n",
    "    num_leaves = trial.suggest_int(\"num_leaves\", 7, 40)\n",
    "    learning_rate = trial.suggest_uniform(\"learning_rate\", 0.001, 0.1)\n",
    "    feature_fraction = trial.suggest_uniform(\"feature_fraction\", 0, 1)\n",
    "    bagging_fraction = trial.suggest_uniform(\"bagging_fraction\", 0, 1)\n",
    "    bagging_freq = trial.suggest_int(\"bagging_freq\", 0, 10)\n",
    "    lambda_l2 = trial.suggest_uniform(\"lambda_l2\", 0, 3)\n",
    "    params = {                                                                                               \n",
    "        'boosting_type': 'gbdt',                                                                             \n",
    "        'objective': 'regression_l2',                                                        \n",
    "        'metric': 'RMSE',                                               \n",
    "        'num_leaves': num_leaves,                                                      \n",
    "        'learning_rate': learning_rate,                                                         \n",
    "        'feature_fraction': feature_fraction,                                                                  \n",
    "        'bagging_fraction': bagging_fraction,                                                                       \n",
    "        'bagging_freq': bagging_freq,\n",
    "        'lambda_l2': lambda_l2,\n",
    "    }\n",
    "\n",
    "    test_pred = np.zeros(len(test_df))\n",
    "    accuracy_train = []\n",
    "    index = 1\n",
    "    for train, test in kf.split(train_df):\n",
    "        X_train = train_df.iloc[train]\n",
    "        y_train = X_train['mpg'].values\n",
    "        X_train = X_train[feature_list].values\n",
    "\n",
    "        X_test = train_df.iloc[test]\n",
    "        y_test = X_test['mpg'].values\n",
    "        X_test = X_test[feature_list].values\n",
    "\n",
    "        train_data_set = lgb.Dataset(X_train, y_train)\n",
    "        test_data_set = lgb.Dataset(X_test, y_test, reference=train_data_set)\n",
    "\n",
    "        model = create_model(params, train_data_set, test_data_set)\n",
    "        pred_train = model.predict(X_test, num_iteration=model.best_iteration)\n",
    "\n",
    "        test_data = test_df[feature_list].values\n",
    "        test_pred += model.predict(test_data, num_iteration=gbm.best_iteration)/N\n",
    "        accuracy_train.append(np.sqrt(mean_squared_error(y_test, pred_train)))\n",
    "        print('Fold {} CV RMSE: {:.6}'.format(index, accuracy_train[-1]))\n",
    "        index += 1\n",
    "    ave = sum(accuracy_train)/len(accuracy_train)\n",
    "    # print('CV average RMSE: {:.6}'.format(ave))\n",
    "\n",
    "    #検証用データに対する正答率が最大となるハイパーパラメータを求める\n",
    "    return ave"
   ]
  },
  {
   "cell_type": "code",
   "execution_count": null,
   "metadata": {},
   "outputs": [],
   "source": [
    "study = optuna.create_study()\n",
    "study.optimize(objective, n_trials=10)"
   ]
  },
  {
   "cell_type": "code",
   "execution_count": null,
   "metadata": {},
   "outputs": [],
   "source": []
  }
 ],
 "metadata": {
  "kernelspec": {
   "display_name": "Python 3",
   "language": "python",
   "name": "python3"
  },
  "language_info": {
   "codemirror_mode": {
    "name": "ipython",
    "version": 3
   },
   "file_extension": ".py",
   "mimetype": "text/x-python",
   "name": "python",
   "nbconvert_exporter": "python",
   "pygments_lexer": "ipython3",
   "version": "3.6.7"
  }
 },
 "nbformat": 4,
 "nbformat_minor": 2
}
