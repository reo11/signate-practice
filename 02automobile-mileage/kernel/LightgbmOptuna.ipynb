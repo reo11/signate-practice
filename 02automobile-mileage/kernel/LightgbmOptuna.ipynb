{
 "cells": [
  {
   "cell_type": "code",
   "execution_count": 1,
   "metadata": {},
   "outputs": [
    {
     "name": "stderr",
     "output_type": "stream",
     "text": [
      "Using TensorFlow backend.\n"
     ]
    },
    {
     "name": "stdout",
     "output_type": "stream",
     "text": [
      "train data shape:(199, 7), test data shape:(199, 6)\n"
     ]
    }
   ],
   "source": [
    "import pandas as pd\n",
    "import numpy as np\n",
    "import matplotlib.pyplot as plt\n",
    "import seaborn as sns\n",
    "import optuna\n",
    "\n",
    "train_df = pd.read_table('../input/train.tsv')\n",
    "test_df = pd.read_table('../input/test.tsv')\n",
    "drop_list = ['car name', 'horsepower', 'id']\n",
    "train_df.drop(drop_list, axis=1, inplace=True)\n",
    "test_id = test_df.id.values\n",
    "test_df.drop(drop_list, axis=1, inplace=True)\n",
    "feature_list = ['weight', 'model year']\n",
    "print(\"train data shape:{}, test data shape:{}\".format(train_df.shape, test_df.shape))\n",
    "\n",
    "corr = train_df.corr()\n",
    "sns.heatmap(corr, square=True, annot=True);"
   ]
  },
  {
   "cell_type": "code",
   "execution_count": 11,
   "metadata": {},
   "outputs": [],
   "source": [
    "import lightgbm as lgb\n",
    "from sklearn.model_selection import KFold\n",
    "from sklearn.metrics import mean_squared_error\n",
    "\n",
    "N = 5\n",
    "kf = KFold(n_splits=N)\n",
    "\n",
    "def create_model(params, train_data_set, test_data_set):\n",
    "    return lgb.train(params,                                                                                  \n",
    "                    train_data_set,                                                                               \n",
    "                    num_boost_round=200,                                                                      \n",
    "                    valid_sets=test_data_set,                                                                     \n",
    "                    early_stopping_rounds=10,\n",
    "                    verbose_eval=False\n",
    "                    )\n",
    "\n",
    "def objective(trial):\n",
    "    #最適化するパラメータの設定\n",
    "    num_leaves = trial.suggest_int(\"num_leaves\", 7, 40)\n",
    "    learning_rate = trial.suggest_uniform(\"learning_rate\", 0.001, 0.1)\n",
    "    feature_fraction = trial.suggest_uniform(\"feature_fraction\", 0, 1)\n",
    "    bagging_fraction = trial.suggest_uniform(\"bagging_fraction\", 0, 1)\n",
    "    bagging_freq = trial.suggest_int(\"bagging_freq\", 0, 10)\n",
    "    lambda_l2 = trial.suggest_uniform(\"lambda_l2\", 0, 3)\n",
    "    params = {                                                                                               \n",
    "        'boosting_type': 'gbdt',                                                                             \n",
    "        'objective': 'regression_l2',                                                        \n",
    "        'metric': 'RMSE',                                               \n",
    "        'num_leaves': num_leaves,                                                      \n",
    "        'learning_rate': learning_rate,                                                         \n",
    "        'feature_fraction': feature_fraction,                                                                  \n",
    "        'bagging_fraction': bagging_fraction,                                                                       \n",
    "        'bagging_freq': bagging_freq,\n",
    "        'lambda_l2': lambda_l2,\n",
    "    }\n",
    "\n",
    "    test_pred = np.zeros(len(test_df))\n",
    "    accuracy_train = []\n",
    "    index = 1\n",
    "    for train, test in kf.split(train_df):\n",
    "        X_train = train_df.iloc[train]\n",
    "        y_train = X_train['mpg'].values\n",
    "        X_train = X_train[feature_list].values\n",
    "\n",
    "        X_test = train_df.iloc[test]\n",
    "        y_test = X_test['mpg'].values\n",
    "        X_test = X_test[feature_list].values\n",
    "\n",
    "        train_data_set = lgb.Dataset(X_train, y_train)\n",
    "        test_data_set = lgb.Dataset(X_test, y_test, reference=train_data_set)\n",
    "\n",
    "        model = create_model(params, train_data_set, test_data_set)\n",
    "        pred_train = model.predict(X_test, num_iteration=model.best_iteration)\n",
    "\n",
    "        test_data = test_df[feature_list].values\n",
    "        test_pred += model.predict(test_data, num_iteration=model.best_iteration)/N\n",
    "        accuracy_train.append(np.sqrt(mean_squared_error(y_test, pred_train)))\n",
    "         # print('Fold {} CV RMSE: {:.6}'.format(index, accuracy_train[-1]))\n",
    "        index += 1\n",
    "    ave = sum(accuracy_train)/len(accuracy_train)\n",
    "    print('CV average RMSE: {:.6}'.format(ave))\n",
    "\n",
    "    #検証用データに対する正答率が最大となるハイパーパラメータを求める\n",
    "    return ave"
   ]
  },
  {
   "cell_type": "code",
   "execution_count": 13,
   "metadata": {},
   "outputs": [
    {
     "name": "stdout",
     "output_type": "stream",
     "text": [
      "CV average RMSE: 7.77498\n"
     ]
    },
    {
     "name": "stderr",
     "output_type": "stream",
     "text": [
      "[I 2019-03-13 04:49:58,095] Finished a trial resulted in value: 7.774984694620786. Current best value is 7.774984694620786 with parameters: {'num_leaves': 34, 'learning_rate': 0.0595267732315347, 'feature_fraction': 0.8173408591452026, 'bagging_fraction': 0.08308789606393119, 'bagging_freq': 9, 'lambda_l2': 2.614351559439201}.\n"
     ]
    },
    {
     "name": "stdout",
     "output_type": "stream",
     "text": [
      "CV average RMSE: 7.77498\n"
     ]
    },
    {
     "name": "stderr",
     "output_type": "stream",
     "text": [
      "[I 2019-03-13 04:49:58,153] Finished a trial resulted in value: 7.774984694620786. Current best value is 7.774984694620786 with parameters: {'num_leaves': 34, 'learning_rate': 0.0595267732315347, 'feature_fraction': 0.8173408591452026, 'bagging_fraction': 0.08308789606393119, 'bagging_freq': 9, 'lambda_l2': 2.614351559439201}.\n"
     ]
    },
    {
     "name": "stdout",
     "output_type": "stream",
     "text": [
      "CV average RMSE: 2.96874\n"
     ]
    },
    {
     "name": "stderr",
     "output_type": "stream",
     "text": [
      "[I 2019-03-13 04:49:58,520] Finished a trial resulted in value: 2.968740206659871. Current best value is 2.968740206659871 with parameters: {'num_leaves': 14, 'learning_rate': 0.02156201468781511, 'feature_fraction': 0.21118979771652735, 'bagging_fraction': 0.7392660775082689, 'bagging_freq': 7, 'lambda_l2': 1.597727085195562}.\n"
     ]
    },
    {
     "name": "stdout",
     "output_type": "stream",
     "text": [
      "CV average RMSE: 3.75766\n"
     ]
    },
    {
     "name": "stderr",
     "output_type": "stream",
     "text": [
      "[I 2019-03-13 04:49:58,726] Finished a trial resulted in value: 3.75766352254002. Current best value is 2.968740206659871 with parameters: {'num_leaves': 14, 'learning_rate': 0.02156201468781511, 'feature_fraction': 0.21118979771652735, 'bagging_fraction': 0.7392660775082689, 'bagging_freq': 7, 'lambda_l2': 1.597727085195562}.\n"
     ]
    },
    {
     "name": "stdout",
     "output_type": "stream",
     "text": [
      "CV average RMSE: 4.63291\n"
     ]
    },
    {
     "name": "stderr",
     "output_type": "stream",
     "text": [
      "[I 2019-03-13 04:49:59,001] Finished a trial resulted in value: 4.632910251683291. Current best value is 2.968740206659871 with parameters: {'num_leaves': 14, 'learning_rate': 0.02156201468781511, 'feature_fraction': 0.21118979771652735, 'bagging_fraction': 0.7392660775082689, 'bagging_freq': 7, 'lambda_l2': 1.597727085195562}.\n"
     ]
    },
    {
     "name": "stdout",
     "output_type": "stream",
     "text": [
      "CV average RMSE: 2.83087\n"
     ]
    },
    {
     "name": "stderr",
     "output_type": "stream",
     "text": [
      "[I 2019-03-13 04:49:59,204] Finished a trial resulted in value: 2.8308652613580514. Current best value is 2.8308652613580514 with parameters: {'num_leaves': 27, 'learning_rate': 0.09949665012977002, 'feature_fraction': 0.28939962130683505, 'bagging_fraction': 0.9903092931805847, 'bagging_freq': 0, 'lambda_l2': 1.6199810327631456}.\n"
     ]
    },
    {
     "name": "stdout",
     "output_type": "stream",
     "text": [
      "CV average RMSE: 2.87025\n"
     ]
    },
    {
     "name": "stderr",
     "output_type": "stream",
     "text": [
      "[I 2019-03-13 04:49:59,356] Finished a trial resulted in value: 2.870251575527168. Current best value is 2.8308652613580514 with parameters: {'num_leaves': 27, 'learning_rate': 0.09949665012977002, 'feature_fraction': 0.28939962130683505, 'bagging_fraction': 0.9903092931805847, 'bagging_freq': 0, 'lambda_l2': 1.6199810327631456}.\n"
     ]
    },
    {
     "name": "stdout",
     "output_type": "stream",
     "text": [
      "CV average RMSE: 3.36866\n"
     ]
    },
    {
     "name": "stderr",
     "output_type": "stream",
     "text": [
      "[I 2019-03-13 04:49:59,735] Finished a trial resulted in value: 3.3686614542763778. Current best value is 2.8308652613580514 with parameters: {'num_leaves': 27, 'learning_rate': 0.09949665012977002, 'feature_fraction': 0.28939962130683505, 'bagging_fraction': 0.9903092931805847, 'bagging_freq': 0, 'lambda_l2': 1.6199810327631456}.\n"
     ]
    },
    {
     "name": "stdout",
     "output_type": "stream",
     "text": [
      "CV average RMSE: 2.88805\n"
     ]
    },
    {
     "name": "stderr",
     "output_type": "stream",
     "text": [
      "[I 2019-03-13 04:49:59,942] Finished a trial resulted in value: 2.888048098859133. Current best value is 2.8308652613580514 with parameters: {'num_leaves': 27, 'learning_rate': 0.09949665012977002, 'feature_fraction': 0.28939962130683505, 'bagging_fraction': 0.9903092931805847, 'bagging_freq': 0, 'lambda_l2': 1.6199810327631456}.\n"
     ]
    },
    {
     "name": "stdout",
     "output_type": "stream",
     "text": [
      "CV average RMSE: 2.82729\n"
     ]
    },
    {
     "name": "stderr",
     "output_type": "stream",
     "text": [
      "[I 2019-03-13 04:50:00,259] Finished a trial resulted in value: 2.8272867696874067. Current best value is 2.8272867696874067 with parameters: {'num_leaves': 35, 'learning_rate': 0.0622927177613286, 'feature_fraction': 0.06656972760186153, 'bagging_fraction': 0.505829900198253, 'bagging_freq': 0, 'lambda_l2': 0.5733867050996672}.\n"
     ]
    },
    {
     "name": "stdout",
     "output_type": "stream",
     "text": [
      "CV average RMSE: 2.8265\n"
     ]
    },
    {
     "name": "stderr",
     "output_type": "stream",
     "text": [
      "[I 2019-03-13 04:50:00,501] Finished a trial resulted in value: 2.8265045120557604. Current best value is 2.8265045120557604 with parameters: {'num_leaves': 37, 'learning_rate': 0.08133813168507237, 'feature_fraction': 0.5184562822447517, 'bagging_fraction': 0.4199129775700239, 'bagging_freq': 0, 'lambda_l2': 0.19251149699991865}.\n"
     ]
    },
    {
     "name": "stdout",
     "output_type": "stream",
     "text": [
      "CV average RMSE: 3.09444\n"
     ]
    },
    {
     "name": "stderr",
     "output_type": "stream",
     "text": [
      "[I 2019-03-13 04:50:00,763] Finished a trial resulted in value: 3.0944403859814678. Current best value is 2.8265045120557604 with parameters: {'num_leaves': 37, 'learning_rate': 0.08133813168507237, 'feature_fraction': 0.5184562822447517, 'bagging_fraction': 0.4199129775700239, 'bagging_freq': 0, 'lambda_l2': 0.19251149699991865}.\n"
     ]
    },
    {
     "name": "stdout",
     "output_type": "stream",
     "text": [
      "CV average RMSE: 2.9982\n"
     ]
    },
    {
     "name": "stderr",
     "output_type": "stream",
     "text": [
      "[I 2019-03-13 04:50:00,951] Finished a trial resulted in value: 2.9981974314115036. Current best value is 2.8265045120557604 with parameters: {'num_leaves': 37, 'learning_rate': 0.08133813168507237, 'feature_fraction': 0.5184562822447517, 'bagging_fraction': 0.4199129775700239, 'bagging_freq': 0, 'lambda_l2': 0.19251149699991865}.\n"
     ]
    },
    {
     "name": "stdout",
     "output_type": "stream",
     "text": [
      "CV average RMSE: 7.77498\n"
     ]
    },
    {
     "name": "stderr",
     "output_type": "stream",
     "text": [
      "[I 2019-03-13 04:50:01,030] Finished a trial resulted in value: 7.774984694620786. Current best value is 2.8265045120557604 with parameters: {'num_leaves': 37, 'learning_rate': 0.08133813168507237, 'feature_fraction': 0.5184562822447517, 'bagging_fraction': 0.4199129775700239, 'bagging_freq': 0, 'lambda_l2': 0.19251149699991865}.\n"
     ]
    },
    {
     "name": "stdout",
     "output_type": "stream",
     "text": [
      "CV average RMSE: 2.91466\n"
     ]
    },
    {
     "name": "stderr",
     "output_type": "stream",
     "text": [
      "[I 2019-03-13 04:50:01,239] Finished a trial resulted in value: 2.914655675230839. Current best value is 2.8265045120557604 with parameters: {'num_leaves': 37, 'learning_rate': 0.08133813168507237, 'feature_fraction': 0.5184562822447517, 'bagging_fraction': 0.4199129775700239, 'bagging_freq': 0, 'lambda_l2': 0.19251149699991865}.\n"
     ]
    },
    {
     "name": "stdout",
     "output_type": "stream",
     "text": [
      "CV average RMSE: 2.87177\n"
     ]
    },
    {
     "name": "stderr",
     "output_type": "stream",
     "text": [
      "[I 2019-03-13 04:50:01,413] Finished a trial resulted in value: 2.8717716167682883. Current best value is 2.8265045120557604 with parameters: {'num_leaves': 37, 'learning_rate': 0.08133813168507237, 'feature_fraction': 0.5184562822447517, 'bagging_fraction': 0.4199129775700239, 'bagging_freq': 0, 'lambda_l2': 0.19251149699991865}.\n"
     ]
    },
    {
     "name": "stdout",
     "output_type": "stream",
     "text": [
      "CV average RMSE: 5.34764\n"
     ]
    },
    {
     "name": "stderr",
     "output_type": "stream",
     "text": [
      "[I 2019-03-13 04:50:01,753] Finished a trial resulted in value: 5.347643710352592. Current best value is 2.8265045120557604 with parameters: {'num_leaves': 37, 'learning_rate': 0.08133813168507237, 'feature_fraction': 0.5184562822447517, 'bagging_fraction': 0.4199129775700239, 'bagging_freq': 0, 'lambda_l2': 0.19251149699991865}.\n"
     ]
    },
    {
     "name": "stdout",
     "output_type": "stream",
     "text": [
      "CV average RMSE: 2.83051\n"
     ]
    },
    {
     "name": "stderr",
     "output_type": "stream",
     "text": [
      "[I 2019-03-13 04:50:02,089] Finished a trial resulted in value: 2.830512264153179. Current best value is 2.8265045120557604 with parameters: {'num_leaves': 37, 'learning_rate': 0.08133813168507237, 'feature_fraction': 0.5184562822447517, 'bagging_fraction': 0.4199129775700239, 'bagging_freq': 0, 'lambda_l2': 0.19251149699991865}.\n"
     ]
    },
    {
     "name": "stdout",
     "output_type": "stream",
     "text": [
      "CV average RMSE: 3.54876\n"
     ]
    },
    {
     "name": "stderr",
     "output_type": "stream",
     "text": [
      "[I 2019-03-13 04:50:02,331] Finished a trial resulted in value: 3.548756075300023. Current best value is 2.8265045120557604 with parameters: {'num_leaves': 37, 'learning_rate': 0.08133813168507237, 'feature_fraction': 0.5184562822447517, 'bagging_fraction': 0.4199129775700239, 'bagging_freq': 0, 'lambda_l2': 0.19251149699991865}.\n"
     ]
    },
    {
     "name": "stdout",
     "output_type": "stream",
     "text": [
      "CV average RMSE: 2.86935\n"
     ]
    },
    {
     "name": "stderr",
     "output_type": "stream",
     "text": [
      "[I 2019-03-13 04:50:02,517] Finished a trial resulted in value: 2.8693496660489775. Current best value is 2.8265045120557604 with parameters: {'num_leaves': 37, 'learning_rate': 0.08133813168507237, 'feature_fraction': 0.5184562822447517, 'bagging_fraction': 0.4199129775700239, 'bagging_freq': 0, 'lambda_l2': 0.19251149699991865}.\n"
     ]
    },
    {
     "name": "stdout",
     "output_type": "stream",
     "text": [
      "CV average RMSE: 7.77498\n"
     ]
    },
    {
     "name": "stderr",
     "output_type": "stream",
     "text": [
      "[I 2019-03-13 04:50:02,601] Finished a trial resulted in value: 7.774984694620786. Current best value is 2.8265045120557604 with parameters: {'num_leaves': 37, 'learning_rate': 0.08133813168507237, 'feature_fraction': 0.5184562822447517, 'bagging_fraction': 0.4199129775700239, 'bagging_freq': 0, 'lambda_l2': 0.19251149699991865}.\n"
     ]
    },
    {
     "name": "stdout",
     "output_type": "stream",
     "text": [
      "CV average RMSE: 2.90608\n"
     ]
    },
    {
     "name": "stderr",
     "output_type": "stream",
     "text": [
      "[I 2019-03-13 04:50:02,911] Finished a trial resulted in value: 2.9060821802499146. Current best value is 2.8265045120557604 with parameters: {'num_leaves': 37, 'learning_rate': 0.08133813168507237, 'feature_fraction': 0.5184562822447517, 'bagging_fraction': 0.4199129775700239, 'bagging_freq': 0, 'lambda_l2': 0.19251149699991865}.\n"
     ]
    },
    {
     "name": "stdout",
     "output_type": "stream",
     "text": [
      "CV average RMSE: 3.01455\n"
     ]
    },
    {
     "name": "stderr",
     "output_type": "stream",
     "text": [
      "[I 2019-03-13 04:50:03,176] Finished a trial resulted in value: 3.01455383372266. Current best value is 2.8265045120557604 with parameters: {'num_leaves': 37, 'learning_rate': 0.08133813168507237, 'feature_fraction': 0.5184562822447517, 'bagging_fraction': 0.4199129775700239, 'bagging_freq': 0, 'lambda_l2': 0.19251149699991865}.\n"
     ]
    },
    {
     "name": "stdout",
     "output_type": "stream",
     "text": [
      "CV average RMSE: 2.91942\n"
     ]
    },
    {
     "name": "stderr",
     "output_type": "stream",
     "text": [
      "[I 2019-03-13 04:50:03,332] Finished a trial resulted in value: 2.919420464923068. Current best value is 2.8265045120557604 with parameters: {'num_leaves': 37, 'learning_rate': 0.08133813168507237, 'feature_fraction': 0.5184562822447517, 'bagging_fraction': 0.4199129775700239, 'bagging_freq': 0, 'lambda_l2': 0.19251149699991865}.\n"
     ]
    },
    {
     "name": "stdout",
     "output_type": "stream",
     "text": [
      "CV average RMSE: 2.83168\n"
     ]
    },
    {
     "name": "stderr",
     "output_type": "stream",
     "text": [
      "[I 2019-03-13 04:50:03,635] Finished a trial resulted in value: 2.8316769308631775. Current best value is 2.8265045120557604 with parameters: {'num_leaves': 37, 'learning_rate': 0.08133813168507237, 'feature_fraction': 0.5184562822447517, 'bagging_fraction': 0.4199129775700239, 'bagging_freq': 0, 'lambda_l2': 0.19251149699991865}.\n"
     ]
    },
    {
     "name": "stdout",
     "output_type": "stream",
     "text": [
      "CV average RMSE: 3.20065\n"
     ]
    },
    {
     "name": "stderr",
     "output_type": "stream",
     "text": [
      "[I 2019-03-13 04:50:03,859] Finished a trial resulted in value: 3.200651170564562. Current best value is 2.8265045120557604 with parameters: {'num_leaves': 37, 'learning_rate': 0.08133813168507237, 'feature_fraction': 0.5184562822447517, 'bagging_fraction': 0.4199129775700239, 'bagging_freq': 0, 'lambda_l2': 0.19251149699991865}.\n"
     ]
    },
    {
     "name": "stdout",
     "output_type": "stream",
     "text": [
      "CV average RMSE: 7.77498\n"
     ]
    },
    {
     "name": "stderr",
     "output_type": "stream",
     "text": [
      "[I 2019-03-13 04:50:03,949] Finished a trial resulted in value: 7.774984694620786. Current best value is 2.8265045120557604 with parameters: {'num_leaves': 37, 'learning_rate': 0.08133813168507237, 'feature_fraction': 0.5184562822447517, 'bagging_fraction': 0.4199129775700239, 'bagging_freq': 0, 'lambda_l2': 0.19251149699991865}.\n"
     ]
    },
    {
     "name": "stdout",
     "output_type": "stream",
     "text": [
      "CV average RMSE: 7.77498\n"
     ]
    },
    {
     "name": "stderr",
     "output_type": "stream",
     "text": [
      "[I 2019-03-13 04:50:04,037] Finished a trial resulted in value: 7.774984694620786. Current best value is 2.8265045120557604 with parameters: {'num_leaves': 37, 'learning_rate': 0.08133813168507237, 'feature_fraction': 0.5184562822447517, 'bagging_fraction': 0.4199129775700239, 'bagging_freq': 0, 'lambda_l2': 0.19251149699991865}.\n"
     ]
    },
    {
     "name": "stdout",
     "output_type": "stream",
     "text": [
      "CV average RMSE: 7.77498\n"
     ]
    },
    {
     "name": "stderr",
     "output_type": "stream",
     "text": [
      "[I 2019-03-13 04:50:04,174] Finished a trial resulted in value: 7.774984694620786. Current best value is 2.8265045120557604 with parameters: {'num_leaves': 37, 'learning_rate': 0.08133813168507237, 'feature_fraction': 0.5184562822447517, 'bagging_fraction': 0.4199129775700239, 'bagging_freq': 0, 'lambda_l2': 0.19251149699991865}.\n"
     ]
    },
    {
     "name": "stdout",
     "output_type": "stream",
     "text": [
      "CV average RMSE: 3.00466\n"
     ]
    },
    {
     "name": "stderr",
     "output_type": "stream",
     "text": [
      "[I 2019-03-13 04:50:04,368] Finished a trial resulted in value: 3.004663155207573. Current best value is 2.8265045120557604 with parameters: {'num_leaves': 37, 'learning_rate': 0.08133813168507237, 'feature_fraction': 0.5184562822447517, 'bagging_fraction': 0.4199129775700239, 'bagging_freq': 0, 'lambda_l2': 0.19251149699991865}.\n"
     ]
    },
    {
     "name": "stdout",
     "output_type": "stream",
     "text": [
      "CV average RMSE: 2.8573\n"
     ]
    },
    {
     "name": "stderr",
     "output_type": "stream",
     "text": [
      "[I 2019-03-13 04:50:04,611] Finished a trial resulted in value: 2.8573037446667717. Current best value is 2.8265045120557604 with parameters: {'num_leaves': 37, 'learning_rate': 0.08133813168507237, 'feature_fraction': 0.5184562822447517, 'bagging_fraction': 0.4199129775700239, 'bagging_freq': 0, 'lambda_l2': 0.19251149699991865}.\n"
     ]
    },
    {
     "name": "stdout",
     "output_type": "stream",
     "text": [
      "CV average RMSE: 7.77498\n"
     ]
    },
    {
     "name": "stderr",
     "output_type": "stream",
     "text": [
      "[I 2019-03-13 04:50:04,704] Finished a trial resulted in value: 7.774984694620786. Current best value is 2.8265045120557604 with parameters: {'num_leaves': 37, 'learning_rate': 0.08133813168507237, 'feature_fraction': 0.5184562822447517, 'bagging_fraction': 0.4199129775700239, 'bagging_freq': 0, 'lambda_l2': 0.19251149699991865}.\n"
     ]
    },
    {
     "name": "stdout",
     "output_type": "stream",
     "text": [
      "CV average RMSE: 2.85415\n"
     ]
    },
    {
     "name": "stderr",
     "output_type": "stream",
     "text": [
      "[I 2019-03-13 04:50:04,945] Finished a trial resulted in value: 2.8541489415257972. Current best value is 2.8265045120557604 with parameters: {'num_leaves': 37, 'learning_rate': 0.08133813168507237, 'feature_fraction': 0.5184562822447517, 'bagging_fraction': 0.4199129775700239, 'bagging_freq': 0, 'lambda_l2': 0.19251149699991865}.\n"
     ]
    },
    {
     "name": "stdout",
     "output_type": "stream",
     "text": [
      "CV average RMSE: 3.38307\n"
     ]
    },
    {
     "name": "stderr",
     "output_type": "stream",
     "text": [
      "[I 2019-03-13 04:50:05,291] Finished a trial resulted in value: 3.383070165259724. Current best value is 2.8265045120557604 with parameters: {'num_leaves': 37, 'learning_rate': 0.08133813168507237, 'feature_fraction': 0.5184562822447517, 'bagging_fraction': 0.4199129775700239, 'bagging_freq': 0, 'lambda_l2': 0.19251149699991865}.\n"
     ]
    },
    {
     "name": "stdout",
     "output_type": "stream",
     "text": [
      "CV average RMSE: 7.77498\n"
     ]
    },
    {
     "name": "stderr",
     "output_type": "stream",
     "text": [
      "[I 2019-03-13 04:50:05,386] Finished a trial resulted in value: 7.774984694620786. Current best value is 2.8265045120557604 with parameters: {'num_leaves': 37, 'learning_rate': 0.08133813168507237, 'feature_fraction': 0.5184562822447517, 'bagging_fraction': 0.4199129775700239, 'bagging_freq': 0, 'lambda_l2': 0.19251149699991865}.\n"
     ]
    },
    {
     "name": "stdout",
     "output_type": "stream",
     "text": [
      "CV average RMSE: 2.84759\n"
     ]
    },
    {
     "name": "stderr",
     "output_type": "stream",
     "text": [
      "[I 2019-03-13 04:50:05,748] Finished a trial resulted in value: 2.8475856032811757. Current best value is 2.8265045120557604 with parameters: {'num_leaves': 37, 'learning_rate': 0.08133813168507237, 'feature_fraction': 0.5184562822447517, 'bagging_fraction': 0.4199129775700239, 'bagging_freq': 0, 'lambda_l2': 0.19251149699991865}.\n"
     ]
    },
    {
     "name": "stdout",
     "output_type": "stream",
     "text": [
      "CV average RMSE: 3.61429\n"
     ]
    },
    {
     "name": "stderr",
     "output_type": "stream",
     "text": [
      "[I 2019-03-13 04:50:05,958] Finished a trial resulted in value: 3.61428928179287. Current best value is 2.8265045120557604 with parameters: {'num_leaves': 37, 'learning_rate': 0.08133813168507237, 'feature_fraction': 0.5184562822447517, 'bagging_fraction': 0.4199129775700239, 'bagging_freq': 0, 'lambda_l2': 0.19251149699991865}.\n"
     ]
    },
    {
     "name": "stdout",
     "output_type": "stream",
     "text": [
      "CV average RMSE: 2.87498\n"
     ]
    },
    {
     "name": "stderr",
     "output_type": "stream",
     "text": [
      "[I 2019-03-13 04:50:06,147] Finished a trial resulted in value: 2.8749785285910314. Current best value is 2.8265045120557604 with parameters: {'num_leaves': 37, 'learning_rate': 0.08133813168507237, 'feature_fraction': 0.5184562822447517, 'bagging_fraction': 0.4199129775700239, 'bagging_freq': 0, 'lambda_l2': 0.19251149699991865}.\n"
     ]
    },
    {
     "name": "stdout",
     "output_type": "stream",
     "text": [
      "CV average RMSE: 3.0496\n"
     ]
    },
    {
     "name": "stderr",
     "output_type": "stream",
     "text": [
      "[I 2019-03-13 04:50:06,556] Finished a trial resulted in value: 3.0496005999445033. Current best value is 2.8265045120557604 with parameters: {'num_leaves': 37, 'learning_rate': 0.08133813168507237, 'feature_fraction': 0.5184562822447517, 'bagging_fraction': 0.4199129775700239, 'bagging_freq': 0, 'lambda_l2': 0.19251149699991865}.\n"
     ]
    },
    {
     "name": "stdout",
     "output_type": "stream",
     "text": [
      "CV average RMSE: 2.85554\n"
     ]
    },
    {
     "name": "stderr",
     "output_type": "stream",
     "text": [
      "[I 2019-03-13 04:50:06,904] Finished a trial resulted in value: 2.8555373362116536. Current best value is 2.8265045120557604 with parameters: {'num_leaves': 37, 'learning_rate': 0.08133813168507237, 'feature_fraction': 0.5184562822447517, 'bagging_fraction': 0.4199129775700239, 'bagging_freq': 0, 'lambda_l2': 0.19251149699991865}.\n"
     ]
    },
    {
     "name": "stdout",
     "output_type": "stream",
     "text": [
      "CV average RMSE: 3.00586\n"
     ]
    },
    {
     "name": "stderr",
     "output_type": "stream",
     "text": [
      "[I 2019-03-13 04:50:07,081] Finished a trial resulted in value: 3.0058563974452093. Current best value is 2.8265045120557604 with parameters: {'num_leaves': 37, 'learning_rate': 0.08133813168507237, 'feature_fraction': 0.5184562822447517, 'bagging_fraction': 0.4199129775700239, 'bagging_freq': 0, 'lambda_l2': 0.19251149699991865}.\n"
     ]
    },
    {
     "name": "stdout",
     "output_type": "stream",
     "text": [
      "CV average RMSE: 2.85193\n"
     ]
    },
    {
     "name": "stderr",
     "output_type": "stream",
     "text": [
      "[I 2019-03-13 04:50:07,286] Finished a trial resulted in value: 2.8519281521438016. Current best value is 2.8265045120557604 with parameters: {'num_leaves': 37, 'learning_rate': 0.08133813168507237, 'feature_fraction': 0.5184562822447517, 'bagging_fraction': 0.4199129775700239, 'bagging_freq': 0, 'lambda_l2': 0.19251149699991865}.\n"
     ]
    },
    {
     "name": "stdout",
     "output_type": "stream",
     "text": [
      "CV average RMSE: 7.77498\n"
     ]
    },
    {
     "name": "stderr",
     "output_type": "stream",
     "text": [
      "[I 2019-03-13 04:50:07,387] Finished a trial resulted in value: 7.774984694620786. Current best value is 2.8265045120557604 with parameters: {'num_leaves': 37, 'learning_rate': 0.08133813168507237, 'feature_fraction': 0.5184562822447517, 'bagging_fraction': 0.4199129775700239, 'bagging_freq': 0, 'lambda_l2': 0.19251149699991865}.\n"
     ]
    },
    {
     "name": "stdout",
     "output_type": "stream",
     "text": [
      "CV average RMSE: 2.91096\n"
     ]
    },
    {
     "name": "stderr",
     "output_type": "stream",
     "text": [
      "[I 2019-03-13 04:50:07,682] Finished a trial resulted in value: 2.91096062829611. Current best value is 2.8265045120557604 with parameters: {'num_leaves': 37, 'learning_rate': 0.08133813168507237, 'feature_fraction': 0.5184562822447517, 'bagging_fraction': 0.4199129775700239, 'bagging_freq': 0, 'lambda_l2': 0.19251149699991865}.\n"
     ]
    },
    {
     "name": "stdout",
     "output_type": "stream",
     "text": [
      "CV average RMSE: 2.82926\n"
     ]
    },
    {
     "name": "stderr",
     "output_type": "stream",
     "text": [
      "[I 2019-03-13 04:50:08,042] Finished a trial resulted in value: 2.8292556591248017. Current best value is 2.8265045120557604 with parameters: {'num_leaves': 37, 'learning_rate': 0.08133813168507237, 'feature_fraction': 0.5184562822447517, 'bagging_fraction': 0.4199129775700239, 'bagging_freq': 0, 'lambda_l2': 0.19251149699991865}.\n"
     ]
    },
    {
     "name": "stdout",
     "output_type": "stream",
     "text": [
      "CV average RMSE: 7.77498\n"
     ]
    },
    {
     "name": "stderr",
     "output_type": "stream",
     "text": [
      "[I 2019-03-13 04:50:08,145] Finished a trial resulted in value: 7.774984694620786. Current best value is 2.8265045120557604 with parameters: {'num_leaves': 37, 'learning_rate': 0.08133813168507237, 'feature_fraction': 0.5184562822447517, 'bagging_fraction': 0.4199129775700239, 'bagging_freq': 0, 'lambda_l2': 0.19251149699991865}.\n"
     ]
    },
    {
     "name": "stdout",
     "output_type": "stream",
     "text": [
      "CV average RMSE: 2.88238\n"
     ]
    },
    {
     "name": "stderr",
     "output_type": "stream",
     "text": [
      "[I 2019-03-13 04:50:08,323] Finished a trial resulted in value: 2.8823753511960004. Current best value is 2.8265045120557604 with parameters: {'num_leaves': 37, 'learning_rate': 0.08133813168507237, 'feature_fraction': 0.5184562822447517, 'bagging_fraction': 0.4199129775700239, 'bagging_freq': 0, 'lambda_l2': 0.19251149699991865}.\n"
     ]
    },
    {
     "name": "stdout",
     "output_type": "stream",
     "text": [
      "CV average RMSE: 3.23984\n"
     ]
    },
    {
     "name": "stderr",
     "output_type": "stream",
     "text": [
      "[I 2019-03-13 04:50:08,522] Finished a trial resulted in value: 3.2398442210377945. Current best value is 2.8265045120557604 with parameters: {'num_leaves': 37, 'learning_rate': 0.08133813168507237, 'feature_fraction': 0.5184562822447517, 'bagging_fraction': 0.4199129775700239, 'bagging_freq': 0, 'lambda_l2': 0.19251149699991865}.\n"
     ]
    },
    {
     "name": "stdout",
     "output_type": "stream",
     "text": [
      "CV average RMSE: 2.84083\n"
     ]
    },
    {
     "name": "stderr",
     "output_type": "stream",
     "text": [
      "[I 2019-03-13 04:50:08,834] Finished a trial resulted in value: 2.8408342318103856. Current best value is 2.8265045120557604 with parameters: {'num_leaves': 37, 'learning_rate': 0.08133813168507237, 'feature_fraction': 0.5184562822447517, 'bagging_fraction': 0.4199129775700239, 'bagging_freq': 0, 'lambda_l2': 0.19251149699991865}.\n"
     ]
    },
    {
     "name": "stdout",
     "output_type": "stream",
     "text": [
      "CV average RMSE: 7.77498\n"
     ]
    },
    {
     "name": "stderr",
     "output_type": "stream",
     "text": [
      "[I 2019-03-13 04:50:08,940] Finished a trial resulted in value: 7.774984694620786. Current best value is 2.8265045120557604 with parameters: {'num_leaves': 37, 'learning_rate': 0.08133813168507237, 'feature_fraction': 0.5184562822447517, 'bagging_fraction': 0.4199129775700239, 'bagging_freq': 0, 'lambda_l2': 0.19251149699991865}.\n"
     ]
    },
    {
     "name": "stdout",
     "output_type": "stream",
     "text": [
      "CV average RMSE: 2.87637\n"
     ]
    },
    {
     "name": "stderr",
     "output_type": "stream",
     "text": [
      "[I 2019-03-13 04:50:09,327] Finished a trial resulted in value: 2.876367357297772. Current best value is 2.8265045120557604 with parameters: {'num_leaves': 37, 'learning_rate': 0.08133813168507237, 'feature_fraction': 0.5184562822447517, 'bagging_fraction': 0.4199129775700239, 'bagging_freq': 0, 'lambda_l2': 0.19251149699991865}.\n"
     ]
    },
    {
     "name": "stdout",
     "output_type": "stream",
     "text": [
      "CV average RMSE: 3.82058\n"
     ]
    },
    {
     "name": "stderr",
     "output_type": "stream",
     "text": [
      "[I 2019-03-13 04:50:09,557] Finished a trial resulted in value: 3.8205813988820045. Current best value is 2.8265045120557604 with parameters: {'num_leaves': 37, 'learning_rate': 0.08133813168507237, 'feature_fraction': 0.5184562822447517, 'bagging_fraction': 0.4199129775700239, 'bagging_freq': 0, 'lambda_l2': 0.19251149699991865}.\n"
     ]
    },
    {
     "name": "stdout",
     "output_type": "stream",
     "text": [
      "CV average RMSE: 7.77498\n"
     ]
    },
    {
     "name": "stderr",
     "output_type": "stream",
     "text": [
      "[I 2019-03-13 04:50:09,667] Finished a trial resulted in value: 7.774984694620786. Current best value is 2.8265045120557604 with parameters: {'num_leaves': 37, 'learning_rate': 0.08133813168507237, 'feature_fraction': 0.5184562822447517, 'bagging_fraction': 0.4199129775700239, 'bagging_freq': 0, 'lambda_l2': 0.19251149699991865}.\n"
     ]
    },
    {
     "name": "stdout",
     "output_type": "stream",
     "text": [
      "CV average RMSE: 2.88803\n"
     ]
    },
    {
     "name": "stderr",
     "output_type": "stream",
     "text": [
      "[I 2019-03-13 04:50:09,925] Finished a trial resulted in value: 2.8880278569028497. Current best value is 2.8265045120557604 with parameters: {'num_leaves': 37, 'learning_rate': 0.08133813168507237, 'feature_fraction': 0.5184562822447517, 'bagging_fraction': 0.4199129775700239, 'bagging_freq': 0, 'lambda_l2': 0.19251149699991865}.\n"
     ]
    },
    {
     "name": "stdout",
     "output_type": "stream",
     "text": [
      "CV average RMSE: 3.58415\n"
     ]
    },
    {
     "name": "stderr",
     "output_type": "stream",
     "text": [
      "[I 2019-03-13 04:50:10,340] Finished a trial resulted in value: 3.5841516882144413. Current best value is 2.8265045120557604 with parameters: {'num_leaves': 37, 'learning_rate': 0.08133813168507237, 'feature_fraction': 0.5184562822447517, 'bagging_fraction': 0.4199129775700239, 'bagging_freq': 0, 'lambda_l2': 0.19251149699991865}.\n"
     ]
    },
    {
     "name": "stdout",
     "output_type": "stream",
     "text": [
      "CV average RMSE: 2.90321\n"
     ]
    },
    {
     "name": "stderr",
     "output_type": "stream",
     "text": [
      "[I 2019-03-13 04:50:10,605] Finished a trial resulted in value: 2.9032094716728074. Current best value is 2.8265045120557604 with parameters: {'num_leaves': 37, 'learning_rate': 0.08133813168507237, 'feature_fraction': 0.5184562822447517, 'bagging_fraction': 0.4199129775700239, 'bagging_freq': 0, 'lambda_l2': 0.19251149699991865}.\n"
     ]
    },
    {
     "name": "stdout",
     "output_type": "stream",
     "text": [
      "CV average RMSE: 2.87113\n"
     ]
    },
    {
     "name": "stderr",
     "output_type": "stream",
     "text": [
      "[I 2019-03-13 04:50:10,858] Finished a trial resulted in value: 2.871128028073048. Current best value is 2.8265045120557604 with parameters: {'num_leaves': 37, 'learning_rate': 0.08133813168507237, 'feature_fraction': 0.5184562822447517, 'bagging_fraction': 0.4199129775700239, 'bagging_freq': 0, 'lambda_l2': 0.19251149699991865}.\n"
     ]
    },
    {
     "name": "stdout",
     "output_type": "stream",
     "text": [
      "CV average RMSE: 2.82907\n"
     ]
    },
    {
     "name": "stderr",
     "output_type": "stream",
     "text": [
      "[I 2019-03-13 04:50:11,164] Finished a trial resulted in value: 2.8290699209391503. Current best value is 2.8265045120557604 with parameters: {'num_leaves': 37, 'learning_rate': 0.08133813168507237, 'feature_fraction': 0.5184562822447517, 'bagging_fraction': 0.4199129775700239, 'bagging_freq': 0, 'lambda_l2': 0.19251149699991865}.\n"
     ]
    },
    {
     "name": "stdout",
     "output_type": "stream",
     "text": [
      "CV average RMSE: 3.01231\n"
     ]
    },
    {
     "name": "stderr",
     "output_type": "stream",
     "text": [
      "[I 2019-03-13 04:50:11,536] Finished a trial resulted in value: 3.0123110626740446. Current best value is 2.8265045120557604 with parameters: {'num_leaves': 37, 'learning_rate': 0.08133813168507237, 'feature_fraction': 0.5184562822447517, 'bagging_fraction': 0.4199129775700239, 'bagging_freq': 0, 'lambda_l2': 0.19251149699991865}.\n"
     ]
    },
    {
     "name": "stdout",
     "output_type": "stream",
     "text": [
      "CV average RMSE: 2.88641\n"
     ]
    },
    {
     "name": "stderr",
     "output_type": "stream",
     "text": [
      "[I 2019-03-13 04:50:11,756] Finished a trial resulted in value: 2.8864115704797357. Current best value is 2.8265045120557604 with parameters: {'num_leaves': 37, 'learning_rate': 0.08133813168507237, 'feature_fraction': 0.5184562822447517, 'bagging_fraction': 0.4199129775700239, 'bagging_freq': 0, 'lambda_l2': 0.19251149699991865}.\n"
     ]
    },
    {
     "name": "stdout",
     "output_type": "stream",
     "text": [
      "CV average RMSE: 2.89798\n"
     ]
    },
    {
     "name": "stderr",
     "output_type": "stream",
     "text": [
      "[I 2019-03-13 04:50:11,988] Finished a trial resulted in value: 2.8979792654134293. Current best value is 2.8265045120557604 with parameters: {'num_leaves': 37, 'learning_rate': 0.08133813168507237, 'feature_fraction': 0.5184562822447517, 'bagging_fraction': 0.4199129775700239, 'bagging_freq': 0, 'lambda_l2': 0.19251149699991865}.\n"
     ]
    },
    {
     "name": "stdout",
     "output_type": "stream",
     "text": [
      "CV average RMSE: 3.1143\n"
     ]
    },
    {
     "name": "stderr",
     "output_type": "stream",
     "text": [
      "[I 2019-03-13 04:50:12,302] Finished a trial resulted in value: 3.11430313390425. Current best value is 2.8265045120557604 with parameters: {'num_leaves': 37, 'learning_rate': 0.08133813168507237, 'feature_fraction': 0.5184562822447517, 'bagging_fraction': 0.4199129775700239, 'bagging_freq': 0, 'lambda_l2': 0.19251149699991865}.\n"
     ]
    },
    {
     "name": "stdout",
     "output_type": "stream",
     "text": [
      "CV average RMSE: 3.44029\n"
     ]
    },
    {
     "name": "stderr",
     "output_type": "stream",
     "text": [
      "[I 2019-03-13 04:50:12,573] Finished a trial resulted in value: 3.4402857577825285. Current best value is 2.8265045120557604 with parameters: {'num_leaves': 37, 'learning_rate': 0.08133813168507237, 'feature_fraction': 0.5184562822447517, 'bagging_fraction': 0.4199129775700239, 'bagging_freq': 0, 'lambda_l2': 0.19251149699991865}.\n"
     ]
    },
    {
     "name": "stdout",
     "output_type": "stream",
     "text": [
      "CV average RMSE: 2.85734\n"
     ]
    },
    {
     "name": "stderr",
     "output_type": "stream",
     "text": [
      "[I 2019-03-13 04:50:12,841] Finished a trial resulted in value: 2.8573372484117305. Current best value is 2.8265045120557604 with parameters: {'num_leaves': 37, 'learning_rate': 0.08133813168507237, 'feature_fraction': 0.5184562822447517, 'bagging_fraction': 0.4199129775700239, 'bagging_freq': 0, 'lambda_l2': 0.19251149699991865}.\n"
     ]
    },
    {
     "name": "stdout",
     "output_type": "stream",
     "text": [
      "CV average RMSE: 2.82374\n"
     ]
    },
    {
     "name": "stderr",
     "output_type": "stream",
     "text": [
      "[I 2019-03-13 04:50:13,104] Finished a trial resulted in value: 2.82374275338641. Current best value is 2.82374275338641 with parameters: {'num_leaves': 7, 'learning_rate': 0.08837711262338231, 'feature_fraction': 0.86145813721142, 'bagging_fraction': 0.12591882798562548, 'bagging_freq': 0, 'lambda_l2': 0.171993843571145}.\n"
     ]
    },
    {
     "name": "stdout",
     "output_type": "stream",
     "text": [
      "CV average RMSE: 2.82035\n"
     ]
    },
    {
     "name": "stderr",
     "output_type": "stream",
     "text": [
      "[I 2019-03-13 04:50:13,437] Finished a trial resulted in value: 2.8203474345499644. Current best value is 2.8203474345499644 with parameters: {'num_leaves': 8, 'learning_rate': 0.08754392776601153, 'feature_fraction': 0.93258942527023, 'bagging_fraction': 0.015670638025443384, 'bagging_freq': 0, 'lambda_l2': 0.16841316126885422}.\n"
     ]
    },
    {
     "name": "stdout",
     "output_type": "stream",
     "text": [
      "CV average RMSE: 2.81922\n"
     ]
    },
    {
     "name": "stderr",
     "output_type": "stream",
     "text": [
      "[I 2019-03-13 04:50:13,773] Finished a trial resulted in value: 2.8192184239464466. Current best value is 2.8192184239464466 with parameters: {'num_leaves': 7, 'learning_rate': 0.08989594590781966, 'feature_fraction': 0.9539873240820229, 'bagging_fraction': 0.12541396216883477, 'bagging_freq': 0, 'lambda_l2': 0.12600356389152498}.\n"
     ]
    },
    {
     "name": "stdout",
     "output_type": "stream",
     "text": [
      "CV average RMSE: 2.82219\n"
     ]
    },
    {
     "name": "stderr",
     "output_type": "stream",
     "text": [
      "[I 2019-03-13 04:50:14,030] Finished a trial resulted in value: 2.8221857539767177. Current best value is 2.8192184239464466 with parameters: {'num_leaves': 7, 'learning_rate': 0.08989594590781966, 'feature_fraction': 0.9539873240820229, 'bagging_fraction': 0.12541396216883477, 'bagging_freq': 0, 'lambda_l2': 0.12600356389152498}.\n"
     ]
    },
    {
     "name": "stdout",
     "output_type": "stream",
     "text": [
      "CV average RMSE: 7.77498\n"
     ]
    },
    {
     "name": "stderr",
     "output_type": "stream",
     "text": [
      "[I 2019-03-13 04:50:14,149] Finished a trial resulted in value: 7.774984694620786. Current best value is 2.8192184239464466 with parameters: {'num_leaves': 7, 'learning_rate': 0.08989594590781966, 'feature_fraction': 0.9539873240820229, 'bagging_fraction': 0.12541396216883477, 'bagging_freq': 0, 'lambda_l2': 0.12600356389152498}.\n"
     ]
    },
    {
     "name": "stdout",
     "output_type": "stream",
     "text": [
      "CV average RMSE: 2.82316\n"
     ]
    },
    {
     "name": "stderr",
     "output_type": "stream",
     "text": [
      "[I 2019-03-13 04:50:14,472] Finished a trial resulted in value: 2.8231639537611786. Current best value is 2.8192184239464466 with parameters: {'num_leaves': 7, 'learning_rate': 0.08989594590781966, 'feature_fraction': 0.9539873240820229, 'bagging_fraction': 0.12541396216883477, 'bagging_freq': 0, 'lambda_l2': 0.12600356389152498}.\n"
     ]
    },
    {
     "name": "stdout",
     "output_type": "stream",
     "text": [
      "CV average RMSE: 7.77498\n"
     ]
    },
    {
     "name": "stderr",
     "output_type": "stream",
     "text": [
      "[I 2019-03-13 04:50:14,594] Finished a trial resulted in value: 7.774984694620786. Current best value is 2.8192184239464466 with parameters: {'num_leaves': 7, 'learning_rate': 0.08989594590781966, 'feature_fraction': 0.9539873240820229, 'bagging_fraction': 0.12541396216883477, 'bagging_freq': 0, 'lambda_l2': 0.12600356389152498}.\n"
     ]
    },
    {
     "name": "stdout",
     "output_type": "stream",
     "text": [
      "CV average RMSE: 7.77498\n"
     ]
    },
    {
     "name": "stderr",
     "output_type": "stream",
     "text": [
      "[I 2019-03-13 04:50:14,717] Finished a trial resulted in value: 7.774984694620786. Current best value is 2.8192184239464466 with parameters: {'num_leaves': 7, 'learning_rate': 0.08989594590781966, 'feature_fraction': 0.9539873240820229, 'bagging_fraction': 0.12541396216883477, 'bagging_freq': 0, 'lambda_l2': 0.12600356389152498}.\n"
     ]
    },
    {
     "name": "stdout",
     "output_type": "stream",
     "text": [
      "CV average RMSE: 7.77498\n"
     ]
    },
    {
     "name": "stderr",
     "output_type": "stream",
     "text": [
      "[I 2019-03-13 04:50:14,864] Finished a trial resulted in value: 7.774984694620786. Current best value is 2.8192184239464466 with parameters: {'num_leaves': 7, 'learning_rate': 0.08989594590781966, 'feature_fraction': 0.9539873240820229, 'bagging_fraction': 0.12541396216883477, 'bagging_freq': 0, 'lambda_l2': 0.12600356389152498}.\n"
     ]
    },
    {
     "name": "stdout",
     "output_type": "stream",
     "text": [
      "CV average RMSE: 2.82272\n"
     ]
    },
    {
     "name": "stderr",
     "output_type": "stream",
     "text": [
      "[I 2019-03-13 04:50:15,141] Finished a trial resulted in value: 2.822717808805902. Current best value is 2.8192184239464466 with parameters: {'num_leaves': 7, 'learning_rate': 0.08989594590781966, 'feature_fraction': 0.9539873240820229, 'bagging_fraction': 0.12541396216883477, 'bagging_freq': 0, 'lambda_l2': 0.12600356389152498}.\n",
      "[W 2019-03-13 04:50:15,207] Setting trial status as TrialState.FAIL because of the following error: LightGBMError('Check failed: num_data > 0 at D:\\\\a\\\\1\\\\s\\\\python-package\\\\compile\\\\src\\\\io\\\\dataset.cpp, line 27 .\\n',)\n",
      "Traceback (most recent call last):\n",
      "  File \"C:\\Users\\reo\\Anaconda3\\envs\\Kaggle\\lib\\site-packages\\optuna\\study.py\", line 407, in _run_trial\n",
      "    result = func(trial)\n",
      "  File \"<ipython-input-11-97621003bcc8>\", line 52, in objective\n",
      "    model = create_model(params, train_data_set, test_data_set)\n",
      "  File \"<ipython-input-11-97621003bcc8>\", line 14, in create_model\n",
      "    verbose_eval=False\n",
      "  File \"C:\\Users\\reo\\Anaconda3\\envs\\Kaggle\\lib\\site-packages\\lightgbm\\engine.py\", line 197, in train\n",
      "    booster = Booster(params=params, train_set=train_set)\n",
      "  File \"C:\\Users\\reo\\Anaconda3\\envs\\Kaggle\\lib\\site-packages\\lightgbm\\basic.py\", line 1554, in __init__\n",
      "    ctypes.byref(self.handle)))\n",
      "  File \"C:\\Users\\reo\\Anaconda3\\envs\\Kaggle\\lib\\site-packages\\lightgbm\\basic.py\", line 46, in _safe_call\n",
      "    raise LightGBMError(decode_string(_LIB.LGBM_GetLastError()))\n",
      "lightgbm.basic.LightGBMError: Check failed: num_data > 0 at D:\\a\\1\\s\\python-package\\compile\\src\\io\\dataset.cpp, line 27 .\n",
      "\n"
     ]
    },
    {
     "name": "stdout",
     "output_type": "stream",
     "text": [
      "CV average RMSE: 7.77498\n"
     ]
    },
    {
     "name": "stderr",
     "output_type": "stream",
     "text": [
      "[I 2019-03-13 04:50:15,333] Finished a trial resulted in value: 7.774984694620786. Current best value is 2.8192184239464466 with parameters: {'num_leaves': 7, 'learning_rate': 0.08989594590781966, 'feature_fraction': 0.9539873240820229, 'bagging_fraction': 0.12541396216883477, 'bagging_freq': 0, 'lambda_l2': 0.12600356389152498}.\n"
     ]
    },
    {
     "name": "stdout",
     "output_type": "stream",
     "text": [
      "CV average RMSE: 2.82675\n"
     ]
    },
    {
     "name": "stderr",
     "output_type": "stream",
     "text": [
      "[I 2019-03-13 04:50:15,647] Finished a trial resulted in value: 2.8267537303351338. Current best value is 2.8192184239464466 with parameters: {'num_leaves': 7, 'learning_rate': 0.08989594590781966, 'feature_fraction': 0.9539873240820229, 'bagging_fraction': 0.12541396216883477, 'bagging_freq': 0, 'lambda_l2': 0.12600356389152498}.\n"
     ]
    },
    {
     "name": "stdout",
     "output_type": "stream",
     "text": [
      "CV average RMSE: 7.77498\n"
     ]
    },
    {
     "name": "stderr",
     "output_type": "stream",
     "text": [
      "[I 2019-03-13 04:50:15,775] Finished a trial resulted in value: 7.774984694620786. Current best value is 2.8192184239464466 with parameters: {'num_leaves': 7, 'learning_rate': 0.08989594590781966, 'feature_fraction': 0.9539873240820229, 'bagging_fraction': 0.12541396216883477, 'bagging_freq': 0, 'lambda_l2': 0.12600356389152498}.\n"
     ]
    },
    {
     "name": "stdout",
     "output_type": "stream",
     "text": [
      "CV average RMSE: 7.77498\n"
     ]
    },
    {
     "name": "stderr",
     "output_type": "stream",
     "text": [
      "[I 2019-03-13 04:50:15,920] Finished a trial resulted in value: 7.774984694620786. Current best value is 2.8192184239464466 with parameters: {'num_leaves': 7, 'learning_rate': 0.08989594590781966, 'feature_fraction': 0.9539873240820229, 'bagging_fraction': 0.12541396216883477, 'bagging_freq': 0, 'lambda_l2': 0.12600356389152498}.\n"
     ]
    },
    {
     "name": "stdout",
     "output_type": "stream",
     "text": [
      "CV average RMSE: 2.82597\n"
     ]
    },
    {
     "name": "stderr",
     "output_type": "stream",
     "text": [
      "[I 2019-03-13 04:50:16,225] Finished a trial resulted in value: 2.825970718202585. Current best value is 2.8192184239464466 with parameters: {'num_leaves': 7, 'learning_rate': 0.08989594590781966, 'feature_fraction': 0.9539873240820229, 'bagging_fraction': 0.12541396216883477, 'bagging_freq': 0, 'lambda_l2': 0.12600356389152498}.\n"
     ]
    },
    {
     "name": "stdout",
     "output_type": "stream",
     "text": [
      "CV average RMSE: 7.77498\n"
     ]
    },
    {
     "name": "stderr",
     "output_type": "stream",
     "text": [
      "[I 2019-03-13 04:50:16,354] Finished a trial resulted in value: 7.774984694620786. Current best value is 2.8192184239464466 with parameters: {'num_leaves': 7, 'learning_rate': 0.08989594590781966, 'feature_fraction': 0.9539873240820229, 'bagging_fraction': 0.12541396216883477, 'bagging_freq': 0, 'lambda_l2': 0.12600356389152498}.\n"
     ]
    },
    {
     "name": "stdout",
     "output_type": "stream",
     "text": [
      "CV average RMSE: 7.77498\n"
     ]
    },
    {
     "name": "stderr",
     "output_type": "stream",
     "text": [
      "[I 2019-03-13 04:50:16,487] Finished a trial resulted in value: 7.774984694620786. Current best value is 2.8192184239464466 with parameters: {'num_leaves': 7, 'learning_rate': 0.08989594590781966, 'feature_fraction': 0.9539873240820229, 'bagging_fraction': 0.12541396216883477, 'bagging_freq': 0, 'lambda_l2': 0.12600356389152498}.\n"
     ]
    },
    {
     "name": "stdout",
     "output_type": "stream",
     "text": [
      "CV average RMSE: 7.77498\n"
     ]
    },
    {
     "name": "stderr",
     "output_type": "stream",
     "text": [
      "[I 2019-03-13 04:50:16,631] Finished a trial resulted in value: 7.774984694620786. Current best value is 2.8192184239464466 with parameters: {'num_leaves': 7, 'learning_rate': 0.08989594590781966, 'feature_fraction': 0.9539873240820229, 'bagging_fraction': 0.12541396216883477, 'bagging_freq': 0, 'lambda_l2': 0.12600356389152498}.\n"
     ]
    },
    {
     "name": "stdout",
     "output_type": "stream",
     "text": [
      "CV average RMSE: 2.8276\n"
     ]
    },
    {
     "name": "stderr",
     "output_type": "stream",
     "text": [
      "[I 2019-03-13 04:50:16,956] Finished a trial resulted in value: 2.8276009222975818. Current best value is 2.8192184239464466 with parameters: {'num_leaves': 7, 'learning_rate': 0.08989594590781966, 'feature_fraction': 0.9539873240820229, 'bagging_fraction': 0.12541396216883477, 'bagging_freq': 0, 'lambda_l2': 0.12600356389152498}.\n"
     ]
    },
    {
     "name": "stdout",
     "output_type": "stream",
     "text": [
      "CV average RMSE: 3.77816\n"
     ]
    },
    {
     "name": "stderr",
     "output_type": "stream",
     "text": [
      "[I 2019-03-13 04:50:17,198] Finished a trial resulted in value: 3.778160147049131. Current best value is 2.8192184239464466 with parameters: {'num_leaves': 7, 'learning_rate': 0.08989594590781966, 'feature_fraction': 0.9539873240820229, 'bagging_fraction': 0.12541396216883477, 'bagging_freq': 0, 'lambda_l2': 0.12600356389152498}.\n"
     ]
    },
    {
     "name": "stdout",
     "output_type": "stream",
     "text": [
      "CV average RMSE: 2.82596\n"
     ]
    },
    {
     "name": "stderr",
     "output_type": "stream",
     "text": [
      "[I 2019-03-13 04:50:17,519] Finished a trial resulted in value: 2.8259612775655496. Current best value is 2.8192184239464466 with parameters: {'num_leaves': 7, 'learning_rate': 0.08989594590781966, 'feature_fraction': 0.9539873240820229, 'bagging_fraction': 0.12541396216883477, 'bagging_freq': 0, 'lambda_l2': 0.12600356389152498}.\n"
     ]
    },
    {
     "name": "stdout",
     "output_type": "stream",
     "text": [
      "CV average RMSE: 3.43739\n"
     ]
    },
    {
     "name": "stderr",
     "output_type": "stream",
     "text": [
      "[I 2019-03-13 04:50:17,762] Finished a trial resulted in value: 3.4373873133568886. Current best value is 2.8192184239464466 with parameters: {'num_leaves': 7, 'learning_rate': 0.08989594590781966, 'feature_fraction': 0.9539873240820229, 'bagging_fraction': 0.12541396216883477, 'bagging_freq': 0, 'lambda_l2': 0.12600356389152498}.\n"
     ]
    },
    {
     "name": "stdout",
     "output_type": "stream",
     "text": [
      "CV average RMSE: 7.77498\n"
     ]
    },
    {
     "name": "stderr",
     "output_type": "stream",
     "text": [
      "[I 2019-03-13 04:50:17,908] Finished a trial resulted in value: 7.774984694620786. Current best value is 2.8192184239464466 with parameters: {'num_leaves': 7, 'learning_rate': 0.08989594590781966, 'feature_fraction': 0.9539873240820229, 'bagging_fraction': 0.12541396216883477, 'bagging_freq': 0, 'lambda_l2': 0.12600356389152498}.\n"
     ]
    },
    {
     "name": "stdout",
     "output_type": "stream",
     "text": [
      "CV average RMSE: 7.77498\n"
     ]
    },
    {
     "name": "stderr",
     "output_type": "stream",
     "text": [
      "[I 2019-03-13 04:50:18,044] Finished a trial resulted in value: 7.774984694620786. Current best value is 2.8192184239464466 with parameters: {'num_leaves': 7, 'learning_rate': 0.08989594590781966, 'feature_fraction': 0.9539873240820229, 'bagging_fraction': 0.12541396216883477, 'bagging_freq': 0, 'lambda_l2': 0.12600356389152498}.\n"
     ]
    },
    {
     "name": "stdout",
     "output_type": "stream",
     "text": [
      "CV average RMSE: 7.77498\n"
     ]
    },
    {
     "name": "stderr",
     "output_type": "stream",
     "text": [
      "[I 2019-03-13 04:50:18,190] Finished a trial resulted in value: 7.774984694620786. Current best value is 2.8192184239464466 with parameters: {'num_leaves': 7, 'learning_rate': 0.08989594590781966, 'feature_fraction': 0.9539873240820229, 'bagging_fraction': 0.12541396216883477, 'bagging_freq': 0, 'lambda_l2': 0.12600356389152498}.\n",
      "[W 2019-03-13 04:50:18,265] Setting trial status as TrialState.FAIL because of the following error: LightGBMError('Check failed: num_data > 0 at D:\\\\a\\\\1\\\\s\\\\python-package\\\\compile\\\\src\\\\io\\\\dataset.cpp, line 27 .\\n',)\n",
      "Traceback (most recent call last):\n",
      "  File \"C:\\Users\\reo\\Anaconda3\\envs\\Kaggle\\lib\\site-packages\\optuna\\study.py\", line 407, in _run_trial\n",
      "    result = func(trial)\n",
      "  File \"<ipython-input-11-97621003bcc8>\", line 52, in objective\n",
      "    model = create_model(params, train_data_set, test_data_set)\n",
      "  File \"<ipython-input-11-97621003bcc8>\", line 14, in create_model\n",
      "    verbose_eval=False\n",
      "  File \"C:\\Users\\reo\\Anaconda3\\envs\\Kaggle\\lib\\site-packages\\lightgbm\\engine.py\", line 197, in train\n",
      "    booster = Booster(params=params, train_set=train_set)\n",
      "  File \"C:\\Users\\reo\\Anaconda3\\envs\\Kaggle\\lib\\site-packages\\lightgbm\\basic.py\", line 1554, in __init__\n",
      "    ctypes.byref(self.handle)))\n",
      "  File \"C:\\Users\\reo\\Anaconda3\\envs\\Kaggle\\lib\\site-packages\\lightgbm\\basic.py\", line 46, in _safe_call\n",
      "    raise LightGBMError(decode_string(_LIB.LGBM_GetLastError()))\n",
      "lightgbm.basic.LightGBMError: Check failed: num_data > 0 at D:\\a\\1\\s\\python-package\\compile\\src\\io\\dataset.cpp, line 27 .\n",
      "\n"
     ]
    },
    {
     "name": "stdout",
     "output_type": "stream",
     "text": [
      "CV average RMSE: 7.77498\n"
     ]
    },
    {
     "name": "stderr",
     "output_type": "stream",
     "text": [
      "[I 2019-03-13 04:50:18,413] Finished a trial resulted in value: 7.774984694620786. Current best value is 2.8192184239464466 with parameters: {'num_leaves': 7, 'learning_rate': 0.08989594590781966, 'feature_fraction': 0.9539873240820229, 'bagging_fraction': 0.12541396216883477, 'bagging_freq': 0, 'lambda_l2': 0.12600356389152498}.\n"
     ]
    },
    {
     "name": "stdout",
     "output_type": "stream",
     "text": [
      "CV average RMSE: 7.77498\n"
     ]
    },
    {
     "name": "stderr",
     "output_type": "stream",
     "text": [
      "[I 2019-03-13 04:50:18,551] Finished a trial resulted in value: 7.774984694620786. Current best value is 2.8192184239464466 with parameters: {'num_leaves': 7, 'learning_rate': 0.08989594590781966, 'feature_fraction': 0.9539873240820229, 'bagging_fraction': 0.12541396216883477, 'bagging_freq': 0, 'lambda_l2': 0.12600356389152498}.\n"
     ]
    },
    {
     "name": "stdout",
     "output_type": "stream",
     "text": [
      "CV average RMSE: 2.82364\n"
     ]
    },
    {
     "name": "stderr",
     "output_type": "stream",
     "text": [
      "[I 2019-03-13 04:50:18,841] Finished a trial resulted in value: 2.823639741089623. Current best value is 2.8192184239464466 with parameters: {'num_leaves': 7, 'learning_rate': 0.08989594590781966, 'feature_fraction': 0.9539873240820229, 'bagging_fraction': 0.12541396216883477, 'bagging_freq': 0, 'lambda_l2': 0.12600356389152498}.\n"
     ]
    },
    {
     "name": "stdout",
     "output_type": "stream",
     "text": [
      "CV average RMSE: 7.77498\n"
     ]
    },
    {
     "name": "stderr",
     "output_type": "stream",
     "text": [
      "[I 2019-03-13 04:50:19,026] Finished a trial resulted in value: 7.774984694620786. Current best value is 2.8192184239464466 with parameters: {'num_leaves': 7, 'learning_rate': 0.08989594590781966, 'feature_fraction': 0.9539873240820229, 'bagging_fraction': 0.12541396216883477, 'bagging_freq': 0, 'lambda_l2': 0.12600356389152498}.\n"
     ]
    },
    {
     "name": "stdout",
     "output_type": "stream",
     "text": [
      "CV average RMSE: 3.892\n"
     ]
    },
    {
     "name": "stderr",
     "output_type": "stream",
     "text": [
      "[I 2019-03-13 04:50:19,354] Finished a trial resulted in value: 3.891995537022585. Current best value is 2.8192184239464466 with parameters: {'num_leaves': 7, 'learning_rate': 0.08989594590781966, 'feature_fraction': 0.9539873240820229, 'bagging_fraction': 0.12541396216883477, 'bagging_freq': 0, 'lambda_l2': 0.12600356389152498}.\n"
     ]
    },
    {
     "name": "stdout",
     "output_type": "stream",
     "text": [
      "CV average RMSE: 3.04894\n"
     ]
    },
    {
     "name": "stderr",
     "output_type": "stream",
     "text": [
      "[I 2019-03-13 04:50:19,655] Finished a trial resulted in value: 3.0489351355396854. Current best value is 2.8192184239464466 with parameters: {'num_leaves': 7, 'learning_rate': 0.08989594590781966, 'feature_fraction': 0.9539873240820229, 'bagging_fraction': 0.12541396216883477, 'bagging_freq': 0, 'lambda_l2': 0.12600356389152498}.\n"
     ]
    },
    {
     "name": "stdout",
     "output_type": "stream",
     "text": [
      "CV average RMSE: 7.77498\n"
     ]
    },
    {
     "name": "stderr",
     "output_type": "stream",
     "text": [
      "[I 2019-03-13 04:50:19,797] Finished a trial resulted in value: 7.774984694620786. Current best value is 2.8192184239464466 with parameters: {'num_leaves': 7, 'learning_rate': 0.08989594590781966, 'feature_fraction': 0.9539873240820229, 'bagging_fraction': 0.12541396216883477, 'bagging_freq': 0, 'lambda_l2': 0.12600356389152498}.\n"
     ]
    },
    {
     "name": "stdout",
     "output_type": "stream",
     "text": [
      "CV average RMSE: 2.81823\n"
     ]
    },
    {
     "name": "stderr",
     "output_type": "stream",
     "text": [
      "[I 2019-03-13 04:50:20,160] Finished a trial resulted in value: 2.818233866661339. Current best value is 2.818233866661339 with parameters: {'num_leaves': 7, 'learning_rate': 0.08554584172791803, 'feature_fraction': 0.7947785160697323, 'bagging_fraction': 0.1407411937507261, 'bagging_freq': 0, 'lambda_l2': 0.22220574691613132}.\n"
     ]
    },
    {
     "name": "stdout",
     "output_type": "stream",
     "text": [
      "CV average RMSE: 7.77498\n"
     ]
    },
    {
     "name": "stderr",
     "output_type": "stream",
     "text": [
      "[I 2019-03-13 04:50:20,311] Finished a trial resulted in value: 7.774984694620786. Current best value is 2.818233866661339 with parameters: {'num_leaves': 7, 'learning_rate': 0.08554584172791803, 'feature_fraction': 0.7947785160697323, 'bagging_fraction': 0.1407411937507261, 'bagging_freq': 0, 'lambda_l2': 0.22220574691613132}.\n"
     ]
    },
    {
     "name": "stdout",
     "output_type": "stream",
     "text": [
      "CV average RMSE: 3.1568\n"
     ]
    },
    {
     "name": "stderr",
     "output_type": "stream",
     "text": [
      "[I 2019-03-13 04:50:20,598] Finished a trial resulted in value: 3.1567975461124194. Current best value is 2.818233866661339 with parameters: {'num_leaves': 7, 'learning_rate': 0.08554584172791803, 'feature_fraction': 0.7947785160697323, 'bagging_fraction': 0.1407411937507261, 'bagging_freq': 0, 'lambda_l2': 0.22220574691613132}.\n"
     ]
    },
    {
     "name": "stdout",
     "output_type": "stream",
     "text": [
      "CV average RMSE: 7.77498\n"
     ]
    },
    {
     "name": "stderr",
     "output_type": "stream",
     "text": [
      "[I 2019-03-13 04:50:20,743] Finished a trial resulted in value: 7.774984694620786. Current best value is 2.818233866661339 with parameters: {'num_leaves': 7, 'learning_rate': 0.08554584172791803, 'feature_fraction': 0.7947785160697323, 'bagging_fraction': 0.1407411937507261, 'bagging_freq': 0, 'lambda_l2': 0.22220574691613132}.\n"
     ]
    },
    {
     "name": "stdout",
     "output_type": "stream",
     "text": [
      "CV average RMSE: 3.64842\n"
     ]
    },
    {
     "name": "stderr",
     "output_type": "stream",
     "text": [
      "[I 2019-03-13 04:50:21,014] Finished a trial resulted in value: 3.6484220231749553. Current best value is 2.818233866661339 with parameters: {'num_leaves': 7, 'learning_rate': 0.08554584172791803, 'feature_fraction': 0.7947785160697323, 'bagging_fraction': 0.1407411937507261, 'bagging_freq': 0, 'lambda_l2': 0.22220574691613132}.\n"
     ]
    },
    {
     "name": "stdout",
     "output_type": "stream",
     "text": [
      "CV average RMSE: 2.8323\n"
     ]
    },
    {
     "name": "stderr",
     "output_type": "stream",
     "text": [
      "[I 2019-03-13 04:50:21,410] Finished a trial resulted in value: 2.8323029729032907. Current best value is 2.818233866661339 with parameters: {'num_leaves': 7, 'learning_rate': 0.08554584172791803, 'feature_fraction': 0.7947785160697323, 'bagging_fraction': 0.1407411937507261, 'bagging_freq': 0, 'lambda_l2': 0.22220574691613132}.\n"
     ]
    },
    {
     "name": "stdout",
     "output_type": "stream",
     "text": [
      "CV average RMSE: 3.25284\n"
     ]
    },
    {
     "name": "stderr",
     "output_type": "stream",
     "text": [
      "[I 2019-03-13 04:50:21,739] Finished a trial resulted in value: 3.2528385494676315. Current best value is 2.818233866661339 with parameters: {'num_leaves': 7, 'learning_rate': 0.08554584172791803, 'feature_fraction': 0.7947785160697323, 'bagging_fraction': 0.1407411937507261, 'bagging_freq': 0, 'lambda_l2': 0.22220574691613132}.\n"
     ]
    },
    {
     "name": "stdout",
     "output_type": "stream",
     "text": [
      "CV average RMSE: 7.77498\n"
     ]
    },
    {
     "name": "stderr",
     "output_type": "stream",
     "text": [
      "[I 2019-03-13 04:50:21,890] Finished a trial resulted in value: 7.774984694620786. Current best value is 2.818233866661339 with parameters: {'num_leaves': 7, 'learning_rate': 0.08554584172791803, 'feature_fraction': 0.7947785160697323, 'bagging_fraction': 0.1407411937507261, 'bagging_freq': 0, 'lambda_l2': 0.22220574691613132}.\n"
     ]
    },
    {
     "name": "stdout",
     "output_type": "stream",
     "text": [
      "CV average RMSE: 3.95201\n"
     ]
    },
    {
     "name": "stderr",
     "output_type": "stream",
     "text": [
      "[I 2019-03-13 04:50:22,337] Finished a trial resulted in value: 3.952007391998488. Current best value is 2.818233866661339 with parameters: {'num_leaves': 7, 'learning_rate': 0.08554584172791803, 'feature_fraction': 0.7947785160697323, 'bagging_fraction': 0.1407411937507261, 'bagging_freq': 0, 'lambda_l2': 0.22220574691613132}.\n"
     ]
    },
    {
     "name": "stdout",
     "output_type": "stream",
     "text": [
      "CV average RMSE: 3.83897\n"
     ]
    },
    {
     "name": "stderr",
     "output_type": "stream",
     "text": [
      "[I 2019-03-13 04:50:22,614] Finished a trial resulted in value: 3.8389676292799217. Current best value is 2.818233866661339 with parameters: {'num_leaves': 7, 'learning_rate': 0.08554584172791803, 'feature_fraction': 0.7947785160697323, 'bagging_fraction': 0.1407411937507261, 'bagging_freq': 0, 'lambda_l2': 0.22220574691613132}.\n"
     ]
    },
    {
     "name": "stdout",
     "output_type": "stream",
     "text": [
      "CV average RMSE: 3.06559\n"
     ]
    },
    {
     "name": "stderr",
     "output_type": "stream",
     "text": [
      "[I 2019-03-13 04:50:22,909] Finished a trial resulted in value: 3.06559409897552. Current best value is 2.818233866661339 with parameters: {'num_leaves': 7, 'learning_rate': 0.08554584172791803, 'feature_fraction': 0.7947785160697323, 'bagging_fraction': 0.1407411937507261, 'bagging_freq': 0, 'lambda_l2': 0.22220574691613132}.\n"
     ]
    },
    {
     "name": "stdout",
     "output_type": "stream",
     "text": [
      "CV average RMSE: 3.2809\n"
     ]
    },
    {
     "name": "stderr",
     "output_type": "stream",
     "text": [
      "[I 2019-03-13 04:50:23,151] Finished a trial resulted in value: 3.2808991926498394. Current best value is 2.818233866661339 with parameters: {'num_leaves': 7, 'learning_rate': 0.08554584172791803, 'feature_fraction': 0.7947785160697323, 'bagging_fraction': 0.1407411937507261, 'bagging_freq': 0, 'lambda_l2': 0.22220574691613132}.\n"
     ]
    },
    {
     "name": "stdout",
     "output_type": "stream",
     "text": [
      "CV average RMSE: 7.77498\n"
     ]
    },
    {
     "name": "stderr",
     "output_type": "stream",
     "text": [
      "[I 2019-03-13 04:50:23,306] Finished a trial resulted in value: 7.774984694620786. Current best value is 2.818233866661339 with parameters: {'num_leaves': 7, 'learning_rate': 0.08554584172791803, 'feature_fraction': 0.7947785160697323, 'bagging_fraction': 0.1407411937507261, 'bagging_freq': 0, 'lambda_l2': 0.22220574691613132}.\n"
     ]
    },
    {
     "name": "stdout",
     "output_type": "stream",
     "text": [
      "CV average RMSE: 2.82428\n"
     ]
    },
    {
     "name": "stderr",
     "output_type": "stream",
     "text": [
      "[I 2019-03-13 04:50:23,695] Finished a trial resulted in value: 2.824282462035998. Current best value is 2.818233866661339 with parameters: {'num_leaves': 7, 'learning_rate': 0.08554584172791803, 'feature_fraction': 0.7947785160697323, 'bagging_fraction': 0.1407411937507261, 'bagging_freq': 0, 'lambda_l2': 0.22220574691613132}.\n"
     ]
    },
    {
     "name": "stdout",
     "output_type": "stream",
     "text": [
      "CV average RMSE: 7.77498\n"
     ]
    },
    {
     "name": "stderr",
     "output_type": "stream",
     "text": [
      "[I 2019-03-13 04:50:23,866] Finished a trial resulted in value: 7.774984694620786. Current best value is 2.818233866661339 with parameters: {'num_leaves': 7, 'learning_rate': 0.08554584172791803, 'feature_fraction': 0.7947785160697323, 'bagging_fraction': 0.1407411937507261, 'bagging_freq': 0, 'lambda_l2': 0.22220574691613132}.\n"
     ]
    },
    {
     "name": "stdout",
     "output_type": "stream",
     "text": [
      "CV average RMSE: 3.6596\n"
     ]
    },
    {
     "name": "stderr",
     "output_type": "stream",
     "text": [
      "[I 2019-03-13 04:50:24,108] Finished a trial resulted in value: 3.659598947244169. Current best value is 2.818233866661339 with parameters: {'num_leaves': 7, 'learning_rate': 0.08554584172791803, 'feature_fraction': 0.7947785160697323, 'bagging_fraction': 0.1407411937507261, 'bagging_freq': 0, 'lambda_l2': 0.22220574691613132}.\n"
     ]
    },
    {
     "name": "stdout",
     "output_type": "stream",
     "text": [
      "CV average RMSE: 2.85968\n"
     ]
    },
    {
     "name": "stderr",
     "output_type": "stream",
     "text": [
      "[I 2019-03-13 04:50:24,486] Finished a trial resulted in value: 2.8596771645002095. Current best value is 2.818233866661339 with parameters: {'num_leaves': 7, 'learning_rate': 0.08554584172791803, 'feature_fraction': 0.7947785160697323, 'bagging_fraction': 0.1407411937507261, 'bagging_freq': 0, 'lambda_l2': 0.22220574691613132}.\n"
     ]
    },
    {
     "name": "stdout",
     "output_type": "stream",
     "text": [
      "CV average RMSE: 7.77498\n"
     ]
    },
    {
     "name": "stderr",
     "output_type": "stream",
     "text": [
      "[I 2019-03-13 04:50:24,653] Finished a trial resulted in value: 7.774984694620786. Current best value is 2.818233866661339 with parameters: {'num_leaves': 7, 'learning_rate': 0.08554584172791803, 'feature_fraction': 0.7947785160697323, 'bagging_fraction': 0.1407411937507261, 'bagging_freq': 0, 'lambda_l2': 0.22220574691613132}.\n"
     ]
    },
    {
     "name": "stdout",
     "output_type": "stream",
     "text": [
      "CV average RMSE: 7.17938\n"
     ]
    },
    {
     "name": "stderr",
     "output_type": "stream",
     "text": [
      "[I 2019-03-13 04:50:24,820] Finished a trial resulted in value: 7.179379899107049. Current best value is 2.818233866661339 with parameters: {'num_leaves': 7, 'learning_rate': 0.08554584172791803, 'feature_fraction': 0.7947785160697323, 'bagging_fraction': 0.1407411937507261, 'bagging_freq': 0, 'lambda_l2': 0.22220574691613132}.\n"
     ]
    },
    {
     "name": "stdout",
     "output_type": "stream",
     "text": [
      "CV average RMSE: 3.00649\n"
     ]
    },
    {
     "name": "stderr",
     "output_type": "stream",
     "text": [
      "[I 2019-03-13 04:50:25,129] Finished a trial resulted in value: 3.0064916841406117. Current best value is 2.818233866661339 with parameters: {'num_leaves': 7, 'learning_rate': 0.08554584172791803, 'feature_fraction': 0.7947785160697323, 'bagging_fraction': 0.1407411937507261, 'bagging_freq': 0, 'lambda_l2': 0.22220574691613132}.\n"
     ]
    },
    {
     "name": "stdout",
     "output_type": "stream",
     "text": [
      "CV average RMSE: 7.77498\n"
     ]
    },
    {
     "name": "stderr",
     "output_type": "stream",
     "text": [
      "[I 2019-03-13 04:50:25,281] Finished a trial resulted in value: 7.774984694620786. Current best value is 2.818233866661339 with parameters: {'num_leaves': 7, 'learning_rate': 0.08554584172791803, 'feature_fraction': 0.7947785160697323, 'bagging_fraction': 0.1407411937507261, 'bagging_freq': 0, 'lambda_l2': 0.22220574691613132}.\n"
     ]
    },
    {
     "name": "stdout",
     "output_type": "stream",
     "text": [
      "CV average RMSE: 7.77498\n"
     ]
    },
    {
     "name": "stderr",
     "output_type": "stream",
     "text": [
      "[I 2019-03-13 04:50:25,433] Finished a trial resulted in value: 7.774984694620786. Current best value is 2.818233866661339 with parameters: {'num_leaves': 7, 'learning_rate': 0.08554584172791803, 'feature_fraction': 0.7947785160697323, 'bagging_fraction': 0.1407411937507261, 'bagging_freq': 0, 'lambda_l2': 0.22220574691613132}.\n"
     ]
    },
    {
     "name": "stdout",
     "output_type": "stream",
     "text": [
      "CV average RMSE: 7.77498\n"
     ]
    },
    {
     "name": "stderr",
     "output_type": "stream",
     "text": [
      "[I 2019-03-13 04:50:25,591] Finished a trial resulted in value: 7.774984694620786. Current best value is 2.818233866661339 with parameters: {'num_leaves': 7, 'learning_rate': 0.08554584172791803, 'feature_fraction': 0.7947785160697323, 'bagging_fraction': 0.1407411937507261, 'bagging_freq': 0, 'lambda_l2': 0.22220574691613132}.\n"
     ]
    },
    {
     "name": "stdout",
     "output_type": "stream",
     "text": [
      "CV average RMSE: 2.85952\n"
     ]
    },
    {
     "name": "stderr",
     "output_type": "stream",
     "text": [
      "[I 2019-03-13 04:50:26,015] Finished a trial resulted in value: 2.85951552254722. Current best value is 2.818233866661339 with parameters: {'num_leaves': 7, 'learning_rate': 0.08554584172791803, 'feature_fraction': 0.7947785160697323, 'bagging_fraction': 0.1407411937507261, 'bagging_freq': 0, 'lambda_l2': 0.22220574691613132}.\n"
     ]
    },
    {
     "name": "stdout",
     "output_type": "stream",
     "text": [
      "CV average RMSE: 2.90289\n"
     ]
    },
    {
     "name": "stderr",
     "output_type": "stream",
     "text": [
      "[I 2019-03-13 04:50:26,280] Finished a trial resulted in value: 2.902891177650018. Current best value is 2.818233866661339 with parameters: {'num_leaves': 7, 'learning_rate': 0.08554584172791803, 'feature_fraction': 0.7947785160697323, 'bagging_fraction': 0.1407411937507261, 'bagging_freq': 0, 'lambda_l2': 0.22220574691613132}.\n"
     ]
    },
    {
     "name": "stdout",
     "output_type": "stream",
     "text": [
      "CV average RMSE: 7.77498\n"
     ]
    },
    {
     "name": "stderr",
     "output_type": "stream",
     "text": [
      "[I 2019-03-13 04:50:26,435] Finished a trial resulted in value: 7.774984694620786. Current best value is 2.818233866661339 with parameters: {'num_leaves': 7, 'learning_rate': 0.08554584172791803, 'feature_fraction': 0.7947785160697323, 'bagging_fraction': 0.1407411937507261, 'bagging_freq': 0, 'lambda_l2': 0.22220574691613132}.\n"
     ]
    },
    {
     "name": "stdout",
     "output_type": "stream",
     "text": [
      "CV average RMSE: 2.82373\n"
     ]
    },
    {
     "name": "stderr",
     "output_type": "stream",
     "text": [
      "[I 2019-03-13 04:50:26,747] Finished a trial resulted in value: 2.8237327302056427. Current best value is 2.818233866661339 with parameters: {'num_leaves': 7, 'learning_rate': 0.08554584172791803, 'feature_fraction': 0.7947785160697323, 'bagging_fraction': 0.1407411937507261, 'bagging_freq': 0, 'lambda_l2': 0.22220574691613132}.\n"
     ]
    },
    {
     "name": "stdout",
     "output_type": "stream",
     "text": [
      "CV average RMSE: 2.91735\n"
     ]
    },
    {
     "name": "stderr",
     "output_type": "stream",
     "text": [
      "[I 2019-03-13 04:50:27,078] Finished a trial resulted in value: 2.917354581836932. Current best value is 2.818233866661339 with parameters: {'num_leaves': 7, 'learning_rate': 0.08554584172791803, 'feature_fraction': 0.7947785160697323, 'bagging_fraction': 0.1407411937507261, 'bagging_freq': 0, 'lambda_l2': 0.22220574691613132}.\n"
     ]
    },
    {
     "name": "stdout",
     "output_type": "stream",
     "text": [
      "CV average RMSE: 7.77498\n"
     ]
    },
    {
     "name": "stderr",
     "output_type": "stream",
     "text": [
      "[I 2019-03-13 04:50:27,234] Finished a trial resulted in value: 7.774984694620786. Current best value is 2.818233866661339 with parameters: {'num_leaves': 7, 'learning_rate': 0.08554584172791803, 'feature_fraction': 0.7947785160697323, 'bagging_fraction': 0.1407411937507261, 'bagging_freq': 0, 'lambda_l2': 0.22220574691613132}.\n"
     ]
    },
    {
     "name": "stdout",
     "output_type": "stream",
     "text": [
      "CV average RMSE: 2.89518\n"
     ]
    },
    {
     "name": "stderr",
     "output_type": "stream",
     "text": [
      "[I 2019-03-13 04:50:27,540] Finished a trial resulted in value: 2.8951780411288603. Current best value is 2.818233866661339 with parameters: {'num_leaves': 7, 'learning_rate': 0.08554584172791803, 'feature_fraction': 0.7947785160697323, 'bagging_fraction': 0.1407411937507261, 'bagging_freq': 0, 'lambda_l2': 0.22220574691613132}.\n"
     ]
    },
    {
     "name": "stdout",
     "output_type": "stream",
     "text": [
      "CV average RMSE: 3.001\n"
     ]
    },
    {
     "name": "stderr",
     "output_type": "stream",
     "text": [
      "[I 2019-03-13 04:50:27,965] Finished a trial resulted in value: 3.000995418819753. Current best value is 2.818233866661339 with parameters: {'num_leaves': 7, 'learning_rate': 0.08554584172791803, 'feature_fraction': 0.7947785160697323, 'bagging_fraction': 0.1407411937507261, 'bagging_freq': 0, 'lambda_l2': 0.22220574691613132}.\n"
     ]
    },
    {
     "name": "stdout",
     "output_type": "stream",
     "text": [
      "CV average RMSE: 7.77498\n"
     ]
    },
    {
     "name": "stderr",
     "output_type": "stream",
     "text": [
      "[I 2019-03-13 04:50:28,173] Finished a trial resulted in value: 7.774984694620786. Current best value is 2.818233866661339 with parameters: {'num_leaves': 7, 'learning_rate': 0.08554584172791803, 'feature_fraction': 0.7947785160697323, 'bagging_fraction': 0.1407411937507261, 'bagging_freq': 0, 'lambda_l2': 0.22220574691613132}.\n"
     ]
    },
    {
     "name": "stdout",
     "output_type": "stream",
     "text": [
      "CV average RMSE: 2.89357\n"
     ]
    },
    {
     "name": "stderr",
     "output_type": "stream",
     "text": [
      "[I 2019-03-13 04:50:28,468] Finished a trial resulted in value: 2.89357349364316. Current best value is 2.818233866661339 with parameters: {'num_leaves': 7, 'learning_rate': 0.08554584172791803, 'feature_fraction': 0.7947785160697323, 'bagging_fraction': 0.1407411937507261, 'bagging_freq': 0, 'lambda_l2': 0.22220574691613132}.\n"
     ]
    },
    {
     "name": "stdout",
     "output_type": "stream",
     "text": [
      "CV average RMSE: 2.90732\n"
     ]
    },
    {
     "name": "stderr",
     "output_type": "stream",
     "text": [
      "[I 2019-03-13 04:50:28,732] Finished a trial resulted in value: 2.9073249261283682. Current best value is 2.818233866661339 with parameters: {'num_leaves': 7, 'learning_rate': 0.08554584172791803, 'feature_fraction': 0.7947785160697323, 'bagging_fraction': 0.1407411937507261, 'bagging_freq': 0, 'lambda_l2': 0.22220574691613132}.\n"
     ]
    },
    {
     "name": "stdout",
     "output_type": "stream",
     "text": [
      "CV average RMSE: 2.90158\n"
     ]
    },
    {
     "name": "stderr",
     "output_type": "stream",
     "text": [
      "[I 2019-03-13 04:50:28,986] Finished a trial resulted in value: 2.9015773440494095. Current best value is 2.818233866661339 with parameters: {'num_leaves': 7, 'learning_rate': 0.08554584172791803, 'feature_fraction': 0.7947785160697323, 'bagging_fraction': 0.1407411937507261, 'bagging_freq': 0, 'lambda_l2': 0.22220574691613132}.\n"
     ]
    },
    {
     "name": "stdout",
     "output_type": "stream",
     "text": [
      "CV average RMSE: 2.92596\n"
     ]
    },
    {
     "name": "stderr",
     "output_type": "stream",
     "text": [
      "[I 2019-03-13 04:50:29,446] Finished a trial resulted in value: 2.92596304017419. Current best value is 2.818233866661339 with parameters: {'num_leaves': 7, 'learning_rate': 0.08554584172791803, 'feature_fraction': 0.7947785160697323, 'bagging_fraction': 0.1407411937507261, 'bagging_freq': 0, 'lambda_l2': 0.22220574691613132}.\n"
     ]
    },
    {
     "name": "stdout",
     "output_type": "stream",
     "text": [
      "CV average RMSE: 2.86113\n"
     ]
    },
    {
     "name": "stderr",
     "output_type": "stream",
     "text": [
      "[I 2019-03-13 04:50:29,701] Finished a trial resulted in value: 2.8611282844784127. Current best value is 2.818233866661339 with parameters: {'num_leaves': 7, 'learning_rate': 0.08554584172791803, 'feature_fraction': 0.7947785160697323, 'bagging_fraction': 0.1407411937507261, 'bagging_freq': 0, 'lambda_l2': 0.22220574691613132}.\n"
     ]
    },
    {
     "name": "stdout",
     "output_type": "stream",
     "text": [
      "CV average RMSE: 2.82918\n"
     ]
    },
    {
     "name": "stderr",
     "output_type": "stream",
     "text": [
      "[I 2019-03-13 04:50:30,056] Finished a trial resulted in value: 2.8291811875806485. Current best value is 2.818233866661339 with parameters: {'num_leaves': 7, 'learning_rate': 0.08554584172791803, 'feature_fraction': 0.7947785160697323, 'bagging_fraction': 0.1407411937507261, 'bagging_freq': 0, 'lambda_l2': 0.22220574691613132}.\n"
     ]
    },
    {
     "name": "stdout",
     "output_type": "stream",
     "text": [
      "CV average RMSE: 3.02083\n"
     ]
    },
    {
     "name": "stderr",
     "output_type": "stream",
     "text": [
      "[I 2019-03-13 04:50:30,411] Finished a trial resulted in value: 3.020827573711854. Current best value is 2.818233866661339 with parameters: {'num_leaves': 7, 'learning_rate': 0.08554584172791803, 'feature_fraction': 0.7947785160697323, 'bagging_fraction': 0.1407411937507261, 'bagging_freq': 0, 'lambda_l2': 0.22220574691613132}.\n"
     ]
    },
    {
     "name": "stdout",
     "output_type": "stream",
     "text": [
      "CV average RMSE: 7.77498\n"
     ]
    },
    {
     "name": "stderr",
     "output_type": "stream",
     "text": [
      "[I 2019-03-13 04:50:30,568] Finished a trial resulted in value: 7.774984694620786. Current best value is 2.818233866661339 with parameters: {'num_leaves': 7, 'learning_rate': 0.08554584172791803, 'feature_fraction': 0.7947785160697323, 'bagging_fraction': 0.1407411937507261, 'bagging_freq': 0, 'lambda_l2': 0.22220574691613132}.\n"
     ]
    },
    {
     "name": "stdout",
     "output_type": "stream",
     "text": [
      "CV average RMSE: 6.12325\n"
     ]
    },
    {
     "name": "stderr",
     "output_type": "stream",
     "text": [
      "[I 2019-03-13 04:50:30,980] Finished a trial resulted in value: 6.123246191758882. Current best value is 2.818233866661339 with parameters: {'num_leaves': 7, 'learning_rate': 0.08554584172791803, 'feature_fraction': 0.7947785160697323, 'bagging_fraction': 0.1407411937507261, 'bagging_freq': 0, 'lambda_l2': 0.22220574691613132}.\n"
     ]
    },
    {
     "name": "stdout",
     "output_type": "stream",
     "text": [
      "CV average RMSE: 2.82655\n"
     ]
    },
    {
     "name": "stderr",
     "output_type": "stream",
     "text": [
      "[I 2019-03-13 04:50:31,299] Finished a trial resulted in value: 2.826550645495918. Current best value is 2.818233866661339 with parameters: {'num_leaves': 7, 'learning_rate': 0.08554584172791803, 'feature_fraction': 0.7947785160697323, 'bagging_fraction': 0.1407411937507261, 'bagging_freq': 0, 'lambda_l2': 0.22220574691613132}.\n"
     ]
    },
    {
     "name": "stdout",
     "output_type": "stream",
     "text": [
      "CV average RMSE: 7.77498\n"
     ]
    },
    {
     "name": "stderr",
     "output_type": "stream",
     "text": [
      "[I 2019-03-13 04:50:31,459] Finished a trial resulted in value: 7.774984694620786. Current best value is 2.818233866661339 with parameters: {'num_leaves': 7, 'learning_rate': 0.08554584172791803, 'feature_fraction': 0.7947785160697323, 'bagging_fraction': 0.1407411937507261, 'bagging_freq': 0, 'lambda_l2': 0.22220574691613132}.\n"
     ]
    },
    {
     "name": "stdout",
     "output_type": "stream",
     "text": [
      "CV average RMSE: 7.77498\n"
     ]
    },
    {
     "name": "stderr",
     "output_type": "stream",
     "text": [
      "[I 2019-03-13 04:50:31,619] Finished a trial resulted in value: 7.774984694620786. Current best value is 2.818233866661339 with parameters: {'num_leaves': 7, 'learning_rate': 0.08554584172791803, 'feature_fraction': 0.7947785160697323, 'bagging_fraction': 0.1407411937507261, 'bagging_freq': 0, 'lambda_l2': 0.22220574691613132}.\n"
     ]
    },
    {
     "name": "stdout",
     "output_type": "stream",
     "text": [
      "CV average RMSE: 3.46127\n"
     ]
    },
    {
     "name": "stderr",
     "output_type": "stream",
     "text": [
      "[I 2019-03-13 04:50:31,942] Finished a trial resulted in value: 3.461273176142137. Current best value is 2.818233866661339 with parameters: {'num_leaves': 7, 'learning_rate': 0.08554584172791803, 'feature_fraction': 0.7947785160697323, 'bagging_fraction': 0.1407411937507261, 'bagging_freq': 0, 'lambda_l2': 0.22220574691613132}.\n"
     ]
    },
    {
     "name": "stdout",
     "output_type": "stream",
     "text": [
      "CV average RMSE: 2.86222\n"
     ]
    },
    {
     "name": "stderr",
     "output_type": "stream",
     "text": [
      "[I 2019-03-13 04:50:32,197] Finished a trial resulted in value: 2.8622207428790687. Current best value is 2.818233866661339 with parameters: {'num_leaves': 7, 'learning_rate': 0.08554584172791803, 'feature_fraction': 0.7947785160697323, 'bagging_fraction': 0.1407411937507261, 'bagging_freq': 0, 'lambda_l2': 0.22220574691613132}.\n",
      "[W 2019-03-13 04:50:32,293] Setting trial status as TrialState.FAIL because of the following error: LightGBMError('Check failed: num_data > 0 at D:\\\\a\\\\1\\\\s\\\\python-package\\\\compile\\\\src\\\\io\\\\dataset.cpp, line 27 .\\n',)\n",
      "Traceback (most recent call last):\n",
      "  File \"C:\\Users\\reo\\Anaconda3\\envs\\Kaggle\\lib\\site-packages\\optuna\\study.py\", line 407, in _run_trial\n",
      "    result = func(trial)\n",
      "  File \"<ipython-input-11-97621003bcc8>\", line 52, in objective\n",
      "    model = create_model(params, train_data_set, test_data_set)\n",
      "  File \"<ipython-input-11-97621003bcc8>\", line 14, in create_model\n",
      "    verbose_eval=False\n",
      "  File \"C:\\Users\\reo\\Anaconda3\\envs\\Kaggle\\lib\\site-packages\\lightgbm\\engine.py\", line 197, in train\n",
      "    booster = Booster(params=params, train_set=train_set)\n",
      "  File \"C:\\Users\\reo\\Anaconda3\\envs\\Kaggle\\lib\\site-packages\\lightgbm\\basic.py\", line 1554, in __init__\n",
      "    ctypes.byref(self.handle)))\n",
      "  File \"C:\\Users\\reo\\Anaconda3\\envs\\Kaggle\\lib\\site-packages\\lightgbm\\basic.py\", line 46, in _safe_call\n",
      "    raise LightGBMError(decode_string(_LIB.LGBM_GetLastError()))\n",
      "lightgbm.basic.LightGBMError: Check failed: num_data > 0 at D:\\a\\1\\s\\python-package\\compile\\src\\io\\dataset.cpp, line 27 .\n",
      "\n"
     ]
    },
    {
     "name": "stdout",
     "output_type": "stream",
     "text": [
      "CV average RMSE: 7.77498\n"
     ]
    },
    {
     "name": "stderr",
     "output_type": "stream",
     "text": [
      "[I 2019-03-13 04:50:32,469] Finished a trial resulted in value: 7.774984694620786. Current best value is 2.818233866661339 with parameters: {'num_leaves': 7, 'learning_rate': 0.08554584172791803, 'feature_fraction': 0.7947785160697323, 'bagging_fraction': 0.1407411937507261, 'bagging_freq': 0, 'lambda_l2': 0.22220574691613132}.\n"
     ]
    },
    {
     "name": "stdout",
     "output_type": "stream",
     "text": [
      "CV average RMSE: 7.77498\n"
     ]
    },
    {
     "name": "stderr",
     "output_type": "stream",
     "text": [
      "[I 2019-03-13 04:50:32,661] Finished a trial resulted in value: 7.774984694620786. Current best value is 2.818233866661339 with parameters: {'num_leaves': 7, 'learning_rate': 0.08554584172791803, 'feature_fraction': 0.7947785160697323, 'bagging_fraction': 0.1407411937507261, 'bagging_freq': 0, 'lambda_l2': 0.22220574691613132}.\n"
     ]
    },
    {
     "name": "stdout",
     "output_type": "stream",
     "text": [
      "CV average RMSE: 2.82234\n"
     ]
    },
    {
     "name": "stderr",
     "output_type": "stream",
     "text": [
      "[I 2019-03-13 04:50:33,028] Finished a trial resulted in value: 2.8223414826587274. Current best value is 2.818233866661339 with parameters: {'num_leaves': 7, 'learning_rate': 0.08554584172791803, 'feature_fraction': 0.7947785160697323, 'bagging_fraction': 0.1407411937507261, 'bagging_freq': 0, 'lambda_l2': 0.22220574691613132}.\n",
      "[W 2019-03-13 04:50:33,122] Setting trial status as TrialState.FAIL because of the following error: LightGBMError('Check failed: num_data > 0 at D:\\\\a\\\\1\\\\s\\\\python-package\\\\compile\\\\src\\\\io\\\\dataset.cpp, line 27 .\\n',)\n",
      "Traceback (most recent call last):\n",
      "  File \"C:\\Users\\reo\\Anaconda3\\envs\\Kaggle\\lib\\site-packages\\optuna\\study.py\", line 407, in _run_trial\n",
      "    result = func(trial)\n",
      "  File \"<ipython-input-11-97621003bcc8>\", line 52, in objective\n",
      "    model = create_model(params, train_data_set, test_data_set)\n",
      "  File \"<ipython-input-11-97621003bcc8>\", line 14, in create_model\n",
      "    verbose_eval=False\n",
      "  File \"C:\\Users\\reo\\Anaconda3\\envs\\Kaggle\\lib\\site-packages\\lightgbm\\engine.py\", line 197, in train\n",
      "    booster = Booster(params=params, train_set=train_set)\n",
      "  File \"C:\\Users\\reo\\Anaconda3\\envs\\Kaggle\\lib\\site-packages\\lightgbm\\basic.py\", line 1554, in __init__\n",
      "    ctypes.byref(self.handle)))\n",
      "  File \"C:\\Users\\reo\\Anaconda3\\envs\\Kaggle\\lib\\site-packages\\lightgbm\\basic.py\", line 46, in _safe_call\n",
      "    raise LightGBMError(decode_string(_LIB.LGBM_GetLastError()))\n",
      "lightgbm.basic.LightGBMError: Check failed: num_data > 0 at D:\\a\\1\\s\\python-package\\compile\\src\\io\\dataset.cpp, line 27 .\n",
      "\n"
     ]
    },
    {
     "name": "stdout",
     "output_type": "stream",
     "text": [
      "CV average RMSE: 7.77498\n"
     ]
    },
    {
     "name": "stderr",
     "output_type": "stream",
     "text": [
      "[I 2019-03-13 04:50:33,300] Finished a trial resulted in value: 7.774984694620786. Current best value is 2.818233866661339 with parameters: {'num_leaves': 7, 'learning_rate': 0.08554584172791803, 'feature_fraction': 0.7947785160697323, 'bagging_fraction': 0.1407411937507261, 'bagging_freq': 0, 'lambda_l2': 0.22220574691613132}.\n"
     ]
    },
    {
     "name": "stdout",
     "output_type": "stream",
     "text": [
      "CV average RMSE: 2.82502\n"
     ]
    },
    {
     "name": "stderr",
     "output_type": "stream",
     "text": [
      "[I 2019-03-13 04:50:33,599] Finished a trial resulted in value: 2.825023261098438. Current best value is 2.818233866661339 with parameters: {'num_leaves': 7, 'learning_rate': 0.08554584172791803, 'feature_fraction': 0.7947785160697323, 'bagging_fraction': 0.1407411937507261, 'bagging_freq': 0, 'lambda_l2': 0.22220574691613132}.\n"
     ]
    },
    {
     "name": "stdout",
     "output_type": "stream",
     "text": [
      "CV average RMSE: 2.826\n"
     ]
    },
    {
     "name": "stderr",
     "output_type": "stream",
     "text": [
      "[I 2019-03-13 04:50:33,972] Finished a trial resulted in value: 2.826003441310048. Current best value is 2.818233866661339 with parameters: {'num_leaves': 7, 'learning_rate': 0.08554584172791803, 'feature_fraction': 0.7947785160697323, 'bagging_fraction': 0.1407411937507261, 'bagging_freq': 0, 'lambda_l2': 0.22220574691613132}.\n"
     ]
    },
    {
     "name": "stdout",
     "output_type": "stream",
     "text": [
      "CV average RMSE: 7.77498\n"
     ]
    },
    {
     "name": "stderr",
     "output_type": "stream",
     "text": [
      "[I 2019-03-13 04:50:34,151] Finished a trial resulted in value: 7.774984694620786. Current best value is 2.818233866661339 with parameters: {'num_leaves': 7, 'learning_rate': 0.08554584172791803, 'feature_fraction': 0.7947785160697323, 'bagging_fraction': 0.1407411937507261, 'bagging_freq': 0, 'lambda_l2': 0.22220574691613132}.\n"
     ]
    },
    {
     "name": "stdout",
     "output_type": "stream",
     "text": [
      "CV average RMSE: 2.82639\n"
     ]
    },
    {
     "name": "stderr",
     "output_type": "stream",
     "text": [
      "[I 2019-03-13 04:50:34,490] Finished a trial resulted in value: 2.826387526155729. Current best value is 2.818233866661339 with parameters: {'num_leaves': 7, 'learning_rate': 0.08554584172791803, 'feature_fraction': 0.7947785160697323, 'bagging_fraction': 0.1407411937507261, 'bagging_freq': 0, 'lambda_l2': 0.22220574691613132}.\n"
     ]
    },
    {
     "name": "stdout",
     "output_type": "stream",
     "text": [
      "CV average RMSE: 7.77498\n"
     ]
    },
    {
     "name": "stderr",
     "output_type": "stream",
     "text": [
      "[I 2019-03-13 04:50:34,654] Finished a trial resulted in value: 7.774984694620786. Current best value is 2.818233866661339 with parameters: {'num_leaves': 7, 'learning_rate': 0.08554584172791803, 'feature_fraction': 0.7947785160697323, 'bagging_fraction': 0.1407411937507261, 'bagging_freq': 0, 'lambda_l2': 0.22220574691613132}.\n"
     ]
    },
    {
     "name": "stdout",
     "output_type": "stream",
     "text": [
      "CV average RMSE: 2.82252\n"
     ]
    },
    {
     "name": "stderr",
     "output_type": "stream",
     "text": [
      "[I 2019-03-13 04:50:34,993] Finished a trial resulted in value: 2.82252101061776. Current best value is 2.818233866661339 with parameters: {'num_leaves': 7, 'learning_rate': 0.08554584172791803, 'feature_fraction': 0.7947785160697323, 'bagging_fraction': 0.1407411937507261, 'bagging_freq': 0, 'lambda_l2': 0.22220574691613132}.\n",
      "[W 2019-03-13 04:50:35,084] Setting trial status as TrialState.FAIL because of the following error: LightGBMError('Check failed: num_data > 0 at D:\\\\a\\\\1\\\\s\\\\python-package\\\\compile\\\\src\\\\io\\\\dataset.cpp, line 27 .\\n',)\n",
      "Traceback (most recent call last):\n",
      "  File \"C:\\Users\\reo\\Anaconda3\\envs\\Kaggle\\lib\\site-packages\\optuna\\study.py\", line 407, in _run_trial\n",
      "    result = func(trial)\n",
      "  File \"<ipython-input-11-97621003bcc8>\", line 52, in objective\n",
      "    model = create_model(params, train_data_set, test_data_set)\n",
      "  File \"<ipython-input-11-97621003bcc8>\", line 14, in create_model\n",
      "    verbose_eval=False\n",
      "  File \"C:\\Users\\reo\\Anaconda3\\envs\\Kaggle\\lib\\site-packages\\lightgbm\\engine.py\", line 197, in train\n",
      "    booster = Booster(params=params, train_set=train_set)\n",
      "  File \"C:\\Users\\reo\\Anaconda3\\envs\\Kaggle\\lib\\site-packages\\lightgbm\\basic.py\", line 1554, in __init__\n",
      "    ctypes.byref(self.handle)))\n",
      "  File \"C:\\Users\\reo\\Anaconda3\\envs\\Kaggle\\lib\\site-packages\\lightgbm\\basic.py\", line 46, in _safe_call\n",
      "    raise LightGBMError(decode_string(_LIB.LGBM_GetLastError()))\n",
      "lightgbm.basic.LightGBMError: Check failed: num_data > 0 at D:\\a\\1\\s\\python-package\\compile\\src\\io\\dataset.cpp, line 27 .\n",
      "\n",
      "[W 2019-03-13 04:50:35,195] Setting trial status as TrialState.FAIL because of the following error: LightGBMError('Check failed: num_data > 0 at D:\\\\a\\\\1\\\\s\\\\python-package\\\\compile\\\\src\\\\io\\\\dataset.cpp, line 27 .\\n',)\n",
      "Traceback (most recent call last):\n",
      "  File \"C:\\Users\\reo\\Anaconda3\\envs\\Kaggle\\lib\\site-packages\\optuna\\study.py\", line 407, in _run_trial\n",
      "    result = func(trial)\n",
      "  File \"<ipython-input-11-97621003bcc8>\", line 52, in objective\n",
      "    model = create_model(params, train_data_set, test_data_set)\n",
      "  File \"<ipython-input-11-97621003bcc8>\", line 14, in create_model\n",
      "    verbose_eval=False\n",
      "  File \"C:\\Users\\reo\\Anaconda3\\envs\\Kaggle\\lib\\site-packages\\lightgbm\\engine.py\", line 197, in train\n",
      "    booster = Booster(params=params, train_set=train_set)\n",
      "  File \"C:\\Users\\reo\\Anaconda3\\envs\\Kaggle\\lib\\site-packages\\lightgbm\\basic.py\", line 1554, in __init__\n",
      "    ctypes.byref(self.handle)))\n",
      "  File \"C:\\Users\\reo\\Anaconda3\\envs\\Kaggle\\lib\\site-packages\\lightgbm\\basic.py\", line 46, in _safe_call\n",
      "    raise LightGBMError(decode_string(_LIB.LGBM_GetLastError()))\n",
      "lightgbm.basic.LightGBMError: Check failed: num_data > 0 at D:\\a\\1\\s\\python-package\\compile\\src\\io\\dataset.cpp, line 27 .\n",
      "\n",
      "[W 2019-03-13 04:50:35,305] Setting trial status as TrialState.FAIL because of the following error: LightGBMError('Check failed: num_data > 0 at D:\\\\a\\\\1\\\\s\\\\python-package\\\\compile\\\\src\\\\io\\\\dataset.cpp, line 27 .\\n',)\n",
      "Traceback (most recent call last):\n",
      "  File \"C:\\Users\\reo\\Anaconda3\\envs\\Kaggle\\lib\\site-packages\\optuna\\study.py\", line 407, in _run_trial\n",
      "    result = func(trial)\n",
      "  File \"<ipython-input-11-97621003bcc8>\", line 52, in objective\n",
      "    model = create_model(params, train_data_set, test_data_set)\n",
      "  File \"<ipython-input-11-97621003bcc8>\", line 14, in create_model\n",
      "    verbose_eval=False\n",
      "  File \"C:\\Users\\reo\\Anaconda3\\envs\\Kaggle\\lib\\site-packages\\lightgbm\\engine.py\", line 197, in train\n",
      "    booster = Booster(params=params, train_set=train_set)\n",
      "  File \"C:\\Users\\reo\\Anaconda3\\envs\\Kaggle\\lib\\site-packages\\lightgbm\\basic.py\", line 1554, in __init__\n",
      "    ctypes.byref(self.handle)))\n",
      "  File \"C:\\Users\\reo\\Anaconda3\\envs\\Kaggle\\lib\\site-packages\\lightgbm\\basic.py\", line 46, in _safe_call\n",
      "    raise LightGBMError(decode_string(_LIB.LGBM_GetLastError()))\n",
      "lightgbm.basic.LightGBMError: Check failed: num_data > 0 at D:\\a\\1\\s\\python-package\\compile\\src\\io\\dataset.cpp, line 27 .\n",
      "\n"
     ]
    },
    {
     "name": "stdout",
     "output_type": "stream",
     "text": [
      "CV average RMSE: 7.77498\n"
     ]
    },
    {
     "name": "stderr",
     "output_type": "stream",
     "text": [
      "[I 2019-03-13 04:50:35,487] Finished a trial resulted in value: 7.774984694620786. Current best value is 2.818233866661339 with parameters: {'num_leaves': 7, 'learning_rate': 0.08554584172791803, 'feature_fraction': 0.7947785160697323, 'bagging_fraction': 0.1407411937507261, 'bagging_freq': 0, 'lambda_l2': 0.22220574691613132}.\n"
     ]
    },
    {
     "name": "stdout",
     "output_type": "stream",
     "text": [
      "CV average RMSE: 7.77498\n"
     ]
    },
    {
     "name": "stderr",
     "output_type": "stream",
     "text": [
      "[I 2019-03-13 04:50:35,653] Finished a trial resulted in value: 7.774984694620786. Current best value is 2.818233866661339 with parameters: {'num_leaves': 7, 'learning_rate': 0.08554584172791803, 'feature_fraction': 0.7947785160697323, 'bagging_fraction': 0.1407411937507261, 'bagging_freq': 0, 'lambda_l2': 0.22220574691613132}.\n"
     ]
    },
    {
     "name": "stdout",
     "output_type": "stream",
     "text": [
      "CV average RMSE: 7.77498\n"
     ]
    },
    {
     "name": "stderr",
     "output_type": "stream",
     "text": [
      "[I 2019-03-13 04:50:35,825] Finished a trial resulted in value: 7.774984694620786. Current best value is 2.818233866661339 with parameters: {'num_leaves': 7, 'learning_rate': 0.08554584172791803, 'feature_fraction': 0.7947785160697323, 'bagging_fraction': 0.1407411937507261, 'bagging_freq': 0, 'lambda_l2': 0.22220574691613132}.\n"
     ]
    },
    {
     "name": "stdout",
     "output_type": "stream",
     "text": [
      "CV average RMSE: 2.82541\n"
     ]
    },
    {
     "name": "stderr",
     "output_type": "stream",
     "text": [
      "[I 2019-03-13 04:50:36,202] Finished a trial resulted in value: 2.8254069780165074. Current best value is 2.818233866661339 with parameters: {'num_leaves': 7, 'learning_rate': 0.08554584172791803, 'feature_fraction': 0.7947785160697323, 'bagging_fraction': 0.1407411937507261, 'bagging_freq': 0, 'lambda_l2': 0.22220574691613132}.\n"
     ]
    },
    {
     "name": "stdout",
     "output_type": "stream",
     "text": [
      "CV average RMSE: 7.77498\n"
     ]
    },
    {
     "name": "stderr",
     "output_type": "stream",
     "text": [
      "[I 2019-03-13 04:50:36,404] Finished a trial resulted in value: 7.774984694620786. Current best value is 2.818233866661339 with parameters: {'num_leaves': 7, 'learning_rate': 0.08554584172791803, 'feature_fraction': 0.7947785160697323, 'bagging_fraction': 0.1407411937507261, 'bagging_freq': 0, 'lambda_l2': 0.22220574691613132}.\n"
     ]
    },
    {
     "name": "stdout",
     "output_type": "stream",
     "text": [
      "CV average RMSE: 7.77498\n"
     ]
    },
    {
     "name": "stderr",
     "output_type": "stream",
     "text": [
      "[I 2019-03-13 04:50:36,578] Finished a trial resulted in value: 7.774984694620786. Current best value is 2.818233866661339 with parameters: {'num_leaves': 7, 'learning_rate': 0.08554584172791803, 'feature_fraction': 0.7947785160697323, 'bagging_fraction': 0.1407411937507261, 'bagging_freq': 0, 'lambda_l2': 0.22220574691613132}.\n"
     ]
    },
    {
     "name": "stdout",
     "output_type": "stream",
     "text": [
      "CV average RMSE: 11.6865\n"
     ]
    },
    {
     "name": "stderr",
     "output_type": "stream",
     "text": [
      "[I 2019-03-13 04:50:36,807] Finished a trial resulted in value: 11.686455376854962. Current best value is 2.818233866661339 with parameters: {'num_leaves': 7, 'learning_rate': 0.08554584172791803, 'feature_fraction': 0.7947785160697323, 'bagging_fraction': 0.1407411937507261, 'bagging_freq': 0, 'lambda_l2': 0.22220574691613132}.\n"
     ]
    },
    {
     "name": "stdout",
     "output_type": "stream",
     "text": [
      "CV average RMSE: 2.82245\n"
     ]
    },
    {
     "name": "stderr",
     "output_type": "stream",
     "text": [
      "[I 2019-03-13 04:50:37,162] Finished a trial resulted in value: 2.8224539834157243. Current best value is 2.818233866661339 with parameters: {'num_leaves': 7, 'learning_rate': 0.08554584172791803, 'feature_fraction': 0.7947785160697323, 'bagging_fraction': 0.1407411937507261, 'bagging_freq': 0, 'lambda_l2': 0.22220574691613132}.\n"
     ]
    },
    {
     "name": "stdout",
     "output_type": "stream",
     "text": [
      "CV average RMSE: 7.77498\n"
     ]
    },
    {
     "name": "stderr",
     "output_type": "stream",
     "text": [
      "[I 2019-03-13 04:50:37,339] Finished a trial resulted in value: 7.774984694620786. Current best value is 2.818233866661339 with parameters: {'num_leaves': 7, 'learning_rate': 0.08554584172791803, 'feature_fraction': 0.7947785160697323, 'bagging_fraction': 0.1407411937507261, 'bagging_freq': 0, 'lambda_l2': 0.22220574691613132}.\n"
     ]
    },
    {
     "name": "stdout",
     "output_type": "stream",
     "text": [
      "CV average RMSE: 2.82488\n"
     ]
    },
    {
     "name": "stderr",
     "output_type": "stream",
     "text": [
      "[I 2019-03-13 04:50:37,700] Finished a trial resulted in value: 2.824881611436826. Current best value is 2.818233866661339 with parameters: {'num_leaves': 7, 'learning_rate': 0.08554584172791803, 'feature_fraction': 0.7947785160697323, 'bagging_fraction': 0.1407411937507261, 'bagging_freq': 0, 'lambda_l2': 0.22220574691613132}.\n"
     ]
    },
    {
     "name": "stdout",
     "output_type": "stream",
     "text": [
      "CV average RMSE: 7.77498\n"
     ]
    },
    {
     "name": "stderr",
     "output_type": "stream",
     "text": [
      "[I 2019-03-13 04:50:37,874] Finished a trial resulted in value: 7.774984694620786. Current best value is 2.818233866661339 with parameters: {'num_leaves': 7, 'learning_rate': 0.08554584172791803, 'feature_fraction': 0.7947785160697323, 'bagging_fraction': 0.1407411937507261, 'bagging_freq': 0, 'lambda_l2': 0.22220574691613132}.\n"
     ]
    },
    {
     "name": "stdout",
     "output_type": "stream",
     "text": [
      "CV average RMSE: 2.82371\n"
     ]
    },
    {
     "name": "stderr",
     "output_type": "stream",
     "text": [
      "[I 2019-03-13 04:50:38,201] Finished a trial resulted in value: 2.8237146999647407. Current best value is 2.818233866661339 with parameters: {'num_leaves': 7, 'learning_rate': 0.08554584172791803, 'feature_fraction': 0.7947785160697323, 'bagging_fraction': 0.1407411937507261, 'bagging_freq': 0, 'lambda_l2': 0.22220574691613132}.\n"
     ]
    },
    {
     "name": "stdout",
     "output_type": "stream",
     "text": [
      "CV average RMSE: 7.77498\n"
     ]
    },
    {
     "name": "stderr",
     "output_type": "stream",
     "text": [
      "[I 2019-03-13 04:50:38,406] Finished a trial resulted in value: 7.774984694620786. Current best value is 2.818233866661339 with parameters: {'num_leaves': 7, 'learning_rate': 0.08554584172791803, 'feature_fraction': 0.7947785160697323, 'bagging_fraction': 0.1407411937507261, 'bagging_freq': 0, 'lambda_l2': 0.22220574691613132}.\n"
     ]
    },
    {
     "name": "stdout",
     "output_type": "stream",
     "text": [
      "CV average RMSE: 7.77498\n"
     ]
    },
    {
     "name": "stderr",
     "output_type": "stream",
     "text": [
      "[I 2019-03-13 04:50:38,615] Finished a trial resulted in value: 7.774984694620786. Current best value is 2.818233866661339 with parameters: {'num_leaves': 7, 'learning_rate': 0.08554584172791803, 'feature_fraction': 0.7947785160697323, 'bagging_fraction': 0.1407411937507261, 'bagging_freq': 0, 'lambda_l2': 0.22220574691613132}.\n"
     ]
    },
    {
     "name": "stdout",
     "output_type": "stream",
     "text": [
      "CV average RMSE: 2.82578\n"
     ]
    },
    {
     "name": "stderr",
     "output_type": "stream",
     "text": [
      "[I 2019-03-13 04:50:38,972] Finished a trial resulted in value: 2.825781784979334. Current best value is 2.818233866661339 with parameters: {'num_leaves': 7, 'learning_rate': 0.08554584172791803, 'feature_fraction': 0.7947785160697323, 'bagging_fraction': 0.1407411937507261, 'bagging_freq': 0, 'lambda_l2': 0.22220574691613132}.\n"
     ]
    },
    {
     "name": "stdout",
     "output_type": "stream",
     "text": [
      "CV average RMSE: 3.09425\n"
     ]
    },
    {
     "name": "stderr",
     "output_type": "stream",
     "text": [
      "[I 2019-03-13 04:50:39,229] Finished a trial resulted in value: 3.0942464859806553. Current best value is 2.818233866661339 with parameters: {'num_leaves': 7, 'learning_rate': 0.08554584172791803, 'feature_fraction': 0.7947785160697323, 'bagging_fraction': 0.1407411937507261, 'bagging_freq': 0, 'lambda_l2': 0.22220574691613132}.\n"
     ]
    },
    {
     "name": "stdout",
     "output_type": "stream",
     "text": [
      "CV average RMSE: 7.77498\n"
     ]
    },
    {
     "name": "stderr",
     "output_type": "stream",
     "text": [
      "[I 2019-03-13 04:50:39,399] Finished a trial resulted in value: 7.774984694620786. Current best value is 2.818233866661339 with parameters: {'num_leaves': 7, 'learning_rate': 0.08554584172791803, 'feature_fraction': 0.7947785160697323, 'bagging_fraction': 0.1407411937507261, 'bagging_freq': 0, 'lambda_l2': 0.22220574691613132}.\n"
     ]
    },
    {
     "name": "stdout",
     "output_type": "stream",
     "text": [
      "CV average RMSE: 7.77498\n"
     ]
    },
    {
     "name": "stderr",
     "output_type": "stream",
     "text": [
      "[I 2019-03-13 04:50:39,586] Finished a trial resulted in value: 7.774984694620786. Current best value is 2.818233866661339 with parameters: {'num_leaves': 7, 'learning_rate': 0.08554584172791803, 'feature_fraction': 0.7947785160697323, 'bagging_fraction': 0.1407411937507261, 'bagging_freq': 0, 'lambda_l2': 0.22220574691613132}.\n",
      "[W 2019-03-13 04:50:39,681] Setting trial status as TrialState.FAIL because of the following error: LightGBMError('Check failed: num_data > 0 at D:\\\\a\\\\1\\\\s\\\\python-package\\\\compile\\\\src\\\\io\\\\dataset.cpp, line 27 .\\n',)\n",
      "Traceback (most recent call last):\n",
      "  File \"C:\\Users\\reo\\Anaconda3\\envs\\Kaggle\\lib\\site-packages\\optuna\\study.py\", line 407, in _run_trial\n",
      "    result = func(trial)\n",
      "  File \"<ipython-input-11-97621003bcc8>\", line 52, in objective\n",
      "    model = create_model(params, train_data_set, test_data_set)\n",
      "  File \"<ipython-input-11-97621003bcc8>\", line 14, in create_model\n",
      "    verbose_eval=False\n",
      "  File \"C:\\Users\\reo\\Anaconda3\\envs\\Kaggle\\lib\\site-packages\\lightgbm\\engine.py\", line 197, in train\n",
      "    booster = Booster(params=params, train_set=train_set)\n",
      "  File \"C:\\Users\\reo\\Anaconda3\\envs\\Kaggle\\lib\\site-packages\\lightgbm\\basic.py\", line 1554, in __init__\n",
      "    ctypes.byref(self.handle)))\n",
      "  File \"C:\\Users\\reo\\Anaconda3\\envs\\Kaggle\\lib\\site-packages\\lightgbm\\basic.py\", line 46, in _safe_call\n",
      "    raise LightGBMError(decode_string(_LIB.LGBM_GetLastError()))\n",
      "lightgbm.basic.LightGBMError: Check failed: num_data > 0 at D:\\a\\1\\s\\python-package\\compile\\src\\io\\dataset.cpp, line 27 .\n",
      "\n",
      "[W 2019-03-13 04:50:39,796] Setting trial status as TrialState.FAIL because of the following error: LightGBMError('Check failed: num_data > 0 at D:\\\\a\\\\1\\\\s\\\\python-package\\\\compile\\\\src\\\\io\\\\dataset.cpp, line 27 .\\n',)\n",
      "Traceback (most recent call last):\n",
      "  File \"C:\\Users\\reo\\Anaconda3\\envs\\Kaggle\\lib\\site-packages\\optuna\\study.py\", line 407, in _run_trial\n",
      "    result = func(trial)\n",
      "  File \"<ipython-input-11-97621003bcc8>\", line 52, in objective\n",
      "    model = create_model(params, train_data_set, test_data_set)\n",
      "  File \"<ipython-input-11-97621003bcc8>\", line 14, in create_model\n",
      "    verbose_eval=False\n",
      "  File \"C:\\Users\\reo\\Anaconda3\\envs\\Kaggle\\lib\\site-packages\\lightgbm\\engine.py\", line 197, in train\n",
      "    booster = Booster(params=params, train_set=train_set)\n",
      "  File \"C:\\Users\\reo\\Anaconda3\\envs\\Kaggle\\lib\\site-packages\\lightgbm\\basic.py\", line 1554, in __init__\n",
      "    ctypes.byref(self.handle)))\n",
      "  File \"C:\\Users\\reo\\Anaconda3\\envs\\Kaggle\\lib\\site-packages\\lightgbm\\basic.py\", line 46, in _safe_call\n",
      "    raise LightGBMError(decode_string(_LIB.LGBM_GetLastError()))\n",
      "lightgbm.basic.LightGBMError: Check failed: num_data > 0 at D:\\a\\1\\s\\python-package\\compile\\src\\io\\dataset.cpp, line 27 .\n",
      "\n"
     ]
    },
    {
     "name": "stdout",
     "output_type": "stream",
     "text": [
      "CV average RMSE: 2.8638\n"
     ]
    },
    {
     "name": "stderr",
     "output_type": "stream",
     "text": [
      "[I 2019-03-13 04:50:40,090] Finished a trial resulted in value: 2.8637972473829523. Current best value is 2.818233866661339 with parameters: {'num_leaves': 7, 'learning_rate': 0.08554584172791803, 'feature_fraction': 0.7947785160697323, 'bagging_fraction': 0.1407411937507261, 'bagging_freq': 0, 'lambda_l2': 0.22220574691613132}.\n"
     ]
    },
    {
     "name": "stdout",
     "output_type": "stream",
     "text": [
      "CV average RMSE: 2.82161\n"
     ]
    },
    {
     "name": "stderr",
     "output_type": "stream",
     "text": [
      "[I 2019-03-13 04:50:40,431] Finished a trial resulted in value: 2.821608595876185. Current best value is 2.818233866661339 with parameters: {'num_leaves': 7, 'learning_rate': 0.08554584172791803, 'feature_fraction': 0.7947785160697323, 'bagging_fraction': 0.1407411937507261, 'bagging_freq': 0, 'lambda_l2': 0.22220574691613132}.\n"
     ]
    },
    {
     "name": "stdout",
     "output_type": "stream",
     "text": [
      "CV average RMSE: 3.75971\n"
     ]
    },
    {
     "name": "stderr",
     "output_type": "stream",
     "text": [
      "[I 2019-03-13 04:50:40,805] Finished a trial resulted in value: 3.759714828788995. Current best value is 2.818233866661339 with parameters: {'num_leaves': 7, 'learning_rate': 0.08554584172791803, 'feature_fraction': 0.7947785160697323, 'bagging_fraction': 0.1407411937507261, 'bagging_freq': 0, 'lambda_l2': 0.22220574691613132}.\n"
     ]
    },
    {
     "name": "stdout",
     "output_type": "stream",
     "text": [
      "CV average RMSE: 2.82602\n"
     ]
    },
    {
     "name": "stderr",
     "output_type": "stream",
     "text": [
      "[I 2019-03-13 04:50:41,157] Finished a trial resulted in value: 2.82602257567413. Current best value is 2.818233866661339 with parameters: {'num_leaves': 7, 'learning_rate': 0.08554584172791803, 'feature_fraction': 0.7947785160697323, 'bagging_fraction': 0.1407411937507261, 'bagging_freq': 0, 'lambda_l2': 0.22220574691613132}.\n"
     ]
    },
    {
     "name": "stdout",
     "output_type": "stream",
     "text": [
      "CV average RMSE: 2.84187\n"
     ]
    },
    {
     "name": "stderr",
     "output_type": "stream",
     "text": [
      "[I 2019-03-13 04:50:41,538] Finished a trial resulted in value: 2.8418701883856796. Current best value is 2.818233866661339 with parameters: {'num_leaves': 7, 'learning_rate': 0.08554584172791803, 'feature_fraction': 0.7947785160697323, 'bagging_fraction': 0.1407411937507261, 'bagging_freq': 0, 'lambda_l2': 0.22220574691613132}.\n"
     ]
    },
    {
     "name": "stdout",
     "output_type": "stream",
     "text": [
      "CV average RMSE: 3.32797\n"
     ]
    },
    {
     "name": "stderr",
     "output_type": "stream",
     "text": [
      "[I 2019-03-13 04:50:41,808] Finished a trial resulted in value: 3.327971841576327. Current best value is 2.818233866661339 with parameters: {'num_leaves': 7, 'learning_rate': 0.08554584172791803, 'feature_fraction': 0.7947785160697323, 'bagging_fraction': 0.1407411937507261, 'bagging_freq': 0, 'lambda_l2': 0.22220574691613132}.\n"
     ]
    },
    {
     "name": "stdout",
     "output_type": "stream",
     "text": [
      "CV average RMSE: 7.77498\n"
     ]
    },
    {
     "name": "stderr",
     "output_type": "stream",
     "text": [
      "[I 2019-03-13 04:50:42,017] Finished a trial resulted in value: 7.774984694620786. Current best value is 2.818233866661339 with parameters: {'num_leaves': 7, 'learning_rate': 0.08554584172791803, 'feature_fraction': 0.7947785160697323, 'bagging_fraction': 0.1407411937507261, 'bagging_freq': 0, 'lambda_l2': 0.22220574691613132}.\n"
     ]
    },
    {
     "name": "stdout",
     "output_type": "stream",
     "text": [
      "CV average RMSE: 7.77498\n"
     ]
    },
    {
     "name": "stderr",
     "output_type": "stream",
     "text": [
      "[I 2019-03-13 04:50:42,200] Finished a trial resulted in value: 7.774984694620786. Current best value is 2.818233866661339 with parameters: {'num_leaves': 7, 'learning_rate': 0.08554584172791803, 'feature_fraction': 0.7947785160697323, 'bagging_fraction': 0.1407411937507261, 'bagging_freq': 0, 'lambda_l2': 0.22220574691613132}.\n"
     ]
    },
    {
     "name": "stdout",
     "output_type": "stream",
     "text": [
      "CV average RMSE: 2.82817\n"
     ]
    },
    {
     "name": "stderr",
     "output_type": "stream",
     "text": [
      "[I 2019-03-13 04:50:42,555] Finished a trial resulted in value: 2.8281724505476658. Current best value is 2.818233866661339 with parameters: {'num_leaves': 7, 'learning_rate': 0.08554584172791803, 'feature_fraction': 0.7947785160697323, 'bagging_fraction': 0.1407411937507261, 'bagging_freq': 0, 'lambda_l2': 0.22220574691613132}.\n"
     ]
    },
    {
     "name": "stdout",
     "output_type": "stream",
     "text": [
      "CV average RMSE: 7.77498\n"
     ]
    },
    {
     "name": "stderr",
     "output_type": "stream",
     "text": [
      "[I 2019-03-13 04:50:42,731] Finished a trial resulted in value: 7.774984694620786. Current best value is 2.818233866661339 with parameters: {'num_leaves': 7, 'learning_rate': 0.08554584172791803, 'feature_fraction': 0.7947785160697323, 'bagging_fraction': 0.1407411937507261, 'bagging_freq': 0, 'lambda_l2': 0.22220574691613132}.\n"
     ]
    },
    {
     "name": "stdout",
     "output_type": "stream",
     "text": [
      "CV average RMSE: 7.77498\n"
     ]
    },
    {
     "name": "stderr",
     "output_type": "stream",
     "text": [
      "[I 2019-03-13 04:50:42,907] Finished a trial resulted in value: 7.774984694620786. Current best value is 2.818233866661339 with parameters: {'num_leaves': 7, 'learning_rate': 0.08554584172791803, 'feature_fraction': 0.7947785160697323, 'bagging_fraction': 0.1407411937507261, 'bagging_freq': 0, 'lambda_l2': 0.22220574691613132}.\n"
     ]
    },
    {
     "name": "stdout",
     "output_type": "stream",
     "text": [
      "CV average RMSE: 7.77498\n"
     ]
    },
    {
     "name": "stderr",
     "output_type": "stream",
     "text": [
      "[I 2019-03-13 04:50:43,081] Finished a trial resulted in value: 7.774984694620786. Current best value is 2.818233866661339 with parameters: {'num_leaves': 7, 'learning_rate': 0.08554584172791803, 'feature_fraction': 0.7947785160697323, 'bagging_fraction': 0.1407411937507261, 'bagging_freq': 0, 'lambda_l2': 0.22220574691613132}.\n"
     ]
    },
    {
     "name": "stdout",
     "output_type": "stream",
     "text": [
      "CV average RMSE: 3.10082\n"
     ]
    },
    {
     "name": "stderr",
     "output_type": "stream",
     "text": [
      "[I 2019-03-13 04:50:43,404] Finished a trial resulted in value: 3.1008201234860993. Current best value is 2.818233866661339 with parameters: {'num_leaves': 7, 'learning_rate': 0.08554584172791803, 'feature_fraction': 0.7947785160697323, 'bagging_fraction': 0.1407411937507261, 'bagging_freq': 0, 'lambda_l2': 0.22220574691613132}.\n"
     ]
    },
    {
     "name": "stdout",
     "output_type": "stream",
     "text": [
      "CV average RMSE: 2.82678\n"
     ]
    },
    {
     "name": "stderr",
     "output_type": "stream",
     "text": [
      "[I 2019-03-13 04:50:43,772] Finished a trial resulted in value: 2.826778042047747. Current best value is 2.818233866661339 with parameters: {'num_leaves': 7, 'learning_rate': 0.08554584172791803, 'feature_fraction': 0.7947785160697323, 'bagging_fraction': 0.1407411937507261, 'bagging_freq': 0, 'lambda_l2': 0.22220574691613132}.\n"
     ]
    },
    {
     "name": "stdout",
     "output_type": "stream",
     "text": [
      "CV average RMSE: 3.83896\n"
     ]
    },
    {
     "name": "stderr",
     "output_type": "stream",
     "text": [
      "[I 2019-03-13 04:50:44,063] Finished a trial resulted in value: 3.8389611909492225. Current best value is 2.818233866661339 with parameters: {'num_leaves': 7, 'learning_rate': 0.08554584172791803, 'feature_fraction': 0.7947785160697323, 'bagging_fraction': 0.1407411937507261, 'bagging_freq': 0, 'lambda_l2': 0.22220574691613132}.\n"
     ]
    },
    {
     "name": "stdout",
     "output_type": "stream",
     "text": [
      "CV average RMSE: 2.83004\n"
     ]
    },
    {
     "name": "stderr",
     "output_type": "stream",
     "text": [
      "[I 2019-03-13 04:50:44,471] Finished a trial resulted in value: 2.8300375363027976. Current best value is 2.818233866661339 with parameters: {'num_leaves': 7, 'learning_rate': 0.08554584172791803, 'feature_fraction': 0.7947785160697323, 'bagging_fraction': 0.1407411937507261, 'bagging_freq': 0, 'lambda_l2': 0.22220574691613132}.\n"
     ]
    },
    {
     "name": "stdout",
     "output_type": "stream",
     "text": [
      "CV average RMSE: 2.87559\n"
     ]
    },
    {
     "name": "stderr",
     "output_type": "stream",
     "text": [
      "[I 2019-03-13 04:50:44,755] Finished a trial resulted in value: 2.875587683912977. Current best value is 2.818233866661339 with parameters: {'num_leaves': 7, 'learning_rate': 0.08554584172791803, 'feature_fraction': 0.7947785160697323, 'bagging_fraction': 0.1407411937507261, 'bagging_freq': 0, 'lambda_l2': 0.22220574691613132}.\n"
     ]
    },
    {
     "name": "stdout",
     "output_type": "stream",
     "text": [
      "CV average RMSE: 7.77498\n"
     ]
    },
    {
     "name": "stderr",
     "output_type": "stream",
     "text": [
      "[I 2019-03-13 04:50:44,937] Finished a trial resulted in value: 7.774984694620786. Current best value is 2.818233866661339 with parameters: {'num_leaves': 7, 'learning_rate': 0.08554584172791803, 'feature_fraction': 0.7947785160697323, 'bagging_fraction': 0.1407411937507261, 'bagging_freq': 0, 'lambda_l2': 0.22220574691613132}.\n"
     ]
    },
    {
     "name": "stdout",
     "output_type": "stream",
     "text": [
      "CV average RMSE: 3.68834\n"
     ]
    },
    {
     "name": "stderr",
     "output_type": "stream",
     "text": [
      "[I 2019-03-13 04:50:45,290] Finished a trial resulted in value: 3.6883419533567063. Current best value is 2.818233866661339 with parameters: {'num_leaves': 7, 'learning_rate': 0.08554584172791803, 'feature_fraction': 0.7947785160697323, 'bagging_fraction': 0.1407411937507261, 'bagging_freq': 0, 'lambda_l2': 0.22220574691613132}.\n"
     ]
    },
    {
     "name": "stdout",
     "output_type": "stream",
     "text": [
      "CV average RMSE: 2.82264\n"
     ]
    },
    {
     "name": "stderr",
     "output_type": "stream",
     "text": [
      "[I 2019-03-13 04:50:45,654] Finished a trial resulted in value: 2.8226404643085594. Current best value is 2.818233866661339 with parameters: {'num_leaves': 7, 'learning_rate': 0.08554584172791803, 'feature_fraction': 0.7947785160697323, 'bagging_fraction': 0.1407411937507261, 'bagging_freq': 0, 'lambda_l2': 0.22220574691613132}.\n"
     ]
    },
    {
     "name": "stdout",
     "output_type": "stream",
     "text": [
      "CV average RMSE: 7.77498\n"
     ]
    },
    {
     "name": "stderr",
     "output_type": "stream",
     "text": [
      "[I 2019-03-13 04:50:45,831] Finished a trial resulted in value: 7.774984694620786. Current best value is 2.818233866661339 with parameters: {'num_leaves': 7, 'learning_rate': 0.08554584172791803, 'feature_fraction': 0.7947785160697323, 'bagging_fraction': 0.1407411937507261, 'bagging_freq': 0, 'lambda_l2': 0.22220574691613132}.\n"
     ]
    },
    {
     "name": "stdout",
     "output_type": "stream",
     "text": [
      "CV average RMSE: 2.87505\n"
     ]
    },
    {
     "name": "stderr",
     "output_type": "stream",
     "text": [
      "[I 2019-03-13 04:50:46,139] Finished a trial resulted in value: 2.8750533296892393. Current best value is 2.818233866661339 with parameters: {'num_leaves': 7, 'learning_rate': 0.08554584172791803, 'feature_fraction': 0.7947785160697323, 'bagging_fraction': 0.1407411937507261, 'bagging_freq': 0, 'lambda_l2': 0.22220574691613132}.\n"
     ]
    },
    {
     "name": "stdout",
     "output_type": "stream",
     "text": [
      "CV average RMSE: 3.06176\n"
     ]
    },
    {
     "name": "stderr",
     "output_type": "stream",
     "text": [
      "[I 2019-03-13 04:50:46,472] Finished a trial resulted in value: 3.061759326524913. Current best value is 2.818233866661339 with parameters: {'num_leaves': 7, 'learning_rate': 0.08554584172791803, 'feature_fraction': 0.7947785160697323, 'bagging_fraction': 0.1407411937507261, 'bagging_freq': 0, 'lambda_l2': 0.22220574691613132}.\n"
     ]
    },
    {
     "name": "stdout",
     "output_type": "stream",
     "text": [
      "CV average RMSE: 2.89584\n"
     ]
    },
    {
     "name": "stderr",
     "output_type": "stream",
     "text": [
      "[I 2019-03-13 04:50:46,814] Finished a trial resulted in value: 2.8958393329363856. Current best value is 2.818233866661339 with parameters: {'num_leaves': 7, 'learning_rate': 0.08554584172791803, 'feature_fraction': 0.7947785160697323, 'bagging_fraction': 0.1407411937507261, 'bagging_freq': 0, 'lambda_l2': 0.22220574691613132}.\n"
     ]
    },
    {
     "name": "stdout",
     "output_type": "stream",
     "text": [
      "CV average RMSE: 2.82158\n"
     ]
    },
    {
     "name": "stderr",
     "output_type": "stream",
     "text": [
      "[I 2019-03-13 04:50:47,150] Finished a trial resulted in value: 2.821579922778732. Current best value is 2.818233866661339 with parameters: {'num_leaves': 7, 'learning_rate': 0.08554584172791803, 'feature_fraction': 0.7947785160697323, 'bagging_fraction': 0.1407411937507261, 'bagging_freq': 0, 'lambda_l2': 0.22220574691613132}.\n"
     ]
    },
    {
     "name": "stdout",
     "output_type": "stream",
     "text": [
      "CV average RMSE: 2.81927\n"
     ]
    },
    {
     "name": "stderr",
     "output_type": "stream",
     "text": [
      "[I 2019-03-13 04:50:47,539] Finished a trial resulted in value: 2.8192693615147206. Current best value is 2.818233866661339 with parameters: {'num_leaves': 7, 'learning_rate': 0.08554584172791803, 'feature_fraction': 0.7947785160697323, 'bagging_fraction': 0.1407411937507261, 'bagging_freq': 0, 'lambda_l2': 0.22220574691613132}.\n"
     ]
    },
    {
     "name": "stdout",
     "output_type": "stream",
     "text": [
      "CV average RMSE: 7.77498\n"
     ]
    },
    {
     "name": "stderr",
     "output_type": "stream",
     "text": [
      "[I 2019-03-13 04:50:47,725] Finished a trial resulted in value: 7.774984694620786. Current best value is 2.818233866661339 with parameters: {'num_leaves': 7, 'learning_rate': 0.08554584172791803, 'feature_fraction': 0.7947785160697323, 'bagging_fraction': 0.1407411937507261, 'bagging_freq': 0, 'lambda_l2': 0.22220574691613132}.\n"
     ]
    },
    {
     "name": "stdout",
     "output_type": "stream",
     "text": [
      "CV average RMSE: 7.77498\n"
     ]
    },
    {
     "name": "stderr",
     "output_type": "stream",
     "text": [
      "[I 2019-03-13 04:50:47,911] Finished a trial resulted in value: 7.774984694620786. Current best value is 2.818233866661339 with parameters: {'num_leaves': 7, 'learning_rate': 0.08554584172791803, 'feature_fraction': 0.7947785160697323, 'bagging_fraction': 0.1407411937507261, 'bagging_freq': 0, 'lambda_l2': 0.22220574691613132}.\n"
     ]
    },
    {
     "name": "stdout",
     "output_type": "stream",
     "text": [
      "CV average RMSE: 7.77498\n"
     ]
    },
    {
     "name": "stderr",
     "output_type": "stream",
     "text": [
      "[I 2019-03-13 04:50:48,096] Finished a trial resulted in value: 7.774984694620786. Current best value is 2.818233866661339 with parameters: {'num_leaves': 7, 'learning_rate': 0.08554584172791803, 'feature_fraction': 0.7947785160697323, 'bagging_fraction': 0.1407411937507261, 'bagging_freq': 0, 'lambda_l2': 0.22220574691613132}.\n"
     ]
    },
    {
     "name": "stdout",
     "output_type": "stream",
     "text": [
      "CV average RMSE: 7.77498\n"
     ]
    },
    {
     "name": "stderr",
     "output_type": "stream",
     "text": [
      "[I 2019-03-13 04:50:48,275] Finished a trial resulted in value: 7.774984694620786. Current best value is 2.818233866661339 with parameters: {'num_leaves': 7, 'learning_rate': 0.08554584172791803, 'feature_fraction': 0.7947785160697323, 'bagging_fraction': 0.1407411937507261, 'bagging_freq': 0, 'lambda_l2': 0.22220574691613132}.\n"
     ]
    },
    {
     "name": "stdout",
     "output_type": "stream",
     "text": [
      "CV average RMSE: 2.84452\n"
     ]
    },
    {
     "name": "stderr",
     "output_type": "stream",
     "text": [
      "[I 2019-03-13 04:50:48,620] Finished a trial resulted in value: 2.844522276598747. Current best value is 2.818233866661339 with parameters: {'num_leaves': 7, 'learning_rate': 0.08554584172791803, 'feature_fraction': 0.7947785160697323, 'bagging_fraction': 0.1407411937507261, 'bagging_freq': 0, 'lambda_l2': 0.22220574691613132}.\n",
      "[W 2019-03-13 04:50:48,723] Setting trial status as TrialState.FAIL because of the following error: LightGBMError('Check failed: num_data > 0 at D:\\\\a\\\\1\\\\s\\\\python-package\\\\compile\\\\src\\\\io\\\\dataset.cpp, line 27 .\\n',)\n",
      "Traceback (most recent call last):\n",
      "  File \"C:\\Users\\reo\\Anaconda3\\envs\\Kaggle\\lib\\site-packages\\optuna\\study.py\", line 407, in _run_trial\n",
      "    result = func(trial)\n",
      "  File \"<ipython-input-11-97621003bcc8>\", line 52, in objective\n",
      "    model = create_model(params, train_data_set, test_data_set)\n",
      "  File \"<ipython-input-11-97621003bcc8>\", line 14, in create_model\n",
      "    verbose_eval=False\n",
      "  File \"C:\\Users\\reo\\Anaconda3\\envs\\Kaggle\\lib\\site-packages\\lightgbm\\engine.py\", line 197, in train\n",
      "    booster = Booster(params=params, train_set=train_set)\n",
      "  File \"C:\\Users\\reo\\Anaconda3\\envs\\Kaggle\\lib\\site-packages\\lightgbm\\basic.py\", line 1554, in __init__\n",
      "    ctypes.byref(self.handle)))\n",
      "  File \"C:\\Users\\reo\\Anaconda3\\envs\\Kaggle\\lib\\site-packages\\lightgbm\\basic.py\", line 46, in _safe_call\n",
      "    raise LightGBMError(decode_string(_LIB.LGBM_GetLastError()))\n",
      "lightgbm.basic.LightGBMError: Check failed: num_data > 0 at D:\\a\\1\\s\\python-package\\compile\\src\\io\\dataset.cpp, line 27 .\n",
      "\n"
     ]
    },
    {
     "name": "stdout",
     "output_type": "stream",
     "text": [
      "CV average RMSE: 7.77498\n"
     ]
    },
    {
     "name": "stderr",
     "output_type": "stream",
     "text": [
      "[I 2019-03-13 04:50:48,927] Finished a trial resulted in value: 7.774984694620786. Current best value is 2.818233866661339 with parameters: {'num_leaves': 7, 'learning_rate': 0.08554584172791803, 'feature_fraction': 0.7947785160697323, 'bagging_fraction': 0.1407411937507261, 'bagging_freq': 0, 'lambda_l2': 0.22220574691613132}.\n",
      "[W 2019-03-13 04:50:49,035] Setting trial status as TrialState.FAIL because of the following error: LightGBMError('Check failed: num_data > 0 at D:\\\\a\\\\1\\\\s\\\\python-package\\\\compile\\\\src\\\\io\\\\dataset.cpp, line 27 .\\n',)\n",
      "Traceback (most recent call last):\n",
      "  File \"C:\\Users\\reo\\Anaconda3\\envs\\Kaggle\\lib\\site-packages\\optuna\\study.py\", line 407, in _run_trial\n",
      "    result = func(trial)\n",
      "  File \"<ipython-input-11-97621003bcc8>\", line 52, in objective\n",
      "    model = create_model(params, train_data_set, test_data_set)\n",
      "  File \"<ipython-input-11-97621003bcc8>\", line 14, in create_model\n",
      "    verbose_eval=False\n",
      "  File \"C:\\Users\\reo\\Anaconda3\\envs\\Kaggle\\lib\\site-packages\\lightgbm\\engine.py\", line 197, in train\n",
      "    booster = Booster(params=params, train_set=train_set)\n",
      "  File \"C:\\Users\\reo\\Anaconda3\\envs\\Kaggle\\lib\\site-packages\\lightgbm\\basic.py\", line 1554, in __init__\n",
      "    ctypes.byref(self.handle)))\n",
      "  File \"C:\\Users\\reo\\Anaconda3\\envs\\Kaggle\\lib\\site-packages\\lightgbm\\basic.py\", line 46, in _safe_call\n",
      "    raise LightGBMError(decode_string(_LIB.LGBM_GetLastError()))\n",
      "lightgbm.basic.LightGBMError: Check failed: num_data > 0 at D:\\a\\1\\s\\python-package\\compile\\src\\io\\dataset.cpp, line 27 .\n",
      "\n",
      "[W 2019-03-13 04:50:49,160] Setting trial status as TrialState.FAIL because of the following error: LightGBMError('Check failed: num_data > 0 at D:\\\\a\\\\1\\\\s\\\\python-package\\\\compile\\\\src\\\\io\\\\dataset.cpp, line 27 .\\n',)\n",
      "Traceback (most recent call last):\n",
      "  File \"C:\\Users\\reo\\Anaconda3\\envs\\Kaggle\\lib\\site-packages\\optuna\\study.py\", line 407, in _run_trial\n",
      "    result = func(trial)\n",
      "  File \"<ipython-input-11-97621003bcc8>\", line 52, in objective\n",
      "    model = create_model(params, train_data_set, test_data_set)\n",
      "  File \"<ipython-input-11-97621003bcc8>\", line 14, in create_model\n",
      "    verbose_eval=False\n",
      "  File \"C:\\Users\\reo\\Anaconda3\\envs\\Kaggle\\lib\\site-packages\\lightgbm\\engine.py\", line 197, in train\n",
      "    booster = Booster(params=params, train_set=train_set)\n",
      "  File \"C:\\Users\\reo\\Anaconda3\\envs\\Kaggle\\lib\\site-packages\\lightgbm\\basic.py\", line 1554, in __init__\n",
      "    ctypes.byref(self.handle)))\n",
      "  File \"C:\\Users\\reo\\Anaconda3\\envs\\Kaggle\\lib\\site-packages\\lightgbm\\basic.py\", line 46, in _safe_call\n",
      "    raise LightGBMError(decode_string(_LIB.LGBM_GetLastError()))\n",
      "lightgbm.basic.LightGBMError: Check failed: num_data > 0 at D:\\a\\1\\s\\python-package\\compile\\src\\io\\dataset.cpp, line 27 .\n",
      "\n"
     ]
    },
    {
     "name": "stdout",
     "output_type": "stream",
     "text": [
      "CV average RMSE: 7.77498\n"
     ]
    },
    {
     "name": "stderr",
     "output_type": "stream",
     "text": [
      "[I 2019-03-13 04:50:49,368] Finished a trial resulted in value: 7.774984694620786. Current best value is 2.818233866661339 with parameters: {'num_leaves': 7, 'learning_rate': 0.08554584172791803, 'feature_fraction': 0.7947785160697323, 'bagging_fraction': 0.1407411937507261, 'bagging_freq': 0, 'lambda_l2': 0.22220574691613132}.\n"
     ]
    },
    {
     "name": "stdout",
     "output_type": "stream",
     "text": [
      "CV average RMSE: 2.83233\n"
     ]
    },
    {
     "name": "stderr",
     "output_type": "stream",
     "text": [
      "[I 2019-03-13 04:50:49,728] Finished a trial resulted in value: 2.8323251047436644. Current best value is 2.818233866661339 with parameters: {'num_leaves': 7, 'learning_rate': 0.08554584172791803, 'feature_fraction': 0.7947785160697323, 'bagging_fraction': 0.1407411937507261, 'bagging_freq': 0, 'lambda_l2': 0.22220574691613132}.\n"
     ]
    },
    {
     "name": "stdout",
     "output_type": "stream",
     "text": [
      "CV average RMSE: 2.82525\n"
     ]
    },
    {
     "name": "stderr",
     "output_type": "stream",
     "text": [
      "[I 2019-03-13 04:50:50,111] Finished a trial resulted in value: 2.8252475128550865. Current best value is 2.818233866661339 with parameters: {'num_leaves': 7, 'learning_rate': 0.08554584172791803, 'feature_fraction': 0.7947785160697323, 'bagging_fraction': 0.1407411937507261, 'bagging_freq': 0, 'lambda_l2': 0.22220574691613132}.\n"
     ]
    },
    {
     "name": "stdout",
     "output_type": "stream",
     "text": [
      "CV average RMSE: 7.77498\n"
     ]
    },
    {
     "name": "stderr",
     "output_type": "stream",
     "text": [
      "[I 2019-03-13 04:50:50,293] Finished a trial resulted in value: 7.774984694620786. Current best value is 2.818233866661339 with parameters: {'num_leaves': 7, 'learning_rate': 0.08554584172791803, 'feature_fraction': 0.7947785160697323, 'bagging_fraction': 0.1407411937507261, 'bagging_freq': 0, 'lambda_l2': 0.22220574691613132}.\n"
     ]
    },
    {
     "name": "stdout",
     "output_type": "stream",
     "text": [
      "CV average RMSE: 7.77498\n"
     ]
    },
    {
     "name": "stderr",
     "output_type": "stream",
     "text": [
      "[I 2019-03-13 04:50:50,482] Finished a trial resulted in value: 7.774984694620786. Current best value is 2.818233866661339 with parameters: {'num_leaves': 7, 'learning_rate': 0.08554584172791803, 'feature_fraction': 0.7947785160697323, 'bagging_fraction': 0.1407411937507261, 'bagging_freq': 0, 'lambda_l2': 0.22220574691613132}.\n"
     ]
    },
    {
     "name": "stdout",
     "output_type": "stream",
     "text": [
      "CV average RMSE: 2.82163\n"
     ]
    },
    {
     "name": "stderr",
     "output_type": "stream",
     "text": [
      "[I 2019-03-13 04:50:50,854] Finished a trial resulted in value: 2.821633885872774. Current best value is 2.818233866661339 with parameters: {'num_leaves': 7, 'learning_rate': 0.08554584172791803, 'feature_fraction': 0.7947785160697323, 'bagging_fraction': 0.1407411937507261, 'bagging_freq': 0, 'lambda_l2': 0.22220574691613132}.\n",
      "[W 2019-03-13 04:50:50,960] Setting trial status as TrialState.FAIL because of the following error: LightGBMError('Check failed: num_data > 0 at D:\\\\a\\\\1\\\\s\\\\python-package\\\\compile\\\\src\\\\io\\\\dataset.cpp, line 27 .\\n',)\n",
      "Traceback (most recent call last):\n",
      "  File \"C:\\Users\\reo\\Anaconda3\\envs\\Kaggle\\lib\\site-packages\\optuna\\study.py\", line 407, in _run_trial\n",
      "    result = func(trial)\n",
      "  File \"<ipython-input-11-97621003bcc8>\", line 52, in objective\n",
      "    model = create_model(params, train_data_set, test_data_set)\n",
      "  File \"<ipython-input-11-97621003bcc8>\", line 14, in create_model\n",
      "    verbose_eval=False\n",
      "  File \"C:\\Users\\reo\\Anaconda3\\envs\\Kaggle\\lib\\site-packages\\lightgbm\\engine.py\", line 197, in train\n",
      "    booster = Booster(params=params, train_set=train_set)\n",
      "  File \"C:\\Users\\reo\\Anaconda3\\envs\\Kaggle\\lib\\site-packages\\lightgbm\\basic.py\", line 1554, in __init__\n",
      "    ctypes.byref(self.handle)))\n",
      "  File \"C:\\Users\\reo\\Anaconda3\\envs\\Kaggle\\lib\\site-packages\\lightgbm\\basic.py\", line 46, in _safe_call\n",
      "    raise LightGBMError(decode_string(_LIB.LGBM_GetLastError()))\n",
      "lightgbm.basic.LightGBMError: Check failed: num_data > 0 at D:\\a\\1\\s\\python-package\\compile\\src\\io\\dataset.cpp, line 27 .\n",
      "\n",
      "[W 2019-03-13 04:50:51,093] Setting trial status as TrialState.FAIL because of the following error: LightGBMError('Check failed: num_data > 0 at D:\\\\a\\\\1\\\\s\\\\python-package\\\\compile\\\\src\\\\io\\\\dataset.cpp, line 27 .\\n',)\n",
      "Traceback (most recent call last):\n",
      "  File \"C:\\Users\\reo\\Anaconda3\\envs\\Kaggle\\lib\\site-packages\\optuna\\study.py\", line 407, in _run_trial\n",
      "    result = func(trial)\n",
      "  File \"<ipython-input-11-97621003bcc8>\", line 52, in objective\n",
      "    model = create_model(params, train_data_set, test_data_set)\n",
      "  File \"<ipython-input-11-97621003bcc8>\", line 14, in create_model\n",
      "    verbose_eval=False\n",
      "  File \"C:\\Users\\reo\\Anaconda3\\envs\\Kaggle\\lib\\site-packages\\lightgbm\\engine.py\", line 197, in train\n",
      "    booster = Booster(params=params, train_set=train_set)\n",
      "  File \"C:\\Users\\reo\\Anaconda3\\envs\\Kaggle\\lib\\site-packages\\lightgbm\\basic.py\", line 1554, in __init__\n",
      "    ctypes.byref(self.handle)))\n",
      "  File \"C:\\Users\\reo\\Anaconda3\\envs\\Kaggle\\lib\\site-packages\\lightgbm\\basic.py\", line 46, in _safe_call\n",
      "    raise LightGBMError(decode_string(_LIB.LGBM_GetLastError()))\n",
      "lightgbm.basic.LightGBMError: Check failed: num_data > 0 at D:\\a\\1\\s\\python-package\\compile\\src\\io\\dataset.cpp, line 27 .\n",
      "\n"
     ]
    },
    {
     "name": "stdout",
     "output_type": "stream",
     "text": [
      "CV average RMSE: 7.77498\n"
     ]
    },
    {
     "name": "stderr",
     "output_type": "stream",
     "text": [
      "[I 2019-03-13 04:50:51,301] Finished a trial resulted in value: 7.774984694620786. Current best value is 2.818233866661339 with parameters: {'num_leaves': 7, 'learning_rate': 0.08554584172791803, 'feature_fraction': 0.7947785160697323, 'bagging_fraction': 0.1407411937507261, 'bagging_freq': 0, 'lambda_l2': 0.22220574691613132}.\n"
     ]
    },
    {
     "name": "stdout",
     "output_type": "stream",
     "text": [
      "CV average RMSE: 7.77498\n"
     ]
    },
    {
     "name": "stderr",
     "output_type": "stream",
     "text": [
      "[I 2019-03-13 04:50:51,485] Finished a trial resulted in value: 7.774984694620786. Current best value is 2.818233866661339 with parameters: {'num_leaves': 7, 'learning_rate': 0.08554584172791803, 'feature_fraction': 0.7947785160697323, 'bagging_fraction': 0.1407411937507261, 'bagging_freq': 0, 'lambda_l2': 0.22220574691613132}.\n"
     ]
    },
    {
     "name": "stdout",
     "output_type": "stream",
     "text": [
      "CV average RMSE: 7.77498\n"
     ]
    },
    {
     "name": "stderr",
     "output_type": "stream",
     "text": [
      "[I 2019-03-13 04:50:51,675] Finished a trial resulted in value: 7.774984694620786. Current best value is 2.818233866661339 with parameters: {'num_leaves': 7, 'learning_rate': 0.08554584172791803, 'feature_fraction': 0.7947785160697323, 'bagging_fraction': 0.1407411937507261, 'bagging_freq': 0, 'lambda_l2': 0.22220574691613132}.\n"
     ]
    },
    {
     "name": "stdout",
     "output_type": "stream",
     "text": [
      "CV average RMSE: 3.1809\n"
     ]
    },
    {
     "name": "stderr",
     "output_type": "stream",
     "text": [
      "[I 2019-03-13 04:50:51,987] Finished a trial resulted in value: 3.1808961056413745. Current best value is 2.818233866661339 with parameters: {'num_leaves': 7, 'learning_rate': 0.08554584172791803, 'feature_fraction': 0.7947785160697323, 'bagging_fraction': 0.1407411937507261, 'bagging_freq': 0, 'lambda_l2': 0.22220574691613132}.\n"
     ]
    },
    {
     "name": "stdout",
     "output_type": "stream",
     "text": [
      "CV average RMSE: 2.83567\n"
     ]
    },
    {
     "name": "stderr",
     "output_type": "stream",
     "text": [
      "[I 2019-03-13 04:50:52,439] Finished a trial resulted in value: 2.8356686706030145. Current best value is 2.818233866661339 with parameters: {'num_leaves': 7, 'learning_rate': 0.08554584172791803, 'feature_fraction': 0.7947785160697323, 'bagging_fraction': 0.1407411937507261, 'bagging_freq': 0, 'lambda_l2': 0.22220574691613132}.\n",
      "[W 2019-03-13 04:50:52,541] Setting trial status as TrialState.FAIL because of the following error: LightGBMError('Check failed: num_data > 0 at D:\\\\a\\\\1\\\\s\\\\python-package\\\\compile\\\\src\\\\io\\\\dataset.cpp, line 27 .\\n',)\n",
      "Traceback (most recent call last):\n",
      "  File \"C:\\Users\\reo\\Anaconda3\\envs\\Kaggle\\lib\\site-packages\\optuna\\study.py\", line 407, in _run_trial\n",
      "    result = func(trial)\n",
      "  File \"<ipython-input-11-97621003bcc8>\", line 52, in objective\n",
      "    model = create_model(params, train_data_set, test_data_set)\n",
      "  File \"<ipython-input-11-97621003bcc8>\", line 14, in create_model\n",
      "    verbose_eval=False\n",
      "  File \"C:\\Users\\reo\\Anaconda3\\envs\\Kaggle\\lib\\site-packages\\lightgbm\\engine.py\", line 197, in train\n",
      "    booster = Booster(params=params, train_set=train_set)\n",
      "  File \"C:\\Users\\reo\\Anaconda3\\envs\\Kaggle\\lib\\site-packages\\lightgbm\\basic.py\", line 1554, in __init__\n",
      "    ctypes.byref(self.handle)))\n",
      "  File \"C:\\Users\\reo\\Anaconda3\\envs\\Kaggle\\lib\\site-packages\\lightgbm\\basic.py\", line 46, in _safe_call\n",
      "    raise LightGBMError(decode_string(_LIB.LGBM_GetLastError()))\n",
      "lightgbm.basic.LightGBMError: Check failed: num_data > 0 at D:\\a\\1\\s\\python-package\\compile\\src\\io\\dataset.cpp, line 27 .\n",
      "\n"
     ]
    },
    {
     "name": "stdout",
     "output_type": "stream",
     "text": [
      "CV average RMSE: 7.77498\n"
     ]
    },
    {
     "name": "stderr",
     "output_type": "stream",
     "text": [
      "[I 2019-03-13 04:50:52,752] Finished a trial resulted in value: 7.774984694620786. Current best value is 2.818233866661339 with parameters: {'num_leaves': 7, 'learning_rate': 0.08554584172791803, 'feature_fraction': 0.7947785160697323, 'bagging_fraction': 0.1407411937507261, 'bagging_freq': 0, 'lambda_l2': 0.22220574691613132}.\n"
     ]
    },
    {
     "name": "stdout",
     "output_type": "stream",
     "text": [
      "CV average RMSE: 2.8261\n"
     ]
    },
    {
     "name": "stderr",
     "output_type": "stream",
     "text": [
      "[I 2019-03-13 04:50:53,119] Finished a trial resulted in value: 2.82610100068591. Current best value is 2.818233866661339 with parameters: {'num_leaves': 7, 'learning_rate': 0.08554584172791803, 'feature_fraction': 0.7947785160697323, 'bagging_fraction': 0.1407411937507261, 'bagging_freq': 0, 'lambda_l2': 0.22220574691613132}.\n",
      "[W 2019-03-13 04:50:53,227] Setting trial status as TrialState.FAIL because of the following error: LightGBMError('Check failed: num_data > 0 at D:\\\\a\\\\1\\\\s\\\\python-package\\\\compile\\\\src\\\\io\\\\dataset.cpp, line 27 .\\n',)\n",
      "Traceback (most recent call last):\n",
      "  File \"C:\\Users\\reo\\Anaconda3\\envs\\Kaggle\\lib\\site-packages\\optuna\\study.py\", line 407, in _run_trial\n",
      "    result = func(trial)\n",
      "  File \"<ipython-input-11-97621003bcc8>\", line 52, in objective\n",
      "    model = create_model(params, train_data_set, test_data_set)\n",
      "  File \"<ipython-input-11-97621003bcc8>\", line 14, in create_model\n",
      "    verbose_eval=False\n",
      "  File \"C:\\Users\\reo\\Anaconda3\\envs\\Kaggle\\lib\\site-packages\\lightgbm\\engine.py\", line 197, in train\n",
      "    booster = Booster(params=params, train_set=train_set)\n",
      "  File \"C:\\Users\\reo\\Anaconda3\\envs\\Kaggle\\lib\\site-packages\\lightgbm\\basic.py\", line 1554, in __init__\n",
      "    ctypes.byref(self.handle)))\n",
      "  File \"C:\\Users\\reo\\Anaconda3\\envs\\Kaggle\\lib\\site-packages\\lightgbm\\basic.py\", line 46, in _safe_call\n",
      "    raise LightGBMError(decode_string(_LIB.LGBM_GetLastError()))\n",
      "lightgbm.basic.LightGBMError: Check failed: num_data > 0 at D:\\a\\1\\s\\python-package\\compile\\src\\io\\dataset.cpp, line 27 .\n",
      "\n"
     ]
    },
    {
     "name": "stdout",
     "output_type": "stream",
     "text": [
      "CV average RMSE: 7.77498\n"
     ]
    },
    {
     "name": "stderr",
     "output_type": "stream",
     "text": [
      "[I 2019-03-13 04:50:53,440] Finished a trial resulted in value: 7.774984694620786. Current best value is 2.818233866661339 with parameters: {'num_leaves': 7, 'learning_rate': 0.08554584172791803, 'feature_fraction': 0.7947785160697323, 'bagging_fraction': 0.1407411937507261, 'bagging_freq': 0, 'lambda_l2': 0.22220574691613132}.\n"
     ]
    },
    {
     "name": "stdout",
     "output_type": "stream",
     "text": [
      "CV average RMSE: 2.82383\n"
     ]
    },
    {
     "name": "stderr",
     "output_type": "stream",
     "text": [
      "[I 2019-03-13 04:50:53,805] Finished a trial resulted in value: 2.8238286249676183. Current best value is 2.818233866661339 with parameters: {'num_leaves': 7, 'learning_rate': 0.08554584172791803, 'feature_fraction': 0.7947785160697323, 'bagging_fraction': 0.1407411937507261, 'bagging_freq': 0, 'lambda_l2': 0.22220574691613132}.\n"
     ]
    },
    {
     "name": "stdout",
     "output_type": "stream",
     "text": [
      "CV average RMSE: 2.98504\n"
     ]
    },
    {
     "name": "stderr",
     "output_type": "stream",
     "text": [
      "[I 2019-03-13 04:50:54,131] Finished a trial resulted in value: 2.985036651173531. Current best value is 2.818233866661339 with parameters: {'num_leaves': 7, 'learning_rate': 0.08554584172791803, 'feature_fraction': 0.7947785160697323, 'bagging_fraction': 0.1407411937507261, 'bagging_freq': 0, 'lambda_l2': 0.22220574691613132}.\n"
     ]
    },
    {
     "name": "stdout",
     "output_type": "stream",
     "text": [
      "CV average RMSE: 7.77498\n"
     ]
    },
    {
     "name": "stderr",
     "output_type": "stream",
     "text": [
      "[I 2019-03-13 04:50:54,362] Finished a trial resulted in value: 7.774984694620786. Current best value is 2.818233866661339 with parameters: {'num_leaves': 7, 'learning_rate': 0.08554584172791803, 'feature_fraction': 0.7947785160697323, 'bagging_fraction': 0.1407411937507261, 'bagging_freq': 0, 'lambda_l2': 0.22220574691613132}.\n",
      "[W 2019-03-13 04:50:54,470] Setting trial status as TrialState.FAIL because of the following error: LightGBMError('Check failed: num_data > 0 at D:\\\\a\\\\1\\\\s\\\\python-package\\\\compile\\\\src\\\\io\\\\dataset.cpp, line 27 .\\n',)\n",
      "Traceback (most recent call last):\n",
      "  File \"C:\\Users\\reo\\Anaconda3\\envs\\Kaggle\\lib\\site-packages\\optuna\\study.py\", line 407, in _run_trial\n",
      "    result = func(trial)\n",
      "  File \"<ipython-input-11-97621003bcc8>\", line 52, in objective\n",
      "    model = create_model(params, train_data_set, test_data_set)\n",
      "  File \"<ipython-input-11-97621003bcc8>\", line 14, in create_model\n",
      "    verbose_eval=False\n",
      "  File \"C:\\Users\\reo\\Anaconda3\\envs\\Kaggle\\lib\\site-packages\\lightgbm\\engine.py\", line 197, in train\n",
      "    booster = Booster(params=params, train_set=train_set)\n",
      "  File \"C:\\Users\\reo\\Anaconda3\\envs\\Kaggle\\lib\\site-packages\\lightgbm\\basic.py\", line 1554, in __init__\n",
      "    ctypes.byref(self.handle)))\n",
      "  File \"C:\\Users\\reo\\Anaconda3\\envs\\Kaggle\\lib\\site-packages\\lightgbm\\basic.py\", line 46, in _safe_call\n",
      "    raise LightGBMError(decode_string(_LIB.LGBM_GetLastError()))\n",
      "lightgbm.basic.LightGBMError: Check failed: num_data > 0 at D:\\a\\1\\s\\python-package\\compile\\src\\io\\dataset.cpp, line 27 .\n",
      "\n"
     ]
    },
    {
     "name": "stdout",
     "output_type": "stream",
     "text": [
      "CV average RMSE: 3.86611\n"
     ]
    },
    {
     "name": "stderr",
     "output_type": "stream",
     "text": [
      "[I 2019-03-13 04:50:54,785] Finished a trial resulted in value: 3.8661053135041703. Current best value is 2.818233866661339 with parameters: {'num_leaves': 7, 'learning_rate': 0.08554584172791803, 'feature_fraction': 0.7947785160697323, 'bagging_fraction': 0.1407411937507261, 'bagging_freq': 0, 'lambda_l2': 0.22220574691613132}.\n"
     ]
    },
    {
     "name": "stdout",
     "output_type": "stream",
     "text": [
      "CV average RMSE: 7.77498\n"
     ]
    },
    {
     "name": "stderr",
     "output_type": "stream",
     "text": [
      "[I 2019-03-13 04:50:54,973] Finished a trial resulted in value: 7.774984694620786. Current best value is 2.818233866661339 with parameters: {'num_leaves': 7, 'learning_rate': 0.08554584172791803, 'feature_fraction': 0.7947785160697323, 'bagging_fraction': 0.1407411937507261, 'bagging_freq': 0, 'lambda_l2': 0.22220574691613132}.\n"
     ]
    },
    {
     "name": "stdout",
     "output_type": "stream",
     "text": [
      "CV average RMSE: 7.77498\n"
     ]
    },
    {
     "name": "stderr",
     "output_type": "stream",
     "text": [
      "[I 2019-03-13 04:50:55,168] Finished a trial resulted in value: 7.774984694620786. Current best value is 2.818233866661339 with parameters: {'num_leaves': 7, 'learning_rate': 0.08554584172791803, 'feature_fraction': 0.7947785160697323, 'bagging_fraction': 0.1407411937507261, 'bagging_freq': 0, 'lambda_l2': 0.22220574691613132}.\n"
     ]
    },
    {
     "name": "stdout",
     "output_type": "stream",
     "text": [
      "CV average RMSE: 3.6797\n"
     ]
    },
    {
     "name": "stderr",
     "output_type": "stream",
     "text": [
      "[I 2019-03-13 04:50:55,512] Finished a trial resulted in value: 3.679698839379943. Current best value is 2.818233866661339 with parameters: {'num_leaves': 7, 'learning_rate': 0.08554584172791803, 'feature_fraction': 0.7947785160697323, 'bagging_fraction': 0.1407411937507261, 'bagging_freq': 0, 'lambda_l2': 0.22220574691613132}.\n"
     ]
    },
    {
     "name": "stdout",
     "output_type": "stream",
     "text": [
      "CV average RMSE: 2.82965\n"
     ]
    },
    {
     "name": "stderr",
     "output_type": "stream",
     "text": [
      "[I 2019-03-13 04:50:55,890] Finished a trial resulted in value: 2.829652604505317. Current best value is 2.818233866661339 with parameters: {'num_leaves': 7, 'learning_rate': 0.08554584172791803, 'feature_fraction': 0.7947785160697323, 'bagging_fraction': 0.1407411937507261, 'bagging_freq': 0, 'lambda_l2': 0.22220574691613132}.\n"
     ]
    },
    {
     "name": "stdout",
     "output_type": "stream",
     "text": [
      "CV average RMSE: 2.87488\n"
     ]
    },
    {
     "name": "stderr",
     "output_type": "stream",
     "text": [
      "[I 2019-03-13 04:50:56,196] Finished a trial resulted in value: 2.8748818623632544. Current best value is 2.818233866661339 with parameters: {'num_leaves': 7, 'learning_rate': 0.08554584172791803, 'feature_fraction': 0.7947785160697323, 'bagging_fraction': 0.1407411937507261, 'bagging_freq': 0, 'lambda_l2': 0.22220574691613132}.\n"
     ]
    },
    {
     "name": "stdout",
     "output_type": "stream",
     "text": [
      "CV average RMSE: 2.82887\n"
     ]
    },
    {
     "name": "stderr",
     "output_type": "stream",
     "text": [
      "[I 2019-03-13 04:50:56,601] Finished a trial resulted in value: 2.828874483104746. Current best value is 2.818233866661339 with parameters: {'num_leaves': 7, 'learning_rate': 0.08554584172791803, 'feature_fraction': 0.7947785160697323, 'bagging_fraction': 0.1407411937507261, 'bagging_freq': 0, 'lambda_l2': 0.22220574691613132}.\n"
     ]
    },
    {
     "name": "stdout",
     "output_type": "stream",
     "text": [
      "CV average RMSE: 3.67028\n"
     ]
    },
    {
     "name": "stderr",
     "output_type": "stream",
     "text": [
      "[I 2019-03-13 04:50:56,899] Finished a trial resulted in value: 3.6702844992438415. Current best value is 2.818233866661339 with parameters: {'num_leaves': 7, 'learning_rate': 0.08554584172791803, 'feature_fraction': 0.7947785160697323, 'bagging_fraction': 0.1407411937507261, 'bagging_freq': 0, 'lambda_l2': 0.22220574691613132}.\n"
     ]
    },
    {
     "name": "stdout",
     "output_type": "stream",
     "text": [
      "CV average RMSE: 2.88966\n"
     ]
    },
    {
     "name": "stderr",
     "output_type": "stream",
     "text": [
      "[I 2019-03-13 04:50:57,167] Finished a trial resulted in value: 2.8896593427024913. Current best value is 2.818233866661339 with parameters: {'num_leaves': 7, 'learning_rate': 0.08554584172791803, 'feature_fraction': 0.7947785160697323, 'bagging_fraction': 0.1407411937507261, 'bagging_freq': 0, 'lambda_l2': 0.22220574691613132}.\n"
     ]
    },
    {
     "name": "stdout",
     "output_type": "stream",
     "text": [
      "CV average RMSE: 7.77498\n"
     ]
    },
    {
     "name": "stderr",
     "output_type": "stream",
     "text": [
      "[I 2019-03-13 04:50:57,365] Finished a trial resulted in value: 7.774984694620786. Current best value is 2.818233866661339 with parameters: {'num_leaves': 7, 'learning_rate': 0.08554584172791803, 'feature_fraction': 0.7947785160697323, 'bagging_fraction': 0.1407411937507261, 'bagging_freq': 0, 'lambda_l2': 0.22220574691613132}.\n"
     ]
    },
    {
     "name": "stdout",
     "output_type": "stream",
     "text": [
      "CV average RMSE: 2.86187\n"
     ]
    },
    {
     "name": "stderr",
     "output_type": "stream",
     "text": [
      "[I 2019-03-13 04:50:57,766] Finished a trial resulted in value: 2.8618727673860986. Current best value is 2.818233866661339 with parameters: {'num_leaves': 7, 'learning_rate': 0.08554584172791803, 'feature_fraction': 0.7947785160697323, 'bagging_fraction': 0.1407411937507261, 'bagging_freq': 0, 'lambda_l2': 0.22220574691613132}.\n"
     ]
    },
    {
     "name": "stdout",
     "output_type": "stream",
     "text": [
      "CV average RMSE: 2.99489\n"
     ]
    },
    {
     "name": "stderr",
     "output_type": "stream",
     "text": [
      "[I 2019-03-13 04:50:58,078] Finished a trial resulted in value: 2.9948943227235683. Current best value is 2.818233866661339 with parameters: {'num_leaves': 7, 'learning_rate': 0.08554584172791803, 'feature_fraction': 0.7947785160697323, 'bagging_fraction': 0.1407411937507261, 'bagging_freq': 0, 'lambda_l2': 0.22220574691613132}.\n"
     ]
    },
    {
     "name": "stdout",
     "output_type": "stream",
     "text": [
      "CV average RMSE: 2.82284\n"
     ]
    },
    {
     "name": "stderr",
     "output_type": "stream",
     "text": [
      "[I 2019-03-13 04:50:58,459] Finished a trial resulted in value: 2.822839165868829. Current best value is 2.818233866661339 with parameters: {'num_leaves': 7, 'learning_rate': 0.08554584172791803, 'feature_fraction': 0.7947785160697323, 'bagging_fraction': 0.1407411937507261, 'bagging_freq': 0, 'lambda_l2': 0.22220574691613132}.\n"
     ]
    },
    {
     "name": "stdout",
     "output_type": "stream",
     "text": [
      "CV average RMSE: 7.77498\n"
     ]
    },
    {
     "name": "stderr",
     "output_type": "stream",
     "text": [
      "[I 2019-03-13 04:50:58,654] Finished a trial resulted in value: 7.774984694620786. Current best value is 2.818233866661339 with parameters: {'num_leaves': 7, 'learning_rate': 0.08554584172791803, 'feature_fraction': 0.7947785160697323, 'bagging_fraction': 0.1407411937507261, 'bagging_freq': 0, 'lambda_l2': 0.22220574691613132}.\n"
     ]
    },
    {
     "name": "stdout",
     "output_type": "stream",
     "text": [
      "CV average RMSE: 7.77498\n"
     ]
    },
    {
     "name": "stderr",
     "output_type": "stream",
     "text": [
      "[I 2019-03-13 04:50:58,899] Finished a trial resulted in value: 7.774984694620786. Current best value is 2.818233866661339 with parameters: {'num_leaves': 7, 'learning_rate': 0.08554584172791803, 'feature_fraction': 0.7947785160697323, 'bagging_fraction': 0.1407411937507261, 'bagging_freq': 0, 'lambda_l2': 0.22220574691613132}.\n"
     ]
    },
    {
     "name": "stdout",
     "output_type": "stream",
     "text": [
      "CV average RMSE: 2.82859\n"
     ]
    },
    {
     "name": "stderr",
     "output_type": "stream",
     "text": [
      "[I 2019-03-13 04:50:59,278] Finished a trial resulted in value: 2.828592630144847. Current best value is 2.818233866661339 with parameters: {'num_leaves': 7, 'learning_rate': 0.08554584172791803, 'feature_fraction': 0.7947785160697323, 'bagging_fraction': 0.1407411937507261, 'bagging_freq': 0, 'lambda_l2': 0.22220574691613132}.\n"
     ]
    },
    {
     "name": "stdout",
     "output_type": "stream",
     "text": [
      "CV average RMSE: 7.77498\n"
     ]
    },
    {
     "name": "stderr",
     "output_type": "stream",
     "text": [
      "[I 2019-03-13 04:50:59,477] Finished a trial resulted in value: 7.774984694620786. Current best value is 2.818233866661339 with parameters: {'num_leaves': 7, 'learning_rate': 0.08554584172791803, 'feature_fraction': 0.7947785160697323, 'bagging_fraction': 0.1407411937507261, 'bagging_freq': 0, 'lambda_l2': 0.22220574691613132}.\n"
     ]
    },
    {
     "name": "stdout",
     "output_type": "stream",
     "text": [
      "CV average RMSE: 7.77498\n"
     ]
    },
    {
     "name": "stderr",
     "output_type": "stream",
     "text": [
      "[I 2019-03-13 04:50:59,675] Finished a trial resulted in value: 7.774984694620786. Current best value is 2.818233866661339 with parameters: {'num_leaves': 7, 'learning_rate': 0.08554584172791803, 'feature_fraction': 0.7947785160697323, 'bagging_fraction': 0.1407411937507261, 'bagging_freq': 0, 'lambda_l2': 0.22220574691613132}.\n"
     ]
    },
    {
     "name": "stdout",
     "output_type": "stream",
     "text": [
      "CV average RMSE: 7.77498\n"
     ]
    },
    {
     "name": "stderr",
     "output_type": "stream",
     "text": [
      "[I 2019-03-13 04:50:59,875] Finished a trial resulted in value: 7.774984694620786. Current best value is 2.818233866661339 with parameters: {'num_leaves': 7, 'learning_rate': 0.08554584172791803, 'feature_fraction': 0.7947785160697323, 'bagging_fraction': 0.1407411937507261, 'bagging_freq': 0, 'lambda_l2': 0.22220574691613132}.\n"
     ]
    },
    {
     "name": "stdout",
     "output_type": "stream",
     "text": [
      "CV average RMSE: 2.82759\n"
     ]
    },
    {
     "name": "stderr",
     "output_type": "stream",
     "text": [
      "[I 2019-03-13 04:51:00,317] Finished a trial resulted in value: 2.8275869290168774. Current best value is 2.818233866661339 with parameters: {'num_leaves': 7, 'learning_rate': 0.08554584172791803, 'feature_fraction': 0.7947785160697323, 'bagging_fraction': 0.1407411937507261, 'bagging_freq': 0, 'lambda_l2': 0.22220574691613132}.\n"
     ]
    },
    {
     "name": "stdout",
     "output_type": "stream",
     "text": [
      "CV average RMSE: 2.82797\n"
     ]
    },
    {
     "name": "stderr",
     "output_type": "stream",
     "text": [
      "[I 2019-03-13 04:51:00,677] Finished a trial resulted in value: 2.827965884034969. Current best value is 2.818233866661339 with parameters: {'num_leaves': 7, 'learning_rate': 0.08554584172791803, 'feature_fraction': 0.7947785160697323, 'bagging_fraction': 0.1407411937507261, 'bagging_freq': 0, 'lambda_l2': 0.22220574691613132}.\n"
     ]
    },
    {
     "name": "stdout",
     "output_type": "stream",
     "text": [
      "CV average RMSE: 7.77498\n"
     ]
    },
    {
     "name": "stderr",
     "output_type": "stream",
     "text": [
      "[I 2019-03-13 04:51:00,876] Finished a trial resulted in value: 7.774984694620786. Current best value is 2.818233866661339 with parameters: {'num_leaves': 7, 'learning_rate': 0.08554584172791803, 'feature_fraction': 0.7947785160697323, 'bagging_fraction': 0.1407411937507261, 'bagging_freq': 0, 'lambda_l2': 0.22220574691613132}.\n"
     ]
    },
    {
     "name": "stdout",
     "output_type": "stream",
     "text": [
      "CV average RMSE: 2.8227\n"
     ]
    },
    {
     "name": "stderr",
     "output_type": "stream",
     "text": [
      "[I 2019-03-13 04:51:01,333] Finished a trial resulted in value: 2.822701207107093. Current best value is 2.818233866661339 with parameters: {'num_leaves': 7, 'learning_rate': 0.08554584172791803, 'feature_fraction': 0.7947785160697323, 'bagging_fraction': 0.1407411937507261, 'bagging_freq': 0, 'lambda_l2': 0.22220574691613132}.\n"
     ]
    },
    {
     "name": "stdout",
     "output_type": "stream",
     "text": [
      "CV average RMSE: 7.77498\n"
     ]
    },
    {
     "name": "stderr",
     "output_type": "stream",
     "text": [
      "[I 2019-03-13 04:51:01,533] Finished a trial resulted in value: 7.774984694620786. Current best value is 2.818233866661339 with parameters: {'num_leaves': 7, 'learning_rate': 0.08554584172791803, 'feature_fraction': 0.7947785160697323, 'bagging_fraction': 0.1407411937507261, 'bagging_freq': 0, 'lambda_l2': 0.22220574691613132}.\n"
     ]
    },
    {
     "name": "stdout",
     "output_type": "stream",
     "text": [
      "CV average RMSE: 8.05287\n"
     ]
    },
    {
     "name": "stderr",
     "output_type": "stream",
     "text": [
      "[I 2019-03-13 04:51:01,846] Finished a trial resulted in value: 8.052865517083546. Current best value is 2.818233866661339 with parameters: {'num_leaves': 7, 'learning_rate': 0.08554584172791803, 'feature_fraction': 0.7947785160697323, 'bagging_fraction': 0.1407411937507261, 'bagging_freq': 0, 'lambda_l2': 0.22220574691613132}.\n"
     ]
    },
    {
     "name": "stdout",
     "output_type": "stream",
     "text": [
      "CV average RMSE: 7.77498\n"
     ]
    },
    {
     "name": "stderr",
     "output_type": "stream",
     "text": [
      "[I 2019-03-13 04:51:02,046] Finished a trial resulted in value: 7.774984694620786. Current best value is 2.818233866661339 with parameters: {'num_leaves': 7, 'learning_rate': 0.08554584172791803, 'feature_fraction': 0.7947785160697323, 'bagging_fraction': 0.1407411937507261, 'bagging_freq': 0, 'lambda_l2': 0.22220574691613132}.\n"
     ]
    },
    {
     "name": "stdout",
     "output_type": "stream",
     "text": [
      "CV average RMSE: 2.88495\n"
     ]
    },
    {
     "name": "stderr",
     "output_type": "stream",
     "text": [
      "[I 2019-03-13 04:51:02,569] Finished a trial resulted in value: 2.8849497196529614. Current best value is 2.818233866661339 with parameters: {'num_leaves': 7, 'learning_rate': 0.08554584172791803, 'feature_fraction': 0.7947785160697323, 'bagging_fraction': 0.1407411937507261, 'bagging_freq': 0, 'lambda_l2': 0.22220574691613132}.\n",
      "[W 2019-03-13 04:51:02,679] Setting trial status as TrialState.FAIL because of the following error: LightGBMError('Check failed: num_data > 0 at D:\\\\a\\\\1\\\\s\\\\python-package\\\\compile\\\\src\\\\io\\\\dataset.cpp, line 27 .\\n',)\n",
      "Traceback (most recent call last):\n",
      "  File \"C:\\Users\\reo\\Anaconda3\\envs\\Kaggle\\lib\\site-packages\\optuna\\study.py\", line 407, in _run_trial\n",
      "    result = func(trial)\n",
      "  File \"<ipython-input-11-97621003bcc8>\", line 52, in objective\n",
      "    model = create_model(params, train_data_set, test_data_set)\n",
      "  File \"<ipython-input-11-97621003bcc8>\", line 14, in create_model\n",
      "    verbose_eval=False\n",
      "  File \"C:\\Users\\reo\\Anaconda3\\envs\\Kaggle\\lib\\site-packages\\lightgbm\\engine.py\", line 197, in train\n",
      "    booster = Booster(params=params, train_set=train_set)\n",
      "  File \"C:\\Users\\reo\\Anaconda3\\envs\\Kaggle\\lib\\site-packages\\lightgbm\\basic.py\", line 1554, in __init__\n",
      "    ctypes.byref(self.handle)))\n",
      "  File \"C:\\Users\\reo\\Anaconda3\\envs\\Kaggle\\lib\\site-packages\\lightgbm\\basic.py\", line 46, in _safe_call\n",
      "    raise LightGBMError(decode_string(_LIB.LGBM_GetLastError()))\n",
      "lightgbm.basic.LightGBMError: Check failed: num_data > 0 at D:\\a\\1\\s\\python-package\\compile\\src\\io\\dataset.cpp, line 27 .\n",
      "\n"
     ]
    },
    {
     "name": "stdout",
     "output_type": "stream",
     "text": [
      "CV average RMSE: 2.9261\n"
     ]
    },
    {
     "name": "stderr",
     "output_type": "stream",
     "text": [
      "[I 2019-03-13 04:51:03,019] Finished a trial resulted in value: 2.9260983885353204. Current best value is 2.818233866661339 with parameters: {'num_leaves': 7, 'learning_rate': 0.08554584172791803, 'feature_fraction': 0.7947785160697323, 'bagging_fraction': 0.1407411937507261, 'bagging_freq': 0, 'lambda_l2': 0.22220574691613132}.\n",
      "[W 2019-03-13 04:51:03,132] Setting trial status as TrialState.FAIL because of the following error: LightGBMError('Check failed: num_data > 0 at D:\\\\a\\\\1\\\\s\\\\python-package\\\\compile\\\\src\\\\io\\\\dataset.cpp, line 27 .\\n',)\n",
      "Traceback (most recent call last):\n",
      "  File \"C:\\Users\\reo\\Anaconda3\\envs\\Kaggle\\lib\\site-packages\\optuna\\study.py\", line 407, in _run_trial\n",
      "    result = func(trial)\n",
      "  File \"<ipython-input-11-97621003bcc8>\", line 52, in objective\n",
      "    model = create_model(params, train_data_set, test_data_set)\n",
      "  File \"<ipython-input-11-97621003bcc8>\", line 14, in create_model\n",
      "    verbose_eval=False\n",
      "  File \"C:\\Users\\reo\\Anaconda3\\envs\\Kaggle\\lib\\site-packages\\lightgbm\\engine.py\", line 197, in train\n",
      "    booster = Booster(params=params, train_set=train_set)\n",
      "  File \"C:\\Users\\reo\\Anaconda3\\envs\\Kaggle\\lib\\site-packages\\lightgbm\\basic.py\", line 1554, in __init__\n",
      "    ctypes.byref(self.handle)))\n",
      "  File \"C:\\Users\\reo\\Anaconda3\\envs\\Kaggle\\lib\\site-packages\\lightgbm\\basic.py\", line 46, in _safe_call\n",
      "    raise LightGBMError(decode_string(_LIB.LGBM_GetLastError()))\n",
      "lightgbm.basic.LightGBMError: Check failed: num_data > 0 at D:\\a\\1\\s\\python-package\\compile\\src\\io\\dataset.cpp, line 27 .\n",
      "\n"
     ]
    },
    {
     "name": "stdout",
     "output_type": "stream",
     "text": [
      "CV average RMSE: 2.89221\n"
     ]
    },
    {
     "name": "stderr",
     "output_type": "stream",
     "text": [
      "[I 2019-03-13 04:51:03,521] Finished a trial resulted in value: 2.892213321477813. Current best value is 2.818233866661339 with parameters: {'num_leaves': 7, 'learning_rate': 0.08554584172791803, 'feature_fraction': 0.7947785160697323, 'bagging_fraction': 0.1407411937507261, 'bagging_freq': 0, 'lambda_l2': 0.22220574691613132}.\n"
     ]
    },
    {
     "name": "stdout",
     "output_type": "stream",
     "text": [
      "CV average RMSE: 7.77498\n"
     ]
    },
    {
     "name": "stderr",
     "output_type": "stream",
     "text": [
      "[I 2019-03-13 04:51:03,724] Finished a trial resulted in value: 7.774984694620786. Current best value is 2.818233866661339 with parameters: {'num_leaves': 7, 'learning_rate': 0.08554584172791803, 'feature_fraction': 0.7947785160697323, 'bagging_fraction': 0.1407411937507261, 'bagging_freq': 0, 'lambda_l2': 0.22220574691613132}.\n"
     ]
    },
    {
     "name": "stdout",
     "output_type": "stream",
     "text": [
      "CV average RMSE: 2.86955\n"
     ]
    },
    {
     "name": "stderr",
     "output_type": "stream",
     "text": [
      "[I 2019-03-13 04:51:04,131] Finished a trial resulted in value: 2.869545284883896. Current best value is 2.818233866661339 with parameters: {'num_leaves': 7, 'learning_rate': 0.08554584172791803, 'feature_fraction': 0.7947785160697323, 'bagging_fraction': 0.1407411937507261, 'bagging_freq': 0, 'lambda_l2': 0.22220574691613132}.\n"
     ]
    },
    {
     "name": "stdout",
     "output_type": "stream",
     "text": [
      "CV average RMSE: 7.77498\n"
     ]
    },
    {
     "name": "stderr",
     "output_type": "stream",
     "text": [
      "[I 2019-03-13 04:51:04,335] Finished a trial resulted in value: 7.774984694620786. Current best value is 2.818233866661339 with parameters: {'num_leaves': 7, 'learning_rate': 0.08554584172791803, 'feature_fraction': 0.7947785160697323, 'bagging_fraction': 0.1407411937507261, 'bagging_freq': 0, 'lambda_l2': 0.22220574691613132}.\n"
     ]
    },
    {
     "name": "stdout",
     "output_type": "stream",
     "text": [
      "CV average RMSE: 2.82358\n"
     ]
    },
    {
     "name": "stderr",
     "output_type": "stream",
     "text": [
      "[I 2019-03-13 04:51:04,793] Finished a trial resulted in value: 2.8235755335360695. Current best value is 2.818233866661339 with parameters: {'num_leaves': 7, 'learning_rate': 0.08554584172791803, 'feature_fraction': 0.7947785160697323, 'bagging_fraction': 0.1407411937507261, 'bagging_freq': 0, 'lambda_l2': 0.22220574691613132}.\n"
     ]
    },
    {
     "name": "stdout",
     "output_type": "stream",
     "text": [
      "CV average RMSE: 7.77498\n"
     ]
    },
    {
     "name": "stderr",
     "output_type": "stream",
     "text": [
      "[I 2019-03-13 04:51:04,995] Finished a trial resulted in value: 7.774984694620786. Current best value is 2.818233866661339 with parameters: {'num_leaves': 7, 'learning_rate': 0.08554584172791803, 'feature_fraction': 0.7947785160697323, 'bagging_fraction': 0.1407411937507261, 'bagging_freq': 0, 'lambda_l2': 0.22220574691613132}.\n",
      "[W 2019-03-13 04:51:05,107] Setting trial status as TrialState.FAIL because of the following error: LightGBMError('Check failed: num_data > 0 at D:\\\\a\\\\1\\\\s\\\\python-package\\\\compile\\\\src\\\\io\\\\dataset.cpp, line 27 .\\n',)\n",
      "Traceback (most recent call last):\n",
      "  File \"C:\\Users\\reo\\Anaconda3\\envs\\Kaggle\\lib\\site-packages\\optuna\\study.py\", line 407, in _run_trial\n",
      "    result = func(trial)\n",
      "  File \"<ipython-input-11-97621003bcc8>\", line 52, in objective\n",
      "    model = create_model(params, train_data_set, test_data_set)\n",
      "  File \"<ipython-input-11-97621003bcc8>\", line 14, in create_model\n",
      "    verbose_eval=False\n",
      "  File \"C:\\Users\\reo\\Anaconda3\\envs\\Kaggle\\lib\\site-packages\\lightgbm\\engine.py\", line 197, in train\n",
      "    booster = Booster(params=params, train_set=train_set)\n",
      "  File \"C:\\Users\\reo\\Anaconda3\\envs\\Kaggle\\lib\\site-packages\\lightgbm\\basic.py\", line 1554, in __init__\n",
      "    ctypes.byref(self.handle)))\n",
      "  File \"C:\\Users\\reo\\Anaconda3\\envs\\Kaggle\\lib\\site-packages\\lightgbm\\basic.py\", line 46, in _safe_call\n",
      "    raise LightGBMError(decode_string(_LIB.LGBM_GetLastError()))\n",
      "lightgbm.basic.LightGBMError: Check failed: num_data > 0 at D:\\a\\1\\s\\python-package\\compile\\src\\io\\dataset.cpp, line 27 .\n",
      "\n",
      "[W 2019-03-13 04:51:05,242] Setting trial status as TrialState.FAIL because of the following error: LightGBMError('Check failed: num_data > 0 at D:\\\\a\\\\1\\\\s\\\\python-package\\\\compile\\\\src\\\\io\\\\dataset.cpp, line 27 .\\n',)\n",
      "Traceback (most recent call last):\n",
      "  File \"C:\\Users\\reo\\Anaconda3\\envs\\Kaggle\\lib\\site-packages\\optuna\\study.py\", line 407, in _run_trial\n",
      "    result = func(trial)\n",
      "  File \"<ipython-input-11-97621003bcc8>\", line 52, in objective\n",
      "    model = create_model(params, train_data_set, test_data_set)\n",
      "  File \"<ipython-input-11-97621003bcc8>\", line 14, in create_model\n",
      "    verbose_eval=False\n",
      "  File \"C:\\Users\\reo\\Anaconda3\\envs\\Kaggle\\lib\\site-packages\\lightgbm\\engine.py\", line 197, in train\n",
      "    booster = Booster(params=params, train_set=train_set)\n",
      "  File \"C:\\Users\\reo\\Anaconda3\\envs\\Kaggle\\lib\\site-packages\\lightgbm\\basic.py\", line 1554, in __init__\n",
      "    ctypes.byref(self.handle)))\n",
      "  File \"C:\\Users\\reo\\Anaconda3\\envs\\Kaggle\\lib\\site-packages\\lightgbm\\basic.py\", line 46, in _safe_call\n",
      "    raise LightGBMError(decode_string(_LIB.LGBM_GetLastError()))\n",
      "lightgbm.basic.LightGBMError: Check failed: num_data > 0 at D:\\a\\1\\s\\python-package\\compile\\src\\io\\dataset.cpp, line 27 .\n",
      "\n"
     ]
    },
    {
     "name": "stdout",
     "output_type": "stream",
     "text": [
      "CV average RMSE: 4.62468\n"
     ]
    },
    {
     "name": "stderr",
     "output_type": "stream",
     "text": [
      "[I 2019-03-13 04:51:05,831] Finished a trial resulted in value: 4.624683377310626. Current best value is 2.818233866661339 with parameters: {'num_leaves': 7, 'learning_rate': 0.08554584172791803, 'feature_fraction': 0.7947785160697323, 'bagging_fraction': 0.1407411937507261, 'bagging_freq': 0, 'lambda_l2': 0.22220574691613132}.\n"
     ]
    },
    {
     "name": "stdout",
     "output_type": "stream",
     "text": [
      "CV average RMSE: 2.83031\n"
     ]
    },
    {
     "name": "stderr",
     "output_type": "stream",
     "text": [
      "[I 2019-03-13 04:51:06,221] Finished a trial resulted in value: 2.8303142016653924. Current best value is 2.818233866661339 with parameters: {'num_leaves': 7, 'learning_rate': 0.08554584172791803, 'feature_fraction': 0.7947785160697323, 'bagging_fraction': 0.1407411937507261, 'bagging_freq': 0, 'lambda_l2': 0.22220574691613132}.\n"
     ]
    },
    {
     "name": "stdout",
     "output_type": "stream",
     "text": [
      "CV average RMSE: 2.84976\n"
     ]
    },
    {
     "name": "stderr",
     "output_type": "stream",
     "text": [
      "[I 2019-03-13 04:51:06,654] Finished a trial resulted in value: 2.8497572242199363. Current best value is 2.818233866661339 with parameters: {'num_leaves': 7, 'learning_rate': 0.08554584172791803, 'feature_fraction': 0.7947785160697323, 'bagging_fraction': 0.1407411937507261, 'bagging_freq': 0, 'lambda_l2': 0.22220574691613132}.\n"
     ]
    },
    {
     "name": "stdout",
     "output_type": "stream",
     "text": [
      "CV average RMSE: 3.17244\n"
     ]
    },
    {
     "name": "stderr",
     "output_type": "stream",
     "text": [
      "[I 2019-03-13 04:51:07,007] Finished a trial resulted in value: 3.1724418312228755. Current best value is 2.818233866661339 with parameters: {'num_leaves': 7, 'learning_rate': 0.08554584172791803, 'feature_fraction': 0.7947785160697323, 'bagging_fraction': 0.1407411937507261, 'bagging_freq': 0, 'lambda_l2': 0.22220574691613132}.\n"
     ]
    },
    {
     "name": "stdout",
     "output_type": "stream",
     "text": [
      "CV average RMSE: 2.82394\n"
     ]
    },
    {
     "name": "stderr",
     "output_type": "stream",
     "text": [
      "[I 2019-03-13 04:51:07,365] Finished a trial resulted in value: 2.8239361837970005. Current best value is 2.818233866661339 with parameters: {'num_leaves': 7, 'learning_rate': 0.08554584172791803, 'feature_fraction': 0.7947785160697323, 'bagging_fraction': 0.1407411937507261, 'bagging_freq': 0, 'lambda_l2': 0.22220574691613132}.\n"
     ]
    },
    {
     "name": "stdout",
     "output_type": "stream",
     "text": [
      "CV average RMSE: 2.82469\n"
     ]
    },
    {
     "name": "stderr",
     "output_type": "stream",
     "text": [
      "[I 2019-03-13 04:51:07,725] Finished a trial resulted in value: 2.8246890648359964. Current best value is 2.818233866661339 with parameters: {'num_leaves': 7, 'learning_rate': 0.08554584172791803, 'feature_fraction': 0.7947785160697323, 'bagging_fraction': 0.1407411937507261, 'bagging_freq': 0, 'lambda_l2': 0.22220574691613132}.\n"
     ]
    },
    {
     "name": "stdout",
     "output_type": "stream",
     "text": [
      "CV average RMSE: 2.82259\n"
     ]
    },
    {
     "name": "stderr",
     "output_type": "stream",
     "text": [
      "[I 2019-03-13 04:51:08,143] Finished a trial resulted in value: 2.8225944745232523. Current best value is 2.818233866661339 with parameters: {'num_leaves': 7, 'learning_rate': 0.08554584172791803, 'feature_fraction': 0.7947785160697323, 'bagging_fraction': 0.1407411937507261, 'bagging_freq': 0, 'lambda_l2': 0.22220574691613132}.\n",
      "[W 2019-03-13 04:51:08,258] Setting trial status as TrialState.FAIL because of the following error: LightGBMError('Check failed: num_data > 0 at D:\\\\a\\\\1\\\\s\\\\python-package\\\\compile\\\\src\\\\io\\\\dataset.cpp, line 27 .\\n',)\n",
      "Traceback (most recent call last):\n",
      "  File \"C:\\Users\\reo\\Anaconda3\\envs\\Kaggle\\lib\\site-packages\\optuna\\study.py\", line 407, in _run_trial\n",
      "    result = func(trial)\n",
      "  File \"<ipython-input-11-97621003bcc8>\", line 52, in objective\n",
      "    model = create_model(params, train_data_set, test_data_set)\n",
      "  File \"<ipython-input-11-97621003bcc8>\", line 14, in create_model\n",
      "    verbose_eval=False\n",
      "  File \"C:\\Users\\reo\\Anaconda3\\envs\\Kaggle\\lib\\site-packages\\lightgbm\\engine.py\", line 197, in train\n",
      "    booster = Booster(params=params, train_set=train_set)\n",
      "  File \"C:\\Users\\reo\\Anaconda3\\envs\\Kaggle\\lib\\site-packages\\lightgbm\\basic.py\", line 1554, in __init__\n",
      "    ctypes.byref(self.handle)))\n",
      "  File \"C:\\Users\\reo\\Anaconda3\\envs\\Kaggle\\lib\\site-packages\\lightgbm\\basic.py\", line 46, in _safe_call\n",
      "    raise LightGBMError(decode_string(_LIB.LGBM_GetLastError()))\n",
      "lightgbm.basic.LightGBMError: Check failed: num_data > 0 at D:\\a\\1\\s\\python-package\\compile\\src\\io\\dataset.cpp, line 27 .\n",
      "\n"
     ]
    },
    {
     "name": "stdout",
     "output_type": "stream",
     "text": [
      "CV average RMSE: 7.77498\n"
     ]
    },
    {
     "name": "stderr",
     "output_type": "stream",
     "text": [
      "[I 2019-03-13 04:51:08,492] Finished a trial resulted in value: 7.774984694620786. Current best value is 2.818233866661339 with parameters: {'num_leaves': 7, 'learning_rate': 0.08554584172791803, 'feature_fraction': 0.7947785160697323, 'bagging_fraction': 0.1407411937507261, 'bagging_freq': 0, 'lambda_l2': 0.22220574691613132}.\n"
     ]
    },
    {
     "name": "stdout",
     "output_type": "stream",
     "text": [
      "CV average RMSE: 2.82365\n"
     ]
    },
    {
     "name": "stderr",
     "output_type": "stream",
     "text": [
      "[I 2019-03-13 04:51:08,877] Finished a trial resulted in value: 2.823652936355201. Current best value is 2.818233866661339 with parameters: {'num_leaves': 7, 'learning_rate': 0.08554584172791803, 'feature_fraction': 0.7947785160697323, 'bagging_fraction': 0.1407411937507261, 'bagging_freq': 0, 'lambda_l2': 0.22220574691613132}.\n"
     ]
    },
    {
     "name": "stdout",
     "output_type": "stream",
     "text": [
      "CV average RMSE: 7.77498\n"
     ]
    },
    {
     "name": "stderr",
     "output_type": "stream",
     "text": [
      "[I 2019-03-13 04:51:09,091] Finished a trial resulted in value: 7.774984694620786. Current best value is 2.818233866661339 with parameters: {'num_leaves': 7, 'learning_rate': 0.08554584172791803, 'feature_fraction': 0.7947785160697323, 'bagging_fraction': 0.1407411937507261, 'bagging_freq': 0, 'lambda_l2': 0.22220574691613132}.\n"
     ]
    },
    {
     "name": "stdout",
     "output_type": "stream",
     "text": [
      "CV average RMSE: 2.82448\n"
     ]
    },
    {
     "name": "stderr",
     "output_type": "stream",
     "text": [
      "[I 2019-03-13 04:51:09,477] Finished a trial resulted in value: 2.8244817573429004. Current best value is 2.818233866661339 with parameters: {'num_leaves': 7, 'learning_rate': 0.08554584172791803, 'feature_fraction': 0.7947785160697323, 'bagging_fraction': 0.1407411937507261, 'bagging_freq': 0, 'lambda_l2': 0.22220574691613132}.\n"
     ]
    },
    {
     "name": "stdout",
     "output_type": "stream",
     "text": [
      "CV average RMSE: 7.77498\n"
     ]
    },
    {
     "name": "stderr",
     "output_type": "stream",
     "text": [
      "[I 2019-03-13 04:51:09,687] Finished a trial resulted in value: 7.774984694620786. Current best value is 2.818233866661339 with parameters: {'num_leaves': 7, 'learning_rate': 0.08554584172791803, 'feature_fraction': 0.7947785160697323, 'bagging_fraction': 0.1407411937507261, 'bagging_freq': 0, 'lambda_l2': 0.22220574691613132}.\n"
     ]
    },
    {
     "name": "stdout",
     "output_type": "stream",
     "text": [
      "CV average RMSE: 2.81837\n"
     ]
    },
    {
     "name": "stderr",
     "output_type": "stream",
     "text": [
      "[I 2019-03-13 04:51:10,119] Finished a trial resulted in value: 2.818373172082899. Current best value is 2.818233866661339 with parameters: {'num_leaves': 7, 'learning_rate': 0.08554584172791803, 'feature_fraction': 0.7947785160697323, 'bagging_fraction': 0.1407411937507261, 'bagging_freq': 0, 'lambda_l2': 0.22220574691613132}.\n"
     ]
    },
    {
     "name": "stdout",
     "output_type": "stream",
     "text": [
      "CV average RMSE: 2.82351\n"
     ]
    },
    {
     "name": "stderr",
     "output_type": "stream",
     "text": [
      "[I 2019-03-13 04:51:10,515] Finished a trial resulted in value: 2.8235149630534897. Current best value is 2.818233866661339 with parameters: {'num_leaves': 7, 'learning_rate': 0.08554584172791803, 'feature_fraction': 0.7947785160697323, 'bagging_fraction': 0.1407411937507261, 'bagging_freq': 0, 'lambda_l2': 0.22220574691613132}.\n"
     ]
    },
    {
     "name": "stdout",
     "output_type": "stream",
     "text": [
      "CV average RMSE: 7.77498\n"
     ]
    },
    {
     "name": "stderr",
     "output_type": "stream",
     "text": [
      "[I 2019-03-13 04:51:10,726] Finished a trial resulted in value: 7.774984694620786. Current best value is 2.818233866661339 with parameters: {'num_leaves': 7, 'learning_rate': 0.08554584172791803, 'feature_fraction': 0.7947785160697323, 'bagging_fraction': 0.1407411937507261, 'bagging_freq': 0, 'lambda_l2': 0.22220574691613132}.\n"
     ]
    },
    {
     "name": "stdout",
     "output_type": "stream",
     "text": [
      "CV average RMSE: 7.77498\n"
     ]
    },
    {
     "name": "stderr",
     "output_type": "stream",
     "text": [
      "[I 2019-03-13 04:51:10,938] Finished a trial resulted in value: 7.774984694620786. Current best value is 2.818233866661339 with parameters: {'num_leaves': 7, 'learning_rate': 0.08554584172791803, 'feature_fraction': 0.7947785160697323, 'bagging_fraction': 0.1407411937507261, 'bagging_freq': 0, 'lambda_l2': 0.22220574691613132}.\n"
     ]
    },
    {
     "name": "stdout",
     "output_type": "stream",
     "text": [
      "CV average RMSE: 2.82652\n"
     ]
    },
    {
     "name": "stderr",
     "output_type": "stream",
     "text": [
      "[I 2019-03-13 04:51:11,318] Finished a trial resulted in value: 2.826522681165492. Current best value is 2.818233866661339 with parameters: {'num_leaves': 7, 'learning_rate': 0.08554584172791803, 'feature_fraction': 0.7947785160697323, 'bagging_fraction': 0.1407411937507261, 'bagging_freq': 0, 'lambda_l2': 0.22220574691613132}.\n"
     ]
    },
    {
     "name": "stdout",
     "output_type": "stream",
     "text": [
      "CV average RMSE: 2.82468\n"
     ]
    },
    {
     "name": "stderr",
     "output_type": "stream",
     "text": [
      "[I 2019-03-13 04:51:11,695] Finished a trial resulted in value: 2.8246818161349534. Current best value is 2.818233866661339 with parameters: {'num_leaves': 7, 'learning_rate': 0.08554584172791803, 'feature_fraction': 0.7947785160697323, 'bagging_fraction': 0.1407411937507261, 'bagging_freq': 0, 'lambda_l2': 0.22220574691613132}.\n"
     ]
    },
    {
     "name": "stdout",
     "output_type": "stream",
     "text": [
      "CV average RMSE: 7.77498\n"
     ]
    },
    {
     "name": "stderr",
     "output_type": "stream",
     "text": [
      "[I 2019-03-13 04:51:11,907] Finished a trial resulted in value: 7.774984694620786. Current best value is 2.818233866661339 with parameters: {'num_leaves': 7, 'learning_rate': 0.08554584172791803, 'feature_fraction': 0.7947785160697323, 'bagging_fraction': 0.1407411937507261, 'bagging_freq': 0, 'lambda_l2': 0.22220574691613132}.\n"
     ]
    },
    {
     "name": "stdout",
     "output_type": "stream",
     "text": [
      "CV average RMSE: 2.82776\n"
     ]
    },
    {
     "name": "stderr",
     "output_type": "stream",
     "text": [
      "[I 2019-03-13 04:51:12,292] Finished a trial resulted in value: 2.8277572844583125. Current best value is 2.818233866661339 with parameters: {'num_leaves': 7, 'learning_rate': 0.08554584172791803, 'feature_fraction': 0.7947785160697323, 'bagging_fraction': 0.1407411937507261, 'bagging_freq': 0, 'lambda_l2': 0.22220574691613132}.\n"
     ]
    },
    {
     "name": "stdout",
     "output_type": "stream",
     "text": [
      "CV average RMSE: 7.77498\n"
     ]
    },
    {
     "name": "stderr",
     "output_type": "stream",
     "text": [
      "[I 2019-03-13 04:51:12,554] Finished a trial resulted in value: 7.774984694620786. Current best value is 2.818233866661339 with parameters: {'num_leaves': 7, 'learning_rate': 0.08554584172791803, 'feature_fraction': 0.7947785160697323, 'bagging_fraction': 0.1407411937507261, 'bagging_freq': 0, 'lambda_l2': 0.22220574691613132}.\n"
     ]
    },
    {
     "name": "stdout",
     "output_type": "stream",
     "text": [
      "CV average RMSE: 2.82474\n"
     ]
    },
    {
     "name": "stderr",
     "output_type": "stream",
     "text": [
      "[I 2019-03-13 04:51:12,922] Finished a trial resulted in value: 2.824740593814821. Current best value is 2.818233866661339 with parameters: {'num_leaves': 7, 'learning_rate': 0.08554584172791803, 'feature_fraction': 0.7947785160697323, 'bagging_fraction': 0.1407411937507261, 'bagging_freq': 0, 'lambda_l2': 0.22220574691613132}.\n"
     ]
    },
    {
     "name": "stdout",
     "output_type": "stream",
     "text": [
      "CV average RMSE: 7.77498\n"
     ]
    },
    {
     "name": "stderr",
     "output_type": "stream",
     "text": [
      "[I 2019-03-13 04:51:13,131] Finished a trial resulted in value: 7.774984694620786. Current best value is 2.818233866661339 with parameters: {'num_leaves': 7, 'learning_rate': 0.08554584172791803, 'feature_fraction': 0.7947785160697323, 'bagging_fraction': 0.1407411937507261, 'bagging_freq': 0, 'lambda_l2': 0.22220574691613132}.\n"
     ]
    },
    {
     "name": "stdout",
     "output_type": "stream",
     "text": [
      "CV average RMSE: 7.77498\n"
     ]
    },
    {
     "name": "stderr",
     "output_type": "stream",
     "text": [
      "[I 2019-03-13 04:51:13,347] Finished a trial resulted in value: 7.774984694620786. Current best value is 2.818233866661339 with parameters: {'num_leaves': 7, 'learning_rate': 0.08554584172791803, 'feature_fraction': 0.7947785160697323, 'bagging_fraction': 0.1407411937507261, 'bagging_freq': 0, 'lambda_l2': 0.22220574691613132}.\n"
     ]
    },
    {
     "name": "stdout",
     "output_type": "stream",
     "text": [
      "CV average RMSE: 3.64894\n"
     ]
    },
    {
     "name": "stderr",
     "output_type": "stream",
     "text": [
      "[I 2019-03-13 04:51:13,732] Finished a trial resulted in value: 3.6489384017843967. Current best value is 2.818233866661339 with parameters: {'num_leaves': 7, 'learning_rate': 0.08554584172791803, 'feature_fraction': 0.7947785160697323, 'bagging_fraction': 0.1407411937507261, 'bagging_freq': 0, 'lambda_l2': 0.22220574691613132}.\n"
     ]
    },
    {
     "name": "stdout",
     "output_type": "stream",
     "text": [
      "CV average RMSE: 2.82523\n"
     ]
    },
    {
     "name": "stderr",
     "output_type": "stream",
     "text": [
      "[I 2019-03-13 04:51:14,140] Finished a trial resulted in value: 2.8252269641605. Current best value is 2.818233866661339 with parameters: {'num_leaves': 7, 'learning_rate': 0.08554584172791803, 'feature_fraction': 0.7947785160697323, 'bagging_fraction': 0.1407411937507261, 'bagging_freq': 0, 'lambda_l2': 0.22220574691613132}.\n"
     ]
    },
    {
     "name": "stdout",
     "output_type": "stream",
     "text": [
      "CV average RMSE: 2.82265\n"
     ]
    },
    {
     "name": "stderr",
     "output_type": "stream",
     "text": [
      "[I 2019-03-13 04:51:14,537] Finished a trial resulted in value: 2.822649645066754. Current best value is 2.818233866661339 with parameters: {'num_leaves': 7, 'learning_rate': 0.08554584172791803, 'feature_fraction': 0.7947785160697323, 'bagging_fraction': 0.1407411937507261, 'bagging_freq': 0, 'lambda_l2': 0.22220574691613132}.\n"
     ]
    },
    {
     "name": "stdout",
     "output_type": "stream",
     "text": [
      "CV average RMSE: 7.77498\n"
     ]
    },
    {
     "name": "stderr",
     "output_type": "stream",
     "text": [
      "[I 2019-03-13 04:51:14,773] Finished a trial resulted in value: 7.774984694620786. Current best value is 2.818233866661339 with parameters: {'num_leaves': 7, 'learning_rate': 0.08554584172791803, 'feature_fraction': 0.7947785160697323, 'bagging_fraction': 0.1407411937507261, 'bagging_freq': 0, 'lambda_l2': 0.22220574691613132}.\n"
     ]
    },
    {
     "name": "stdout",
     "output_type": "stream",
     "text": [
      "CV average RMSE: 7.77498\n"
     ]
    },
    {
     "name": "stderr",
     "output_type": "stream",
     "text": [
      "[I 2019-03-13 04:51:14,991] Finished a trial resulted in value: 7.774984694620786. Current best value is 2.818233866661339 with parameters: {'num_leaves': 7, 'learning_rate': 0.08554584172791803, 'feature_fraction': 0.7947785160697323, 'bagging_fraction': 0.1407411937507261, 'bagging_freq': 0, 'lambda_l2': 0.22220574691613132}.\n"
     ]
    },
    {
     "name": "stdout",
     "output_type": "stream",
     "text": [
      "CV average RMSE: 2.8346\n"
     ]
    },
    {
     "name": "stderr",
     "output_type": "stream",
     "text": [
      "[I 2019-03-13 04:51:15,349] Finished a trial resulted in value: 2.834602205084804. Current best value is 2.818233866661339 with parameters: {'num_leaves': 7, 'learning_rate': 0.08554584172791803, 'feature_fraction': 0.7947785160697323, 'bagging_fraction': 0.1407411937507261, 'bagging_freq': 0, 'lambda_l2': 0.22220574691613132}.\n"
     ]
    },
    {
     "name": "stdout",
     "output_type": "stream",
     "text": [
      "CV average RMSE: 2.91811\n"
     ]
    },
    {
     "name": "stderr",
     "output_type": "stream",
     "text": [
      "[I 2019-03-13 04:51:15,968] Finished a trial resulted in value: 2.9181081411852254. Current best value is 2.818233866661339 with parameters: {'num_leaves': 7, 'learning_rate': 0.08554584172791803, 'feature_fraction': 0.7947785160697323, 'bagging_fraction': 0.1407411937507261, 'bagging_freq': 0, 'lambda_l2': 0.22220574691613132}.\n"
     ]
    },
    {
     "name": "stdout",
     "output_type": "stream",
     "text": [
      "CV average RMSE: 7.77498\n"
     ]
    },
    {
     "name": "stderr",
     "output_type": "stream",
     "text": [
      "[I 2019-03-13 04:51:16,182] Finished a trial resulted in value: 7.774984694620786. Current best value is 2.818233866661339 with parameters: {'num_leaves': 7, 'learning_rate': 0.08554584172791803, 'feature_fraction': 0.7947785160697323, 'bagging_fraction': 0.1407411937507261, 'bagging_freq': 0, 'lambda_l2': 0.22220574691613132}.\n"
     ]
    },
    {
     "name": "stdout",
     "output_type": "stream",
     "text": [
      "CV average RMSE: 7.77498\n"
     ]
    },
    {
     "name": "stderr",
     "output_type": "stream",
     "text": [
      "[I 2019-03-13 04:51:16,399] Finished a trial resulted in value: 7.774984694620786. Current best value is 2.818233866661339 with parameters: {'num_leaves': 7, 'learning_rate': 0.08554584172791803, 'feature_fraction': 0.7947785160697323, 'bagging_fraction': 0.1407411937507261, 'bagging_freq': 0, 'lambda_l2': 0.22220574691613132}.\n"
     ]
    },
    {
     "name": "stdout",
     "output_type": "stream",
     "text": [
      "CV average RMSE: 2.82311\n"
     ]
    },
    {
     "name": "stderr",
     "output_type": "stream",
     "text": [
      "[I 2019-03-13 04:51:16,828] Finished a trial resulted in value: 2.823114985072497. Current best value is 2.818233866661339 with parameters: {'num_leaves': 7, 'learning_rate': 0.08554584172791803, 'feature_fraction': 0.7947785160697323, 'bagging_fraction': 0.1407411937507261, 'bagging_freq': 0, 'lambda_l2': 0.22220574691613132}.\n"
     ]
    },
    {
     "name": "stdout",
     "output_type": "stream",
     "text": [
      "CV average RMSE: 2.82544\n"
     ]
    },
    {
     "name": "stderr",
     "output_type": "stream",
     "text": [
      "[I 2019-03-13 04:51:17,286] Finished a trial resulted in value: 2.8254424345323885. Current best value is 2.818233866661339 with parameters: {'num_leaves': 7, 'learning_rate': 0.08554584172791803, 'feature_fraction': 0.7947785160697323, 'bagging_fraction': 0.1407411937507261, 'bagging_freq': 0, 'lambda_l2': 0.22220574691613132}.\n"
     ]
    },
    {
     "name": "stdout",
     "output_type": "stream",
     "text": [
      "CV average RMSE: 7.77498\n"
     ]
    },
    {
     "name": "stderr",
     "output_type": "stream",
     "text": [
      "[I 2019-03-13 04:51:17,506] Finished a trial resulted in value: 7.774984694620786. Current best value is 2.818233866661339 with parameters: {'num_leaves': 7, 'learning_rate': 0.08554584172791803, 'feature_fraction': 0.7947785160697323, 'bagging_fraction': 0.1407411937507261, 'bagging_freq': 0, 'lambda_l2': 0.22220574691613132}.\n"
     ]
    },
    {
     "name": "stdout",
     "output_type": "stream",
     "text": [
      "CV average RMSE: 7.77498\n"
     ]
    },
    {
     "name": "stderr",
     "output_type": "stream",
     "text": [
      "[I 2019-03-13 04:51:17,730] Finished a trial resulted in value: 7.774984694620786. Current best value is 2.818233866661339 with parameters: {'num_leaves': 7, 'learning_rate': 0.08554584172791803, 'feature_fraction': 0.7947785160697323, 'bagging_fraction': 0.1407411937507261, 'bagging_freq': 0, 'lambda_l2': 0.22220574691613132}.\n"
     ]
    },
    {
     "name": "stdout",
     "output_type": "stream",
     "text": [
      "CV average RMSE: 2.82304\n"
     ]
    },
    {
     "name": "stderr",
     "output_type": "stream",
     "text": [
      "[I 2019-03-13 04:51:18,184] Finished a trial resulted in value: 2.823041959157338. Current best value is 2.818233866661339 with parameters: {'num_leaves': 7, 'learning_rate': 0.08554584172791803, 'feature_fraction': 0.7947785160697323, 'bagging_fraction': 0.1407411937507261, 'bagging_freq': 0, 'lambda_l2': 0.22220574691613132}.\n"
     ]
    },
    {
     "name": "stdout",
     "output_type": "stream",
     "text": [
      "CV average RMSE: 7.77498\n"
     ]
    },
    {
     "name": "stderr",
     "output_type": "stream",
     "text": [
      "[I 2019-03-13 04:51:18,402] Finished a trial resulted in value: 7.774984694620786. Current best value is 2.818233866661339 with parameters: {'num_leaves': 7, 'learning_rate': 0.08554584172791803, 'feature_fraction': 0.7947785160697323, 'bagging_fraction': 0.1407411937507261, 'bagging_freq': 0, 'lambda_l2': 0.22220574691613132}.\n"
     ]
    },
    {
     "name": "stdout",
     "output_type": "stream",
     "text": [
      "CV average RMSE: 2.8224\n"
     ]
    },
    {
     "name": "stderr",
     "output_type": "stream",
     "text": [
      "[I 2019-03-13 04:51:18,779] Finished a trial resulted in value: 2.8224043974788287. Current best value is 2.818233866661339 with parameters: {'num_leaves': 7, 'learning_rate': 0.08554584172791803, 'feature_fraction': 0.7947785160697323, 'bagging_fraction': 0.1407411937507261, 'bagging_freq': 0, 'lambda_l2': 0.22220574691613132}.\n"
     ]
    },
    {
     "name": "stdout",
     "output_type": "stream",
     "text": [
      "CV average RMSE: 7.77498\n"
     ]
    },
    {
     "name": "stderr",
     "output_type": "stream",
     "text": [
      "[I 2019-03-13 04:51:18,995] Finished a trial resulted in value: 7.774984694620786. Current best value is 2.818233866661339 with parameters: {'num_leaves': 7, 'learning_rate': 0.08554584172791803, 'feature_fraction': 0.7947785160697323, 'bagging_fraction': 0.1407411937507261, 'bagging_freq': 0, 'lambda_l2': 0.22220574691613132}.\n"
     ]
    },
    {
     "name": "stdout",
     "output_type": "stream",
     "text": [
      "CV average RMSE: 8.04879\n"
     ]
    },
    {
     "name": "stderr",
     "output_type": "stream",
     "text": [
      "[I 2019-03-13 04:51:19,382] Finished a trial resulted in value: 8.04879073425374. Current best value is 2.818233866661339 with parameters: {'num_leaves': 7, 'learning_rate': 0.08554584172791803, 'feature_fraction': 0.7947785160697323, 'bagging_fraction': 0.1407411937507261, 'bagging_freq': 0, 'lambda_l2': 0.22220574691613132}.\n"
     ]
    },
    {
     "name": "stdout",
     "output_type": "stream",
     "text": [
      "CV average RMSE: 3.5829\n"
     ]
    },
    {
     "name": "stderr",
     "output_type": "stream",
     "text": [
      "[I 2019-03-13 04:51:19,696] Finished a trial resulted in value: 3.5829004013358743. Current best value is 2.818233866661339 with parameters: {'num_leaves': 7, 'learning_rate': 0.08554584172791803, 'feature_fraction': 0.7947785160697323, 'bagging_fraction': 0.1407411937507261, 'bagging_freq': 0, 'lambda_l2': 0.22220574691613132}.\n"
     ]
    },
    {
     "name": "stdout",
     "output_type": "stream",
     "text": [
      "CV average RMSE: 7.77498\n"
     ]
    },
    {
     "name": "stderr",
     "output_type": "stream",
     "text": [
      "[I 2019-03-13 04:51:19,918] Finished a trial resulted in value: 7.774984694620786. Current best value is 2.818233866661339 with parameters: {'num_leaves': 7, 'learning_rate': 0.08554584172791803, 'feature_fraction': 0.7947785160697323, 'bagging_fraction': 0.1407411937507261, 'bagging_freq': 0, 'lambda_l2': 0.22220574691613132}.\n"
     ]
    },
    {
     "name": "stdout",
     "output_type": "stream",
     "text": [
      "CV average RMSE: 2.827\n"
     ]
    },
    {
     "name": "stderr",
     "output_type": "stream",
     "text": [
      "[I 2019-03-13 04:51:20,386] Finished a trial resulted in value: 2.8269951549922196. Current best value is 2.818233866661339 with parameters: {'num_leaves': 7, 'learning_rate': 0.08554584172791803, 'feature_fraction': 0.7947785160697323, 'bagging_fraction': 0.1407411937507261, 'bagging_freq': 0, 'lambda_l2': 0.22220574691613132}.\n"
     ]
    },
    {
     "name": "stdout",
     "output_type": "stream",
     "text": [
      "CV average RMSE: 7.77498\n"
     ]
    },
    {
     "name": "stderr",
     "output_type": "stream",
     "text": [
      "[I 2019-03-13 04:51:20,611] Finished a trial resulted in value: 7.774984694620786. Current best value is 2.818233866661339 with parameters: {'num_leaves': 7, 'learning_rate': 0.08554584172791803, 'feature_fraction': 0.7947785160697323, 'bagging_fraction': 0.1407411937507261, 'bagging_freq': 0, 'lambda_l2': 0.22220574691613132}.\n"
     ]
    },
    {
     "name": "stdout",
     "output_type": "stream",
     "text": [
      "CV average RMSE: 3.10177\n"
     ]
    },
    {
     "name": "stderr",
     "output_type": "stream",
     "text": [
      "[I 2019-03-13 04:51:20,917] Finished a trial resulted in value: 3.1017712024115878. Current best value is 2.818233866661339 with parameters: {'num_leaves': 7, 'learning_rate': 0.08554584172791803, 'feature_fraction': 0.7947785160697323, 'bagging_fraction': 0.1407411937507261, 'bagging_freq': 0, 'lambda_l2': 0.22220574691613132}.\n"
     ]
    },
    {
     "name": "stdout",
     "output_type": "stream",
     "text": [
      "CV average RMSE: 2.81824\n"
     ]
    },
    {
     "name": "stderr",
     "output_type": "stream",
     "text": [
      "[I 2019-03-13 04:51:21,308] Finished a trial resulted in value: 2.818239694456621. Current best value is 2.818233866661339 with parameters: {'num_leaves': 7, 'learning_rate': 0.08554584172791803, 'feature_fraction': 0.7947785160697323, 'bagging_fraction': 0.1407411937507261, 'bagging_freq': 0, 'lambda_l2': 0.22220574691613132}.\n"
     ]
    },
    {
     "name": "stdout",
     "output_type": "stream",
     "text": [
      "CV average RMSE: 2.83388\n"
     ]
    },
    {
     "name": "stderr",
     "output_type": "stream",
     "text": [
      "[I 2019-03-13 04:51:21,787] Finished a trial resulted in value: 2.8338761096826515. Current best value is 2.818233866661339 with parameters: {'num_leaves': 7, 'learning_rate': 0.08554584172791803, 'feature_fraction': 0.7947785160697323, 'bagging_fraction': 0.1407411937507261, 'bagging_freq': 0, 'lambda_l2': 0.22220574691613132}.\n"
     ]
    },
    {
     "name": "stdout",
     "output_type": "stream",
     "text": [
      "CV average RMSE: 3.5087\n"
     ]
    },
    {
     "name": "stderr",
     "output_type": "stream",
     "text": [
      "[I 2019-03-13 04:51:22,091] Finished a trial resulted in value: 3.5086982567277247. Current best value is 2.818233866661339 with parameters: {'num_leaves': 7, 'learning_rate': 0.08554584172791803, 'feature_fraction': 0.7947785160697323, 'bagging_fraction': 0.1407411937507261, 'bagging_freq': 0, 'lambda_l2': 0.22220574691613132}.\n"
     ]
    },
    {
     "name": "stdout",
     "output_type": "stream",
     "text": [
      "CV average RMSE: 3.64781\n"
     ]
    },
    {
     "name": "stderr",
     "output_type": "stream",
     "text": [
      "[I 2019-03-13 04:51:22,418] Finished a trial resulted in value: 3.6478119493738377. Current best value is 2.818233866661339 with parameters: {'num_leaves': 7, 'learning_rate': 0.08554584172791803, 'feature_fraction': 0.7947785160697323, 'bagging_fraction': 0.1407411937507261, 'bagging_freq': 0, 'lambda_l2': 0.22220574691613132}.\n"
     ]
    },
    {
     "name": "stdout",
     "output_type": "stream",
     "text": [
      "CV average RMSE: 2.82211\n"
     ]
    },
    {
     "name": "stderr",
     "output_type": "stream",
     "text": [
      "[I 2019-03-13 04:51:22,879] Finished a trial resulted in value: 2.822110256522469. Current best value is 2.818233866661339 with parameters: {'num_leaves': 7, 'learning_rate': 0.08554584172791803, 'feature_fraction': 0.7947785160697323, 'bagging_fraction': 0.1407411937507261, 'bagging_freq': 0, 'lambda_l2': 0.22220574691613132}.\n"
     ]
    },
    {
     "name": "stdout",
     "output_type": "stream",
     "text": [
      "CV average RMSE: 6.55229\n"
     ]
    },
    {
     "name": "stderr",
     "output_type": "stream",
     "text": [
      "[I 2019-03-13 04:51:23,139] Finished a trial resulted in value: 6.552285649107452. Current best value is 2.818233866661339 with parameters: {'num_leaves': 7, 'learning_rate': 0.08554584172791803, 'feature_fraction': 0.7947785160697323, 'bagging_fraction': 0.1407411937507261, 'bagging_freq': 0, 'lambda_l2': 0.22220574691613132}.\n"
     ]
    },
    {
     "name": "stdout",
     "output_type": "stream",
     "text": [
      "CV average RMSE: 3.09896\n"
     ]
    },
    {
     "name": "stderr",
     "output_type": "stream",
     "text": [
      "[I 2019-03-13 04:51:23,459] Finished a trial resulted in value: 3.098955314475749. Current best value is 2.818233866661339 with parameters: {'num_leaves': 7, 'learning_rate': 0.08554584172791803, 'feature_fraction': 0.7947785160697323, 'bagging_fraction': 0.1407411937507261, 'bagging_freq': 0, 'lambda_l2': 0.22220574691613132}.\n"
     ]
    },
    {
     "name": "stdout",
     "output_type": "stream",
     "text": [
      "CV average RMSE: 3.20696\n"
     ]
    },
    {
     "name": "stderr",
     "output_type": "stream",
     "text": [
      "[I 2019-03-13 04:51:23,771] Finished a trial resulted in value: 3.2069598813075055. Current best value is 2.818233866661339 with parameters: {'num_leaves': 7, 'learning_rate': 0.08554584172791803, 'feature_fraction': 0.7947785160697323, 'bagging_fraction': 0.1407411937507261, 'bagging_freq': 0, 'lambda_l2': 0.22220574691613132}.\n"
     ]
    },
    {
     "name": "stdout",
     "output_type": "stream",
     "text": [
      "CV average RMSE: 2.83034\n"
     ]
    },
    {
     "name": "stderr",
     "output_type": "stream",
     "text": [
      "[I 2019-03-13 04:51:24,145] Finished a trial resulted in value: 2.8303407404696257. Current best value is 2.818233866661339 with parameters: {'num_leaves': 7, 'learning_rate': 0.08554584172791803, 'feature_fraction': 0.7947785160697323, 'bagging_fraction': 0.1407411937507261, 'bagging_freq': 0, 'lambda_l2': 0.22220574691613132}.\n"
     ]
    },
    {
     "name": "stdout",
     "output_type": "stream",
     "text": [
      "CV average RMSE: 3.0375\n"
     ]
    },
    {
     "name": "stderr",
     "output_type": "stream",
     "text": [
      "[I 2019-03-13 04:51:24,447] Finished a trial resulted in value: 3.0374978659598724. Current best value is 2.818233866661339 with parameters: {'num_leaves': 7, 'learning_rate': 0.08554584172791803, 'feature_fraction': 0.7947785160697323, 'bagging_fraction': 0.1407411937507261, 'bagging_freq': 0, 'lambda_l2': 0.22220574691613132}.\n"
     ]
    },
    {
     "name": "stdout",
     "output_type": "stream",
     "text": [
      "CV average RMSE: 2.92676\n"
     ]
    },
    {
     "name": "stderr",
     "output_type": "stream",
     "text": [
      "[I 2019-03-13 04:51:24,892] Finished a trial resulted in value: 2.92676348858001. Current best value is 2.818233866661339 with parameters: {'num_leaves': 7, 'learning_rate': 0.08554584172791803, 'feature_fraction': 0.7947785160697323, 'bagging_fraction': 0.1407411937507261, 'bagging_freq': 0, 'lambda_l2': 0.22220574691613132}.\n"
     ]
    },
    {
     "name": "stdout",
     "output_type": "stream",
     "text": [
      "CV average RMSE: 2.83475\n"
     ]
    },
    {
     "name": "stderr",
     "output_type": "stream",
     "text": [
      "[I 2019-03-13 04:51:25,301] Finished a trial resulted in value: 2.8347477252828632. Current best value is 2.818233866661339 with parameters: {'num_leaves': 7, 'learning_rate': 0.08554584172791803, 'feature_fraction': 0.7947785160697323, 'bagging_fraction': 0.1407411937507261, 'bagging_freq': 0, 'lambda_l2': 0.22220574691613132}.\n"
     ]
    },
    {
     "name": "stdout",
     "output_type": "stream",
     "text": [
      "CV average RMSE: 7.77498\n"
     ]
    },
    {
     "name": "stderr",
     "output_type": "stream",
     "text": [
      "[I 2019-03-13 04:51:25,524] Finished a trial resulted in value: 7.774984694620786. Current best value is 2.818233866661339 with parameters: {'num_leaves': 7, 'learning_rate': 0.08554584172791803, 'feature_fraction': 0.7947785160697323, 'bagging_fraction': 0.1407411937507261, 'bagging_freq': 0, 'lambda_l2': 0.22220574691613132}.\n"
     ]
    },
    {
     "name": "stdout",
     "output_type": "stream",
     "text": [
      "CV average RMSE: 7.77498\n"
     ]
    },
    {
     "name": "stderr",
     "output_type": "stream",
     "text": [
      "[I 2019-03-13 04:51:25,755] Finished a trial resulted in value: 7.774984694620786. Current best value is 2.818233866661339 with parameters: {'num_leaves': 7, 'learning_rate': 0.08554584172791803, 'feature_fraction': 0.7947785160697323, 'bagging_fraction': 0.1407411937507261, 'bagging_freq': 0, 'lambda_l2': 0.22220574691613132}.\n"
     ]
    },
    {
     "name": "stdout",
     "output_type": "stream",
     "text": [
      "CV average RMSE: 2.827\n"
     ]
    },
    {
     "name": "stderr",
     "output_type": "stream",
     "text": [
      "[I 2019-03-13 04:51:26,232] Finished a trial resulted in value: 2.826996889417848. Current best value is 2.818233866661339 with parameters: {'num_leaves': 7, 'learning_rate': 0.08554584172791803, 'feature_fraction': 0.7947785160697323, 'bagging_fraction': 0.1407411937507261, 'bagging_freq': 0, 'lambda_l2': 0.22220574691613132}.\n"
     ]
    },
    {
     "name": "stdout",
     "output_type": "stream",
     "text": [
      "CV average RMSE: 3.58251\n"
     ]
    },
    {
     "name": "stderr",
     "output_type": "stream",
     "text": [
      "[I 2019-03-13 04:51:26,553] Finished a trial resulted in value: 3.5825073338585476. Current best value is 2.818233866661339 with parameters: {'num_leaves': 7, 'learning_rate': 0.08554584172791803, 'feature_fraction': 0.7947785160697323, 'bagging_fraction': 0.1407411937507261, 'bagging_freq': 0, 'lambda_l2': 0.22220574691613132}.\n"
     ]
    },
    {
     "name": "stdout",
     "output_type": "stream",
     "text": [
      "CV average RMSE: 2.83\n"
     ]
    },
    {
     "name": "stderr",
     "output_type": "stream",
     "text": [
      "[I 2019-03-13 04:51:27,036] Finished a trial resulted in value: 2.8299959639238743. Current best value is 2.818233866661339 with parameters: {'num_leaves': 7, 'learning_rate': 0.08554584172791803, 'feature_fraction': 0.7947785160697323, 'bagging_fraction': 0.1407411937507261, 'bagging_freq': 0, 'lambda_l2': 0.22220574691613132}.\n"
     ]
    },
    {
     "name": "stdout",
     "output_type": "stream",
     "text": [
      "CV average RMSE: 7.77498\n"
     ]
    },
    {
     "name": "stderr",
     "output_type": "stream",
     "text": [
      "[I 2019-03-13 04:51:27,264] Finished a trial resulted in value: 7.774984694620786. Current best value is 2.818233866661339 with parameters: {'num_leaves': 7, 'learning_rate': 0.08554584172791803, 'feature_fraction': 0.7947785160697323, 'bagging_fraction': 0.1407411937507261, 'bagging_freq': 0, 'lambda_l2': 0.22220574691613132}.\n"
     ]
    },
    {
     "name": "stdout",
     "output_type": "stream",
     "text": [
      "CV average RMSE: 3.35874\n"
     ]
    },
    {
     "name": "stderr",
     "output_type": "stream",
     "text": [
      "[I 2019-03-13 04:51:27,591] Finished a trial resulted in value: 3.358738451646296. Current best value is 2.818233866661339 with parameters: {'num_leaves': 7, 'learning_rate': 0.08554584172791803, 'feature_fraction': 0.7947785160697323, 'bagging_fraction': 0.1407411937507261, 'bagging_freq': 0, 'lambda_l2': 0.22220574691613132}.\n"
     ]
    },
    {
     "name": "stdout",
     "output_type": "stream",
     "text": [
      "CV average RMSE: 6.56797\n"
     ]
    },
    {
     "name": "stderr",
     "output_type": "stream",
     "text": [
      "[I 2019-03-13 04:51:28,167] Finished a trial resulted in value: 6.567972947194965. Current best value is 2.818233866661339 with parameters: {'num_leaves': 7, 'learning_rate': 0.08554584172791803, 'feature_fraction': 0.7947785160697323, 'bagging_fraction': 0.1407411937507261, 'bagging_freq': 0, 'lambda_l2': 0.22220574691613132}.\n"
     ]
    },
    {
     "name": "stdout",
     "output_type": "stream",
     "text": [
      "CV average RMSE: 3.74212\n"
     ]
    },
    {
     "name": "stderr",
     "output_type": "stream",
     "text": [
      "[I 2019-03-13 04:51:28,525] Finished a trial resulted in value: 3.7421243724761792. Current best value is 2.818233866661339 with parameters: {'num_leaves': 7, 'learning_rate': 0.08554584172791803, 'feature_fraction': 0.7947785160697323, 'bagging_fraction': 0.1407411937507261, 'bagging_freq': 0, 'lambda_l2': 0.22220574691613132}.\n"
     ]
    },
    {
     "name": "stdout",
     "output_type": "stream",
     "text": [
      "CV average RMSE: 7.77498\n"
     ]
    },
    {
     "name": "stderr",
     "output_type": "stream",
     "text": [
      "[I 2019-03-13 04:51:28,748] Finished a trial resulted in value: 7.774984694620786. Current best value is 2.818233866661339 with parameters: {'num_leaves': 7, 'learning_rate': 0.08554584172791803, 'feature_fraction': 0.7947785160697323, 'bagging_fraction': 0.1407411937507261, 'bagging_freq': 0, 'lambda_l2': 0.22220574691613132}.\n"
     ]
    },
    {
     "name": "stdout",
     "output_type": "stream",
     "text": [
      "CV average RMSE: 2.8231\n"
     ]
    },
    {
     "name": "stderr",
     "output_type": "stream",
     "text": [
      "[I 2019-03-13 04:51:29,137] Finished a trial resulted in value: 2.823104922441896. Current best value is 2.818233866661339 with parameters: {'num_leaves': 7, 'learning_rate': 0.08554584172791803, 'feature_fraction': 0.7947785160697323, 'bagging_fraction': 0.1407411937507261, 'bagging_freq': 0, 'lambda_l2': 0.22220574691613132}.\n"
     ]
    },
    {
     "name": "stdout",
     "output_type": "stream",
     "text": [
      "CV average RMSE: 2.82816\n"
     ]
    },
    {
     "name": "stderr",
     "output_type": "stream",
     "text": [
      "[I 2019-03-13 04:51:29,590] Finished a trial resulted in value: 2.82816120927184. Current best value is 2.818233866661339 with parameters: {'num_leaves': 7, 'learning_rate': 0.08554584172791803, 'feature_fraction': 0.7947785160697323, 'bagging_fraction': 0.1407411937507261, 'bagging_freq': 0, 'lambda_l2': 0.22220574691613132}.\n"
     ]
    },
    {
     "name": "stdout",
     "output_type": "stream",
     "text": [
      "CV average RMSE: 7.77498\n"
     ]
    },
    {
     "name": "stderr",
     "output_type": "stream",
     "text": [
      "[I 2019-03-13 04:51:29,825] Finished a trial resulted in value: 7.774984694620786. Current best value is 2.818233866661339 with parameters: {'num_leaves': 7, 'learning_rate': 0.08554584172791803, 'feature_fraction': 0.7947785160697323, 'bagging_fraction': 0.1407411937507261, 'bagging_freq': 0, 'lambda_l2': 0.22220574691613132}.\n"
     ]
    },
    {
     "name": "stdout",
     "output_type": "stream",
     "text": [
      "CV average RMSE: 2.9017\n"
     ]
    },
    {
     "name": "stderr",
     "output_type": "stream",
     "text": [
      "[I 2019-03-13 04:51:30,163] Finished a trial resulted in value: 2.90169947828723. Current best value is 2.818233866661339 with parameters: {'num_leaves': 7, 'learning_rate': 0.08554584172791803, 'feature_fraction': 0.7947785160697323, 'bagging_fraction': 0.1407411937507261, 'bagging_freq': 0, 'lambda_l2': 0.22220574691613132}.\n"
     ]
    },
    {
     "name": "stdout",
     "output_type": "stream",
     "text": [
      "CV average RMSE: 7.77498\n"
     ]
    },
    {
     "name": "stderr",
     "output_type": "stream",
     "text": [
      "[I 2019-03-13 04:51:30,392] Finished a trial resulted in value: 7.774984694620786. Current best value is 2.818233866661339 with parameters: {'num_leaves': 7, 'learning_rate': 0.08554584172791803, 'feature_fraction': 0.7947785160697323, 'bagging_fraction': 0.1407411937507261, 'bagging_freq': 0, 'lambda_l2': 0.22220574691613132}.\n"
     ]
    },
    {
     "name": "stdout",
     "output_type": "stream",
     "text": [
      "CV average RMSE: 3.11477\n"
     ]
    },
    {
     "name": "stderr",
     "output_type": "stream",
     "text": [
      "[I 2019-03-13 04:51:30,741] Finished a trial resulted in value: 3.1147727811201973. Current best value is 2.818233866661339 with parameters: {'num_leaves': 7, 'learning_rate': 0.08554584172791803, 'feature_fraction': 0.7947785160697323, 'bagging_fraction': 0.1407411937507261, 'bagging_freq': 0, 'lambda_l2': 0.22220574691613132}.\n"
     ]
    },
    {
     "name": "stdout",
     "output_type": "stream",
     "text": [
      "CV average RMSE: 7.77498\n"
     ]
    },
    {
     "name": "stderr",
     "output_type": "stream",
     "text": [
      "[I 2019-03-13 04:51:30,976] Finished a trial resulted in value: 7.774984694620786. Current best value is 2.818233866661339 with parameters: {'num_leaves': 7, 'learning_rate': 0.08554584172791803, 'feature_fraction': 0.7947785160697323, 'bagging_fraction': 0.1407411937507261, 'bagging_freq': 0, 'lambda_l2': 0.22220574691613132}.\n"
     ]
    },
    {
     "name": "stdout",
     "output_type": "stream",
     "text": [
      "CV average RMSE: 7.77498\n"
     ]
    },
    {
     "name": "stderr",
     "output_type": "stream",
     "text": [
      "[I 2019-03-13 04:51:31,210] Finished a trial resulted in value: 7.774984694620786. Current best value is 2.818233866661339 with parameters: {'num_leaves': 7, 'learning_rate': 0.08554584172791803, 'feature_fraction': 0.7947785160697323, 'bagging_fraction': 0.1407411937507261, 'bagging_freq': 0, 'lambda_l2': 0.22220574691613132}.\n"
     ]
    },
    {
     "name": "stdout",
     "output_type": "stream",
     "text": [
      "CV average RMSE: 2.82116\n"
     ]
    },
    {
     "name": "stderr",
     "output_type": "stream",
     "text": [
      "[I 2019-03-13 04:51:31,726] Finished a trial resulted in value: 2.821161986449884. Current best value is 2.818233866661339 with parameters: {'num_leaves': 7, 'learning_rate': 0.08554584172791803, 'feature_fraction': 0.7947785160697323, 'bagging_fraction': 0.1407411937507261, 'bagging_freq': 0, 'lambda_l2': 0.22220574691613132}.\n"
     ]
    },
    {
     "name": "stdout",
     "output_type": "stream",
     "text": [
      "CV average RMSE: 2.86886\n"
     ]
    },
    {
     "name": "stderr",
     "output_type": "stream",
     "text": [
      "[I 2019-03-13 04:51:32,059] Finished a trial resulted in value: 2.8688641162295476. Current best value is 2.818233866661339 with parameters: {'num_leaves': 7, 'learning_rate': 0.08554584172791803, 'feature_fraction': 0.7947785160697323, 'bagging_fraction': 0.1407411937507261, 'bagging_freq': 0, 'lambda_l2': 0.22220574691613132}.\n"
     ]
    },
    {
     "name": "stdout",
     "output_type": "stream",
     "text": [
      "CV average RMSE: 3.01457\n"
     ]
    },
    {
     "name": "stderr",
     "output_type": "stream",
     "text": [
      "[I 2019-03-13 04:51:32,575] Finished a trial resulted in value: 3.014574703204464. Current best value is 2.818233866661339 with parameters: {'num_leaves': 7, 'learning_rate': 0.08554584172791803, 'feature_fraction': 0.7947785160697323, 'bagging_fraction': 0.1407411937507261, 'bagging_freq': 0, 'lambda_l2': 0.22220574691613132}.\n"
     ]
    },
    {
     "name": "stdout",
     "output_type": "stream",
     "text": [
      "CV average RMSE: 7.77498\n"
     ]
    },
    {
     "name": "stderr",
     "output_type": "stream",
     "text": [
      "[I 2019-03-13 04:51:32,858] Finished a trial resulted in value: 7.774984694620786. Current best value is 2.818233866661339 with parameters: {'num_leaves': 7, 'learning_rate': 0.08554584172791803, 'feature_fraction': 0.7947785160697323, 'bagging_fraction': 0.1407411937507261, 'bagging_freq': 0, 'lambda_l2': 0.22220574691613132}.\n"
     ]
    },
    {
     "name": "stdout",
     "output_type": "stream",
     "text": [
      "CV average RMSE: 7.77498\n"
     ]
    },
    {
     "name": "stderr",
     "output_type": "stream",
     "text": [
      "[I 2019-03-13 04:51:33,108] Finished a trial resulted in value: 7.774984694620786. Current best value is 2.818233866661339 with parameters: {'num_leaves': 7, 'learning_rate': 0.08554584172791803, 'feature_fraction': 0.7947785160697323, 'bagging_fraction': 0.1407411937507261, 'bagging_freq': 0, 'lambda_l2': 0.22220574691613132}.\n"
     ]
    },
    {
     "name": "stdout",
     "output_type": "stream",
     "text": [
      "CV average RMSE: 2.82548\n"
     ]
    },
    {
     "name": "stderr",
     "output_type": "stream",
     "text": [
      "[I 2019-03-13 04:51:33,498] Finished a trial resulted in value: 2.8254832502061347. Current best value is 2.818233866661339 with parameters: {'num_leaves': 7, 'learning_rate': 0.08554584172791803, 'feature_fraction': 0.7947785160697323, 'bagging_fraction': 0.1407411937507261, 'bagging_freq': 0, 'lambda_l2': 0.22220574691613132}.\n"
     ]
    },
    {
     "name": "stdout",
     "output_type": "stream",
     "text": [
      "CV average RMSE: 7.35822\n"
     ]
    },
    {
     "name": "stderr",
     "output_type": "stream",
     "text": [
      "[I 2019-03-13 04:51:33,790] Finished a trial resulted in value: 7.358221198526738. Current best value is 2.818233866661339 with parameters: {'num_leaves': 7, 'learning_rate': 0.08554584172791803, 'feature_fraction': 0.7947785160697323, 'bagging_fraction': 0.1407411937507261, 'bagging_freq': 0, 'lambda_l2': 0.22220574691613132}.\n"
     ]
    },
    {
     "name": "stdout",
     "output_type": "stream",
     "text": [
      "CV average RMSE: 7.77498\n"
     ]
    },
    {
     "name": "stderr",
     "output_type": "stream",
     "text": [
      "[I 2019-03-13 04:51:34,028] Finished a trial resulted in value: 7.774984694620786. Current best value is 2.818233866661339 with parameters: {'num_leaves': 7, 'learning_rate': 0.08554584172791803, 'feature_fraction': 0.7947785160697323, 'bagging_fraction': 0.1407411937507261, 'bagging_freq': 0, 'lambda_l2': 0.22220574691613132}.\n"
     ]
    },
    {
     "name": "stdout",
     "output_type": "stream",
     "text": [
      "CV average RMSE: 7.77498\n"
     ]
    },
    {
     "name": "stderr",
     "output_type": "stream",
     "text": [
      "[I 2019-03-13 04:51:34,264] Finished a trial resulted in value: 7.774984694620786. Current best value is 2.818233866661339 with parameters: {'num_leaves': 7, 'learning_rate': 0.08554584172791803, 'feature_fraction': 0.7947785160697323, 'bagging_fraction': 0.1407411937507261, 'bagging_freq': 0, 'lambda_l2': 0.22220574691613132}.\n"
     ]
    },
    {
     "name": "stdout",
     "output_type": "stream",
     "text": [
      "CV average RMSE: 3.06966\n"
     ]
    },
    {
     "name": "stderr",
     "output_type": "stream",
     "text": [
      "[I 2019-03-13 04:51:34,582] Finished a trial resulted in value: 3.0696594965414468. Current best value is 2.818233866661339 with parameters: {'num_leaves': 7, 'learning_rate': 0.08554584172791803, 'feature_fraction': 0.7947785160697323, 'bagging_fraction': 0.1407411937507261, 'bagging_freq': 0, 'lambda_l2': 0.22220574691613132}.\n"
     ]
    },
    {
     "name": "stdout",
     "output_type": "stream",
     "text": [
      "CV average RMSE: 2.81874\n"
     ]
    },
    {
     "name": "stderr",
     "output_type": "stream",
     "text": [
      "[I 2019-03-13 04:51:35,093] Finished a trial resulted in value: 2.818744522937486. Current best value is 2.818233866661339 with parameters: {'num_leaves': 7, 'learning_rate': 0.08554584172791803, 'feature_fraction': 0.7947785160697323, 'bagging_fraction': 0.1407411937507261, 'bagging_freq': 0, 'lambda_l2': 0.22220574691613132}.\n"
     ]
    },
    {
     "name": "stdout",
     "output_type": "stream",
     "text": [
      "CV average RMSE: 3.07643\n"
     ]
    },
    {
     "name": "stderr",
     "output_type": "stream",
     "text": [
      "[I 2019-03-13 04:51:35,418] Finished a trial resulted in value: 3.07642586171926. Current best value is 2.818233866661339 with parameters: {'num_leaves': 7, 'learning_rate': 0.08554584172791803, 'feature_fraction': 0.7947785160697323, 'bagging_fraction': 0.1407411937507261, 'bagging_freq': 0, 'lambda_l2': 0.22220574691613132}.\n"
     ]
    },
    {
     "name": "stdout",
     "output_type": "stream",
     "text": [
      "CV average RMSE: 2.82475\n"
     ]
    },
    {
     "name": "stderr",
     "output_type": "stream",
     "text": [
      "[I 2019-03-13 04:51:35,868] Finished a trial resulted in value: 2.8247487255008235. Current best value is 2.818233866661339 with parameters: {'num_leaves': 7, 'learning_rate': 0.08554584172791803, 'feature_fraction': 0.7947785160697323, 'bagging_fraction': 0.1407411937507261, 'bagging_freq': 0, 'lambda_l2': 0.22220574691613132}.\n"
     ]
    },
    {
     "name": "stdout",
     "output_type": "stream",
     "text": [
      "CV average RMSE: 2.89534\n"
     ]
    },
    {
     "name": "stderr",
     "output_type": "stream",
     "text": [
      "[I 2019-03-13 04:51:36,371] Finished a trial resulted in value: 2.895343650499963. Current best value is 2.818233866661339 with parameters: {'num_leaves': 7, 'learning_rate': 0.08554584172791803, 'feature_fraction': 0.7947785160697323, 'bagging_fraction': 0.1407411937507261, 'bagging_freq': 0, 'lambda_l2': 0.22220574691613132}.\n"
     ]
    },
    {
     "name": "stdout",
     "output_type": "stream",
     "text": [
      "CV average RMSE: 3.77358\n"
     ]
    },
    {
     "name": "stderr",
     "output_type": "stream",
     "text": [
      "[I 2019-03-13 04:51:36,722] Finished a trial resulted in value: 3.773576783749084. Current best value is 2.818233866661339 with parameters: {'num_leaves': 7, 'learning_rate': 0.08554584172791803, 'feature_fraction': 0.7947785160697323, 'bagging_fraction': 0.1407411937507261, 'bagging_freq': 0, 'lambda_l2': 0.22220574691613132}.\n"
     ]
    },
    {
     "name": "stdout",
     "output_type": "stream",
     "text": [
      "CV average RMSE: 3.05968\n"
     ]
    },
    {
     "name": "stderr",
     "output_type": "stream",
     "text": [
      "[I 2019-03-13 04:51:37,134] Finished a trial resulted in value: 3.0596795095143614. Current best value is 2.818233866661339 with parameters: {'num_leaves': 7, 'learning_rate': 0.08554584172791803, 'feature_fraction': 0.7947785160697323, 'bagging_fraction': 0.1407411937507261, 'bagging_freq': 0, 'lambda_l2': 0.22220574691613132}.\n"
     ]
    },
    {
     "name": "stdout",
     "output_type": "stream",
     "text": [
      "CV average RMSE: 2.82496\n"
     ]
    },
    {
     "name": "stderr",
     "output_type": "stream",
     "text": [
      "[I 2019-03-13 04:51:37,545] Finished a trial resulted in value: 2.824962506394158. Current best value is 2.818233866661339 with parameters: {'num_leaves': 7, 'learning_rate': 0.08554584172791803, 'feature_fraction': 0.7947785160697323, 'bagging_fraction': 0.1407411937507261, 'bagging_freq': 0, 'lambda_l2': 0.22220574691613132}.\n"
     ]
    },
    {
     "name": "stdout",
     "output_type": "stream",
     "text": [
      "CV average RMSE: 3.47844\n"
     ]
    },
    {
     "name": "stderr",
     "output_type": "stream",
     "text": [
      "[I 2019-03-13 04:51:37,892] Finished a trial resulted in value: 3.4784380742998593. Current best value is 2.818233866661339 with parameters: {'num_leaves': 7, 'learning_rate': 0.08554584172791803, 'feature_fraction': 0.7947785160697323, 'bagging_fraction': 0.1407411937507261, 'bagging_freq': 0, 'lambda_l2': 0.22220574691613132}.\n"
     ]
    },
    {
     "name": "stdout",
     "output_type": "stream",
     "text": [
      "CV average RMSE: 7.77498\n"
     ]
    },
    {
     "name": "stderr",
     "output_type": "stream",
     "text": [
      "[I 2019-03-13 04:51:38,138] Finished a trial resulted in value: 7.774984694620786. Current best value is 2.818233866661339 with parameters: {'num_leaves': 7, 'learning_rate': 0.08554584172791803, 'feature_fraction': 0.7947785160697323, 'bagging_fraction': 0.1407411937507261, 'bagging_freq': 0, 'lambda_l2': 0.22220574691613132}.\n"
     ]
    },
    {
     "name": "stdout",
     "output_type": "stream",
     "text": [
      "CV average RMSE: 3.35797\n"
     ]
    },
    {
     "name": "stderr",
     "output_type": "stream",
     "text": [
      "[I 2019-03-13 04:51:38,591] Finished a trial resulted in value: 3.3579737494714776. Current best value is 2.818233866661339 with parameters: {'num_leaves': 7, 'learning_rate': 0.08554584172791803, 'feature_fraction': 0.7947785160697323, 'bagging_fraction': 0.1407411937507261, 'bagging_freq': 0, 'lambda_l2': 0.22220574691613132}.\n"
     ]
    },
    {
     "name": "stdout",
     "output_type": "stream",
     "text": [
      "CV average RMSE: 2.82227\n"
     ]
    },
    {
     "name": "stderr",
     "output_type": "stream",
     "text": [
      "[I 2019-03-13 04:51:39,025] Finished a trial resulted in value: 2.82226915342968. Current best value is 2.818233866661339 with parameters: {'num_leaves': 7, 'learning_rate': 0.08554584172791803, 'feature_fraction': 0.7947785160697323, 'bagging_fraction': 0.1407411937507261, 'bagging_freq': 0, 'lambda_l2': 0.22220574691613132}.\n"
     ]
    },
    {
     "name": "stdout",
     "output_type": "stream",
     "text": [
      "CV average RMSE: 3.19572\n"
     ]
    },
    {
     "name": "stderr",
     "output_type": "stream",
     "text": [
      "[I 2019-03-13 04:51:39,472] Finished a trial resulted in value: 3.1957235592472535. Current best value is 2.818233866661339 with parameters: {'num_leaves': 7, 'learning_rate': 0.08554584172791803, 'feature_fraction': 0.7947785160697323, 'bagging_fraction': 0.1407411937507261, 'bagging_freq': 0, 'lambda_l2': 0.22220574691613132}.\n"
     ]
    },
    {
     "name": "stdout",
     "output_type": "stream",
     "text": [
      "CV average RMSE: 2.82939\n"
     ]
    },
    {
     "name": "stderr",
     "output_type": "stream",
     "text": [
      "[I 2019-03-13 04:51:39,880] Finished a trial resulted in value: 2.829391740006013. Current best value is 2.818233866661339 with parameters: {'num_leaves': 7, 'learning_rate': 0.08554584172791803, 'feature_fraction': 0.7947785160697323, 'bagging_fraction': 0.1407411937507261, 'bagging_freq': 0, 'lambda_l2': 0.22220574691613132}.\n"
     ]
    },
    {
     "name": "stdout",
     "output_type": "stream",
     "text": [
      "CV average RMSE: 3.77422\n"
     ]
    },
    {
     "name": "stderr",
     "output_type": "stream",
     "text": [
      "[I 2019-03-13 04:51:40,200] Finished a trial resulted in value: 3.7742188478472967. Current best value is 2.818233866661339 with parameters: {'num_leaves': 7, 'learning_rate': 0.08554584172791803, 'feature_fraction': 0.7947785160697323, 'bagging_fraction': 0.1407411937507261, 'bagging_freq': 0, 'lambda_l2': 0.22220574691613132}.\n"
     ]
    },
    {
     "name": "stdout",
     "output_type": "stream",
     "text": [
      "CV average RMSE: 3.0605\n"
     ]
    },
    {
     "name": "stderr",
     "output_type": "stream",
     "text": [
      "[I 2019-03-13 04:51:40,592] Finished a trial resulted in value: 3.060504250204171. Current best value is 2.818233866661339 with parameters: {'num_leaves': 7, 'learning_rate': 0.08554584172791803, 'feature_fraction': 0.7947785160697323, 'bagging_fraction': 0.1407411937507261, 'bagging_freq': 0, 'lambda_l2': 0.22220574691613132}.\n"
     ]
    },
    {
     "name": "stdout",
     "output_type": "stream",
     "text": [
      "CV average RMSE: 7.77498\n"
     ]
    },
    {
     "name": "stderr",
     "output_type": "stream",
     "text": [
      "[I 2019-03-13 04:51:40,830] Finished a trial resulted in value: 7.774984694620786. Current best value is 2.818233866661339 with parameters: {'num_leaves': 7, 'learning_rate': 0.08554584172791803, 'feature_fraction': 0.7947785160697323, 'bagging_fraction': 0.1407411937507261, 'bagging_freq': 0, 'lambda_l2': 0.22220574691613132}.\n"
     ]
    },
    {
     "name": "stdout",
     "output_type": "stream",
     "text": [
      "CV average RMSE: 2.82719\n"
     ]
    },
    {
     "name": "stderr",
     "output_type": "stream",
     "text": [
      "[I 2019-03-13 04:51:41,252] Finished a trial resulted in value: 2.8271859760384133. Current best value is 2.818233866661339 with parameters: {'num_leaves': 7, 'learning_rate': 0.08554584172791803, 'feature_fraction': 0.7947785160697323, 'bagging_fraction': 0.1407411937507261, 'bagging_freq': 0, 'lambda_l2': 0.22220574691613132}.\n"
     ]
    },
    {
     "name": "stdout",
     "output_type": "stream",
     "text": [
      "CV average RMSE: 2.92405\n"
     ]
    },
    {
     "name": "stderr",
     "output_type": "stream",
     "text": [
      "[I 2019-03-13 04:51:41,579] Finished a trial resulted in value: 2.9240517112937505. Current best value is 2.818233866661339 with parameters: {'num_leaves': 7, 'learning_rate': 0.08554584172791803, 'feature_fraction': 0.7947785160697323, 'bagging_fraction': 0.1407411937507261, 'bagging_freq': 0, 'lambda_l2': 0.22220574691613132}.\n"
     ]
    },
    {
     "name": "stdout",
     "output_type": "stream",
     "text": [
      "CV average RMSE: 2.88284\n"
     ]
    },
    {
     "name": "stderr",
     "output_type": "stream",
     "text": [
      "[I 2019-03-13 04:51:41,944] Finished a trial resulted in value: 2.8828440666748407. Current best value is 2.818233866661339 with parameters: {'num_leaves': 7, 'learning_rate': 0.08554584172791803, 'feature_fraction': 0.7947785160697323, 'bagging_fraction': 0.1407411937507261, 'bagging_freq': 0, 'lambda_l2': 0.22220574691613132}.\n"
     ]
    },
    {
     "name": "stdout",
     "output_type": "stream",
     "text": [
      "CV average RMSE: 2.82657\n"
     ]
    },
    {
     "name": "stderr",
     "output_type": "stream",
     "text": [
      "[I 2019-03-13 04:51:42,404] Finished a trial resulted in value: 2.82656988232173. Current best value is 2.818233866661339 with parameters: {'num_leaves': 7, 'learning_rate': 0.08554584172791803, 'feature_fraction': 0.7947785160697323, 'bagging_fraction': 0.1407411937507261, 'bagging_freq': 0, 'lambda_l2': 0.22220574691613132}.\n"
     ]
    },
    {
     "name": "stdout",
     "output_type": "stream",
     "text": [
      "CV average RMSE: 7.77498\n"
     ]
    },
    {
     "name": "stderr",
     "output_type": "stream",
     "text": [
      "[I 2019-03-13 04:51:42,674] Finished a trial resulted in value: 7.774984694620786. Current best value is 2.818233866661339 with parameters: {'num_leaves': 7, 'learning_rate': 0.08554584172791803, 'feature_fraction': 0.7947785160697323, 'bagging_fraction': 0.1407411937507261, 'bagging_freq': 0, 'lambda_l2': 0.22220574691613132}.\n"
     ]
    },
    {
     "name": "stdout",
     "output_type": "stream",
     "text": [
      "CV average RMSE: 2.82882\n"
     ]
    },
    {
     "name": "stderr",
     "output_type": "stream",
     "text": [
      "[I 2019-03-13 04:51:43,097] Finished a trial resulted in value: 2.828815899582865. Current best value is 2.818233866661339 with parameters: {'num_leaves': 7, 'learning_rate': 0.08554584172791803, 'feature_fraction': 0.7947785160697323, 'bagging_fraction': 0.1407411937507261, 'bagging_freq': 0, 'lambda_l2': 0.22220574691613132}.\n"
     ]
    },
    {
     "name": "stdout",
     "output_type": "stream",
     "text": [
      "CV average RMSE: 2.95876\n"
     ]
    },
    {
     "name": "stderr",
     "output_type": "stream",
     "text": [
      "[I 2019-03-13 04:51:43,464] Finished a trial resulted in value: 2.9587573814814325. Current best value is 2.818233866661339 with parameters: {'num_leaves': 7, 'learning_rate': 0.08554584172791803, 'feature_fraction': 0.7947785160697323, 'bagging_fraction': 0.1407411937507261, 'bagging_freq': 0, 'lambda_l2': 0.22220574691613132}.\n"
     ]
    },
    {
     "name": "stdout",
     "output_type": "stream",
     "text": [
      "CV average RMSE: 7.77498\n"
     ]
    },
    {
     "name": "stderr",
     "output_type": "stream",
     "text": [
      "[I 2019-03-13 04:51:43,741] Finished a trial resulted in value: 7.774984694620786. Current best value is 2.818233866661339 with parameters: {'num_leaves': 7, 'learning_rate': 0.08554584172791803, 'feature_fraction': 0.7947785160697323, 'bagging_fraction': 0.1407411937507261, 'bagging_freq': 0, 'lambda_l2': 0.22220574691613132}.\n"
     ]
    },
    {
     "name": "stdout",
     "output_type": "stream",
     "text": [
      "CV average RMSE: 7.77498\n"
     ]
    },
    {
     "name": "stderr",
     "output_type": "stream",
     "text": [
      "[I 2019-03-13 04:51:44,007] Finished a trial resulted in value: 7.774984694620786. Current best value is 2.818233866661339 with parameters: {'num_leaves': 7, 'learning_rate': 0.08554584172791803, 'feature_fraction': 0.7947785160697323, 'bagging_fraction': 0.1407411937507261, 'bagging_freq': 0, 'lambda_l2': 0.22220574691613132}.\n"
     ]
    },
    {
     "name": "stdout",
     "output_type": "stream",
     "text": [
      "CV average RMSE: 2.82649\n"
     ]
    },
    {
     "name": "stderr",
     "output_type": "stream",
     "text": [
      "[I 2019-03-13 04:51:44,421] Finished a trial resulted in value: 2.8264897667491877. Current best value is 2.818233866661339 with parameters: {'num_leaves': 7, 'learning_rate': 0.08554584172791803, 'feature_fraction': 0.7947785160697323, 'bagging_fraction': 0.1407411937507261, 'bagging_freq': 0, 'lambda_l2': 0.22220574691613132}.\n"
     ]
    },
    {
     "name": "stdout",
     "output_type": "stream",
     "text": [
      "CV average RMSE: 7.77498\n"
     ]
    },
    {
     "name": "stderr",
     "output_type": "stream",
     "text": [
      "[I 2019-03-13 04:51:44,695] Finished a trial resulted in value: 7.774984694620786. Current best value is 2.818233866661339 with parameters: {'num_leaves': 7, 'learning_rate': 0.08554584172791803, 'feature_fraction': 0.7947785160697323, 'bagging_fraction': 0.1407411937507261, 'bagging_freq': 0, 'lambda_l2': 0.22220574691613132}.\n"
     ]
    },
    {
     "name": "stdout",
     "output_type": "stream",
     "text": [
      "CV average RMSE: 3.0931\n"
     ]
    },
    {
     "name": "stderr",
     "output_type": "stream",
     "text": [
      "[I 2019-03-13 04:51:45,156] Finished a trial resulted in value: 3.0930981646484614. Current best value is 2.818233866661339 with parameters: {'num_leaves': 7, 'learning_rate': 0.08554584172791803, 'feature_fraction': 0.7947785160697323, 'bagging_fraction': 0.1407411937507261, 'bagging_freq': 0, 'lambda_l2': 0.22220574691613132}.\n"
     ]
    },
    {
     "name": "stdout",
     "output_type": "stream",
     "text": [
      "CV average RMSE: 7.77498\n"
     ]
    },
    {
     "name": "stderr",
     "output_type": "stream",
     "text": [
      "[I 2019-03-13 04:51:45,457] Finished a trial resulted in value: 7.774984694620786. Current best value is 2.818233866661339 with parameters: {'num_leaves': 7, 'learning_rate': 0.08554584172791803, 'feature_fraction': 0.7947785160697323, 'bagging_fraction': 0.1407411937507261, 'bagging_freq': 0, 'lambda_l2': 0.22220574691613132}.\n"
     ]
    },
    {
     "name": "stdout",
     "output_type": "stream",
     "text": [
      "CV average RMSE: 3.76311\n"
     ]
    },
    {
     "name": "stderr",
     "output_type": "stream",
     "text": [
      "[I 2019-03-13 04:51:45,909] Finished a trial resulted in value: 3.7631063565829215. Current best value is 2.818233866661339 with parameters: {'num_leaves': 7, 'learning_rate': 0.08554584172791803, 'feature_fraction': 0.7947785160697323, 'bagging_fraction': 0.1407411937507261, 'bagging_freq': 0, 'lambda_l2': 0.22220574691613132}.\n"
     ]
    },
    {
     "name": "stdout",
     "output_type": "stream",
     "text": [
      "CV average RMSE: 2.82333\n"
     ]
    },
    {
     "name": "stderr",
     "output_type": "stream",
     "text": [
      "[I 2019-03-13 04:51:46,416] Finished a trial resulted in value: 2.823331382575078. Current best value is 2.818233866661339 with parameters: {'num_leaves': 7, 'learning_rate': 0.08554584172791803, 'feature_fraction': 0.7947785160697323, 'bagging_fraction': 0.1407411937507261, 'bagging_freq': 0, 'lambda_l2': 0.22220574691613132}.\n"
     ]
    },
    {
     "name": "stdout",
     "output_type": "stream",
     "text": [
      "CV average RMSE: 4.85099\n"
     ]
    },
    {
     "name": "stderr",
     "output_type": "stream",
     "text": [
      "[I 2019-03-13 04:51:46,956] Finished a trial resulted in value: 4.8509854094349985. Current best value is 2.818233866661339 with parameters: {'num_leaves': 7, 'learning_rate': 0.08554584172791803, 'feature_fraction': 0.7947785160697323, 'bagging_fraction': 0.1407411937507261, 'bagging_freq': 0, 'lambda_l2': 0.22220574691613132}.\n"
     ]
    },
    {
     "name": "stdout",
     "output_type": "stream",
     "text": [
      "CV average RMSE: 7.77498\n"
     ]
    },
    {
     "name": "stderr",
     "output_type": "stream",
     "text": [
      "[I 2019-03-13 04:51:47,254] Finished a trial resulted in value: 7.774984694620786. Current best value is 2.818233866661339 with parameters: {'num_leaves': 7, 'learning_rate': 0.08554584172791803, 'feature_fraction': 0.7947785160697323, 'bagging_fraction': 0.1407411937507261, 'bagging_freq': 0, 'lambda_l2': 0.22220574691613132}.\n"
     ]
    },
    {
     "name": "stdout",
     "output_type": "stream",
     "text": [
      "CV average RMSE: 2.81667\n"
     ]
    },
    {
     "name": "stderr",
     "output_type": "stream",
     "text": [
      "[I 2019-03-13 04:51:47,666] Finished a trial resulted in value: 2.816668559449447. Current best value is 2.816668559449447 with parameters: {'num_leaves': 9, 'learning_rate': 0.09840853316806675, 'feature_fraction': 0.9719864929643989, 'bagging_fraction': 0.30110234896957866, 'bagging_freq': 0, 'lambda_l2': 0.26056675780619376}.\n"
     ]
    },
    {
     "name": "stdout",
     "output_type": "stream",
     "text": [
      "CV average RMSE: 2.82607\n"
     ]
    },
    {
     "name": "stderr",
     "output_type": "stream",
     "text": [
      "[I 2019-03-13 04:51:48,049] Finished a trial resulted in value: 2.826070234108359. Current best value is 2.816668559449447 with parameters: {'num_leaves': 9, 'learning_rate': 0.09840853316806675, 'feature_fraction': 0.9719864929643989, 'bagging_fraction': 0.30110234896957866, 'bagging_freq': 0, 'lambda_l2': 0.26056675780619376}.\n"
     ]
    },
    {
     "name": "stdout",
     "output_type": "stream",
     "text": [
      "CV average RMSE: 2.87476\n"
     ]
    },
    {
     "name": "stderr",
     "output_type": "stream",
     "text": [
      "[I 2019-03-13 04:51:48,422] Finished a trial resulted in value: 2.874758013460975. Current best value is 2.816668559449447 with parameters: {'num_leaves': 9, 'learning_rate': 0.09840853316806675, 'feature_fraction': 0.9719864929643989, 'bagging_fraction': 0.30110234896957866, 'bagging_freq': 0, 'lambda_l2': 0.26056675780619376}.\n"
     ]
    },
    {
     "name": "stdout",
     "output_type": "stream",
     "text": [
      "CV average RMSE: 3.25014\n"
     ]
    },
    {
     "name": "stderr",
     "output_type": "stream",
     "text": [
      "[I 2019-03-13 04:51:48,764] Finished a trial resulted in value: 3.2501429009822878. Current best value is 2.816668559449447 with parameters: {'num_leaves': 9, 'learning_rate': 0.09840853316806675, 'feature_fraction': 0.9719864929643989, 'bagging_fraction': 0.30110234896957866, 'bagging_freq': 0, 'lambda_l2': 0.26056675780619376}.\n"
     ]
    },
    {
     "name": "stdout",
     "output_type": "stream",
     "text": [
      "CV average RMSE: 3.59096\n"
     ]
    },
    {
     "name": "stderr",
     "output_type": "stream",
     "text": [
      "[I 2019-03-13 04:51:49,123] Finished a trial resulted in value: 3.5909605846704076. Current best value is 2.816668559449447 with parameters: {'num_leaves': 9, 'learning_rate': 0.09840853316806675, 'feature_fraction': 0.9719864929643989, 'bagging_fraction': 0.30110234896957866, 'bagging_freq': 0, 'lambda_l2': 0.26056675780619376}.\n"
     ]
    },
    {
     "name": "stdout",
     "output_type": "stream",
     "text": [
      "CV average RMSE: 2.98463\n"
     ]
    },
    {
     "name": "stderr",
     "output_type": "stream",
     "text": [
      "[I 2019-03-13 04:51:49,465] Finished a trial resulted in value: 2.984625046503105. Current best value is 2.816668559449447 with parameters: {'num_leaves': 9, 'learning_rate': 0.09840853316806675, 'feature_fraction': 0.9719864929643989, 'bagging_fraction': 0.30110234896957866, 'bagging_freq': 0, 'lambda_l2': 0.26056675780619376}.\n"
     ]
    },
    {
     "name": "stdout",
     "output_type": "stream",
     "text": [
      "CV average RMSE: 2.82439\n"
     ]
    },
    {
     "name": "stderr",
     "output_type": "stream",
     "text": [
      "[I 2019-03-13 04:51:49,851] Finished a trial resulted in value: 2.8243858480918522. Current best value is 2.816668559449447 with parameters: {'num_leaves': 9, 'learning_rate': 0.09840853316806675, 'feature_fraction': 0.9719864929643989, 'bagging_fraction': 0.30110234896957866, 'bagging_freq': 0, 'lambda_l2': 0.26056675780619376}.\n"
     ]
    },
    {
     "name": "stdout",
     "output_type": "stream",
     "text": [
      "CV average RMSE: 3.1498\n"
     ]
    },
    {
     "name": "stderr",
     "output_type": "stream",
     "text": [
      "[I 2019-03-13 04:51:50,194] Finished a trial resulted in value: 3.149797317585544. Current best value is 2.816668559449447 with parameters: {'num_leaves': 9, 'learning_rate': 0.09840853316806675, 'feature_fraction': 0.9719864929643989, 'bagging_fraction': 0.30110234896957866, 'bagging_freq': 0, 'lambda_l2': 0.26056675780619376}.\n"
     ]
    },
    {
     "name": "stdout",
     "output_type": "stream",
     "text": [
      "CV average RMSE: 3.57728\n"
     ]
    },
    {
     "name": "stderr",
     "output_type": "stream",
     "text": [
      "[I 2019-03-13 04:51:50,777] Finished a trial resulted in value: 3.57728296093713. Current best value is 2.816668559449447 with parameters: {'num_leaves': 9, 'learning_rate': 0.09840853316806675, 'feature_fraction': 0.9719864929643989, 'bagging_fraction': 0.30110234896957866, 'bagging_freq': 0, 'lambda_l2': 0.26056675780619376}.\n"
     ]
    },
    {
     "name": "stdout",
     "output_type": "stream",
     "text": [
      "CV average RMSE: 2.82264\n"
     ]
    },
    {
     "name": "stderr",
     "output_type": "stream",
     "text": [
      "[I 2019-03-13 04:51:51,195] Finished a trial resulted in value: 2.8226423321000533. Current best value is 2.816668559449447 with parameters: {'num_leaves': 9, 'learning_rate': 0.09840853316806675, 'feature_fraction': 0.9719864929643989, 'bagging_fraction': 0.30110234896957866, 'bagging_freq': 0, 'lambda_l2': 0.26056675780619376}.\n"
     ]
    },
    {
     "name": "stdout",
     "output_type": "stream",
     "text": [
      "CV average RMSE: 3.46842\n"
     ]
    },
    {
     "name": "stderr",
     "output_type": "stream",
     "text": [
      "[I 2019-03-13 04:51:51,608] Finished a trial resulted in value: 3.4684199375981266. Current best value is 2.816668559449447 with parameters: {'num_leaves': 9, 'learning_rate': 0.09840853316806675, 'feature_fraction': 0.9719864929643989, 'bagging_fraction': 0.30110234896957866, 'bagging_freq': 0, 'lambda_l2': 0.26056675780619376}.\n"
     ]
    },
    {
     "name": "stdout",
     "output_type": "stream",
     "text": [
      "CV average RMSE: 3.08638\n"
     ]
    },
    {
     "name": "stderr",
     "output_type": "stream",
     "text": [
      "[I 2019-03-13 04:51:51,986] Finished a trial resulted in value: 3.086377088925977. Current best value is 2.816668559449447 with parameters: {'num_leaves': 9, 'learning_rate': 0.09840853316806675, 'feature_fraction': 0.9719864929643989, 'bagging_fraction': 0.30110234896957866, 'bagging_freq': 0, 'lambda_l2': 0.26056675780619376}.\n"
     ]
    },
    {
     "name": "stdout",
     "output_type": "stream",
     "text": [
      "CV average RMSE: 7.77498\n"
     ]
    },
    {
     "name": "stderr",
     "output_type": "stream",
     "text": [
      "[I 2019-03-13 04:51:52,234] Finished a trial resulted in value: 7.774984694620786. Current best value is 2.816668559449447 with parameters: {'num_leaves': 9, 'learning_rate': 0.09840853316806675, 'feature_fraction': 0.9719864929643989, 'bagging_fraction': 0.30110234896957866, 'bagging_freq': 0, 'lambda_l2': 0.26056675780619376}.\n"
     ]
    },
    {
     "name": "stdout",
     "output_type": "stream",
     "text": [
      "CV average RMSE: 2.90208\n"
     ]
    },
    {
     "name": "stderr",
     "output_type": "stream",
     "text": [
      "[I 2019-03-13 04:51:52,556] Finished a trial resulted in value: 2.9020803440389624. Current best value is 2.816668559449447 with parameters: {'num_leaves': 9, 'learning_rate': 0.09840853316806675, 'feature_fraction': 0.9719864929643989, 'bagging_fraction': 0.30110234896957866, 'bagging_freq': 0, 'lambda_l2': 0.26056675780619376}.\n"
     ]
    },
    {
     "name": "stdout",
     "output_type": "stream",
     "text": [
      "CV average RMSE: 2.82241\n"
     ]
    },
    {
     "name": "stderr",
     "output_type": "stream",
     "text": [
      "[I 2019-03-13 04:51:53,090] Finished a trial resulted in value: 2.822409757332065. Current best value is 2.816668559449447 with parameters: {'num_leaves': 9, 'learning_rate': 0.09840853316806675, 'feature_fraction': 0.9719864929643989, 'bagging_fraction': 0.30110234896957866, 'bagging_freq': 0, 'lambda_l2': 0.26056675780619376}.\n"
     ]
    },
    {
     "name": "stdout",
     "output_type": "stream",
     "text": [
      "CV average RMSE: 8.00918\n"
     ]
    },
    {
     "name": "stderr",
     "output_type": "stream",
     "text": [
      "[I 2019-03-13 04:51:53,477] Finished a trial resulted in value: 8.009179846145361. Current best value is 2.816668559449447 with parameters: {'num_leaves': 9, 'learning_rate': 0.09840853316806675, 'feature_fraction': 0.9719864929643989, 'bagging_fraction': 0.30110234896957866, 'bagging_freq': 0, 'lambda_l2': 0.26056675780619376}.\n"
     ]
    },
    {
     "name": "stdout",
     "output_type": "stream",
     "text": [
      "CV average RMSE: 2.87166\n"
     ]
    },
    {
     "name": "stderr",
     "output_type": "stream",
     "text": [
      "[I 2019-03-13 04:51:53,843] Finished a trial resulted in value: 2.8716627610750547. Current best value is 2.816668559449447 with parameters: {'num_leaves': 9, 'learning_rate': 0.09840853316806675, 'feature_fraction': 0.9719864929643989, 'bagging_fraction': 0.30110234896957866, 'bagging_freq': 0, 'lambda_l2': 0.26056675780619376}.\n"
     ]
    },
    {
     "name": "stdout",
     "output_type": "stream",
     "text": [
      "CV average RMSE: 2.99011\n"
     ]
    },
    {
     "name": "stderr",
     "output_type": "stream",
     "text": [
      "[I 2019-03-13 04:51:54,241] Finished a trial resulted in value: 2.9901075584245618. Current best value is 2.816668559449447 with parameters: {'num_leaves': 9, 'learning_rate': 0.09840853316806675, 'feature_fraction': 0.9719864929643989, 'bagging_fraction': 0.30110234896957866, 'bagging_freq': 0, 'lambda_l2': 0.26056675780619376}.\n"
     ]
    },
    {
     "name": "stdout",
     "output_type": "stream",
     "text": [
      "CV average RMSE: 2.8219\n"
     ]
    },
    {
     "name": "stderr",
     "output_type": "stream",
     "text": [
      "[I 2019-03-13 04:51:54,712] Finished a trial resulted in value: 2.8218987796537167. Current best value is 2.816668559449447 with parameters: {'num_leaves': 9, 'learning_rate': 0.09840853316806675, 'feature_fraction': 0.9719864929643989, 'bagging_fraction': 0.30110234896957866, 'bagging_freq': 0, 'lambda_l2': 0.26056675780619376}.\n"
     ]
    },
    {
     "name": "stdout",
     "output_type": "stream",
     "text": [
      "CV average RMSE: 2.82594\n"
     ]
    },
    {
     "name": "stderr",
     "output_type": "stream",
     "text": [
      "[I 2019-03-13 04:51:55,205] Finished a trial resulted in value: 2.8259421266822327. Current best value is 2.816668559449447 with parameters: {'num_leaves': 9, 'learning_rate': 0.09840853316806675, 'feature_fraction': 0.9719864929643989, 'bagging_fraction': 0.30110234896957866, 'bagging_freq': 0, 'lambda_l2': 0.26056675780619376}.\n"
     ]
    },
    {
     "name": "stdout",
     "output_type": "stream",
     "text": [
      "CV average RMSE: 3.53134\n"
     ]
    },
    {
     "name": "stderr",
     "output_type": "stream",
     "text": [
      "[I 2019-03-13 04:51:55,696] Finished a trial resulted in value: 3.5313388902859586. Current best value is 2.816668559449447 with parameters: {'num_leaves': 9, 'learning_rate': 0.09840853316806675, 'feature_fraction': 0.9719864929643989, 'bagging_fraction': 0.30110234896957866, 'bagging_freq': 0, 'lambda_l2': 0.26056675780619376}.\n"
     ]
    },
    {
     "name": "stdout",
     "output_type": "stream",
     "text": [
      "CV average RMSE: 7.31276\n"
     ]
    },
    {
     "name": "stderr",
     "output_type": "stream",
     "text": [
      "[I 2019-03-13 04:51:55,988] Finished a trial resulted in value: 7.312762695366901. Current best value is 2.816668559449447 with parameters: {'num_leaves': 9, 'learning_rate': 0.09840853316806675, 'feature_fraction': 0.9719864929643989, 'bagging_fraction': 0.30110234896957866, 'bagging_freq': 0, 'lambda_l2': 0.26056675780619376}.\n"
     ]
    },
    {
     "name": "stdout",
     "output_type": "stream",
     "text": [
      "CV average RMSE: 2.83415\n"
     ]
    },
    {
     "name": "stderr",
     "output_type": "stream",
     "text": [
      "[I 2019-03-13 04:51:56,536] Finished a trial resulted in value: 2.8341480329854116. Current best value is 2.816668559449447 with parameters: {'num_leaves': 9, 'learning_rate': 0.09840853316806675, 'feature_fraction': 0.9719864929643989, 'bagging_fraction': 0.30110234896957866, 'bagging_freq': 0, 'lambda_l2': 0.26056675780619376}.\n"
     ]
    },
    {
     "name": "stdout",
     "output_type": "stream",
     "text": [
      "CV average RMSE: 3.29774\n"
     ]
    },
    {
     "name": "stderr",
     "output_type": "stream",
     "text": [
      "[I 2019-03-13 04:51:56,912] Finished a trial resulted in value: 3.2977440734428534. Current best value is 2.816668559449447 with parameters: {'num_leaves': 9, 'learning_rate': 0.09840853316806675, 'feature_fraction': 0.9719864929643989, 'bagging_fraction': 0.30110234896957866, 'bagging_freq': 0, 'lambda_l2': 0.26056675780619376}.\n"
     ]
    },
    {
     "name": "stdout",
     "output_type": "stream",
     "text": [
      "CV average RMSE: 2.82244\n"
     ]
    },
    {
     "name": "stderr",
     "output_type": "stream",
     "text": [
      "[I 2019-03-13 04:51:57,402] Finished a trial resulted in value: 2.8224383249166523. Current best value is 2.816668559449447 with parameters: {'num_leaves': 9, 'learning_rate': 0.09840853316806675, 'feature_fraction': 0.9719864929643989, 'bagging_fraction': 0.30110234896957866, 'bagging_freq': 0, 'lambda_l2': 0.26056675780619376}.\n"
     ]
    },
    {
     "name": "stdout",
     "output_type": "stream",
     "text": [
      "CV average RMSE: 7.77498\n"
     ]
    },
    {
     "name": "stderr",
     "output_type": "stream",
     "text": [
      "[I 2019-03-13 04:51:57,669] Finished a trial resulted in value: 7.774984694620786. Current best value is 2.816668559449447 with parameters: {'num_leaves': 9, 'learning_rate': 0.09840853316806675, 'feature_fraction': 0.9719864929643989, 'bagging_fraction': 0.30110234896957866, 'bagging_freq': 0, 'lambda_l2': 0.26056675780619376}.\n"
     ]
    },
    {
     "name": "stdout",
     "output_type": "stream",
     "text": [
      "CV average RMSE: 3.77198\n"
     ]
    },
    {
     "name": "stderr",
     "output_type": "stream",
     "text": [
      "[I 2019-03-13 04:51:58,062] Finished a trial resulted in value: 3.771982771711233. Current best value is 2.816668559449447 with parameters: {'num_leaves': 9, 'learning_rate': 0.09840853316806675, 'feature_fraction': 0.9719864929643989, 'bagging_fraction': 0.30110234896957866, 'bagging_freq': 0, 'lambda_l2': 0.26056675780619376}.\n"
     ]
    },
    {
     "name": "stdout",
     "output_type": "stream",
     "text": [
      "CV average RMSE: 2.81961\n"
     ]
    },
    {
     "name": "stderr",
     "output_type": "stream",
     "text": [
      "[I 2019-03-13 04:51:58,566] Finished a trial resulted in value: 2.819612091883264. Current best value is 2.816668559449447 with parameters: {'num_leaves': 9, 'learning_rate': 0.09840853316806675, 'feature_fraction': 0.9719864929643989, 'bagging_fraction': 0.30110234896957866, 'bagging_freq': 0, 'lambda_l2': 0.26056675780619376}.\n"
     ]
    },
    {
     "name": "stdout",
     "output_type": "stream",
     "text": [
      "CV average RMSE: 2.81998\n"
     ]
    },
    {
     "name": "stderr",
     "output_type": "stream",
     "text": [
      "[I 2019-03-13 04:51:58,981] Finished a trial resulted in value: 2.8199767337825206. Current best value is 2.816668559449447 with parameters: {'num_leaves': 9, 'learning_rate': 0.09840853316806675, 'feature_fraction': 0.9719864929643989, 'bagging_fraction': 0.30110234896957866, 'bagging_freq': 0, 'lambda_l2': 0.26056675780619376}.\n"
     ]
    },
    {
     "name": "stdout",
     "output_type": "stream",
     "text": [
      "CV average RMSE: 2.8233\n"
     ]
    },
    {
     "name": "stderr",
     "output_type": "stream",
     "text": [
      "[I 2019-03-13 04:51:59,405] Finished a trial resulted in value: 2.823296740773966. Current best value is 2.816668559449447 with parameters: {'num_leaves': 9, 'learning_rate': 0.09840853316806675, 'feature_fraction': 0.9719864929643989, 'bagging_fraction': 0.30110234896957866, 'bagging_freq': 0, 'lambda_l2': 0.26056675780619376}.\n"
     ]
    },
    {
     "name": "stdout",
     "output_type": "stream",
     "text": [
      "CV average RMSE: 2.82237\n"
     ]
    },
    {
     "name": "stderr",
     "output_type": "stream",
     "text": [
      "[I 2019-03-13 04:51:59,909] Finished a trial resulted in value: 2.822372079439095. Current best value is 2.816668559449447 with parameters: {'num_leaves': 9, 'learning_rate': 0.09840853316806675, 'feature_fraction': 0.9719864929643989, 'bagging_fraction': 0.30110234896957866, 'bagging_freq': 0, 'lambda_l2': 0.26056675780619376}.\n"
     ]
    },
    {
     "name": "stdout",
     "output_type": "stream",
     "text": [
      "CV average RMSE: 7.77498\n"
     ]
    },
    {
     "name": "stderr",
     "output_type": "stream",
     "text": [
      "[I 2019-03-13 04:52:00,180] Finished a trial resulted in value: 7.774984694620786. Current best value is 2.816668559449447 with parameters: {'num_leaves': 9, 'learning_rate': 0.09840853316806675, 'feature_fraction': 0.9719864929643989, 'bagging_fraction': 0.30110234896957866, 'bagging_freq': 0, 'lambda_l2': 0.26056675780619376}.\n"
     ]
    },
    {
     "name": "stdout",
     "output_type": "stream",
     "text": [
      "CV average RMSE: 2.82043\n"
     ]
    },
    {
     "name": "stderr",
     "output_type": "stream",
     "text": [
      "[I 2019-03-13 04:52:00,585] Finished a trial resulted in value: 2.820425221539114. Current best value is 2.816668559449447 with parameters: {'num_leaves': 9, 'learning_rate': 0.09840853316806675, 'feature_fraction': 0.9719864929643989, 'bagging_fraction': 0.30110234896957866, 'bagging_freq': 0, 'lambda_l2': 0.26056675780619376}.\n"
     ]
    },
    {
     "name": "stdout",
     "output_type": "stream",
     "text": [
      "CV average RMSE: 2.81941\n"
     ]
    },
    {
     "name": "stderr",
     "output_type": "stream",
     "text": [
      "[I 2019-03-13 04:52:01,072] Finished a trial resulted in value: 2.8194091257883325. Current best value is 2.816668559449447 with parameters: {'num_leaves': 9, 'learning_rate': 0.09840853316806675, 'feature_fraction': 0.9719864929643989, 'bagging_fraction': 0.30110234896957866, 'bagging_freq': 0, 'lambda_l2': 0.26056675780619376}.\n"
     ]
    },
    {
     "name": "stdout",
     "output_type": "stream",
     "text": [
      "CV average RMSE: 7.77498\n"
     ]
    },
    {
     "name": "stderr",
     "output_type": "stream",
     "text": [
      "[I 2019-03-13 04:52:01,338] Finished a trial resulted in value: 7.774984694620786. Current best value is 2.816668559449447 with parameters: {'num_leaves': 9, 'learning_rate': 0.09840853316806675, 'feature_fraction': 0.9719864929643989, 'bagging_fraction': 0.30110234896957866, 'bagging_freq': 0, 'lambda_l2': 0.26056675780619376}.\n"
     ]
    },
    {
     "name": "stdout",
     "output_type": "stream",
     "text": [
      "CV average RMSE: 2.82077\n"
     ]
    },
    {
     "name": "stderr",
     "output_type": "stream",
     "text": [
      "[I 2019-03-13 04:52:01,767] Finished a trial resulted in value: 2.8207700139265492. Current best value is 2.816668559449447 with parameters: {'num_leaves': 9, 'learning_rate': 0.09840853316806675, 'feature_fraction': 0.9719864929643989, 'bagging_fraction': 0.30110234896957866, 'bagging_freq': 0, 'lambda_l2': 0.26056675780619376}.\n"
     ]
    },
    {
     "name": "stdout",
     "output_type": "stream",
     "text": [
      "CV average RMSE: 7.77498\n"
     ]
    },
    {
     "name": "stderr",
     "output_type": "stream",
     "text": [
      "[I 2019-03-13 04:52:02,065] Finished a trial resulted in value: 7.774984694620786. Current best value is 2.816668559449447 with parameters: {'num_leaves': 9, 'learning_rate': 0.09840853316806675, 'feature_fraction': 0.9719864929643989, 'bagging_fraction': 0.30110234896957866, 'bagging_freq': 0, 'lambda_l2': 0.26056675780619376}.\n"
     ]
    },
    {
     "name": "stdout",
     "output_type": "stream",
     "text": [
      "CV average RMSE: 2.82091\n"
     ]
    },
    {
     "name": "stderr",
     "output_type": "stream",
     "text": [
      "[I 2019-03-13 04:52:02,497] Finished a trial resulted in value: 2.820908640774161. Current best value is 2.816668559449447 with parameters: {'num_leaves': 9, 'learning_rate': 0.09840853316806675, 'feature_fraction': 0.9719864929643989, 'bagging_fraction': 0.30110234896957866, 'bagging_freq': 0, 'lambda_l2': 0.26056675780619376}.\n"
     ]
    },
    {
     "name": "stdout",
     "output_type": "stream",
     "text": [
      "CV average RMSE: 7.77498\n"
     ]
    },
    {
     "name": "stderr",
     "output_type": "stream",
     "text": [
      "[I 2019-03-13 04:52:02,764] Finished a trial resulted in value: 7.774984694620786. Current best value is 2.816668559449447 with parameters: {'num_leaves': 9, 'learning_rate': 0.09840853316806675, 'feature_fraction': 0.9719864929643989, 'bagging_fraction': 0.30110234896957866, 'bagging_freq': 0, 'lambda_l2': 0.26056675780619376}.\n"
     ]
    },
    {
     "name": "stdout",
     "output_type": "stream",
     "text": [
      "CV average RMSE: 2.81772\n"
     ]
    },
    {
     "name": "stderr",
     "output_type": "stream",
     "text": [
      "[I 2019-03-13 04:52:03,268] Finished a trial resulted in value: 2.8177202442395664. Current best value is 2.816668559449447 with parameters: {'num_leaves': 9, 'learning_rate': 0.09840853316806675, 'feature_fraction': 0.9719864929643989, 'bagging_fraction': 0.30110234896957866, 'bagging_freq': 0, 'lambda_l2': 0.26056675780619376}.\n"
     ]
    },
    {
     "name": "stdout",
     "output_type": "stream",
     "text": [
      "CV average RMSE: 2.82322\n"
     ]
    },
    {
     "name": "stderr",
     "output_type": "stream",
     "text": [
      "[I 2019-03-13 04:52:03,702] Finished a trial resulted in value: 2.823220899485687. Current best value is 2.816668559449447 with parameters: {'num_leaves': 9, 'learning_rate': 0.09840853316806675, 'feature_fraction': 0.9719864929643989, 'bagging_fraction': 0.30110234896957866, 'bagging_freq': 0, 'lambda_l2': 0.26056675780619376}.\n"
     ]
    },
    {
     "name": "stdout",
     "output_type": "stream",
     "text": [
      "CV average RMSE: 7.77498\n"
     ]
    },
    {
     "name": "stderr",
     "output_type": "stream",
     "text": [
      "[I 2019-03-13 04:52:03,972] Finished a trial resulted in value: 7.774984694620786. Current best value is 2.816668559449447 with parameters: {'num_leaves': 9, 'learning_rate': 0.09840853316806675, 'feature_fraction': 0.9719864929643989, 'bagging_fraction': 0.30110234896957866, 'bagging_freq': 0, 'lambda_l2': 0.26056675780619376}.\n"
     ]
    },
    {
     "name": "stdout",
     "output_type": "stream",
     "text": [
      "CV average RMSE: 2.82185\n"
     ]
    },
    {
     "name": "stderr",
     "output_type": "stream",
     "text": [
      "[I 2019-03-13 04:52:04,478] Finished a trial resulted in value: 2.821850674175552. Current best value is 2.816668559449447 with parameters: {'num_leaves': 9, 'learning_rate': 0.09840853316806675, 'feature_fraction': 0.9719864929643989, 'bagging_fraction': 0.30110234896957866, 'bagging_freq': 0, 'lambda_l2': 0.26056675780619376}.\n"
     ]
    },
    {
     "name": "stdout",
     "output_type": "stream",
     "text": [
      "CV average RMSE: 3.46635\n"
     ]
    },
    {
     "name": "stderr",
     "output_type": "stream",
     "text": [
      "[I 2019-03-13 04:52:04,863] Finished a trial resulted in value: 3.466352817980952. Current best value is 2.816668559449447 with parameters: {'num_leaves': 9, 'learning_rate': 0.09840853316806675, 'feature_fraction': 0.9719864929643989, 'bagging_fraction': 0.30110234896957866, 'bagging_freq': 0, 'lambda_l2': 0.26056675780619376}.\n"
     ]
    },
    {
     "name": "stdout",
     "output_type": "stream",
     "text": [
      "CV average RMSE: 2.82167\n"
     ]
    },
    {
     "name": "stderr",
     "output_type": "stream",
     "text": [
      "[I 2019-03-13 04:52:05,351] Finished a trial resulted in value: 2.8216666811044275. Current best value is 2.816668559449447 with parameters: {'num_leaves': 9, 'learning_rate': 0.09840853316806675, 'feature_fraction': 0.9719864929643989, 'bagging_fraction': 0.30110234896957866, 'bagging_freq': 0, 'lambda_l2': 0.26056675780619376}.\n"
     ]
    },
    {
     "name": "stdout",
     "output_type": "stream",
     "text": [
      "CV average RMSE: 2.82303\n"
     ]
    },
    {
     "name": "stderr",
     "output_type": "stream",
     "text": [
      "[I 2019-03-13 04:52:05,793] Finished a trial resulted in value: 2.823029716996188. Current best value is 2.816668559449447 with parameters: {'num_leaves': 9, 'learning_rate': 0.09840853316806675, 'feature_fraction': 0.9719864929643989, 'bagging_fraction': 0.30110234896957866, 'bagging_freq': 0, 'lambda_l2': 0.26056675780619376}.\n"
     ]
    },
    {
     "name": "stdout",
     "output_type": "stream",
     "text": [
      "CV average RMSE: 7.77498\n"
     ]
    },
    {
     "name": "stderr",
     "output_type": "stream",
     "text": [
      "[I 2019-03-13 04:52:06,054] Finished a trial resulted in value: 7.774984694620786. Current best value is 2.816668559449447 with parameters: {'num_leaves': 9, 'learning_rate': 0.09840853316806675, 'feature_fraction': 0.9719864929643989, 'bagging_fraction': 0.30110234896957866, 'bagging_freq': 0, 'lambda_l2': 0.26056675780619376}.\n"
     ]
    },
    {
     "name": "stdout",
     "output_type": "stream",
     "text": [
      "CV average RMSE: 2.82298\n"
     ]
    },
    {
     "name": "stderr",
     "output_type": "stream",
     "text": [
      "[I 2019-03-13 04:52:06,592] Finished a trial resulted in value: 2.822976938631696. Current best value is 2.816668559449447 with parameters: {'num_leaves': 9, 'learning_rate': 0.09840853316806675, 'feature_fraction': 0.9719864929643989, 'bagging_fraction': 0.30110234896957866, 'bagging_freq': 0, 'lambda_l2': 0.26056675780619376}.\n"
     ]
    },
    {
     "name": "stdout",
     "output_type": "stream",
     "text": [
      "CV average RMSE: 7.77498\n"
     ]
    },
    {
     "name": "stderr",
     "output_type": "stream",
     "text": [
      "[I 2019-03-13 04:52:06,862] Finished a trial resulted in value: 7.774984694620786. Current best value is 2.816668559449447 with parameters: {'num_leaves': 9, 'learning_rate': 0.09840853316806675, 'feature_fraction': 0.9719864929643989, 'bagging_fraction': 0.30110234896957866, 'bagging_freq': 0, 'lambda_l2': 0.26056675780619376}.\n"
     ]
    },
    {
     "name": "stdout",
     "output_type": "stream",
     "text": [
      "CV average RMSE: 2.81875\n"
     ]
    },
    {
     "name": "stderr",
     "output_type": "stream",
     "text": [
      "[I 2019-03-13 04:52:07,301] Finished a trial resulted in value: 2.818753338604418. Current best value is 2.816668559449447 with parameters: {'num_leaves': 9, 'learning_rate': 0.09840853316806675, 'feature_fraction': 0.9719864929643989, 'bagging_fraction': 0.30110234896957866, 'bagging_freq': 0, 'lambda_l2': 0.26056675780619376}.\n"
     ]
    },
    {
     "name": "stdout",
     "output_type": "stream",
     "text": [
      "CV average RMSE: 7.77498\n"
     ]
    },
    {
     "name": "stderr",
     "output_type": "stream",
     "text": [
      "[I 2019-03-13 04:52:07,569] Finished a trial resulted in value: 7.774984694620786. Current best value is 2.816668559449447 with parameters: {'num_leaves': 9, 'learning_rate': 0.09840853316806675, 'feature_fraction': 0.9719864929643989, 'bagging_fraction': 0.30110234896957866, 'bagging_freq': 0, 'lambda_l2': 0.26056675780619376}.\n"
     ]
    },
    {
     "name": "stdout",
     "output_type": "stream",
     "text": [
      "CV average RMSE: 2.82444\n"
     ]
    },
    {
     "name": "stderr",
     "output_type": "stream",
     "text": [
      "[I 2019-03-13 04:52:07,990] Finished a trial resulted in value: 2.8244372806956264. Current best value is 2.816668559449447 with parameters: {'num_leaves': 9, 'learning_rate': 0.09840853316806675, 'feature_fraction': 0.9719864929643989, 'bagging_fraction': 0.30110234896957866, 'bagging_freq': 0, 'lambda_l2': 0.26056675780619376}.\n"
     ]
    },
    {
     "name": "stdout",
     "output_type": "stream",
     "text": [
      "CV average RMSE: 7.77498\n"
     ]
    },
    {
     "name": "stderr",
     "output_type": "stream",
     "text": [
      "[I 2019-03-13 04:52:08,254] Finished a trial resulted in value: 7.774984694620786. Current best value is 2.816668559449447 with parameters: {'num_leaves': 9, 'learning_rate': 0.09840853316806675, 'feature_fraction': 0.9719864929643989, 'bagging_fraction': 0.30110234896957866, 'bagging_freq': 0, 'lambda_l2': 0.26056675780619376}.\n"
     ]
    },
    {
     "name": "stdout",
     "output_type": "stream",
     "text": [
      "CV average RMSE: 2.82951\n"
     ]
    },
    {
     "name": "stderr",
     "output_type": "stream",
     "text": [
      "[I 2019-03-13 04:52:08,725] Finished a trial resulted in value: 2.8295149584806927. Current best value is 2.816668559449447 with parameters: {'num_leaves': 9, 'learning_rate': 0.09840853316806675, 'feature_fraction': 0.9719864929643989, 'bagging_fraction': 0.30110234896957866, 'bagging_freq': 0, 'lambda_l2': 0.26056675780619376}.\n",
      "[W 2019-03-13 04:52:08,868] Setting trial status as TrialState.FAIL because of the following error: LightGBMError('Check failed: num_data > 0 at D:\\\\a\\\\1\\\\s\\\\python-package\\\\compile\\\\src\\\\io\\\\dataset.cpp, line 27 .\\n',)\n",
      "Traceback (most recent call last):\n",
      "  File \"C:\\Users\\reo\\Anaconda3\\envs\\Kaggle\\lib\\site-packages\\optuna\\study.py\", line 407, in _run_trial\n",
      "    result = func(trial)\n",
      "  File \"<ipython-input-11-97621003bcc8>\", line 52, in objective\n",
      "    model = create_model(params, train_data_set, test_data_set)\n",
      "  File \"<ipython-input-11-97621003bcc8>\", line 14, in create_model\n",
      "    verbose_eval=False\n",
      "  File \"C:\\Users\\reo\\Anaconda3\\envs\\Kaggle\\lib\\site-packages\\lightgbm\\engine.py\", line 197, in train\n",
      "    booster = Booster(params=params, train_set=train_set)\n",
      "  File \"C:\\Users\\reo\\Anaconda3\\envs\\Kaggle\\lib\\site-packages\\lightgbm\\basic.py\", line 1554, in __init__\n",
      "    ctypes.byref(self.handle)))\n",
      "  File \"C:\\Users\\reo\\Anaconda3\\envs\\Kaggle\\lib\\site-packages\\lightgbm\\basic.py\", line 46, in _safe_call\n",
      "    raise LightGBMError(decode_string(_LIB.LGBM_GetLastError()))\n",
      "lightgbm.basic.LightGBMError: Check failed: num_data > 0 at D:\\a\\1\\s\\python-package\\compile\\src\\io\\dataset.cpp, line 27 .\n",
      "\n"
     ]
    },
    {
     "name": "stdout",
     "output_type": "stream",
     "text": [
      "CV average RMSE: 6.85586\n"
     ]
    },
    {
     "name": "stderr",
     "output_type": "stream",
     "text": [
      "[I 2019-03-13 04:52:09,226] Finished a trial resulted in value: 6.8558566447761695. Current best value is 2.816668559449447 with parameters: {'num_leaves': 9, 'learning_rate': 0.09840853316806675, 'feature_fraction': 0.9719864929643989, 'bagging_fraction': 0.30110234896957866, 'bagging_freq': 0, 'lambda_l2': 0.26056675780619376}.\n"
     ]
    },
    {
     "name": "stdout",
     "output_type": "stream",
     "text": [
      "CV average RMSE: 2.8262\n"
     ]
    },
    {
     "name": "stderr",
     "output_type": "stream",
     "text": [
      "[I 2019-03-13 04:52:09,728] Finished a trial resulted in value: 2.8262041671561406. Current best value is 2.816668559449447 with parameters: {'num_leaves': 9, 'learning_rate': 0.09840853316806675, 'feature_fraction': 0.9719864929643989, 'bagging_fraction': 0.30110234896957866, 'bagging_freq': 0, 'lambda_l2': 0.26056675780619376}.\n"
     ]
    },
    {
     "name": "stdout",
     "output_type": "stream",
     "text": [
      "CV average RMSE: 3.20038\n"
     ]
    },
    {
     "name": "stderr",
     "output_type": "stream",
     "text": [
      "[I 2019-03-13 04:52:10,093] Finished a trial resulted in value: 3.200381365550519. Current best value is 2.816668559449447 with parameters: {'num_leaves': 9, 'learning_rate': 0.09840853316806675, 'feature_fraction': 0.9719864929643989, 'bagging_fraction': 0.30110234896957866, 'bagging_freq': 0, 'lambda_l2': 0.26056675780619376}.\n"
     ]
    },
    {
     "name": "stdout",
     "output_type": "stream",
     "text": [
      "CV average RMSE: 2.82312\n"
     ]
    },
    {
     "name": "stderr",
     "output_type": "stream",
     "text": [
      "[I 2019-03-13 04:52:10,520] Finished a trial resulted in value: 2.8231179951287784. Current best value is 2.816668559449447 with parameters: {'num_leaves': 9, 'learning_rate': 0.09840853316806675, 'feature_fraction': 0.9719864929643989, 'bagging_fraction': 0.30110234896957866, 'bagging_freq': 0, 'lambda_l2': 0.26056675780619376}.\n"
     ]
    },
    {
     "name": "stdout",
     "output_type": "stream",
     "text": [
      "CV average RMSE: 7.77498\n"
     ]
    },
    {
     "name": "stderr",
     "output_type": "stream",
     "text": [
      "[I 2019-03-13 04:52:10,796] Finished a trial resulted in value: 7.774984694620786. Current best value is 2.816668559449447 with parameters: {'num_leaves': 9, 'learning_rate': 0.09840853316806675, 'feature_fraction': 0.9719864929643989, 'bagging_fraction': 0.30110234896957866, 'bagging_freq': 0, 'lambda_l2': 0.26056675780619376}.\n"
     ]
    },
    {
     "name": "stdout",
     "output_type": "stream",
     "text": [
      "CV average RMSE: 2.82601\n"
     ]
    },
    {
     "name": "stderr",
     "output_type": "stream",
     "text": [
      "[I 2019-03-13 04:52:11,266] Finished a trial resulted in value: 2.826014850820272. Current best value is 2.816668559449447 with parameters: {'num_leaves': 9, 'learning_rate': 0.09840853316806675, 'feature_fraction': 0.9719864929643989, 'bagging_fraction': 0.30110234896957866, 'bagging_freq': 0, 'lambda_l2': 0.26056675780619376}.\n"
     ]
    },
    {
     "name": "stdout",
     "output_type": "stream",
     "text": [
      "CV average RMSE: 7.77498\n"
     ]
    },
    {
     "name": "stderr",
     "output_type": "stream",
     "text": [
      "[I 2019-03-13 04:52:11,541] Finished a trial resulted in value: 7.774984694620786. Current best value is 2.816668559449447 with parameters: {'num_leaves': 9, 'learning_rate': 0.09840853316806675, 'feature_fraction': 0.9719864929643989, 'bagging_fraction': 0.30110234896957866, 'bagging_freq': 0, 'lambda_l2': 0.26056675780619376}.\n"
     ]
    },
    {
     "name": "stdout",
     "output_type": "stream",
     "text": [
      "CV average RMSE: 2.823\n"
     ]
    },
    {
     "name": "stderr",
     "output_type": "stream",
     "text": [
      "[I 2019-03-13 04:52:11,966] Finished a trial resulted in value: 2.8229952129544493. Current best value is 2.816668559449447 with parameters: {'num_leaves': 9, 'learning_rate': 0.09840853316806675, 'feature_fraction': 0.9719864929643989, 'bagging_fraction': 0.30110234896957866, 'bagging_freq': 0, 'lambda_l2': 0.26056675780619376}.\n"
     ]
    },
    {
     "name": "stdout",
     "output_type": "stream",
     "text": [
      "CV average RMSE: 7.77498\n"
     ]
    },
    {
     "name": "stderr",
     "output_type": "stream",
     "text": [
      "[I 2019-03-13 04:52:12,246] Finished a trial resulted in value: 7.774984694620786. Current best value is 2.816668559449447 with parameters: {'num_leaves': 9, 'learning_rate': 0.09840853316806675, 'feature_fraction': 0.9719864929643989, 'bagging_fraction': 0.30110234896957866, 'bagging_freq': 0, 'lambda_l2': 0.26056675780619376}.\n"
     ]
    },
    {
     "name": "stdout",
     "output_type": "stream",
     "text": [
      "CV average RMSE: 2.82819\n"
     ]
    },
    {
     "name": "stderr",
     "output_type": "stream",
     "text": [
      "[I 2019-03-13 04:52:12,671] Finished a trial resulted in value: 2.8281937521685316. Current best value is 2.816668559449447 with parameters: {'num_leaves': 9, 'learning_rate': 0.09840853316806675, 'feature_fraction': 0.9719864929643989, 'bagging_fraction': 0.30110234896957866, 'bagging_freq': 0, 'lambda_l2': 0.26056675780619376}.\n"
     ]
    },
    {
     "name": "stdout",
     "output_type": "stream",
     "text": [
      "CV average RMSE: 2.86549\n"
     ]
    },
    {
     "name": "stderr",
     "output_type": "stream",
     "text": [
      "[I 2019-03-13 04:52:13,075] Finished a trial resulted in value: 2.865486269037353. Current best value is 2.816668559449447 with parameters: {'num_leaves': 9, 'learning_rate': 0.09840853316806675, 'feature_fraction': 0.9719864929643989, 'bagging_fraction': 0.30110234896957866, 'bagging_freq': 0, 'lambda_l2': 0.26056675780619376}.\n"
     ]
    },
    {
     "name": "stdout",
     "output_type": "stream",
     "text": [
      "CV average RMSE: 2.82125\n"
     ]
    },
    {
     "name": "stderr",
     "output_type": "stream",
     "text": [
      "[I 2019-03-13 04:52:13,527] Finished a trial resulted in value: 2.821253313495373. Current best value is 2.816668559449447 with parameters: {'num_leaves': 9, 'learning_rate': 0.09840853316806675, 'feature_fraction': 0.9719864929643989, 'bagging_fraction': 0.30110234896957866, 'bagging_freq': 0, 'lambda_l2': 0.26056675780619376}.\n"
     ]
    },
    {
     "name": "stdout",
     "output_type": "stream",
     "text": [
      "CV average RMSE: 3.51997\n"
     ]
    },
    {
     "name": "stderr",
     "output_type": "stream",
     "text": [
      "[I 2019-03-13 04:52:13,913] Finished a trial resulted in value: 3.5199714909225763. Current best value is 2.816668559449447 with parameters: {'num_leaves': 9, 'learning_rate': 0.09840853316806675, 'feature_fraction': 0.9719864929643989, 'bagging_fraction': 0.30110234896957866, 'bagging_freq': 0, 'lambda_l2': 0.26056675780619376}.\n"
     ]
    },
    {
     "name": "stdout",
     "output_type": "stream",
     "text": [
      "CV average RMSE: 7.77498\n"
     ]
    },
    {
     "name": "stderr",
     "output_type": "stream",
     "text": [
      "[I 2019-03-13 04:52:14,197] Finished a trial resulted in value: 7.774984694620786. Current best value is 2.816668559449447 with parameters: {'num_leaves': 9, 'learning_rate': 0.09840853316806675, 'feature_fraction': 0.9719864929643989, 'bagging_fraction': 0.30110234896957866, 'bagging_freq': 0, 'lambda_l2': 0.26056675780619376}.\n"
     ]
    },
    {
     "name": "stdout",
     "output_type": "stream",
     "text": [
      "CV average RMSE: 2.82562\n"
     ]
    },
    {
     "name": "stderr",
     "output_type": "stream",
     "text": [
      "[I 2019-03-13 04:52:14,646] Finished a trial resulted in value: 2.825621841490998. Current best value is 2.816668559449447 with parameters: {'num_leaves': 9, 'learning_rate': 0.09840853316806675, 'feature_fraction': 0.9719864929643989, 'bagging_fraction': 0.30110234896957866, 'bagging_freq': 0, 'lambda_l2': 0.26056675780619376}.\n"
     ]
    },
    {
     "name": "stdout",
     "output_type": "stream",
     "text": [
      "CV average RMSE: 2.94813\n"
     ]
    },
    {
     "name": "stderr",
     "output_type": "stream",
     "text": [
      "[I 2019-03-13 04:52:14,998] Finished a trial resulted in value: 2.9481263679632477. Current best value is 2.816668559449447 with parameters: {'num_leaves': 9, 'learning_rate': 0.09840853316806675, 'feature_fraction': 0.9719864929643989, 'bagging_fraction': 0.30110234896957866, 'bagging_freq': 0, 'lambda_l2': 0.26056675780619376}.\n"
     ]
    },
    {
     "name": "stdout",
     "output_type": "stream",
     "text": [
      "CV average RMSE: 2.82072\n"
     ]
    },
    {
     "name": "stderr",
     "output_type": "stream",
     "text": [
      "[I 2019-03-13 04:52:15,552] Finished a trial resulted in value: 2.8207194144794507. Current best value is 2.816668559449447 with parameters: {'num_leaves': 9, 'learning_rate': 0.09840853316806675, 'feature_fraction': 0.9719864929643989, 'bagging_fraction': 0.30110234896957866, 'bagging_freq': 0, 'lambda_l2': 0.26056675780619376}.\n"
     ]
    },
    {
     "name": "stdout",
     "output_type": "stream",
     "text": [
      "CV average RMSE: 3.41372\n"
     ]
    },
    {
     "name": "stderr",
     "output_type": "stream",
     "text": [
      "[I 2019-03-13 04:52:15,923] Finished a trial resulted in value: 3.4137216756648727. Current best value is 2.816668559449447 with parameters: {'num_leaves': 9, 'learning_rate': 0.09840853316806675, 'feature_fraction': 0.9719864929643989, 'bagging_fraction': 0.30110234896957866, 'bagging_freq': 0, 'lambda_l2': 0.26056675780619376}.\n"
     ]
    },
    {
     "name": "stdout",
     "output_type": "stream",
     "text": [
      "CV average RMSE: 2.82491\n"
     ]
    },
    {
     "name": "stderr",
     "output_type": "stream",
     "text": [
      "[I 2019-03-13 04:52:16,363] Finished a trial resulted in value: 2.8249147695479873. Current best value is 2.816668559449447 with parameters: {'num_leaves': 9, 'learning_rate': 0.09840853316806675, 'feature_fraction': 0.9719864929643989, 'bagging_fraction': 0.30110234896957866, 'bagging_freq': 0, 'lambda_l2': 0.26056675780619376}.\n"
     ]
    },
    {
     "name": "stdout",
     "output_type": "stream",
     "text": [
      "CV average RMSE: 7.77498\n"
     ]
    },
    {
     "name": "stderr",
     "output_type": "stream",
     "text": [
      "[I 2019-03-13 04:52:16,677] Finished a trial resulted in value: 7.774984694620786. Current best value is 2.816668559449447 with parameters: {'num_leaves': 9, 'learning_rate': 0.09840853316806675, 'feature_fraction': 0.9719864929643989, 'bagging_fraction': 0.30110234896957866, 'bagging_freq': 0, 'lambda_l2': 0.26056675780619376}.\n"
     ]
    },
    {
     "name": "stdout",
     "output_type": "stream",
     "text": [
      "CV average RMSE: 7.77498\n"
     ]
    },
    {
     "name": "stderr",
     "output_type": "stream",
     "text": [
      "[I 2019-03-13 04:52:16,949] Finished a trial resulted in value: 7.774984694620786. Current best value is 2.816668559449447 with parameters: {'num_leaves': 9, 'learning_rate': 0.09840853316806675, 'feature_fraction': 0.9719864929643989, 'bagging_fraction': 0.30110234896957866, 'bagging_freq': 0, 'lambda_l2': 0.26056675780619376}.\n"
     ]
    },
    {
     "name": "stdout",
     "output_type": "stream",
     "text": [
      "CV average RMSE: 2.99078\n"
     ]
    },
    {
     "name": "stderr",
     "output_type": "stream",
     "text": [
      "[I 2019-03-13 04:52:17,325] Finished a trial resulted in value: 2.9907799349178847. Current best value is 2.816668559449447 with parameters: {'num_leaves': 9, 'learning_rate': 0.09840853316806675, 'feature_fraction': 0.9719864929643989, 'bagging_fraction': 0.30110234896957866, 'bagging_freq': 0, 'lambda_l2': 0.26056675780619376}.\n"
     ]
    },
    {
     "name": "stdout",
     "output_type": "stream",
     "text": [
      "CV average RMSE: 2.82929\n"
     ]
    },
    {
     "name": "stderr",
     "output_type": "stream",
     "text": [
      "[I 2019-03-13 04:52:17,853] Finished a trial resulted in value: 2.82928824953488. Current best value is 2.816668559449447 with parameters: {'num_leaves': 9, 'learning_rate': 0.09840853316806675, 'feature_fraction': 0.9719864929643989, 'bagging_fraction': 0.30110234896957866, 'bagging_freq': 0, 'lambda_l2': 0.26056675780619376}.\n"
     ]
    },
    {
     "name": "stdout",
     "output_type": "stream",
     "text": [
      "CV average RMSE: 2.822\n"
     ]
    },
    {
     "name": "stderr",
     "output_type": "stream",
     "text": [
      "[I 2019-03-13 04:52:18,280] Finished a trial resulted in value: 2.8220027946814215. Current best value is 2.816668559449447 with parameters: {'num_leaves': 9, 'learning_rate': 0.09840853316806675, 'feature_fraction': 0.9719864929643989, 'bagging_fraction': 0.30110234896957866, 'bagging_freq': 0, 'lambda_l2': 0.26056675780619376}.\n"
     ]
    },
    {
     "name": "stdout",
     "output_type": "stream",
     "text": [
      "CV average RMSE: 7.77498\n"
     ]
    },
    {
     "name": "stderr",
     "output_type": "stream",
     "text": [
      "[I 2019-03-13 04:52:18,562] Finished a trial resulted in value: 7.774984694620786. Current best value is 2.816668559449447 with parameters: {'num_leaves': 9, 'learning_rate': 0.09840853316806675, 'feature_fraction': 0.9719864929643989, 'bagging_fraction': 0.30110234896957866, 'bagging_freq': 0, 'lambda_l2': 0.26056675780619376}.\n"
     ]
    },
    {
     "name": "stdout",
     "output_type": "stream",
     "text": [
      "CV average RMSE: 2.82218\n"
     ]
    },
    {
     "name": "stderr",
     "output_type": "stream",
     "text": [
      "[I 2019-03-13 04:52:19,052] Finished a trial resulted in value: 2.8221783554608795. Current best value is 2.816668559449447 with parameters: {'num_leaves': 9, 'learning_rate': 0.09840853316806675, 'feature_fraction': 0.9719864929643989, 'bagging_fraction': 0.30110234896957866, 'bagging_freq': 0, 'lambda_l2': 0.26056675780619376}.\n"
     ]
    },
    {
     "name": "stdout",
     "output_type": "stream",
     "text": [
      "CV average RMSE: 7.77498\n"
     ]
    },
    {
     "name": "stderr",
     "output_type": "stream",
     "text": [
      "[I 2019-03-13 04:52:19,330] Finished a trial resulted in value: 7.774984694620786. Current best value is 2.816668559449447 with parameters: {'num_leaves': 9, 'learning_rate': 0.09840853316806675, 'feature_fraction': 0.9719864929643989, 'bagging_fraction': 0.30110234896957866, 'bagging_freq': 0, 'lambda_l2': 0.26056675780619376}.\n"
     ]
    },
    {
     "name": "stdout",
     "output_type": "stream",
     "text": [
      "CV average RMSE: 2.82942\n"
     ]
    },
    {
     "name": "stderr",
     "output_type": "stream",
     "text": [
      "[I 2019-03-13 04:52:19,769] Finished a trial resulted in value: 2.829421344391754. Current best value is 2.816668559449447 with parameters: {'num_leaves': 9, 'learning_rate': 0.09840853316806675, 'feature_fraction': 0.9719864929643989, 'bagging_fraction': 0.30110234896957866, 'bagging_freq': 0, 'lambda_l2': 0.26056675780619376}.\n"
     ]
    },
    {
     "name": "stdout",
     "output_type": "stream",
     "text": [
      "CV average RMSE: 7.77498\n"
     ]
    },
    {
     "name": "stderr",
     "output_type": "stream",
     "text": [
      "[I 2019-03-13 04:52:20,097] Finished a trial resulted in value: 7.774984694620786. Current best value is 2.816668559449447 with parameters: {'num_leaves': 9, 'learning_rate': 0.09840853316806675, 'feature_fraction': 0.9719864929643989, 'bagging_fraction': 0.30110234896957866, 'bagging_freq': 0, 'lambda_l2': 0.26056675780619376}.\n"
     ]
    },
    {
     "name": "stdout",
     "output_type": "stream",
     "text": [
      "CV average RMSE: 2.82426\n"
     ]
    },
    {
     "name": "stderr",
     "output_type": "stream",
     "text": [
      "[I 2019-03-13 04:52:20,557] Finished a trial resulted in value: 2.824264749529346. Current best value is 2.816668559449447 with parameters: {'num_leaves': 9, 'learning_rate': 0.09840853316806675, 'feature_fraction': 0.9719864929643989, 'bagging_fraction': 0.30110234896957866, 'bagging_freq': 0, 'lambda_l2': 0.26056675780619376}.\n"
     ]
    },
    {
     "name": "stdout",
     "output_type": "stream",
     "text": [
      "CV average RMSE: 7.77498\n"
     ]
    },
    {
     "name": "stderr",
     "output_type": "stream",
     "text": [
      "[I 2019-03-13 04:52:20,829] Finished a trial resulted in value: 7.774984694620786. Current best value is 2.816668559449447 with parameters: {'num_leaves': 9, 'learning_rate': 0.09840853316806675, 'feature_fraction': 0.9719864929643989, 'bagging_fraction': 0.30110234896957866, 'bagging_freq': 0, 'lambda_l2': 0.26056675780619376}.\n"
     ]
    },
    {
     "name": "stdout",
     "output_type": "stream",
     "text": [
      "CV average RMSE: 3.67138\n"
     ]
    },
    {
     "name": "stderr",
     "output_type": "stream",
     "text": [
      "[I 2019-03-13 04:52:21,254] Finished a trial resulted in value: 3.671380154947772. Current best value is 2.816668559449447 with parameters: {'num_leaves': 9, 'learning_rate': 0.09840853316806675, 'feature_fraction': 0.9719864929643989, 'bagging_fraction': 0.30110234896957866, 'bagging_freq': 0, 'lambda_l2': 0.26056675780619376}.\n"
     ]
    },
    {
     "name": "stdout",
     "output_type": "stream",
     "text": [
      "CV average RMSE: 2.82925\n"
     ]
    },
    {
     "name": "stderr",
     "output_type": "stream",
     "text": [
      "[I 2019-03-13 04:52:21,649] Finished a trial resulted in value: 2.829246566813588. Current best value is 2.816668559449447 with parameters: {'num_leaves': 9, 'learning_rate': 0.09840853316806675, 'feature_fraction': 0.9719864929643989, 'bagging_fraction': 0.30110234896957866, 'bagging_freq': 0, 'lambda_l2': 0.26056675780619376}.\n"
     ]
    },
    {
     "name": "stdout",
     "output_type": "stream",
     "text": [
      "CV average RMSE: 3.15635\n"
     ]
    },
    {
     "name": "stderr",
     "output_type": "stream",
     "text": [
      "[I 2019-03-13 04:52:22,011] Finished a trial resulted in value: 3.1563499959048125. Current best value is 2.816668559449447 with parameters: {'num_leaves': 9, 'learning_rate': 0.09840853316806675, 'feature_fraction': 0.9719864929643989, 'bagging_fraction': 0.30110234896957866, 'bagging_freq': 0, 'lambda_l2': 0.26056675780619376}.\n"
     ]
    },
    {
     "name": "stdout",
     "output_type": "stream",
     "text": [
      "CV average RMSE: 2.82378\n"
     ]
    },
    {
     "name": "stderr",
     "output_type": "stream",
     "text": [
      "[I 2019-03-13 04:52:22,485] Finished a trial resulted in value: 2.823782494855135. Current best value is 2.816668559449447 with parameters: {'num_leaves': 9, 'learning_rate': 0.09840853316806675, 'feature_fraction': 0.9719864929643989, 'bagging_fraction': 0.30110234896957866, 'bagging_freq': 0, 'lambda_l2': 0.26056675780619376}.\n"
     ]
    },
    {
     "name": "stdout",
     "output_type": "stream",
     "text": [
      "CV average RMSE: 7.77498\n"
     ]
    },
    {
     "name": "stderr",
     "output_type": "stream",
     "text": [
      "[I 2019-03-13 04:52:22,823] Finished a trial resulted in value: 7.774984694620786. Current best value is 2.816668559449447 with parameters: {'num_leaves': 9, 'learning_rate': 0.09840853316806675, 'feature_fraction': 0.9719864929643989, 'bagging_fraction': 0.30110234896957866, 'bagging_freq': 0, 'lambda_l2': 0.26056675780619376}.\n"
     ]
    },
    {
     "name": "stdout",
     "output_type": "stream",
     "text": [
      "CV average RMSE: 7.77498\n"
     ]
    },
    {
     "name": "stderr",
     "output_type": "stream",
     "text": [
      "[I 2019-03-13 04:52:23,101] Finished a trial resulted in value: 7.774984694620786. Current best value is 2.816668559449447 with parameters: {'num_leaves': 9, 'learning_rate': 0.09840853316806675, 'feature_fraction': 0.9719864929643989, 'bagging_fraction': 0.30110234896957866, 'bagging_freq': 0, 'lambda_l2': 0.26056675780619376}.\n"
     ]
    },
    {
     "name": "stdout",
     "output_type": "stream",
     "text": [
      "CV average RMSE: 3.44555\n"
     ]
    },
    {
     "name": "stderr",
     "output_type": "stream",
     "text": [
      "[I 2019-03-13 04:52:23,521] Finished a trial resulted in value: 3.445548961186508. Current best value is 2.816668559449447 with parameters: {'num_leaves': 9, 'learning_rate': 0.09840853316806675, 'feature_fraction': 0.9719864929643989, 'bagging_fraction': 0.30110234896957866, 'bagging_freq': 0, 'lambda_l2': 0.26056675780619376}.\n"
     ]
    },
    {
     "name": "stdout",
     "output_type": "stream",
     "text": [
      "CV average RMSE: 2.82341\n"
     ]
    },
    {
     "name": "stderr",
     "output_type": "stream",
     "text": [
      "[I 2019-03-13 04:52:23,945] Finished a trial resulted in value: 2.8234079571764172. Current best value is 2.816668559449447 with parameters: {'num_leaves': 9, 'learning_rate': 0.09840853316806675, 'feature_fraction': 0.9719864929643989, 'bagging_fraction': 0.30110234896957866, 'bagging_freq': 0, 'lambda_l2': 0.26056675780619376}.\n"
     ]
    },
    {
     "name": "stdout",
     "output_type": "stream",
     "text": [
      "CV average RMSE: 7.77498\n"
     ]
    },
    {
     "name": "stderr",
     "output_type": "stream",
     "text": [
      "[I 2019-03-13 04:52:24,218] Finished a trial resulted in value: 7.774984694620786. Current best value is 2.816668559449447 with parameters: {'num_leaves': 9, 'learning_rate': 0.09840853316806675, 'feature_fraction': 0.9719864929643989, 'bagging_fraction': 0.30110234896957866, 'bagging_freq': 0, 'lambda_l2': 0.26056675780619376}.\n"
     ]
    },
    {
     "name": "stdout",
     "output_type": "stream",
     "text": [
      "CV average RMSE: 7.77498\n"
     ]
    },
    {
     "name": "stderr",
     "output_type": "stream",
     "text": [
      "[I 2019-03-13 04:52:24,492] Finished a trial resulted in value: 7.774984694620786. Current best value is 2.816668559449447 with parameters: {'num_leaves': 9, 'learning_rate': 0.09840853316806675, 'feature_fraction': 0.9719864929643989, 'bagging_fraction': 0.30110234896957866, 'bagging_freq': 0, 'lambda_l2': 0.26056675780619376}.\n"
     ]
    },
    {
     "name": "stdout",
     "output_type": "stream",
     "text": [
      "CV average RMSE: 6.94113\n"
     ]
    },
    {
     "name": "stderr",
     "output_type": "stream",
     "text": [
      "[I 2019-03-13 04:52:24,796] Finished a trial resulted in value: 6.941128981213849. Current best value is 2.816668559449447 with parameters: {'num_leaves': 9, 'learning_rate': 0.09840853316806675, 'feature_fraction': 0.9719864929643989, 'bagging_fraction': 0.30110234896957866, 'bagging_freq': 0, 'lambda_l2': 0.26056675780619376}.\n"
     ]
    },
    {
     "name": "stdout",
     "output_type": "stream",
     "text": [
      "CV average RMSE: 7.77498\n"
     ]
    },
    {
     "name": "stderr",
     "output_type": "stream",
     "text": [
      "[I 2019-03-13 04:52:25,084] Finished a trial resulted in value: 7.774984694620786. Current best value is 2.816668559449447 with parameters: {'num_leaves': 9, 'learning_rate': 0.09840853316806675, 'feature_fraction': 0.9719864929643989, 'bagging_fraction': 0.30110234896957866, 'bagging_freq': 0, 'lambda_l2': 0.26056675780619376}.\n"
     ]
    },
    {
     "name": "stdout",
     "output_type": "stream",
     "text": [
      "CV average RMSE: 2.82645\n"
     ]
    },
    {
     "name": "stderr",
     "output_type": "stream",
     "text": [
      "[I 2019-03-13 04:52:25,629] Finished a trial resulted in value: 2.826454700361188. Current best value is 2.816668559449447 with parameters: {'num_leaves': 9, 'learning_rate': 0.09840853316806675, 'feature_fraction': 0.9719864929643989, 'bagging_fraction': 0.30110234896957866, 'bagging_freq': 0, 'lambda_l2': 0.26056675780619376}.\n"
     ]
    },
    {
     "name": "stdout",
     "output_type": "stream",
     "text": [
      "CV average RMSE: 7.77498\n"
     ]
    },
    {
     "name": "stderr",
     "output_type": "stream",
     "text": [
      "[I 2019-03-13 04:52:25,920] Finished a trial resulted in value: 7.774984694620786. Current best value is 2.816668559449447 with parameters: {'num_leaves': 9, 'learning_rate': 0.09840853316806675, 'feature_fraction': 0.9719864929643989, 'bagging_fraction': 0.30110234896957866, 'bagging_freq': 0, 'lambda_l2': 0.26056675780619376}.\n"
     ]
    },
    {
     "name": "stdout",
     "output_type": "stream",
     "text": [
      "CV average RMSE: 2.82275\n"
     ]
    },
    {
     "name": "stderr",
     "output_type": "stream",
     "text": [
      "[I 2019-03-13 04:52:26,356] Finished a trial resulted in value: 2.822754206433481. Current best value is 2.816668559449447 with parameters: {'num_leaves': 9, 'learning_rate': 0.09840853316806675, 'feature_fraction': 0.9719864929643989, 'bagging_fraction': 0.30110234896957866, 'bagging_freq': 0, 'lambda_l2': 0.26056675780619376}.\n"
     ]
    },
    {
     "name": "stdout",
     "output_type": "stream",
     "text": [
      "CV average RMSE: 7.77498\n"
     ]
    },
    {
     "name": "stderr",
     "output_type": "stream",
     "text": [
      "[I 2019-03-13 04:52:26,642] Finished a trial resulted in value: 7.774984694620786. Current best value is 2.816668559449447 with parameters: {'num_leaves': 9, 'learning_rate': 0.09840853316806675, 'feature_fraction': 0.9719864929643989, 'bagging_fraction': 0.30110234896957866, 'bagging_freq': 0, 'lambda_l2': 0.26056675780619376}.\n"
     ]
    },
    {
     "name": "stdout",
     "output_type": "stream",
     "text": [
      "CV average RMSE: 2.8211\n"
     ]
    },
    {
     "name": "stderr",
     "output_type": "stream",
     "text": [
      "[I 2019-03-13 04:52:27,090] Finished a trial resulted in value: 2.821100901109215. Current best value is 2.816668559449447 with parameters: {'num_leaves': 9, 'learning_rate': 0.09840853316806675, 'feature_fraction': 0.9719864929643989, 'bagging_fraction': 0.30110234896957866, 'bagging_freq': 0, 'lambda_l2': 0.26056675780619376}.\n"
     ]
    },
    {
     "name": "stdout",
     "output_type": "stream",
     "text": [
      "CV average RMSE: 7.77498\n"
     ]
    },
    {
     "name": "stderr",
     "output_type": "stream",
     "text": [
      "[I 2019-03-13 04:52:27,373] Finished a trial resulted in value: 7.774984694620786. Current best value is 2.816668559449447 with parameters: {'num_leaves': 9, 'learning_rate': 0.09840853316806675, 'feature_fraction': 0.9719864929643989, 'bagging_fraction': 0.30110234896957866, 'bagging_freq': 0, 'lambda_l2': 0.26056675780619376}.\n"
     ]
    },
    {
     "name": "stdout",
     "output_type": "stream",
     "text": [
      "CV average RMSE: 2.83079\n"
     ]
    },
    {
     "name": "stderr",
     "output_type": "stream",
     "text": [
      "[I 2019-03-13 04:52:27,848] Finished a trial resulted in value: 2.830794794196855. Current best value is 2.816668559449447 with parameters: {'num_leaves': 9, 'learning_rate': 0.09840853316806675, 'feature_fraction': 0.9719864929643989, 'bagging_fraction': 0.30110234896957866, 'bagging_freq': 0, 'lambda_l2': 0.26056675780619376}.\n"
     ]
    },
    {
     "name": "stdout",
     "output_type": "stream",
     "text": [
      "CV average RMSE: 7.77498\n"
     ]
    },
    {
     "name": "stderr",
     "output_type": "stream",
     "text": [
      "[I 2019-03-13 04:52:28,126] Finished a trial resulted in value: 7.774984694620786. Current best value is 2.816668559449447 with parameters: {'num_leaves': 9, 'learning_rate': 0.09840853316806675, 'feature_fraction': 0.9719864929643989, 'bagging_fraction': 0.30110234896957866, 'bagging_freq': 0, 'lambda_l2': 0.26056675780619376}.\n"
     ]
    },
    {
     "name": "stdout",
     "output_type": "stream",
     "text": [
      "CV average RMSE: 2.82746\n"
     ]
    },
    {
     "name": "stderr",
     "output_type": "stream",
     "text": [
      "[I 2019-03-13 04:52:28,583] Finished a trial resulted in value: 2.8274639395014765. Current best value is 2.816668559449447 with parameters: {'num_leaves': 9, 'learning_rate': 0.09840853316806675, 'feature_fraction': 0.9719864929643989, 'bagging_fraction': 0.30110234896957866, 'bagging_freq': 0, 'lambda_l2': 0.26056675780619376}.\n"
     ]
    },
    {
     "name": "stdout",
     "output_type": "stream",
     "text": [
      "CV average RMSE: 7.77498\n"
     ]
    },
    {
     "name": "stderr",
     "output_type": "stream",
     "text": [
      "[I 2019-03-13 04:52:28,872] Finished a trial resulted in value: 7.774984694620786. Current best value is 2.816668559449447 with parameters: {'num_leaves': 9, 'learning_rate': 0.09840853316806675, 'feature_fraction': 0.9719864929643989, 'bagging_fraction': 0.30110234896957866, 'bagging_freq': 0, 'lambda_l2': 0.26056675780619376}.\n"
     ]
    },
    {
     "name": "stdout",
     "output_type": "stream",
     "text": [
      "CV average RMSE: 3.23518\n"
     ]
    },
    {
     "name": "stderr",
     "output_type": "stream",
     "text": [
      "[I 2019-03-13 04:52:29,257] Finished a trial resulted in value: 3.235177785009813. Current best value is 2.816668559449447 with parameters: {'num_leaves': 9, 'learning_rate': 0.09840853316806675, 'feature_fraction': 0.9719864929643989, 'bagging_fraction': 0.30110234896957866, 'bagging_freq': 0, 'lambda_l2': 0.26056675780619376}.\n"
     ]
    },
    {
     "name": "stdout",
     "output_type": "stream",
     "text": [
      "CV average RMSE: 2.83306\n"
     ]
    },
    {
     "name": "stderr",
     "output_type": "stream",
     "text": [
      "[I 2019-03-13 04:52:29,718] Finished a trial resulted in value: 2.8330601507320603. Current best value is 2.816668559449447 with parameters: {'num_leaves': 9, 'learning_rate': 0.09840853316806675, 'feature_fraction': 0.9719864929643989, 'bagging_fraction': 0.30110234896957866, 'bagging_freq': 0, 'lambda_l2': 0.26056675780619376}.\n"
     ]
    },
    {
     "name": "stdout",
     "output_type": "stream",
     "text": [
      "CV average RMSE: 7.77498\n"
     ]
    },
    {
     "name": "stderr",
     "output_type": "stream",
     "text": [
      "[I 2019-03-13 04:52:30,007] Finished a trial resulted in value: 7.774984694620786. Current best value is 2.816668559449447 with parameters: {'num_leaves': 9, 'learning_rate': 0.09840853316806675, 'feature_fraction': 0.9719864929643989, 'bagging_fraction': 0.30110234896957866, 'bagging_freq': 0, 'lambda_l2': 0.26056675780619376}.\n"
     ]
    },
    {
     "name": "stdout",
     "output_type": "stream",
     "text": [
      "CV average RMSE: 7.77498\n"
     ]
    },
    {
     "name": "stderr",
     "output_type": "stream",
     "text": [
      "[I 2019-03-13 04:52:30,294] Finished a trial resulted in value: 7.774984694620786. Current best value is 2.816668559449447 with parameters: {'num_leaves': 9, 'learning_rate': 0.09840853316806675, 'feature_fraction': 0.9719864929643989, 'bagging_fraction': 0.30110234896957866, 'bagging_freq': 0, 'lambda_l2': 0.26056675780619376}.\n"
     ]
    },
    {
     "name": "stdout",
     "output_type": "stream",
     "text": [
      "CV average RMSE: 7.77498\n"
     ]
    },
    {
     "name": "stderr",
     "output_type": "stream",
     "text": [
      "[I 2019-03-13 04:52:30,581] Finished a trial resulted in value: 7.774984694620786. Current best value is 2.816668559449447 with parameters: {'num_leaves': 9, 'learning_rate': 0.09840853316806675, 'feature_fraction': 0.9719864929643989, 'bagging_fraction': 0.30110234896957866, 'bagging_freq': 0, 'lambda_l2': 0.26056675780619376}.\n"
     ]
    },
    {
     "name": "stdout",
     "output_type": "stream",
     "text": [
      "CV average RMSE: 3.59645\n"
     ]
    },
    {
     "name": "stderr",
     "output_type": "stream",
     "text": [
      "[I 2019-03-13 04:52:31,059] Finished a trial resulted in value: 3.5964520463441163. Current best value is 2.816668559449447 with parameters: {'num_leaves': 9, 'learning_rate': 0.09840853316806675, 'feature_fraction': 0.9719864929643989, 'bagging_fraction': 0.30110234896957866, 'bagging_freq': 0, 'lambda_l2': 0.26056675780619376}.\n"
     ]
    },
    {
     "name": "stdout",
     "output_type": "stream",
     "text": [
      "CV average RMSE: 2.82026\n"
     ]
    },
    {
     "name": "stderr",
     "output_type": "stream",
     "text": [
      "[I 2019-03-13 04:52:31,510] Finished a trial resulted in value: 2.820264232782223. Current best value is 2.816668559449447 with parameters: {'num_leaves': 9, 'learning_rate': 0.09840853316806675, 'feature_fraction': 0.9719864929643989, 'bagging_fraction': 0.30110234896957866, 'bagging_freq': 0, 'lambda_l2': 0.26056675780619376}.\n"
     ]
    },
    {
     "name": "stdout",
     "output_type": "stream",
     "text": [
      "CV average RMSE: 3.05828\n"
     ]
    },
    {
     "name": "stderr",
     "output_type": "stream",
     "text": [
      "[I 2019-03-13 04:52:31,918] Finished a trial resulted in value: 3.0582758690771845. Current best value is 2.816668559449447 with parameters: {'num_leaves': 9, 'learning_rate': 0.09840853316806675, 'feature_fraction': 0.9719864929643989, 'bagging_fraction': 0.30110234896957866, 'bagging_freq': 0, 'lambda_l2': 0.26056675780619376}.\n"
     ]
    },
    {
     "name": "stdout",
     "output_type": "stream",
     "text": [
      "CV average RMSE: 2.82187\n"
     ]
    },
    {
     "name": "stderr",
     "output_type": "stream",
     "text": [
      "[I 2019-03-13 04:52:32,398] Finished a trial resulted in value: 2.821870654734316. Current best value is 2.816668559449447 with parameters: {'num_leaves': 9, 'learning_rate': 0.09840853316806675, 'feature_fraction': 0.9719864929643989, 'bagging_fraction': 0.30110234896957866, 'bagging_freq': 0, 'lambda_l2': 0.26056675780619376}.\n"
     ]
    },
    {
     "name": "stdout",
     "output_type": "stream",
     "text": [
      "CV average RMSE: 7.77498\n"
     ]
    },
    {
     "name": "stderr",
     "output_type": "stream",
     "text": [
      "[I 2019-03-13 04:52:32,689] Finished a trial resulted in value: 7.774984694620786. Current best value is 2.816668559449447 with parameters: {'num_leaves': 9, 'learning_rate': 0.09840853316806675, 'feature_fraction': 0.9719864929643989, 'bagging_fraction': 0.30110234896957866, 'bagging_freq': 0, 'lambda_l2': 0.26056675780619376}.\n"
     ]
    },
    {
     "name": "stdout",
     "output_type": "stream",
     "text": [
      "CV average RMSE: 2.8774\n"
     ]
    },
    {
     "name": "stderr",
     "output_type": "stream",
     "text": [
      "[I 2019-03-13 04:52:33,268] Finished a trial resulted in value: 2.8774028814058235. Current best value is 2.816668559449447 with parameters: {'num_leaves': 9, 'learning_rate': 0.09840853316806675, 'feature_fraction': 0.9719864929643989, 'bagging_fraction': 0.30110234896957866, 'bagging_freq': 0, 'lambda_l2': 0.26056675780619376}.\n"
     ]
    },
    {
     "name": "stdout",
     "output_type": "stream",
     "text": [
      "CV average RMSE: 3.84272\n"
     ]
    },
    {
     "name": "stderr",
     "output_type": "stream",
     "text": [
      "[I 2019-03-13 04:52:33,684] Finished a trial resulted in value: 3.8427198918582777. Current best value is 2.816668559449447 with parameters: {'num_leaves': 9, 'learning_rate': 0.09840853316806675, 'feature_fraction': 0.9719864929643989, 'bagging_fraction': 0.30110234896957866, 'bagging_freq': 0, 'lambda_l2': 0.26056675780619376}.\n"
     ]
    },
    {
     "name": "stdout",
     "output_type": "stream",
     "text": [
      "CV average RMSE: 2.82654\n"
     ]
    },
    {
     "name": "stderr",
     "output_type": "stream",
     "text": [
      "[I 2019-03-13 04:52:34,223] Finished a trial resulted in value: 2.8265440965279245. Current best value is 2.816668559449447 with parameters: {'num_leaves': 9, 'learning_rate': 0.09840853316806675, 'feature_fraction': 0.9719864929643989, 'bagging_fraction': 0.30110234896957866, 'bagging_freq': 0, 'lambda_l2': 0.26056675780619376}.\n"
     ]
    },
    {
     "name": "stdout",
     "output_type": "stream",
     "text": [
      "CV average RMSE: 7.77498\n"
     ]
    },
    {
     "name": "stderr",
     "output_type": "stream",
     "text": [
      "[I 2019-03-13 04:52:34,603] Finished a trial resulted in value: 7.774984694620786. Current best value is 2.816668559449447 with parameters: {'num_leaves': 9, 'learning_rate': 0.09840853316806675, 'feature_fraction': 0.9719864929643989, 'bagging_fraction': 0.30110234896957866, 'bagging_freq': 0, 'lambda_l2': 0.26056675780619376}.\n"
     ]
    },
    {
     "name": "stdout",
     "output_type": "stream",
     "text": [
      "CV average RMSE: 2.83152\n"
     ]
    },
    {
     "name": "stderr",
     "output_type": "stream",
     "text": [
      "[I 2019-03-13 04:52:35,067] Finished a trial resulted in value: 2.831518239157445. Current best value is 2.816668559449447 with parameters: {'num_leaves': 9, 'learning_rate': 0.09840853316806675, 'feature_fraction': 0.9719864929643989, 'bagging_fraction': 0.30110234896957866, 'bagging_freq': 0, 'lambda_l2': 0.26056675780619376}.\n"
     ]
    },
    {
     "name": "stdout",
     "output_type": "stream",
     "text": [
      "CV average RMSE: 7.77498\n"
     ]
    },
    {
     "name": "stderr",
     "output_type": "stream",
     "text": [
      "[I 2019-03-13 04:52:35,358] Finished a trial resulted in value: 7.774984694620786. Current best value is 2.816668559449447 with parameters: {'num_leaves': 9, 'learning_rate': 0.09840853316806675, 'feature_fraction': 0.9719864929643989, 'bagging_fraction': 0.30110234896957866, 'bagging_freq': 0, 'lambda_l2': 0.26056675780619376}.\n"
     ]
    },
    {
     "name": "stdout",
     "output_type": "stream",
     "text": [
      "CV average RMSE: 7.77498\n"
     ]
    },
    {
     "name": "stderr",
     "output_type": "stream",
     "text": [
      "[I 2019-03-13 04:52:35,650] Finished a trial resulted in value: 7.774984694620786. Current best value is 2.816668559449447 with parameters: {'num_leaves': 9, 'learning_rate': 0.09840853316806675, 'feature_fraction': 0.9719864929643989, 'bagging_fraction': 0.30110234896957866, 'bagging_freq': 0, 'lambda_l2': 0.26056675780619376}.\n"
     ]
    },
    {
     "name": "stdout",
     "output_type": "stream",
     "text": [
      "CV average RMSE: 2.82333\n"
     ]
    },
    {
     "name": "stderr",
     "output_type": "stream",
     "text": [
      "[I 2019-03-13 04:52:36,146] Finished a trial resulted in value: 2.82333219537763. Current best value is 2.816668559449447 with parameters: {'num_leaves': 9, 'learning_rate': 0.09840853316806675, 'feature_fraction': 0.9719864929643989, 'bagging_fraction': 0.30110234896957866, 'bagging_freq': 0, 'lambda_l2': 0.26056675780619376}.\n"
     ]
    },
    {
     "name": "stdout",
     "output_type": "stream",
     "text": [
      "CV average RMSE: 3.37672\n"
     ]
    },
    {
     "name": "stderr",
     "output_type": "stream",
     "text": [
      "[I 2019-03-13 04:52:36,545] Finished a trial resulted in value: 3.3767176130170165. Current best value is 2.816668559449447 with parameters: {'num_leaves': 9, 'learning_rate': 0.09840853316806675, 'feature_fraction': 0.9719864929643989, 'bagging_fraction': 0.30110234896957866, 'bagging_freq': 0, 'lambda_l2': 0.26056675780619376}.\n"
     ]
    },
    {
     "name": "stdout",
     "output_type": "stream",
     "text": [
      "CV average RMSE: 7.77498\n"
     ]
    },
    {
     "name": "stderr",
     "output_type": "stream",
     "text": [
      "[I 2019-03-13 04:52:36,885] Finished a trial resulted in value: 7.774984694620786. Current best value is 2.816668559449447 with parameters: {'num_leaves': 9, 'learning_rate': 0.09840853316806675, 'feature_fraction': 0.9719864929643989, 'bagging_fraction': 0.30110234896957866, 'bagging_freq': 0, 'lambda_l2': 0.26056675780619376}.\n"
     ]
    },
    {
     "name": "stdout",
     "output_type": "stream",
     "text": [
      "CV average RMSE: 3.01751\n"
     ]
    },
    {
     "name": "stderr",
     "output_type": "stream",
     "text": [
      "[I 2019-03-13 04:52:37,278] Finished a trial resulted in value: 3.017507848893966. Current best value is 2.816668559449447 with parameters: {'num_leaves': 9, 'learning_rate': 0.09840853316806675, 'feature_fraction': 0.9719864929643989, 'bagging_fraction': 0.30110234896957866, 'bagging_freq': 0, 'lambda_l2': 0.26056675780619376}.\n"
     ]
    },
    {
     "name": "stdout",
     "output_type": "stream",
     "text": [
      "CV average RMSE: 2.82315\n"
     ]
    },
    {
     "name": "stderr",
     "output_type": "stream",
     "text": [
      "[I 2019-03-13 04:52:38,023] Finished a trial resulted in value: 2.823152627320508. Current best value is 2.816668559449447 with parameters: {'num_leaves': 9, 'learning_rate': 0.09840853316806675, 'feature_fraction': 0.9719864929643989, 'bagging_fraction': 0.30110234896957866, 'bagging_freq': 0, 'lambda_l2': 0.26056675780619376}.\n"
     ]
    },
    {
     "name": "stdout",
     "output_type": "stream",
     "text": [
      "CV average RMSE: 2.88557\n"
     ]
    },
    {
     "name": "stderr",
     "output_type": "stream",
     "text": [
      "[I 2019-03-13 04:52:38,423] Finished a trial resulted in value: 2.8855693793669106. Current best value is 2.816668559449447 with parameters: {'num_leaves': 9, 'learning_rate': 0.09840853316806675, 'feature_fraction': 0.9719864929643989, 'bagging_fraction': 0.30110234896957866, 'bagging_freq': 0, 'lambda_l2': 0.26056675780619376}.\n"
     ]
    },
    {
     "name": "stdout",
     "output_type": "stream",
     "text": [
      "CV average RMSE: 7.77498\n"
     ]
    },
    {
     "name": "stderr",
     "output_type": "stream",
     "text": [
      "[I 2019-03-13 04:52:38,718] Finished a trial resulted in value: 7.774984694620786. Current best value is 2.816668559449447 with parameters: {'num_leaves': 9, 'learning_rate': 0.09840853316806675, 'feature_fraction': 0.9719864929643989, 'bagging_fraction': 0.30110234896957866, 'bagging_freq': 0, 'lambda_l2': 0.26056675780619376}.\n"
     ]
    },
    {
     "name": "stdout",
     "output_type": "stream",
     "text": [
      "CV average RMSE: 2.82523\n"
     ]
    },
    {
     "name": "stderr",
     "output_type": "stream",
     "text": [
      "[I 2019-03-13 04:52:39,271] Finished a trial resulted in value: 2.825225252511429. Current best value is 2.816668559449447 with parameters: {'num_leaves': 9, 'learning_rate': 0.09840853316806675, 'feature_fraction': 0.9719864929643989, 'bagging_fraction': 0.30110234896957866, 'bagging_freq': 0, 'lambda_l2': 0.26056675780619376}.\n"
     ]
    },
    {
     "name": "stdout",
     "output_type": "stream",
     "text": [
      "CV average RMSE: 2.82805\n"
     ]
    },
    {
     "name": "stderr",
     "output_type": "stream",
     "text": [
      "[I 2019-03-13 04:52:39,731] Finished a trial resulted in value: 2.8280474533041025. Current best value is 2.816668559449447 with parameters: {'num_leaves': 9, 'learning_rate': 0.09840853316806675, 'feature_fraction': 0.9719864929643989, 'bagging_fraction': 0.30110234896957866, 'bagging_freq': 0, 'lambda_l2': 0.26056675780619376}.\n"
     ]
    },
    {
     "name": "stdout",
     "output_type": "stream",
     "text": [
      "CV average RMSE: 3.1752\n"
     ]
    },
    {
     "name": "stderr",
     "output_type": "stream",
     "text": [
      "[I 2019-03-13 04:52:40,156] Finished a trial resulted in value: 3.175200562406947. Current best value is 2.816668559449447 with parameters: {'num_leaves': 9, 'learning_rate': 0.09840853316806675, 'feature_fraction': 0.9719864929643989, 'bagging_fraction': 0.30110234896957866, 'bagging_freq': 0, 'lambda_l2': 0.26056675780619376}.\n"
     ]
    },
    {
     "name": "stdout",
     "output_type": "stream",
     "text": [
      "CV average RMSE: 7.77498\n"
     ]
    },
    {
     "name": "stderr",
     "output_type": "stream",
     "text": [
      "[I 2019-03-13 04:52:40,450] Finished a trial resulted in value: 7.774984694620786. Current best value is 2.816668559449447 with parameters: {'num_leaves': 9, 'learning_rate': 0.09840853316806675, 'feature_fraction': 0.9719864929643989, 'bagging_fraction': 0.30110234896957866, 'bagging_freq': 0, 'lambda_l2': 0.26056675780619376}.\n"
     ]
    },
    {
     "name": "stdout",
     "output_type": "stream",
     "text": [
      "CV average RMSE: 2.82773\n"
     ]
    },
    {
     "name": "stderr",
     "output_type": "stream",
     "text": [
      "[I 2019-03-13 04:52:40,915] Finished a trial resulted in value: 2.8277343653935345. Current best value is 2.816668559449447 with parameters: {'num_leaves': 9, 'learning_rate': 0.09840853316806675, 'feature_fraction': 0.9719864929643989, 'bagging_fraction': 0.30110234896957866, 'bagging_freq': 0, 'lambda_l2': 0.26056675780619376}.\n"
     ]
    },
    {
     "name": "stdout",
     "output_type": "stream",
     "text": [
      "CV average RMSE: 7.77498\n"
     ]
    },
    {
     "name": "stderr",
     "output_type": "stream",
     "text": [
      "[I 2019-03-13 04:52:41,223] Finished a trial resulted in value: 7.774984694620786. Current best value is 2.816668559449447 with parameters: {'num_leaves': 9, 'learning_rate': 0.09840853316806675, 'feature_fraction': 0.9719864929643989, 'bagging_fraction': 0.30110234896957866, 'bagging_freq': 0, 'lambda_l2': 0.26056675780619376}.\n"
     ]
    },
    {
     "name": "stdout",
     "output_type": "stream",
     "text": [
      "CV average RMSE: 7.77498\n"
     ]
    },
    {
     "name": "stderr",
     "output_type": "stream",
     "text": [
      "[I 2019-03-13 04:52:41,517] Finished a trial resulted in value: 7.774984694620786. Current best value is 2.816668559449447 with parameters: {'num_leaves': 9, 'learning_rate': 0.09840853316806675, 'feature_fraction': 0.9719864929643989, 'bagging_fraction': 0.30110234896957866, 'bagging_freq': 0, 'lambda_l2': 0.26056675780619376}.\n"
     ]
    },
    {
     "name": "stdout",
     "output_type": "stream",
     "text": [
      "CV average RMSE: 8.11916\n"
     ]
    },
    {
     "name": "stderr",
     "output_type": "stream",
     "text": [
      "[I 2019-03-13 04:52:41,922] Finished a trial resulted in value: 8.119155125450519. Current best value is 2.816668559449447 with parameters: {'num_leaves': 9, 'learning_rate': 0.09840853316806675, 'feature_fraction': 0.9719864929643989, 'bagging_fraction': 0.30110234896957866, 'bagging_freq': 0, 'lambda_l2': 0.26056675780619376}.\n"
     ]
    },
    {
     "name": "stdout",
     "output_type": "stream",
     "text": [
      "CV average RMSE: 2.82707\n"
     ]
    },
    {
     "name": "stderr",
     "output_type": "stream",
     "text": [
      "[I 2019-03-13 04:52:42,404] Finished a trial resulted in value: 2.8270715580101453. Current best value is 2.816668559449447 with parameters: {'num_leaves': 9, 'learning_rate': 0.09840853316806675, 'feature_fraction': 0.9719864929643989, 'bagging_fraction': 0.30110234896957866, 'bagging_freq': 0, 'lambda_l2': 0.26056675780619376}.\n"
     ]
    },
    {
     "name": "stdout",
     "output_type": "stream",
     "text": [
      "CV average RMSE: 7.77498\n"
     ]
    },
    {
     "name": "stderr",
     "output_type": "stream",
     "text": [
      "[I 2019-03-13 04:52:42,707] Finished a trial resulted in value: 7.774984694620786. Current best value is 2.816668559449447 with parameters: {'num_leaves': 9, 'learning_rate': 0.09840853316806675, 'feature_fraction': 0.9719864929643989, 'bagging_fraction': 0.30110234896957866, 'bagging_freq': 0, 'lambda_l2': 0.26056675780619376}.\n"
     ]
    },
    {
     "name": "stdout",
     "output_type": "stream",
     "text": [
      "CV average RMSE: 2.82859\n"
     ]
    },
    {
     "name": "stderr",
     "output_type": "stream",
     "text": [
      "[I 2019-03-13 04:52:43,209] Finished a trial resulted in value: 2.8285870680016223. Current best value is 2.816668559449447 with parameters: {'num_leaves': 9, 'learning_rate': 0.09840853316806675, 'feature_fraction': 0.9719864929643989, 'bagging_fraction': 0.30110234896957866, 'bagging_freq': 0, 'lambda_l2': 0.26056675780619376}.\n"
     ]
    },
    {
     "name": "stdout",
     "output_type": "stream",
     "text": [
      "CV average RMSE: 2.82195\n"
     ]
    },
    {
     "name": "stderr",
     "output_type": "stream",
     "text": [
      "[I 2019-03-13 04:52:43,765] Finished a trial resulted in value: 2.8219532030612293. Current best value is 2.816668559449447 with parameters: {'num_leaves': 9, 'learning_rate': 0.09840853316806675, 'feature_fraction': 0.9719864929643989, 'bagging_fraction': 0.30110234896957866, 'bagging_freq': 0, 'lambda_l2': 0.26056675780619376}.\n"
     ]
    },
    {
     "name": "stdout",
     "output_type": "stream",
     "text": [
      "CV average RMSE: 3.54729\n"
     ]
    },
    {
     "name": "stderr",
     "output_type": "stream",
     "text": [
      "[I 2019-03-13 04:52:44,175] Finished a trial resulted in value: 3.5472888533510996. Current best value is 2.816668559449447 with parameters: {'num_leaves': 9, 'learning_rate': 0.09840853316806675, 'feature_fraction': 0.9719864929643989, 'bagging_fraction': 0.30110234896957866, 'bagging_freq': 0, 'lambda_l2': 0.26056675780619376}.\n"
     ]
    },
    {
     "name": "stdout",
     "output_type": "stream",
     "text": [
      "CV average RMSE: 7.77498\n"
     ]
    },
    {
     "name": "stderr",
     "output_type": "stream",
     "text": [
      "[I 2019-03-13 04:52:44,473] Finished a trial resulted in value: 7.774984694620786. Current best value is 2.816668559449447 with parameters: {'num_leaves': 9, 'learning_rate': 0.09840853316806675, 'feature_fraction': 0.9719864929643989, 'bagging_fraction': 0.30110234896957866, 'bagging_freq': 0, 'lambda_l2': 0.26056675780619376}.\n"
     ]
    },
    {
     "name": "stdout",
     "output_type": "stream",
     "text": [
      "CV average RMSE: 7.77498\n"
     ]
    },
    {
     "name": "stderr",
     "output_type": "stream",
     "text": [
      "[I 2019-03-13 04:52:44,784] Finished a trial resulted in value: 7.774984694620786. Current best value is 2.816668559449447 with parameters: {'num_leaves': 9, 'learning_rate': 0.09840853316806675, 'feature_fraction': 0.9719864929643989, 'bagging_fraction': 0.30110234896957866, 'bagging_freq': 0, 'lambda_l2': 0.26056675780619376}.\n"
     ]
    },
    {
     "name": "stdout",
     "output_type": "stream",
     "text": [
      "CV average RMSE: 2.8298\n"
     ]
    },
    {
     "name": "stderr",
     "output_type": "stream",
     "text": [
      "[I 2019-03-13 04:52:45,252] Finished a trial resulted in value: 2.8297985414559386. Current best value is 2.816668559449447 with parameters: {'num_leaves': 9, 'learning_rate': 0.09840853316806675, 'feature_fraction': 0.9719864929643989, 'bagging_fraction': 0.30110234896957866, 'bagging_freq': 0, 'lambda_l2': 0.26056675780619376}.\n"
     ]
    },
    {
     "name": "stdout",
     "output_type": "stream",
     "text": [
      "CV average RMSE: 7.77498\n"
     ]
    },
    {
     "name": "stderr",
     "output_type": "stream",
     "text": [
      "[I 2019-03-13 04:52:45,560] Finished a trial resulted in value: 7.774984694620786. Current best value is 2.816668559449447 with parameters: {'num_leaves': 9, 'learning_rate': 0.09840853316806675, 'feature_fraction': 0.9719864929643989, 'bagging_fraction': 0.30110234896957866, 'bagging_freq': 0, 'lambda_l2': 0.26056675780619376}.\n"
     ]
    },
    {
     "name": "stdout",
     "output_type": "stream",
     "text": [
      "CV average RMSE: 7.77498\n"
     ]
    },
    {
     "name": "stderr",
     "output_type": "stream",
     "text": [
      "[I 2019-03-13 04:52:45,867] Finished a trial resulted in value: 7.774984694620786. Current best value is 2.816668559449447 with parameters: {'num_leaves': 9, 'learning_rate': 0.09840853316806675, 'feature_fraction': 0.9719864929643989, 'bagging_fraction': 0.30110234896957866, 'bagging_freq': 0, 'lambda_l2': 0.26056675780619376}.\n"
     ]
    },
    {
     "name": "stdout",
     "output_type": "stream",
     "text": [
      "CV average RMSE: 3.64746\n"
     ]
    },
    {
     "name": "stderr",
     "output_type": "stream",
     "text": [
      "[I 2019-03-13 04:52:46,288] Finished a trial resulted in value: 3.6474561929597633. Current best value is 2.816668559449447 with parameters: {'num_leaves': 9, 'learning_rate': 0.09840853316806675, 'feature_fraction': 0.9719864929643989, 'bagging_fraction': 0.30110234896957866, 'bagging_freq': 0, 'lambda_l2': 0.26056675780619376}.\n"
     ]
    },
    {
     "name": "stdout",
     "output_type": "stream",
     "text": [
      "CV average RMSE: 2.81635\n"
     ]
    },
    {
     "name": "stderr",
     "output_type": "stream",
     "text": [
      "[I 2019-03-13 04:52:46,829] Finished a trial resulted in value: 2.8163535853409427. Current best value is 2.8163535853409427 with parameters: {'num_leaves': 13, 'learning_rate': 0.09993957617207302, 'feature_fraction': 0.9533758288814503, 'bagging_fraction': 0.24991294291619653, 'bagging_freq': 0, 'lambda_l2': 0.35009854861751183}.\n"
     ]
    },
    {
     "name": "stdout",
     "output_type": "stream",
     "text": [
      "CV average RMSE: 7.77498\n"
     ]
    },
    {
     "name": "stderr",
     "output_type": "stream",
     "text": [
      "[I 2019-03-13 04:52:47,133] Finished a trial resulted in value: 7.774984694620786. Current best value is 2.8163535853409427 with parameters: {'num_leaves': 13, 'learning_rate': 0.09993957617207302, 'feature_fraction': 0.9533758288814503, 'bagging_fraction': 0.24991294291619653, 'bagging_freq': 0, 'lambda_l2': 0.35009854861751183}.\n"
     ]
    },
    {
     "name": "stdout",
     "output_type": "stream",
     "text": [
      "CV average RMSE: 2.82664\n"
     ]
    },
    {
     "name": "stderr",
     "output_type": "stream",
     "text": [
      "[I 2019-03-13 04:52:47,600] Finished a trial resulted in value: 2.8266424174040465. Current best value is 2.8163535853409427 with parameters: {'num_leaves': 13, 'learning_rate': 0.09993957617207302, 'feature_fraction': 0.9533758288814503, 'bagging_fraction': 0.24991294291619653, 'bagging_freq': 0, 'lambda_l2': 0.35009854861751183}.\n"
     ]
    },
    {
     "name": "stdout",
     "output_type": "stream",
     "text": [
      "CV average RMSE: 2.82521\n"
     ]
    },
    {
     "name": "stderr",
     "output_type": "stream",
     "text": [
      "[I 2019-03-13 04:52:48,149] Finished a trial resulted in value: 2.825210649061554. Current best value is 2.8163535853409427 with parameters: {'num_leaves': 13, 'learning_rate': 0.09993957617207302, 'feature_fraction': 0.9533758288814503, 'bagging_fraction': 0.24991294291619653, 'bagging_freq': 0, 'lambda_l2': 0.35009854861751183}.\n"
     ]
    },
    {
     "name": "stdout",
     "output_type": "stream",
     "text": [
      "CV average RMSE: 7.77498\n"
     ]
    },
    {
     "name": "stderr",
     "output_type": "stream",
     "text": [
      "[I 2019-03-13 04:52:48,452] Finished a trial resulted in value: 7.774984694620786. Current best value is 2.8163535853409427 with parameters: {'num_leaves': 13, 'learning_rate': 0.09993957617207302, 'feature_fraction': 0.9533758288814503, 'bagging_fraction': 0.24991294291619653, 'bagging_freq': 0, 'lambda_l2': 0.35009854861751183}.\n"
     ]
    },
    {
     "name": "stdout",
     "output_type": "stream",
     "text": [
      "CV average RMSE: 7.77498\n"
     ]
    },
    {
     "name": "stderr",
     "output_type": "stream",
     "text": [
      "[I 2019-03-13 04:52:48,749] Finished a trial resulted in value: 7.774984694620786. Current best value is 2.8163535853409427 with parameters: {'num_leaves': 13, 'learning_rate': 0.09993957617207302, 'feature_fraction': 0.9533758288814503, 'bagging_fraction': 0.24991294291619653, 'bagging_freq': 0, 'lambda_l2': 0.35009854861751183}.\n"
     ]
    },
    {
     "name": "stdout",
     "output_type": "stream",
     "text": [
      "CV average RMSE: 2.82076\n"
     ]
    },
    {
     "name": "stderr",
     "output_type": "stream",
     "text": [
      "[I 2019-03-13 04:52:49,286] Finished a trial resulted in value: 2.820760026993896. Current best value is 2.8163535853409427 with parameters: {'num_leaves': 13, 'learning_rate': 0.09993957617207302, 'feature_fraction': 0.9533758288814503, 'bagging_fraction': 0.24991294291619653, 'bagging_freq': 0, 'lambda_l2': 0.35009854861751183}.\n"
     ]
    },
    {
     "name": "stdout",
     "output_type": "stream",
     "text": [
      "CV average RMSE: 7.77498\n"
     ]
    },
    {
     "name": "stderr",
     "output_type": "stream",
     "text": [
      "[I 2019-03-13 04:52:49,604] Finished a trial resulted in value: 7.774984694620786. Current best value is 2.8163535853409427 with parameters: {'num_leaves': 13, 'learning_rate': 0.09993957617207302, 'feature_fraction': 0.9533758288814503, 'bagging_fraction': 0.24991294291619653, 'bagging_freq': 0, 'lambda_l2': 0.35009854861751183}.\n"
     ]
    },
    {
     "name": "stdout",
     "output_type": "stream",
     "text": [
      "CV average RMSE: 2.82681\n"
     ]
    },
    {
     "name": "stderr",
     "output_type": "stream",
     "text": [
      "[I 2019-03-13 04:52:50,053] Finished a trial resulted in value: 2.8268126100300712. Current best value is 2.8163535853409427 with parameters: {'num_leaves': 13, 'learning_rate': 0.09993957617207302, 'feature_fraction': 0.9533758288814503, 'bagging_fraction': 0.24991294291619653, 'bagging_freq': 0, 'lambda_l2': 0.35009854861751183}.\n"
     ]
    },
    {
     "name": "stdout",
     "output_type": "stream",
     "text": [
      "CV average RMSE: 7.77498\n"
     ]
    },
    {
     "name": "stderr",
     "output_type": "stream",
     "text": [
      "[I 2019-03-13 04:52:50,366] Finished a trial resulted in value: 7.774984694620786. Current best value is 2.8163535853409427 with parameters: {'num_leaves': 13, 'learning_rate': 0.09993957617207302, 'feature_fraction': 0.9533758288814503, 'bagging_fraction': 0.24991294291619653, 'bagging_freq': 0, 'lambda_l2': 0.35009854861751183}.\n"
     ]
    },
    {
     "name": "stdout",
     "output_type": "stream",
     "text": [
      "CV average RMSE: 7.77498\n"
     ]
    },
    {
     "name": "stderr",
     "output_type": "stream",
     "text": [
      "[I 2019-03-13 04:52:50,716] Finished a trial resulted in value: 7.774984694620786. Current best value is 2.8163535853409427 with parameters: {'num_leaves': 13, 'learning_rate': 0.09993957617207302, 'feature_fraction': 0.9533758288814503, 'bagging_fraction': 0.24991294291619653, 'bagging_freq': 0, 'lambda_l2': 0.35009854861751183}.\n"
     ]
    },
    {
     "name": "stdout",
     "output_type": "stream",
     "text": [
      "CV average RMSE: 7.77498\n"
     ]
    },
    {
     "name": "stderr",
     "output_type": "stream",
     "text": [
      "[I 2019-03-13 04:52:51,009] Finished a trial resulted in value: 7.774984694620786. Current best value is 2.8163535853409427 with parameters: {'num_leaves': 13, 'learning_rate': 0.09993957617207302, 'feature_fraction': 0.9533758288814503, 'bagging_fraction': 0.24991294291619653, 'bagging_freq': 0, 'lambda_l2': 0.35009854861751183}.\n"
     ]
    },
    {
     "name": "stdout",
     "output_type": "stream",
     "text": [
      "CV average RMSE: 2.90389\n"
     ]
    },
    {
     "name": "stderr",
     "output_type": "stream",
     "text": [
      "[I 2019-03-13 04:52:51,413] Finished a trial resulted in value: 2.9038920744634447. Current best value is 2.8163535853409427 with parameters: {'num_leaves': 13, 'learning_rate': 0.09993957617207302, 'feature_fraction': 0.9533758288814503, 'bagging_fraction': 0.24991294291619653, 'bagging_freq': 0, 'lambda_l2': 0.35009854861751183}.\n"
     ]
    },
    {
     "name": "stdout",
     "output_type": "stream",
     "text": [
      "CV average RMSE: 7.77498\n"
     ]
    },
    {
     "name": "stderr",
     "output_type": "stream",
     "text": [
      "[I 2019-03-13 04:52:51,716] Finished a trial resulted in value: 7.774984694620786. Current best value is 2.8163535853409427 with parameters: {'num_leaves': 13, 'learning_rate': 0.09993957617207302, 'feature_fraction': 0.9533758288814503, 'bagging_fraction': 0.24991294291619653, 'bagging_freq': 0, 'lambda_l2': 0.35009854861751183}.\n"
     ]
    },
    {
     "name": "stdout",
     "output_type": "stream",
     "text": [
      "CV average RMSE: 2.82569\n"
     ]
    },
    {
     "name": "stderr",
     "output_type": "stream",
     "text": [
      "[I 2019-03-13 04:52:52,171] Finished a trial resulted in value: 2.825692961658262. Current best value is 2.8163535853409427 with parameters: {'num_leaves': 13, 'learning_rate': 0.09993957617207302, 'feature_fraction': 0.9533758288814503, 'bagging_fraction': 0.24991294291619653, 'bagging_freq': 0, 'lambda_l2': 0.35009854861751183}.\n"
     ]
    },
    {
     "name": "stdout",
     "output_type": "stream",
     "text": [
      "CV average RMSE: 2.81742\n"
     ]
    },
    {
     "name": "stderr",
     "output_type": "stream",
     "text": [
      "[I 2019-03-13 04:52:52,674] Finished a trial resulted in value: 2.8174207511710043. Current best value is 2.8163535853409427 with parameters: {'num_leaves': 13, 'learning_rate': 0.09993957617207302, 'feature_fraction': 0.9533758288814503, 'bagging_fraction': 0.24991294291619653, 'bagging_freq': 0, 'lambda_l2': 0.35009854861751183}.\n"
     ]
    },
    {
     "name": "stdout",
     "output_type": "stream",
     "text": [
      "CV average RMSE: 7.77498\n"
     ]
    },
    {
     "name": "stderr",
     "output_type": "stream",
     "text": [
      "[I 2019-03-13 04:52:52,978] Finished a trial resulted in value: 7.774984694620786. Current best value is 2.8163535853409427 with parameters: {'num_leaves': 13, 'learning_rate': 0.09993957617207302, 'feature_fraction': 0.9533758288814503, 'bagging_fraction': 0.24991294291619653, 'bagging_freq': 0, 'lambda_l2': 0.35009854861751183}.\n"
     ]
    },
    {
     "name": "stdout",
     "output_type": "stream",
     "text": [
      "CV average RMSE: 2.82903\n"
     ]
    },
    {
     "name": "stderr",
     "output_type": "stream",
     "text": [
      "[I 2019-03-13 04:52:53,416] Finished a trial resulted in value: 2.8290257353472894. Current best value is 2.8163535853409427 with parameters: {'num_leaves': 13, 'learning_rate': 0.09993957617207302, 'feature_fraction': 0.9533758288814503, 'bagging_fraction': 0.24991294291619653, 'bagging_freq': 0, 'lambda_l2': 0.35009854861751183}.\n",
      "[W 2019-03-13 04:52:53,589] Setting trial status as TrialState.FAIL because of the following error: LightGBMError('Check failed: num_data > 0 at D:\\\\a\\\\1\\\\s\\\\python-package\\\\compile\\\\src\\\\io\\\\dataset.cpp, line 27 .\\n',)\n",
      "Traceback (most recent call last):\n",
      "  File \"C:\\Users\\reo\\Anaconda3\\envs\\Kaggle\\lib\\site-packages\\optuna\\study.py\", line 407, in _run_trial\n",
      "    result = func(trial)\n",
      "  File \"<ipython-input-11-97621003bcc8>\", line 52, in objective\n",
      "    model = create_model(params, train_data_set, test_data_set)\n",
      "  File \"<ipython-input-11-97621003bcc8>\", line 14, in create_model\n",
      "    verbose_eval=False\n",
      "  File \"C:\\Users\\reo\\Anaconda3\\envs\\Kaggle\\lib\\site-packages\\lightgbm\\engine.py\", line 197, in train\n",
      "    booster = Booster(params=params, train_set=train_set)\n",
      "  File \"C:\\Users\\reo\\Anaconda3\\envs\\Kaggle\\lib\\site-packages\\lightgbm\\basic.py\", line 1554, in __init__\n",
      "    ctypes.byref(self.handle)))\n",
      "  File \"C:\\Users\\reo\\Anaconda3\\envs\\Kaggle\\lib\\site-packages\\lightgbm\\basic.py\", line 46, in _safe_call\n",
      "    raise LightGBMError(decode_string(_LIB.LGBM_GetLastError()))\n",
      "lightgbm.basic.LightGBMError: Check failed: num_data > 0 at D:\\a\\1\\s\\python-package\\compile\\src\\io\\dataset.cpp, line 27 .\n",
      "\n"
     ]
    },
    {
     "name": "stdout",
     "output_type": "stream",
     "text": [
      "CV average RMSE: 7.77498\n"
     ]
    },
    {
     "name": "stderr",
     "output_type": "stream",
     "text": [
      "[I 2019-03-13 04:52:53,940] Finished a trial resulted in value: 7.774984694620786. Current best value is 2.8163535853409427 with parameters: {'num_leaves': 13, 'learning_rate': 0.09993957617207302, 'feature_fraction': 0.9533758288814503, 'bagging_fraction': 0.24991294291619653, 'bagging_freq': 0, 'lambda_l2': 0.35009854861751183}.\n"
     ]
    },
    {
     "name": "stdout",
     "output_type": "stream",
     "text": [
      "CV average RMSE: 2.8267\n"
     ]
    },
    {
     "name": "stderr",
     "output_type": "stream",
     "text": [
      "[I 2019-03-13 04:52:54,366] Finished a trial resulted in value: 2.8266992111453555. Current best value is 2.8163535853409427 with parameters: {'num_leaves': 13, 'learning_rate': 0.09993957617207302, 'feature_fraction': 0.9533758288814503, 'bagging_fraction': 0.24991294291619653, 'bagging_freq': 0, 'lambda_l2': 0.35009854861751183}.\n"
     ]
    },
    {
     "name": "stdout",
     "output_type": "stream",
     "text": [
      "CV average RMSE: 7.77498\n"
     ]
    },
    {
     "name": "stderr",
     "output_type": "stream",
     "text": [
      "[I 2019-03-13 04:52:54,668] Finished a trial resulted in value: 7.774984694620786. Current best value is 2.8163535853409427 with parameters: {'num_leaves': 13, 'learning_rate': 0.09993957617207302, 'feature_fraction': 0.9533758288814503, 'bagging_fraction': 0.24991294291619653, 'bagging_freq': 0, 'lambda_l2': 0.35009854861751183}.\n"
     ]
    },
    {
     "name": "stdout",
     "output_type": "stream",
     "text": [
      "CV average RMSE: 2.82687\n"
     ]
    },
    {
     "name": "stderr",
     "output_type": "stream",
     "text": [
      "[I 2019-03-13 04:52:55,124] Finished a trial resulted in value: 2.826874117982356. Current best value is 2.8163535853409427 with parameters: {'num_leaves': 13, 'learning_rate': 0.09993957617207302, 'feature_fraction': 0.9533758288814503, 'bagging_fraction': 0.24991294291619653, 'bagging_freq': 0, 'lambda_l2': 0.35009854861751183}.\n"
     ]
    },
    {
     "name": "stdout",
     "output_type": "stream",
     "text": [
      "CV average RMSE: 7.77498\n"
     ]
    },
    {
     "name": "stderr",
     "output_type": "stream",
     "text": [
      "[I 2019-03-13 04:52:55,424] Finished a trial resulted in value: 7.774984694620786. Current best value is 2.8163535853409427 with parameters: {'num_leaves': 13, 'learning_rate': 0.09993957617207302, 'feature_fraction': 0.9533758288814503, 'bagging_fraction': 0.24991294291619653, 'bagging_freq': 0, 'lambda_l2': 0.35009854861751183}.\n"
     ]
    },
    {
     "name": "stdout",
     "output_type": "stream",
     "text": [
      "CV average RMSE: 3.19462\n"
     ]
    },
    {
     "name": "stderr",
     "output_type": "stream",
     "text": [
      "[I 2019-03-13 04:52:55,869] Finished a trial resulted in value: 3.1946174836114514. Current best value is 2.8163535853409427 with parameters: {'num_leaves': 13, 'learning_rate': 0.09993957617207302, 'feature_fraction': 0.9533758288814503, 'bagging_fraction': 0.24991294291619653, 'bagging_freq': 0, 'lambda_l2': 0.35009854861751183}.\n"
     ]
    },
    {
     "name": "stdout",
     "output_type": "stream",
     "text": [
      "CV average RMSE: 2.82358\n"
     ]
    },
    {
     "name": "stderr",
     "output_type": "stream",
     "text": [
      "[I 2019-03-13 04:52:56,336] Finished a trial resulted in value: 2.8235775419686187. Current best value is 2.8163535853409427 with parameters: {'num_leaves': 13, 'learning_rate': 0.09993957617207302, 'feature_fraction': 0.9533758288814503, 'bagging_fraction': 0.24991294291619653, 'bagging_freq': 0, 'lambda_l2': 0.35009854861751183}.\n"
     ]
    },
    {
     "name": "stdout",
     "output_type": "stream",
     "text": [
      "CV average RMSE: 2.82148\n"
     ]
    },
    {
     "name": "stderr",
     "output_type": "stream",
     "text": [
      "[I 2019-03-13 04:52:56,800] Finished a trial resulted in value: 2.821484934306452. Current best value is 2.8163535853409427 with parameters: {'num_leaves': 13, 'learning_rate': 0.09993957617207302, 'feature_fraction': 0.9533758288814503, 'bagging_fraction': 0.24991294291619653, 'bagging_freq': 0, 'lambda_l2': 0.35009854861751183}.\n"
     ]
    },
    {
     "name": "stdout",
     "output_type": "stream",
     "text": [
      "CV average RMSE: 7.77498\n"
     ]
    },
    {
     "name": "stderr",
     "output_type": "stream",
     "text": [
      "[I 2019-03-13 04:52:57,117] Finished a trial resulted in value: 7.774984694620786. Current best value is 2.8163535853409427 with parameters: {'num_leaves': 13, 'learning_rate': 0.09993957617207302, 'feature_fraction': 0.9533758288814503, 'bagging_fraction': 0.24991294291619653, 'bagging_freq': 0, 'lambda_l2': 0.35009854861751183}.\n"
     ]
    },
    {
     "name": "stdout",
     "output_type": "stream",
     "text": [
      "CV average RMSE: 7.77498\n"
     ]
    },
    {
     "name": "stderr",
     "output_type": "stream",
     "text": [
      "[I 2019-03-13 04:52:57,438] Finished a trial resulted in value: 7.774984694620786. Current best value is 2.8163535853409427 with parameters: {'num_leaves': 13, 'learning_rate': 0.09993957617207302, 'feature_fraction': 0.9533758288814503, 'bagging_fraction': 0.24991294291619653, 'bagging_freq': 0, 'lambda_l2': 0.35009854861751183}.\n"
     ]
    },
    {
     "name": "stdout",
     "output_type": "stream",
     "text": [
      "CV average RMSE: 2.81723\n"
     ]
    },
    {
     "name": "stderr",
     "output_type": "stream",
     "text": [
      "[I 2019-03-13 04:52:57,926] Finished a trial resulted in value: 2.8172276009006447. Current best value is 2.8163535853409427 with parameters: {'num_leaves': 13, 'learning_rate': 0.09993957617207302, 'feature_fraction': 0.9533758288814503, 'bagging_fraction': 0.24991294291619653, 'bagging_freq': 0, 'lambda_l2': 0.35009854861751183}.\n"
     ]
    },
    {
     "name": "stdout",
     "output_type": "stream",
     "text": [
      "CV average RMSE: 3.32226\n"
     ]
    },
    {
     "name": "stderr",
     "output_type": "stream",
     "text": [
      "[I 2019-03-13 04:52:58,508] Finished a trial resulted in value: 3.3222641356126497. Current best value is 2.8163535853409427 with parameters: {'num_leaves': 13, 'learning_rate': 0.09993957617207302, 'feature_fraction': 0.9533758288814503, 'bagging_fraction': 0.24991294291619653, 'bagging_freq': 0, 'lambda_l2': 0.35009854861751183}.\n"
     ]
    },
    {
     "name": "stdout",
     "output_type": "stream",
     "text": [
      "CV average RMSE: 2.82411\n"
     ]
    },
    {
     "name": "stderr",
     "output_type": "stream",
     "text": [
      "[I 2019-03-13 04:52:58,981] Finished a trial resulted in value: 2.824109471731792. Current best value is 2.8163535853409427 with parameters: {'num_leaves': 13, 'learning_rate': 0.09993957617207302, 'feature_fraction': 0.9533758288814503, 'bagging_fraction': 0.24991294291619653, 'bagging_freq': 0, 'lambda_l2': 0.35009854861751183}.\n"
     ]
    },
    {
     "name": "stdout",
     "output_type": "stream",
     "text": [
      "CV average RMSE: 3.74157\n"
     ]
    },
    {
     "name": "stderr",
     "output_type": "stream",
     "text": [
      "[I 2019-03-13 04:52:59,427] Finished a trial resulted in value: 3.741566691848358. Current best value is 2.8163535853409427 with parameters: {'num_leaves': 13, 'learning_rate': 0.09993957617207302, 'feature_fraction': 0.9533758288814503, 'bagging_fraction': 0.24991294291619653, 'bagging_freq': 0, 'lambda_l2': 0.35009854861751183}.\n"
     ]
    },
    {
     "name": "stdout",
     "output_type": "stream",
     "text": [
      "CV average RMSE: 2.84539\n"
     ]
    },
    {
     "name": "stderr",
     "output_type": "stream",
     "text": [
      "[I 2019-03-13 04:52:59,963] Finished a trial resulted in value: 2.8453854289784672. Current best value is 2.8163535853409427 with parameters: {'num_leaves': 13, 'learning_rate': 0.09993957617207302, 'feature_fraction': 0.9533758288814503, 'bagging_fraction': 0.24991294291619653, 'bagging_freq': 0, 'lambda_l2': 0.35009854861751183}.\n"
     ]
    },
    {
     "name": "stdout",
     "output_type": "stream",
     "text": [
      "CV average RMSE: 3.05142\n"
     ]
    },
    {
     "name": "stderr",
     "output_type": "stream",
     "text": [
      "[I 2019-03-13 04:53:00,430] Finished a trial resulted in value: 3.0514241998428613. Current best value is 2.8163535853409427 with parameters: {'num_leaves': 13, 'learning_rate': 0.09993957617207302, 'feature_fraction': 0.9533758288814503, 'bagging_fraction': 0.24991294291619653, 'bagging_freq': 0, 'lambda_l2': 0.35009854861751183}.\n"
     ]
    },
    {
     "name": "stdout",
     "output_type": "stream",
     "text": [
      "CV average RMSE: 2.82547\n"
     ]
    },
    {
     "name": "stderr",
     "output_type": "stream",
     "text": [
      "[I 2019-03-13 04:53:00,902] Finished a trial resulted in value: 2.8254679853900457. Current best value is 2.8163535853409427 with parameters: {'num_leaves': 13, 'learning_rate': 0.09993957617207302, 'feature_fraction': 0.9533758288814503, 'bagging_fraction': 0.24991294291619653, 'bagging_freq': 0, 'lambda_l2': 0.35009854861751183}.\n"
     ]
    },
    {
     "name": "stdout",
     "output_type": "stream",
     "text": [
      "CV average RMSE: 7.77498\n"
     ]
    },
    {
     "name": "stderr",
     "output_type": "stream",
     "text": [
      "[I 2019-03-13 04:53:01,214] Finished a trial resulted in value: 7.774984694620786. Current best value is 2.8163535853409427 with parameters: {'num_leaves': 13, 'learning_rate': 0.09993957617207302, 'feature_fraction': 0.9533758288814503, 'bagging_fraction': 0.24991294291619653, 'bagging_freq': 0, 'lambda_l2': 0.35009854861751183}.\n"
     ]
    },
    {
     "name": "stdout",
     "output_type": "stream",
     "text": [
      "CV average RMSE: 3.08813\n"
     ]
    },
    {
     "name": "stderr",
     "output_type": "stream",
     "text": [
      "[I 2019-03-13 04:53:01,638] Finished a trial resulted in value: 3.0881259474014184. Current best value is 2.8163535853409427 with parameters: {'num_leaves': 13, 'learning_rate': 0.09993957617207302, 'feature_fraction': 0.9533758288814503, 'bagging_fraction': 0.24991294291619653, 'bagging_freq': 0, 'lambda_l2': 0.35009854861751183}.\n"
     ]
    },
    {
     "name": "stdout",
     "output_type": "stream",
     "text": [
      "CV average RMSE: 2.82123\n"
     ]
    },
    {
     "name": "stderr",
     "output_type": "stream",
     "text": [
      "[I 2019-03-13 04:53:02,115] Finished a trial resulted in value: 2.8212274371980977. Current best value is 2.8163535853409427 with parameters: {'num_leaves': 13, 'learning_rate': 0.09993957617207302, 'feature_fraction': 0.9533758288814503, 'bagging_fraction': 0.24991294291619653, 'bagging_freq': 0, 'lambda_l2': 0.35009854861751183}.\n"
     ]
    },
    {
     "name": "stdout",
     "output_type": "stream",
     "text": [
      "CV average RMSE: 11.1927\n"
     ]
    },
    {
     "name": "stderr",
     "output_type": "stream",
     "text": [
      "[I 2019-03-13 04:53:02,526] Finished a trial resulted in value: 11.192733683802802. Current best value is 2.8163535853409427 with parameters: {'num_leaves': 13, 'learning_rate': 0.09993957617207302, 'feature_fraction': 0.9533758288814503, 'bagging_fraction': 0.24991294291619653, 'bagging_freq': 0, 'lambda_l2': 0.35009854861751183}.\n"
     ]
    },
    {
     "name": "stdout",
     "output_type": "stream",
     "text": [
      "CV average RMSE: 3.39457\n"
     ]
    },
    {
     "name": "stderr",
     "output_type": "stream",
     "text": [
      "[I 2019-03-13 04:53:02,933] Finished a trial resulted in value: 3.394574411554758. Current best value is 2.8163535853409427 with parameters: {'num_leaves': 13, 'learning_rate': 0.09993957617207302, 'feature_fraction': 0.9533758288814503, 'bagging_fraction': 0.24991294291619653, 'bagging_freq': 0, 'lambda_l2': 0.35009854861751183}.\n"
     ]
    },
    {
     "name": "stdout",
     "output_type": "stream",
     "text": [
      "CV average RMSE: 2.82098\n"
     ]
    },
    {
     "name": "stderr",
     "output_type": "stream",
     "text": [
      "[I 2019-03-13 04:53:03,405] Finished a trial resulted in value: 2.8209773369927964. Current best value is 2.8163535853409427 with parameters: {'num_leaves': 13, 'learning_rate': 0.09993957617207302, 'feature_fraction': 0.9533758288814503, 'bagging_fraction': 0.24991294291619653, 'bagging_freq': 0, 'lambda_l2': 0.35009854861751183}.\n"
     ]
    },
    {
     "name": "stdout",
     "output_type": "stream",
     "text": [
      "CV average RMSE: 2.9255\n"
     ]
    },
    {
     "name": "stderr",
     "output_type": "stream",
     "text": [
      "[I 2019-03-13 04:53:03,843] Finished a trial resulted in value: 2.9255032914379444. Current best value is 2.8163535853409427 with parameters: {'num_leaves': 13, 'learning_rate': 0.09993957617207302, 'feature_fraction': 0.9533758288814503, 'bagging_fraction': 0.24991294291619653, 'bagging_freq': 0, 'lambda_l2': 0.35009854861751183}.\n"
     ]
    },
    {
     "name": "stdout",
     "output_type": "stream",
     "text": [
      "CV average RMSE: 2.82489\n"
     ]
    },
    {
     "name": "stderr",
     "output_type": "stream",
     "text": [
      "[I 2019-03-13 04:53:04,300] Finished a trial resulted in value: 2.8248921970338285. Current best value is 2.8163535853409427 with parameters: {'num_leaves': 13, 'learning_rate': 0.09993957617207302, 'feature_fraction': 0.9533758288814503, 'bagging_fraction': 0.24991294291619653, 'bagging_freq': 0, 'lambda_l2': 0.35009854861751183}.\n"
     ]
    },
    {
     "name": "stdout",
     "output_type": "stream",
     "text": [
      "CV average RMSE: 3.5662\n"
     ]
    },
    {
     "name": "stderr",
     "output_type": "stream",
     "text": [
      "[I 2019-03-13 04:53:04,828] Finished a trial resulted in value: 3.566196545470433. Current best value is 2.8163535853409427 with parameters: {'num_leaves': 13, 'learning_rate': 0.09993957617207302, 'feature_fraction': 0.9533758288814503, 'bagging_fraction': 0.24991294291619653, 'bagging_freq': 0, 'lambda_l2': 0.35009854861751183}.\n"
     ]
    },
    {
     "name": "stdout",
     "output_type": "stream",
     "text": [
      "CV average RMSE: 3.80529\n"
     ]
    },
    {
     "name": "stderr",
     "output_type": "stream",
     "text": [
      "[I 2019-03-13 04:53:05,221] Finished a trial resulted in value: 3.805287422270304. Current best value is 2.8163535853409427 with parameters: {'num_leaves': 13, 'learning_rate': 0.09993957617207302, 'feature_fraction': 0.9533758288814503, 'bagging_fraction': 0.24991294291619653, 'bagging_freq': 0, 'lambda_l2': 0.35009854861751183}.\n"
     ]
    },
    {
     "name": "stdout",
     "output_type": "stream",
     "text": [
      "CV average RMSE: 7.77498\n"
     ]
    },
    {
     "name": "stderr",
     "output_type": "stream",
     "text": [
      "[I 2019-03-13 04:53:05,541] Finished a trial resulted in value: 7.774984694620786. Current best value is 2.8163535853409427 with parameters: {'num_leaves': 13, 'learning_rate': 0.09993957617207302, 'feature_fraction': 0.9533758288814503, 'bagging_fraction': 0.24991294291619653, 'bagging_freq': 0, 'lambda_l2': 0.35009854861751183}.\n"
     ]
    },
    {
     "name": "stdout",
     "output_type": "stream",
     "text": [
      "CV average RMSE: 7.77498\n"
     ]
    },
    {
     "name": "stderr",
     "output_type": "stream",
     "text": [
      "[I 2019-03-13 04:53:05,859] Finished a trial resulted in value: 7.774984694620786. Current best value is 2.8163535853409427 with parameters: {'num_leaves': 13, 'learning_rate': 0.09993957617207302, 'feature_fraction': 0.9533758288814503, 'bagging_fraction': 0.24991294291619653, 'bagging_freq': 0, 'lambda_l2': 0.35009854861751183}.\n"
     ]
    },
    {
     "name": "stdout",
     "output_type": "stream",
     "text": [
      "CV average RMSE: 2.82139\n"
     ]
    },
    {
     "name": "stderr",
     "output_type": "stream",
     "text": [
      "[I 2019-03-13 04:53:06,349] Finished a trial resulted in value: 2.8213887712905086. Current best value is 2.8163535853409427 with parameters: {'num_leaves': 13, 'learning_rate': 0.09993957617207302, 'feature_fraction': 0.9533758288814503, 'bagging_fraction': 0.24991294291619653, 'bagging_freq': 0, 'lambda_l2': 0.35009854861751183}.\n"
     ]
    },
    {
     "name": "stdout",
     "output_type": "stream",
     "text": [
      "CV average RMSE: 2.83063\n"
     ]
    },
    {
     "name": "stderr",
     "output_type": "stream",
     "text": [
      "[I 2019-03-13 04:53:06,830] Finished a trial resulted in value: 2.8306345868186025. Current best value is 2.8163535853409427 with parameters: {'num_leaves': 13, 'learning_rate': 0.09993957617207302, 'feature_fraction': 0.9533758288814503, 'bagging_fraction': 0.24991294291619653, 'bagging_freq': 0, 'lambda_l2': 0.35009854861751183}.\n"
     ]
    },
    {
     "name": "stdout",
     "output_type": "stream",
     "text": [
      "CV average RMSE: 2.81635\n"
     ]
    },
    {
     "name": "stderr",
     "output_type": "stream",
     "text": [
      "[I 2019-03-13 04:53:07,329] Finished a trial resulted in value: 2.8163542160453092. Current best value is 2.8163535853409427 with parameters: {'num_leaves': 13, 'learning_rate': 0.09993957617207302, 'feature_fraction': 0.9533758288814503, 'bagging_fraction': 0.24991294291619653, 'bagging_freq': 0, 'lambda_l2': 0.35009854861751183}.\n"
     ]
    },
    {
     "name": "stdout",
     "output_type": "stream",
     "text": [
      "CV average RMSE: 6.29584\n"
     ]
    },
    {
     "name": "stderr",
     "output_type": "stream",
     "text": [
      "[I 2019-03-13 04:53:07,934] Finished a trial resulted in value: 6.2958408503433745. Current best value is 2.8163535853409427 with parameters: {'num_leaves': 13, 'learning_rate': 0.09993957617207302, 'feature_fraction': 0.9533758288814503, 'bagging_fraction': 0.24991294291619653, 'bagging_freq': 0, 'lambda_l2': 0.35009854861751183}.\n"
     ]
    },
    {
     "name": "stdout",
     "output_type": "stream",
     "text": [
      "CV average RMSE: 2.85093\n"
     ]
    },
    {
     "name": "stderr",
     "output_type": "stream",
     "text": [
      "[I 2019-03-13 04:53:08,413] Finished a trial resulted in value: 2.8509294657810798. Current best value is 2.8163535853409427 with parameters: {'num_leaves': 13, 'learning_rate': 0.09993957617207302, 'feature_fraction': 0.9533758288814503, 'bagging_fraction': 0.24991294291619653, 'bagging_freq': 0, 'lambda_l2': 0.35009854861751183}.\n"
     ]
    },
    {
     "name": "stdout",
     "output_type": "stream",
     "text": [
      "CV average RMSE: 2.80397\n"
     ]
    },
    {
     "name": "stderr",
     "output_type": "stream",
     "text": [
      "[I 2019-03-13 04:53:08,844] Finished a trial resulted in value: 2.803974919161661. Current best value is 2.803974919161661 with parameters: {'num_leaves': 23, 'learning_rate': 0.09326460321313935, 'feature_fraction': 0.09973066921936108, 'bagging_fraction': 0.9299630746128014, 'bagging_freq': 7, 'lambda_l2': 1.7439986984207316}.\n"
     ]
    },
    {
     "name": "stdout",
     "output_type": "stream",
     "text": [
      "CV average RMSE: 2.79777\n"
     ]
    },
    {
     "name": "stderr",
     "output_type": "stream",
     "text": [
      "[I 2019-03-13 04:53:09,336] Finished a trial resulted in value: 2.7977652047610726. Current best value is 2.7977652047610726 with parameters: {'num_leaves': 23, 'learning_rate': 0.09781853180879911, 'feature_fraction': 0.10398104148161227, 'bagging_fraction': 0.9157437375960312, 'bagging_freq': 7, 'lambda_l2': 1.6940432256237279}.\n"
     ]
    },
    {
     "name": "stdout",
     "output_type": "stream",
     "text": [
      "CV average RMSE: 2.82612\n"
     ]
    },
    {
     "name": "stderr",
     "output_type": "stream",
     "text": [
      "[I 2019-03-13 04:53:09,767] Finished a trial resulted in value: 2.8261226152741767. Current best value is 2.7977652047610726 with parameters: {'num_leaves': 23, 'learning_rate': 0.09781853180879911, 'feature_fraction': 0.10398104148161227, 'bagging_fraction': 0.9157437375960312, 'bagging_freq': 7, 'lambda_l2': 1.6940432256237279}.\n"
     ]
    },
    {
     "name": "stdout",
     "output_type": "stream",
     "text": [
      "CV average RMSE: 2.87562\n"
     ]
    },
    {
     "name": "stderr",
     "output_type": "stream",
     "text": [
      "[I 2019-03-13 04:53:10,170] Finished a trial resulted in value: 2.875623378038895. Current best value is 2.7977652047610726 with parameters: {'num_leaves': 23, 'learning_rate': 0.09781853180879911, 'feature_fraction': 0.10398104148161227, 'bagging_fraction': 0.9157437375960312, 'bagging_freq': 7, 'lambda_l2': 1.6940432256237279}.\n"
     ]
    },
    {
     "name": "stdout",
     "output_type": "stream",
     "text": [
      "CV average RMSE: 2.81671\n"
     ]
    },
    {
     "name": "stderr",
     "output_type": "stream",
     "text": [
      "[I 2019-03-13 04:53:10,653] Finished a trial resulted in value: 2.816713723443164. Current best value is 2.7977652047610726 with parameters: {'num_leaves': 23, 'learning_rate': 0.09781853180879911, 'feature_fraction': 0.10398104148161227, 'bagging_fraction': 0.9157437375960312, 'bagging_freq': 7, 'lambda_l2': 1.6940432256237279}.\n"
     ]
    },
    {
     "name": "stdout",
     "output_type": "stream",
     "text": [
      "CV average RMSE: 2.83723\n"
     ]
    },
    {
     "name": "stderr",
     "output_type": "stream",
     "text": [
      "[I 2019-03-13 04:53:11,071] Finished a trial resulted in value: 2.8372338261181618. Current best value is 2.7977652047610726 with parameters: {'num_leaves': 23, 'learning_rate': 0.09781853180879911, 'feature_fraction': 0.10398104148161227, 'bagging_fraction': 0.9157437375960312, 'bagging_freq': 7, 'lambda_l2': 1.6940432256237279}.\n"
     ]
    },
    {
     "name": "stdout",
     "output_type": "stream",
     "text": [
      "CV average RMSE: 2.82673\n"
     ]
    },
    {
     "name": "stderr",
     "output_type": "stream",
     "text": [
      "[I 2019-03-13 04:53:11,545] Finished a trial resulted in value: 2.8267299971969453. Current best value is 2.7977652047610726 with parameters: {'num_leaves': 23, 'learning_rate': 0.09781853180879911, 'feature_fraction': 0.10398104148161227, 'bagging_fraction': 0.9157437375960312, 'bagging_freq': 7, 'lambda_l2': 1.6940432256237279}.\n"
     ]
    },
    {
     "name": "stdout",
     "output_type": "stream",
     "text": [
      "CV average RMSE: 2.83645\n"
     ]
    },
    {
     "name": "stderr",
     "output_type": "stream",
     "text": [
      "[I 2019-03-13 04:53:11,961] Finished a trial resulted in value: 2.8364541997327706. Current best value is 2.7977652047610726 with parameters: {'num_leaves': 23, 'learning_rate': 0.09781853180879911, 'feature_fraction': 0.10398104148161227, 'bagging_fraction': 0.9157437375960312, 'bagging_freq': 7, 'lambda_l2': 1.6940432256237279}.\n"
     ]
    },
    {
     "name": "stdout",
     "output_type": "stream",
     "text": [
      "CV average RMSE: 2.82113\n"
     ]
    },
    {
     "name": "stderr",
     "output_type": "stream",
     "text": [
      "[I 2019-03-13 04:53:12,390] Finished a trial resulted in value: 2.8211334890690494. Current best value is 2.7977652047610726 with parameters: {'num_leaves': 23, 'learning_rate': 0.09781853180879911, 'feature_fraction': 0.10398104148161227, 'bagging_fraction': 0.9157437375960312, 'bagging_freq': 7, 'lambda_l2': 1.6940432256237279}.\n"
     ]
    },
    {
     "name": "stdout",
     "output_type": "stream",
     "text": [
      "CV average RMSE: 2.83706\n"
     ]
    },
    {
     "name": "stderr",
     "output_type": "stream",
     "text": [
      "[I 2019-03-13 04:53:12,890] Finished a trial resulted in value: 2.837064284754466. Current best value is 2.7977652047610726 with parameters: {'num_leaves': 23, 'learning_rate': 0.09781853180879911, 'feature_fraction': 0.10398104148161227, 'bagging_fraction': 0.9157437375960312, 'bagging_freq': 7, 'lambda_l2': 1.6940432256237279}.\n"
     ]
    },
    {
     "name": "stdout",
     "output_type": "stream",
     "text": [
      "CV average RMSE: 2.83867\n"
     ]
    },
    {
     "name": "stderr",
     "output_type": "stream",
     "text": [
      "[I 2019-03-13 04:53:13,349] Finished a trial resulted in value: 2.838673385550666. Current best value is 2.7977652047610726 with parameters: {'num_leaves': 23, 'learning_rate': 0.09781853180879911, 'feature_fraction': 0.10398104148161227, 'bagging_fraction': 0.9157437375960312, 'bagging_freq': 7, 'lambda_l2': 1.6940432256237279}.\n"
     ]
    },
    {
     "name": "stdout",
     "output_type": "stream",
     "text": [
      "CV average RMSE: 2.8741\n"
     ]
    },
    {
     "name": "stderr",
     "output_type": "stream",
     "text": [
      "[I 2019-03-13 04:53:13,846] Finished a trial resulted in value: 2.874104078558554. Current best value is 2.7977652047610726 with parameters: {'num_leaves': 23, 'learning_rate': 0.09781853180879911, 'feature_fraction': 0.10398104148161227, 'bagging_fraction': 0.9157437375960312, 'bagging_freq': 7, 'lambda_l2': 1.6940432256237279}.\n"
     ]
    },
    {
     "name": "stdout",
     "output_type": "stream",
     "text": [
      "CV average RMSE: 2.82747\n"
     ]
    },
    {
     "name": "stderr",
     "output_type": "stream",
     "text": [
      "[I 2019-03-13 04:53:14,274] Finished a trial resulted in value: 2.8274726565167896. Current best value is 2.7977652047610726 with parameters: {'num_leaves': 23, 'learning_rate': 0.09781853180879911, 'feature_fraction': 0.10398104148161227, 'bagging_fraction': 0.9157437375960312, 'bagging_freq': 7, 'lambda_l2': 1.6940432256237279}.\n"
     ]
    },
    {
     "name": "stdout",
     "output_type": "stream",
     "text": [
      "CV average RMSE: 2.85656\n"
     ]
    },
    {
     "name": "stderr",
     "output_type": "stream",
     "text": [
      "[I 2019-03-13 04:53:14,672] Finished a trial resulted in value: 2.8565629581885994. Current best value is 2.7977652047610726 with parameters: {'num_leaves': 23, 'learning_rate': 0.09781853180879911, 'feature_fraction': 0.10398104148161227, 'bagging_fraction': 0.9157437375960312, 'bagging_freq': 7, 'lambda_l2': 1.6940432256237279}.\n"
     ]
    },
    {
     "name": "stdout",
     "output_type": "stream",
     "text": [
      "CV average RMSE: 2.87284\n"
     ]
    },
    {
     "name": "stderr",
     "output_type": "stream",
     "text": [
      "[I 2019-03-13 04:53:15,150] Finished a trial resulted in value: 2.872839511915547. Current best value is 2.7977652047610726 with parameters: {'num_leaves': 23, 'learning_rate': 0.09781853180879911, 'feature_fraction': 0.10398104148161227, 'bagging_fraction': 0.9157437375960312, 'bagging_freq': 7, 'lambda_l2': 1.6940432256237279}.\n"
     ]
    },
    {
     "name": "stdout",
     "output_type": "stream",
     "text": [
      "CV average RMSE: 2.84832\n"
     ]
    },
    {
     "name": "stderr",
     "output_type": "stream",
     "text": [
      "[I 2019-03-13 04:53:15,578] Finished a trial resulted in value: 2.8483150246116065. Current best value is 2.7977652047610726 with parameters: {'num_leaves': 23, 'learning_rate': 0.09781853180879911, 'feature_fraction': 0.10398104148161227, 'bagging_fraction': 0.9157437375960312, 'bagging_freq': 7, 'lambda_l2': 1.6940432256237279}.\n"
     ]
    },
    {
     "name": "stdout",
     "output_type": "stream",
     "text": [
      "CV average RMSE: 2.8318\n"
     ]
    },
    {
     "name": "stderr",
     "output_type": "stream",
     "text": [
      "[I 2019-03-13 04:53:16,066] Finished a trial resulted in value: 2.831795052481991. Current best value is 2.7977652047610726 with parameters: {'num_leaves': 23, 'learning_rate': 0.09781853180879911, 'feature_fraction': 0.10398104148161227, 'bagging_fraction': 0.9157437375960312, 'bagging_freq': 7, 'lambda_l2': 1.6940432256237279}.\n"
     ]
    },
    {
     "name": "stdout",
     "output_type": "stream",
     "text": [
      "CV average RMSE: 2.86889\n"
     ]
    },
    {
     "name": "stderr",
     "output_type": "stream",
     "text": [
      "[I 2019-03-13 04:53:16,484] Finished a trial resulted in value: 2.868886421186173. Current best value is 2.7977652047610726 with parameters: {'num_leaves': 23, 'learning_rate': 0.09781853180879911, 'feature_fraction': 0.10398104148161227, 'bagging_fraction': 0.9157437375960312, 'bagging_freq': 7, 'lambda_l2': 1.6940432256237279}.\n"
     ]
    },
    {
     "name": "stdout",
     "output_type": "stream",
     "text": [
      "CV average RMSE: 2.82994\n"
     ]
    },
    {
     "name": "stderr",
     "output_type": "stream",
     "text": [
      "[I 2019-03-13 04:53:16,953] Finished a trial resulted in value: 2.8299396297542003. Current best value is 2.7977652047610726 with parameters: {'num_leaves': 23, 'learning_rate': 0.09781853180879911, 'feature_fraction': 0.10398104148161227, 'bagging_fraction': 0.9157437375960312, 'bagging_freq': 7, 'lambda_l2': 1.6940432256237279}.\n"
     ]
    },
    {
     "name": "stdout",
     "output_type": "stream",
     "text": [
      "CV average RMSE: 2.84629\n"
     ]
    },
    {
     "name": "stderr",
     "output_type": "stream",
     "text": [
      "[I 2019-03-13 04:53:17,424] Finished a trial resulted in value: 2.846294468796279. Current best value is 2.7977652047610726 with parameters: {'num_leaves': 23, 'learning_rate': 0.09781853180879911, 'feature_fraction': 0.10398104148161227, 'bagging_fraction': 0.9157437375960312, 'bagging_freq': 7, 'lambda_l2': 1.6940432256237279}.\n"
     ]
    },
    {
     "name": "stdout",
     "output_type": "stream",
     "text": [
      "CV average RMSE: 2.85668\n"
     ]
    },
    {
     "name": "stderr",
     "output_type": "stream",
     "text": [
      "[I 2019-03-13 04:53:17,859] Finished a trial resulted in value: 2.8566780444964652. Current best value is 2.7977652047610726 with parameters: {'num_leaves': 23, 'learning_rate': 0.09781853180879911, 'feature_fraction': 0.10398104148161227, 'bagging_fraction': 0.9157437375960312, 'bagging_freq': 7, 'lambda_l2': 1.6940432256237279}.\n"
     ]
    },
    {
     "name": "stdout",
     "output_type": "stream",
     "text": [
      "CV average RMSE: 2.83172\n"
     ]
    },
    {
     "name": "stderr",
     "output_type": "stream",
     "text": [
      "[I 2019-03-13 04:53:18,348] Finished a trial resulted in value: 2.8317238496587054. Current best value is 2.7977652047610726 with parameters: {'num_leaves': 23, 'learning_rate': 0.09781853180879911, 'feature_fraction': 0.10398104148161227, 'bagging_fraction': 0.9157437375960312, 'bagging_freq': 7, 'lambda_l2': 1.6940432256237279}.\n"
     ]
    },
    {
     "name": "stdout",
     "output_type": "stream",
     "text": [
      "CV average RMSE: 3.06029\n"
     ]
    },
    {
     "name": "stderr",
     "output_type": "stream",
     "text": [
      "[I 2019-03-13 04:53:18,971] Finished a trial resulted in value: 3.060293980860037. Current best value is 2.7977652047610726 with parameters: {'num_leaves': 23, 'learning_rate': 0.09781853180879911, 'feature_fraction': 0.10398104148161227, 'bagging_fraction': 0.9157437375960312, 'bagging_freq': 7, 'lambda_l2': 1.6940432256237279}.\n"
     ]
    },
    {
     "name": "stdout",
     "output_type": "stream",
     "text": [
      "CV average RMSE: 2.82588\n"
     ]
    },
    {
     "name": "stderr",
     "output_type": "stream",
     "text": [
      "[I 2019-03-13 04:53:19,576] Finished a trial resulted in value: 2.8258845368430734. Current best value is 2.7977652047610726 with parameters: {'num_leaves': 23, 'learning_rate': 0.09781853180879911, 'feature_fraction': 0.10398104148161227, 'bagging_fraction': 0.9157437375960312, 'bagging_freq': 7, 'lambda_l2': 1.6940432256237279}.\n"
     ]
    },
    {
     "name": "stdout",
     "output_type": "stream",
     "text": [
      "CV average RMSE: 2.84524\n"
     ]
    },
    {
     "name": "stderr",
     "output_type": "stream",
     "text": [
      "[I 2019-03-13 04:53:20,012] Finished a trial resulted in value: 2.8452373976265184. Current best value is 2.7977652047610726 with parameters: {'num_leaves': 23, 'learning_rate': 0.09781853180879911, 'feature_fraction': 0.10398104148161227, 'bagging_fraction': 0.9157437375960312, 'bagging_freq': 7, 'lambda_l2': 1.6940432256237279}.\n"
     ]
    },
    {
     "name": "stdout",
     "output_type": "stream",
     "text": [
      "CV average RMSE: 2.85656\n"
     ]
    },
    {
     "name": "stderr",
     "output_type": "stream",
     "text": [
      "[I 2019-03-13 04:53:20,438] Finished a trial resulted in value: 2.856556779722795. Current best value is 2.7977652047610726 with parameters: {'num_leaves': 23, 'learning_rate': 0.09781853180879911, 'feature_fraction': 0.10398104148161227, 'bagging_fraction': 0.9157437375960312, 'bagging_freq': 7, 'lambda_l2': 1.6940432256237279}.\n"
     ]
    },
    {
     "name": "stdout",
     "output_type": "stream",
     "text": [
      "CV average RMSE: 2.84267\n"
     ]
    },
    {
     "name": "stderr",
     "output_type": "stream",
     "text": [
      "[I 2019-03-13 04:53:20,890] Finished a trial resulted in value: 2.8426697515293804. Current best value is 2.7977652047610726 with parameters: {'num_leaves': 23, 'learning_rate': 0.09781853180879911, 'feature_fraction': 0.10398104148161227, 'bagging_fraction': 0.9157437375960312, 'bagging_freq': 7, 'lambda_l2': 1.6940432256237279}.\n"
     ]
    },
    {
     "name": "stdout",
     "output_type": "stream",
     "text": [
      "CV average RMSE: 2.83612\n"
     ]
    },
    {
     "name": "stderr",
     "output_type": "stream",
     "text": [
      "[I 2019-03-13 04:53:21,299] Finished a trial resulted in value: 2.8361193695704996. Current best value is 2.7977652047610726 with parameters: {'num_leaves': 23, 'learning_rate': 0.09781853180879911, 'feature_fraction': 0.10398104148161227, 'bagging_fraction': 0.9157437375960312, 'bagging_freq': 7, 'lambda_l2': 1.6940432256237279}.\n"
     ]
    },
    {
     "name": "stdout",
     "output_type": "stream",
     "text": [
      "CV average RMSE: 2.88887\n"
     ]
    },
    {
     "name": "stderr",
     "output_type": "stream",
     "text": [
      "[I 2019-03-13 04:53:21,828] Finished a trial resulted in value: 2.8888734956820694. Current best value is 2.7977652047610726 with parameters: {'num_leaves': 23, 'learning_rate': 0.09781853180879911, 'feature_fraction': 0.10398104148161227, 'bagging_fraction': 0.9157437375960312, 'bagging_freq': 7, 'lambda_l2': 1.6940432256237279}.\n"
     ]
    },
    {
     "name": "stdout",
     "output_type": "stream",
     "text": [
      "CV average RMSE: 2.90387\n"
     ]
    },
    {
     "name": "stderr",
     "output_type": "stream",
     "text": [
      "[I 2019-03-13 04:53:22,254] Finished a trial resulted in value: 2.9038741236028436. Current best value is 2.7977652047610726 with parameters: {'num_leaves': 23, 'learning_rate': 0.09781853180879911, 'feature_fraction': 0.10398104148161227, 'bagging_fraction': 0.9157437375960312, 'bagging_freq': 7, 'lambda_l2': 1.6940432256237279}.\n"
     ]
    },
    {
     "name": "stdout",
     "output_type": "stream",
     "text": [
      "CV average RMSE: 2.87376\n"
     ]
    },
    {
     "name": "stderr",
     "output_type": "stream",
     "text": [
      "[I 2019-03-13 04:53:22,674] Finished a trial resulted in value: 2.873763377668015. Current best value is 2.7977652047610726 with parameters: {'num_leaves': 23, 'learning_rate': 0.09781853180879911, 'feature_fraction': 0.10398104148161227, 'bagging_fraction': 0.9157437375960312, 'bagging_freq': 7, 'lambda_l2': 1.6940432256237279}.\n"
     ]
    },
    {
     "name": "stdout",
     "output_type": "stream",
     "text": [
      "CV average RMSE: 2.82339\n"
     ]
    },
    {
     "name": "stderr",
     "output_type": "stream",
     "text": [
      "[I 2019-03-13 04:53:23,174] Finished a trial resulted in value: 2.8233910642217426. Current best value is 2.7977652047610726 with parameters: {'num_leaves': 23, 'learning_rate': 0.09781853180879911, 'feature_fraction': 0.10398104148161227, 'bagging_fraction': 0.9157437375960312, 'bagging_freq': 7, 'lambda_l2': 1.6940432256237279}.\n"
     ]
    },
    {
     "name": "stdout",
     "output_type": "stream",
     "text": [
      "CV average RMSE: 2.86634\n"
     ]
    },
    {
     "name": "stderr",
     "output_type": "stream",
     "text": [
      "[I 2019-03-13 04:53:23,614] Finished a trial resulted in value: 2.866343142733295. Current best value is 2.7977652047610726 with parameters: {'num_leaves': 23, 'learning_rate': 0.09781853180879911, 'feature_fraction': 0.10398104148161227, 'bagging_fraction': 0.9157437375960312, 'bagging_freq': 7, 'lambda_l2': 1.6940432256237279}.\n"
     ]
    },
    {
     "name": "stdout",
     "output_type": "stream",
     "text": [
      "CV average RMSE: 2.82773\n"
     ]
    },
    {
     "name": "stderr",
     "output_type": "stream",
     "text": [
      "[I 2019-03-13 04:53:24,140] Finished a trial resulted in value: 2.8277255870553875. Current best value is 2.7977652047610726 with parameters: {'num_leaves': 23, 'learning_rate': 0.09781853180879911, 'feature_fraction': 0.10398104148161227, 'bagging_fraction': 0.9157437375960312, 'bagging_freq': 7, 'lambda_l2': 1.6940432256237279}.\n"
     ]
    },
    {
     "name": "stdout",
     "output_type": "stream",
     "text": [
      "CV average RMSE: 2.84124\n"
     ]
    },
    {
     "name": "stderr",
     "output_type": "stream",
     "text": [
      "[I 2019-03-13 04:53:24,594] Finished a trial resulted in value: 2.841241899729238. Current best value is 2.7977652047610726 with parameters: {'num_leaves': 23, 'learning_rate': 0.09781853180879911, 'feature_fraction': 0.10398104148161227, 'bagging_fraction': 0.9157437375960312, 'bagging_freq': 7, 'lambda_l2': 1.6940432256237279}.\n"
     ]
    },
    {
     "name": "stdout",
     "output_type": "stream",
     "text": [
      "CV average RMSE: 2.81518\n"
     ]
    },
    {
     "name": "stderr",
     "output_type": "stream",
     "text": [
      "[I 2019-03-13 04:53:25,081] Finished a trial resulted in value: 2.815183299043381. Current best value is 2.7977652047610726 with parameters: {'num_leaves': 23, 'learning_rate': 0.09781853180879911, 'feature_fraction': 0.10398104148161227, 'bagging_fraction': 0.9157437375960312, 'bagging_freq': 7, 'lambda_l2': 1.6940432256237279}.\n"
     ]
    },
    {
     "name": "stdout",
     "output_type": "stream",
     "text": [
      "CV average RMSE: 2.81692\n"
     ]
    },
    {
     "name": "stderr",
     "output_type": "stream",
     "text": [
      "[I 2019-03-13 04:53:25,532] Finished a trial resulted in value: 2.816923177855081. Current best value is 2.7977652047610726 with parameters: {'num_leaves': 23, 'learning_rate': 0.09781853180879911, 'feature_fraction': 0.10398104148161227, 'bagging_fraction': 0.9157437375960312, 'bagging_freq': 7, 'lambda_l2': 1.6940432256237279}.\n"
     ]
    },
    {
     "name": "stdout",
     "output_type": "stream",
     "text": [
      "CV average RMSE: 2.83962\n"
     ]
    },
    {
     "name": "stderr",
     "output_type": "stream",
     "text": [
      "[I 2019-03-13 04:53:25,986] Finished a trial resulted in value: 2.8396235538617853. Current best value is 2.7977652047610726 with parameters: {'num_leaves': 23, 'learning_rate': 0.09781853180879911, 'feature_fraction': 0.10398104148161227, 'bagging_fraction': 0.9157437375960312, 'bagging_freq': 7, 'lambda_l2': 1.6940432256237279}.\n"
     ]
    },
    {
     "name": "stdout",
     "output_type": "stream",
     "text": [
      "CV average RMSE: 2.82379\n"
     ]
    },
    {
     "name": "stderr",
     "output_type": "stream",
     "text": [
      "[I 2019-03-13 04:53:26,465] Finished a trial resulted in value: 2.8237864110349995. Current best value is 2.7977652047610726 with parameters: {'num_leaves': 23, 'learning_rate': 0.09781853180879911, 'feature_fraction': 0.10398104148161227, 'bagging_fraction': 0.9157437375960312, 'bagging_freq': 7, 'lambda_l2': 1.6940432256237279}.\n"
     ]
    },
    {
     "name": "stdout",
     "output_type": "stream",
     "text": [
      "CV average RMSE: 2.88734\n"
     ]
    },
    {
     "name": "stderr",
     "output_type": "stream",
     "text": [
      "[I 2019-03-13 04:53:26,890] Finished a trial resulted in value: 2.8873425371567265. Current best value is 2.7977652047610726 with parameters: {'num_leaves': 23, 'learning_rate': 0.09781853180879911, 'feature_fraction': 0.10398104148161227, 'bagging_fraction': 0.9157437375960312, 'bagging_freq': 7, 'lambda_l2': 1.6940432256237279}.\n"
     ]
    },
    {
     "name": "stdout",
     "output_type": "stream",
     "text": [
      "CV average RMSE: 2.83183\n"
     ]
    },
    {
     "name": "stderr",
     "output_type": "stream",
     "text": [
      "[I 2019-03-13 04:53:27,485] Finished a trial resulted in value: 2.831828701967002. Current best value is 2.7977652047610726 with parameters: {'num_leaves': 23, 'learning_rate': 0.09781853180879911, 'feature_fraction': 0.10398104148161227, 'bagging_fraction': 0.9157437375960312, 'bagging_freq': 7, 'lambda_l2': 1.6940432256237279}.\n"
     ]
    },
    {
     "name": "stdout",
     "output_type": "stream",
     "text": [
      "CV average RMSE: 2.82416\n"
     ]
    },
    {
     "name": "stderr",
     "output_type": "stream",
     "text": [
      "[I 2019-03-13 04:53:27,927] Finished a trial resulted in value: 2.8241636689701735. Current best value is 2.7977652047610726 with parameters: {'num_leaves': 23, 'learning_rate': 0.09781853180879911, 'feature_fraction': 0.10398104148161227, 'bagging_fraction': 0.9157437375960312, 'bagging_freq': 7, 'lambda_l2': 1.6940432256237279}.\n"
     ]
    },
    {
     "name": "stdout",
     "output_type": "stream",
     "text": [
      "CV average RMSE: 2.89476\n"
     ]
    },
    {
     "name": "stderr",
     "output_type": "stream",
     "text": [
      "[I 2019-03-13 04:53:28,420] Finished a trial resulted in value: 2.894755368123635. Current best value is 2.7977652047610726 with parameters: {'num_leaves': 23, 'learning_rate': 0.09781853180879911, 'feature_fraction': 0.10398104148161227, 'bagging_fraction': 0.9157437375960312, 'bagging_freq': 7, 'lambda_l2': 1.6940432256237279}.\n"
     ]
    },
    {
     "name": "stdout",
     "output_type": "stream",
     "text": [
      "CV average RMSE: 2.82317\n"
     ]
    },
    {
     "name": "stderr",
     "output_type": "stream",
     "text": [
      "[I 2019-03-13 04:53:28,893] Finished a trial resulted in value: 2.82316986013666. Current best value is 2.7977652047610726 with parameters: {'num_leaves': 23, 'learning_rate': 0.09781853180879911, 'feature_fraction': 0.10398104148161227, 'bagging_fraction': 0.9157437375960312, 'bagging_freq': 7, 'lambda_l2': 1.6940432256237279}.\n"
     ]
    },
    {
     "name": "stdout",
     "output_type": "stream",
     "text": [
      "CV average RMSE: 2.84011\n"
     ]
    },
    {
     "name": "stderr",
     "output_type": "stream",
     "text": [
      "[I 2019-03-13 04:53:29,327] Finished a trial resulted in value: 2.840113992120999. Current best value is 2.7977652047610726 with parameters: {'num_leaves': 23, 'learning_rate': 0.09781853180879911, 'feature_fraction': 0.10398104148161227, 'bagging_fraction': 0.9157437375960312, 'bagging_freq': 7, 'lambda_l2': 1.6940432256237279}.\n"
     ]
    },
    {
     "name": "stdout",
     "output_type": "stream",
     "text": [
      "CV average RMSE: 2.83452\n"
     ]
    },
    {
     "name": "stderr",
     "output_type": "stream",
     "text": [
      "[I 2019-03-13 04:53:29,827] Finished a trial resulted in value: 2.8345188262594005. Current best value is 2.7977652047610726 with parameters: {'num_leaves': 23, 'learning_rate': 0.09781853180879911, 'feature_fraction': 0.10398104148161227, 'bagging_fraction': 0.9157437375960312, 'bagging_freq': 7, 'lambda_l2': 1.6940432256237279}.\n"
     ]
    },
    {
     "name": "stdout",
     "output_type": "stream",
     "text": [
      "CV average RMSE: 2.92312\n"
     ]
    },
    {
     "name": "stderr",
     "output_type": "stream",
     "text": [
      "[I 2019-03-13 04:53:30,283] Finished a trial resulted in value: 2.9231239837068355. Current best value is 2.7977652047610726 with parameters: {'num_leaves': 23, 'learning_rate': 0.09781853180879911, 'feature_fraction': 0.10398104148161227, 'bagging_fraction': 0.9157437375960312, 'bagging_freq': 7, 'lambda_l2': 1.6940432256237279}.\n"
     ]
    },
    {
     "name": "stdout",
     "output_type": "stream",
     "text": [
      "CV average RMSE: 2.89427\n"
     ]
    },
    {
     "name": "stderr",
     "output_type": "stream",
     "text": [
      "[I 2019-03-13 04:53:30,783] Finished a trial resulted in value: 2.894271154839463. Current best value is 2.7977652047610726 with parameters: {'num_leaves': 23, 'learning_rate': 0.09781853180879911, 'feature_fraction': 0.10398104148161227, 'bagging_fraction': 0.9157437375960312, 'bagging_freq': 7, 'lambda_l2': 1.6940432256237279}.\n"
     ]
    },
    {
     "name": "stdout",
     "output_type": "stream",
     "text": [
      "CV average RMSE: 2.83509\n"
     ]
    },
    {
     "name": "stderr",
     "output_type": "stream",
     "text": [
      "[I 2019-03-13 04:53:31,223] Finished a trial resulted in value: 2.83508515615764. Current best value is 2.7977652047610726 with parameters: {'num_leaves': 23, 'learning_rate': 0.09781853180879911, 'feature_fraction': 0.10398104148161227, 'bagging_fraction': 0.9157437375960312, 'bagging_freq': 7, 'lambda_l2': 1.6940432256237279}.\n"
     ]
    },
    {
     "name": "stdout",
     "output_type": "stream",
     "text": [
      "CV average RMSE: 3.33738\n"
     ]
    },
    {
     "name": "stderr",
     "output_type": "stream",
     "text": [
      "[I 2019-03-13 04:53:31,988] Finished a trial resulted in value: 3.337379261090117. Current best value is 2.7977652047610726 with parameters: {'num_leaves': 23, 'learning_rate': 0.09781853180879911, 'feature_fraction': 0.10398104148161227, 'bagging_fraction': 0.9157437375960312, 'bagging_freq': 7, 'lambda_l2': 1.6940432256237279}.\n"
     ]
    },
    {
     "name": "stdout",
     "output_type": "stream",
     "text": [
      "CV average RMSE: 2.85466\n"
     ]
    },
    {
     "name": "stderr",
     "output_type": "stream",
     "text": [
      "[I 2019-03-13 04:53:32,436] Finished a trial resulted in value: 2.854655975194575. Current best value is 2.7977652047610726 with parameters: {'num_leaves': 23, 'learning_rate': 0.09781853180879911, 'feature_fraction': 0.10398104148161227, 'bagging_fraction': 0.9157437375960312, 'bagging_freq': 7, 'lambda_l2': 1.6940432256237279}.\n"
     ]
    },
    {
     "name": "stdout",
     "output_type": "stream",
     "text": [
      "CV average RMSE: 2.83623\n"
     ]
    },
    {
     "name": "stderr",
     "output_type": "stream",
     "text": [
      "[I 2019-03-13 04:53:32,892] Finished a trial resulted in value: 2.83622669303909. Current best value is 2.7977652047610726 with parameters: {'num_leaves': 23, 'learning_rate': 0.09781853180879911, 'feature_fraction': 0.10398104148161227, 'bagging_fraction': 0.9157437375960312, 'bagging_freq': 7, 'lambda_l2': 1.6940432256237279}.\n"
     ]
    },
    {
     "name": "stdout",
     "output_type": "stream",
     "text": [
      "CV average RMSE: 2.83334\n"
     ]
    },
    {
     "name": "stderr",
     "output_type": "stream",
     "text": [
      "[I 2019-03-13 04:53:33,332] Finished a trial resulted in value: 2.833335883320319. Current best value is 2.7977652047610726 with parameters: {'num_leaves': 23, 'learning_rate': 0.09781853180879911, 'feature_fraction': 0.10398104148161227, 'bagging_fraction': 0.9157437375960312, 'bagging_freq': 7, 'lambda_l2': 1.6940432256237279}.\n"
     ]
    },
    {
     "name": "stdout",
     "output_type": "stream",
     "text": [
      "CV average RMSE: 2.87843\n"
     ]
    },
    {
     "name": "stderr",
     "output_type": "stream",
     "text": [
      "[I 2019-03-13 04:53:33,766] Finished a trial resulted in value: 2.8784290581874385. Current best value is 2.7977652047610726 with parameters: {'num_leaves': 23, 'learning_rate': 0.09781853180879911, 'feature_fraction': 0.10398104148161227, 'bagging_fraction': 0.9157437375960312, 'bagging_freq': 7, 'lambda_l2': 1.6940432256237279}.\n"
     ]
    },
    {
     "name": "stdout",
     "output_type": "stream",
     "text": [
      "CV average RMSE: 2.82898\n"
     ]
    },
    {
     "name": "stderr",
     "output_type": "stream",
     "text": [
      "[I 2019-03-13 04:53:34,362] Finished a trial resulted in value: 2.828975814340964. Current best value is 2.7977652047610726 with parameters: {'num_leaves': 23, 'learning_rate': 0.09781853180879911, 'feature_fraction': 0.10398104148161227, 'bagging_fraction': 0.9157437375960312, 'bagging_freq': 7, 'lambda_l2': 1.6940432256237279}.\n"
     ]
    },
    {
     "name": "stdout",
     "output_type": "stream",
     "text": [
      "CV average RMSE: 2.84579\n"
     ]
    },
    {
     "name": "stderr",
     "output_type": "stream",
     "text": [
      "[I 2019-03-13 04:53:34,814] Finished a trial resulted in value: 2.8457933046133235. Current best value is 2.7977652047610726 with parameters: {'num_leaves': 23, 'learning_rate': 0.09781853180879911, 'feature_fraction': 0.10398104148161227, 'bagging_fraction': 0.9157437375960312, 'bagging_freq': 7, 'lambda_l2': 1.6940432256237279}.\n"
     ]
    },
    {
     "name": "stdout",
     "output_type": "stream",
     "text": [
      "CV average RMSE: 2.83831\n"
     ]
    },
    {
     "name": "stderr",
     "output_type": "stream",
     "text": [
      "[I 2019-03-13 04:53:35,270] Finished a trial resulted in value: 2.838312598077274. Current best value is 2.7977652047610726 with parameters: {'num_leaves': 23, 'learning_rate': 0.09781853180879911, 'feature_fraction': 0.10398104148161227, 'bagging_fraction': 0.9157437375960312, 'bagging_freq': 7, 'lambda_l2': 1.6940432256237279}.\n"
     ]
    },
    {
     "name": "stdout",
     "output_type": "stream",
     "text": [
      "CV average RMSE: 2.87751\n"
     ]
    },
    {
     "name": "stderr",
     "output_type": "stream",
     "text": [
      "[I 2019-03-13 04:53:35,676] Finished a trial resulted in value: 2.877507615980588. Current best value is 2.7977652047610726 with parameters: {'num_leaves': 23, 'learning_rate': 0.09781853180879911, 'feature_fraction': 0.10398104148161227, 'bagging_fraction': 0.9157437375960312, 'bagging_freq': 7, 'lambda_l2': 1.6940432256237279}.\n"
     ]
    },
    {
     "name": "stdout",
     "output_type": "stream",
     "text": [
      "CV average RMSE: 2.88819\n"
     ]
    },
    {
     "name": "stderr",
     "output_type": "stream",
     "text": [
      "[I 2019-03-13 04:53:36,112] Finished a trial resulted in value: 2.888187699291151. Current best value is 2.7977652047610726 with parameters: {'num_leaves': 23, 'learning_rate': 0.09781853180879911, 'feature_fraction': 0.10398104148161227, 'bagging_fraction': 0.9157437375960312, 'bagging_freq': 7, 'lambda_l2': 1.6940432256237279}.\n"
     ]
    },
    {
     "name": "stdout",
     "output_type": "stream",
     "text": [
      "CV average RMSE: 2.82835\n"
     ]
    },
    {
     "name": "stderr",
     "output_type": "stream",
     "text": [
      "[I 2019-03-13 04:53:36,642] Finished a trial resulted in value: 2.8283459827431683. Current best value is 2.7977652047610726 with parameters: {'num_leaves': 23, 'learning_rate': 0.09781853180879911, 'feature_fraction': 0.10398104148161227, 'bagging_fraction': 0.9157437375960312, 'bagging_freq': 7, 'lambda_l2': 1.6940432256237279}.\n"
     ]
    },
    {
     "name": "stdout",
     "output_type": "stream",
     "text": [
      "CV average RMSE: 2.87355\n"
     ]
    },
    {
     "name": "stderr",
     "output_type": "stream",
     "text": [
      "[I 2019-03-13 04:53:37,083] Finished a trial resulted in value: 2.873547694386757. Current best value is 2.7977652047610726 with parameters: {'num_leaves': 23, 'learning_rate': 0.09781853180879911, 'feature_fraction': 0.10398104148161227, 'bagging_fraction': 0.9157437375960312, 'bagging_freq': 7, 'lambda_l2': 1.6940432256237279}.\n"
     ]
    },
    {
     "name": "stdout",
     "output_type": "stream",
     "text": [
      "CV average RMSE: 2.86623\n"
     ]
    },
    {
     "name": "stderr",
     "output_type": "stream",
     "text": [
      "[I 2019-03-13 04:53:37,657] Finished a trial resulted in value: 2.866229557112559. Current best value is 2.7977652047610726 with parameters: {'num_leaves': 23, 'learning_rate': 0.09781853180879911, 'feature_fraction': 0.10398104148161227, 'bagging_fraction': 0.9157437375960312, 'bagging_freq': 7, 'lambda_l2': 1.6940432256237279}.\n"
     ]
    },
    {
     "name": "stdout",
     "output_type": "stream",
     "text": [
      "CV average RMSE: 2.85277\n"
     ]
    },
    {
     "name": "stderr",
     "output_type": "stream",
     "text": [
      "[I 2019-03-13 04:53:38,110] Finished a trial resulted in value: 2.852767305272475. Current best value is 2.7977652047610726 with parameters: {'num_leaves': 23, 'learning_rate': 0.09781853180879911, 'feature_fraction': 0.10398104148161227, 'bagging_fraction': 0.9157437375960312, 'bagging_freq': 7, 'lambda_l2': 1.6940432256237279}.\n"
     ]
    },
    {
     "name": "stdout",
     "output_type": "stream",
     "text": [
      "CV average RMSE: 2.85373\n"
     ]
    },
    {
     "name": "stderr",
     "output_type": "stream",
     "text": [
      "[I 2019-03-13 04:53:38,568] Finished a trial resulted in value: 2.853727044956285. Current best value is 2.7977652047610726 with parameters: {'num_leaves': 23, 'learning_rate': 0.09781853180879911, 'feature_fraction': 0.10398104148161227, 'bagging_fraction': 0.9157437375960312, 'bagging_freq': 7, 'lambda_l2': 1.6940432256237279}.\n"
     ]
    },
    {
     "name": "stdout",
     "output_type": "stream",
     "text": [
      "CV average RMSE: 2.88638\n"
     ]
    },
    {
     "name": "stderr",
     "output_type": "stream",
     "text": [
      "[I 2019-03-13 04:53:39,017] Finished a trial resulted in value: 2.8863784339082565. Current best value is 2.7977652047610726 with parameters: {'num_leaves': 23, 'learning_rate': 0.09781853180879911, 'feature_fraction': 0.10398104148161227, 'bagging_fraction': 0.9157437375960312, 'bagging_freq': 7, 'lambda_l2': 1.6940432256237279}.\n"
     ]
    },
    {
     "name": "stdout",
     "output_type": "stream",
     "text": [
      "CV average RMSE: 2.82265\n"
     ]
    },
    {
     "name": "stderr",
     "output_type": "stream",
     "text": [
      "[I 2019-03-13 04:53:39,454] Finished a trial resulted in value: 2.8226465067323048. Current best value is 2.7977652047610726 with parameters: {'num_leaves': 23, 'learning_rate': 0.09781853180879911, 'feature_fraction': 0.10398104148161227, 'bagging_fraction': 0.9157437375960312, 'bagging_freq': 7, 'lambda_l2': 1.6940432256237279}.\n"
     ]
    },
    {
     "name": "stdout",
     "output_type": "stream",
     "text": [
      "CV average RMSE: 2.83901\n"
     ]
    },
    {
     "name": "stderr",
     "output_type": "stream",
     "text": [
      "[I 2019-03-13 04:53:40,004] Finished a trial resulted in value: 2.8390120101276466. Current best value is 2.7977652047610726 with parameters: {'num_leaves': 23, 'learning_rate': 0.09781853180879911, 'feature_fraction': 0.10398104148161227, 'bagging_fraction': 0.9157437375960312, 'bagging_freq': 7, 'lambda_l2': 1.6940432256237279}.\n"
     ]
    },
    {
     "name": "stdout",
     "output_type": "stream",
     "text": [
      "CV average RMSE: 2.85648\n"
     ]
    },
    {
     "name": "stderr",
     "output_type": "stream",
     "text": [
      "[I 2019-03-13 04:53:40,443] Finished a trial resulted in value: 2.856476946449087. Current best value is 2.7977652047610726 with parameters: {'num_leaves': 23, 'learning_rate': 0.09781853180879911, 'feature_fraction': 0.10398104148161227, 'bagging_fraction': 0.9157437375960312, 'bagging_freq': 7, 'lambda_l2': 1.6940432256237279}.\n"
     ]
    },
    {
     "name": "stdout",
     "output_type": "stream",
     "text": [
      "CV average RMSE: 2.87461\n"
     ]
    },
    {
     "name": "stderr",
     "output_type": "stream",
     "text": [
      "[I 2019-03-13 04:53:40,860] Finished a trial resulted in value: 2.8746138939086396. Current best value is 2.7977652047610726 with parameters: {'num_leaves': 23, 'learning_rate': 0.09781853180879911, 'feature_fraction': 0.10398104148161227, 'bagging_fraction': 0.9157437375960312, 'bagging_freq': 7, 'lambda_l2': 1.6940432256237279}.\n"
     ]
    },
    {
     "name": "stdout",
     "output_type": "stream",
     "text": [
      "CV average RMSE: 2.84276\n"
     ]
    },
    {
     "name": "stderr",
     "output_type": "stream",
     "text": [
      "[I 2019-03-13 04:53:41,331] Finished a trial resulted in value: 2.8427594193794934. Current best value is 2.7977652047610726 with parameters: {'num_leaves': 23, 'learning_rate': 0.09781853180879911, 'feature_fraction': 0.10398104148161227, 'bagging_fraction': 0.9157437375960312, 'bagging_freq': 7, 'lambda_l2': 1.6940432256237279}.\n"
     ]
    },
    {
     "name": "stdout",
     "output_type": "stream",
     "text": [
      "CV average RMSE: 2.85213\n"
     ]
    },
    {
     "name": "stderr",
     "output_type": "stream",
     "text": [
      "[I 2019-03-13 04:53:41,768] Finished a trial resulted in value: 2.8521331506419996. Current best value is 2.7977652047610726 with parameters: {'num_leaves': 23, 'learning_rate': 0.09781853180879911, 'feature_fraction': 0.10398104148161227, 'bagging_fraction': 0.9157437375960312, 'bagging_freq': 7, 'lambda_l2': 1.6940432256237279}.\n"
     ]
    },
    {
     "name": "stdout",
     "output_type": "stream",
     "text": [
      "CV average RMSE: 2.88164\n"
     ]
    },
    {
     "name": "stderr",
     "output_type": "stream",
     "text": [
      "[I 2019-03-13 04:53:42,249] Finished a trial resulted in value: 2.8816394630639257. Current best value is 2.7977652047610726 with parameters: {'num_leaves': 23, 'learning_rate': 0.09781853180879911, 'feature_fraction': 0.10398104148161227, 'bagging_fraction': 0.9157437375960312, 'bagging_freq': 7, 'lambda_l2': 1.6940432256237279}.\n"
     ]
    },
    {
     "name": "stdout",
     "output_type": "stream",
     "text": [
      "CV average RMSE: 2.83104\n"
     ]
    },
    {
     "name": "stderr",
     "output_type": "stream",
     "text": [
      "[I 2019-03-13 04:53:42,736] Finished a trial resulted in value: 2.8310439731663513. Current best value is 2.7977652047610726 with parameters: {'num_leaves': 23, 'learning_rate': 0.09781853180879911, 'feature_fraction': 0.10398104148161227, 'bagging_fraction': 0.9157437375960312, 'bagging_freq': 7, 'lambda_l2': 1.6940432256237279}.\n"
     ]
    },
    {
     "name": "stdout",
     "output_type": "stream",
     "text": [
      "CV average RMSE: 2.8467\n"
     ]
    },
    {
     "name": "stderr",
     "output_type": "stream",
     "text": [
      "[I 2019-03-13 04:53:43,224] Finished a trial resulted in value: 2.8467040869484173. Current best value is 2.7977652047610726 with parameters: {'num_leaves': 23, 'learning_rate': 0.09781853180879911, 'feature_fraction': 0.10398104148161227, 'bagging_fraction': 0.9157437375960312, 'bagging_freq': 7, 'lambda_l2': 1.6940432256237279}.\n"
     ]
    },
    {
     "name": "stdout",
     "output_type": "stream",
     "text": [
      "CV average RMSE: 2.82709\n"
     ]
    },
    {
     "name": "stderr",
     "output_type": "stream",
     "text": [
      "[I 2019-03-13 04:53:43,674] Finished a trial resulted in value: 2.8270863738918077. Current best value is 2.7977652047610726 with parameters: {'num_leaves': 23, 'learning_rate': 0.09781853180879911, 'feature_fraction': 0.10398104148161227, 'bagging_fraction': 0.9157437375960312, 'bagging_freq': 7, 'lambda_l2': 1.6940432256237279}.\n"
     ]
    },
    {
     "name": "stdout",
     "output_type": "stream",
     "text": [
      "CV average RMSE: 2.87982\n"
     ]
    },
    {
     "name": "stderr",
     "output_type": "stream",
     "text": [
      "[I 2019-03-13 04:53:44,096] Finished a trial resulted in value: 2.8798249727661. Current best value is 2.7977652047610726 with parameters: {'num_leaves': 23, 'learning_rate': 0.09781853180879911, 'feature_fraction': 0.10398104148161227, 'bagging_fraction': 0.9157437375960312, 'bagging_freq': 7, 'lambda_l2': 1.6940432256237279}.\n"
     ]
    },
    {
     "name": "stdout",
     "output_type": "stream",
     "text": [
      "CV average RMSE: 2.83913\n"
     ]
    },
    {
     "name": "stderr",
     "output_type": "stream",
     "text": [
      "[I 2019-03-13 04:53:44,578] Finished a trial resulted in value: 2.8391259808598184. Current best value is 2.7977652047610726 with parameters: {'num_leaves': 23, 'learning_rate': 0.09781853180879911, 'feature_fraction': 0.10398104148161227, 'bagging_fraction': 0.9157437375960312, 'bagging_freq': 7, 'lambda_l2': 1.6940432256237279}.\n"
     ]
    },
    {
     "name": "stdout",
     "output_type": "stream",
     "text": [
      "CV average RMSE: 2.85209\n"
     ]
    },
    {
     "name": "stderr",
     "output_type": "stream",
     "text": [
      "[I 2019-03-13 04:53:45,032] Finished a trial resulted in value: 2.8520879658329346. Current best value is 2.7977652047610726 with parameters: {'num_leaves': 23, 'learning_rate': 0.09781853180879911, 'feature_fraction': 0.10398104148161227, 'bagging_fraction': 0.9157437375960312, 'bagging_freq': 7, 'lambda_l2': 1.6940432256237279}.\n"
     ]
    },
    {
     "name": "stdout",
     "output_type": "stream",
     "text": [
      "CV average RMSE: 2.84221\n"
     ]
    },
    {
     "name": "stderr",
     "output_type": "stream",
     "text": [
      "[I 2019-03-13 04:53:45,585] Finished a trial resulted in value: 2.842205328220938. Current best value is 2.7977652047610726 with parameters: {'num_leaves': 23, 'learning_rate': 0.09781853180879911, 'feature_fraction': 0.10398104148161227, 'bagging_fraction': 0.9157437375960312, 'bagging_freq': 7, 'lambda_l2': 1.6940432256237279}.\n"
     ]
    },
    {
     "name": "stdout",
     "output_type": "stream",
     "text": [
      "CV average RMSE: 2.88241\n"
     ]
    },
    {
     "name": "stderr",
     "output_type": "stream",
     "text": [
      "[I 2019-03-13 04:53:46,048] Finished a trial resulted in value: 2.8824141271848696. Current best value is 2.7977652047610726 with parameters: {'num_leaves': 23, 'learning_rate': 0.09781853180879911, 'feature_fraction': 0.10398104148161227, 'bagging_fraction': 0.9157437375960312, 'bagging_freq': 7, 'lambda_l2': 1.6940432256237279}.\n"
     ]
    },
    {
     "name": "stdout",
     "output_type": "stream",
     "text": [
      "CV average RMSE: 2.86742\n"
     ]
    },
    {
     "name": "stderr",
     "output_type": "stream",
     "text": [
      "[I 2019-03-13 04:53:46,537] Finished a trial resulted in value: 2.867423556531289. Current best value is 2.7977652047610726 with parameters: {'num_leaves': 23, 'learning_rate': 0.09781853180879911, 'feature_fraction': 0.10398104148161227, 'bagging_fraction': 0.9157437375960312, 'bagging_freq': 7, 'lambda_l2': 1.6940432256237279}.\n"
     ]
    },
    {
     "name": "stdout",
     "output_type": "stream",
     "text": [
      "CV average RMSE: 2.91572\n"
     ]
    },
    {
     "name": "stderr",
     "output_type": "stream",
     "text": [
      "[I 2019-03-13 04:53:47,005] Finished a trial resulted in value: 2.9157237499983566. Current best value is 2.7977652047610726 with parameters: {'num_leaves': 23, 'learning_rate': 0.09781853180879911, 'feature_fraction': 0.10398104148161227, 'bagging_fraction': 0.9157437375960312, 'bagging_freq': 7, 'lambda_l2': 1.6940432256237279}.\n"
     ]
    },
    {
     "name": "stdout",
     "output_type": "stream",
     "text": [
      "CV average RMSE: 2.88513\n"
     ]
    },
    {
     "name": "stderr",
     "output_type": "stream",
     "text": [
      "[I 2019-03-13 04:53:47,440] Finished a trial resulted in value: 2.885130067536862. Current best value is 2.7977652047610726 with parameters: {'num_leaves': 23, 'learning_rate': 0.09781853180879911, 'feature_fraction': 0.10398104148161227, 'bagging_fraction': 0.9157437375960312, 'bagging_freq': 7, 'lambda_l2': 1.6940432256237279}.\n"
     ]
    },
    {
     "name": "stdout",
     "output_type": "stream",
     "text": [
      "CV average RMSE: 2.85536\n"
     ]
    },
    {
     "name": "stderr",
     "output_type": "stream",
     "text": [
      "[I 2019-03-13 04:53:47,927] Finished a trial resulted in value: 2.855359238391869. Current best value is 2.7977652047610726 with parameters: {'num_leaves': 23, 'learning_rate': 0.09781853180879911, 'feature_fraction': 0.10398104148161227, 'bagging_fraction': 0.9157437375960312, 'bagging_freq': 7, 'lambda_l2': 1.6940432256237279}.\n"
     ]
    },
    {
     "name": "stdout",
     "output_type": "stream",
     "text": [
      "CV average RMSE: 2.85343\n"
     ]
    },
    {
     "name": "stderr",
     "output_type": "stream",
     "text": [
      "[I 2019-03-13 04:53:48,366] Finished a trial resulted in value: 2.853426961673657. Current best value is 2.7977652047610726 with parameters: {'num_leaves': 23, 'learning_rate': 0.09781853180879911, 'feature_fraction': 0.10398104148161227, 'bagging_fraction': 0.9157437375960312, 'bagging_freq': 7, 'lambda_l2': 1.6940432256237279}.\n"
     ]
    },
    {
     "name": "stdout",
     "output_type": "stream",
     "text": [
      "CV average RMSE: 2.83298\n"
     ]
    },
    {
     "name": "stderr",
     "output_type": "stream",
     "text": [
      "[I 2019-03-13 04:53:48,864] Finished a trial resulted in value: 2.8329762998370445. Current best value is 2.7977652047610726 with parameters: {'num_leaves': 23, 'learning_rate': 0.09781853180879911, 'feature_fraction': 0.10398104148161227, 'bagging_fraction': 0.9157437375960312, 'bagging_freq': 7, 'lambda_l2': 1.6940432256237279}.\n"
     ]
    },
    {
     "name": "stdout",
     "output_type": "stream",
     "text": [
      "CV average RMSE: 2.89878\n"
     ]
    },
    {
     "name": "stderr",
     "output_type": "stream",
     "text": [
      "[I 2019-03-13 04:53:49,303] Finished a trial resulted in value: 2.898783132118237. Current best value is 2.7977652047610726 with parameters: {'num_leaves': 23, 'learning_rate': 0.09781853180879911, 'feature_fraction': 0.10398104148161227, 'bagging_fraction': 0.9157437375960312, 'bagging_freq': 7, 'lambda_l2': 1.6940432256237279}.\n"
     ]
    },
    {
     "name": "stdout",
     "output_type": "stream",
     "text": [
      "CV average RMSE: 2.83478\n"
     ]
    },
    {
     "name": "stderr",
     "output_type": "stream",
     "text": [
      "[I 2019-03-13 04:53:49,771] Finished a trial resulted in value: 2.8347760236313495. Current best value is 2.7977652047610726 with parameters: {'num_leaves': 23, 'learning_rate': 0.09781853180879911, 'feature_fraction': 0.10398104148161227, 'bagging_fraction': 0.9157437375960312, 'bagging_freq': 7, 'lambda_l2': 1.6940432256237279}.\n"
     ]
    },
    {
     "name": "stdout",
     "output_type": "stream",
     "text": [
      "CV average RMSE: 2.93978\n"
     ]
    },
    {
     "name": "stderr",
     "output_type": "stream",
     "text": [
      "[I 2019-03-13 04:53:50,394] Finished a trial resulted in value: 2.9397845788915746. Current best value is 2.7977652047610726 with parameters: {'num_leaves': 23, 'learning_rate': 0.09781853180879911, 'feature_fraction': 0.10398104148161227, 'bagging_fraction': 0.9157437375960312, 'bagging_freq': 7, 'lambda_l2': 1.6940432256237279}.\n"
     ]
    },
    {
     "name": "stdout",
     "output_type": "stream",
     "text": [
      "CV average RMSE: 2.8327\n"
     ]
    },
    {
     "name": "stderr",
     "output_type": "stream",
     "text": [
      "[I 2019-03-13 04:53:50,895] Finished a trial resulted in value: 2.8326957151992196. Current best value is 2.7977652047610726 with parameters: {'num_leaves': 23, 'learning_rate': 0.09781853180879911, 'feature_fraction': 0.10398104148161227, 'bagging_fraction': 0.9157437375960312, 'bagging_freq': 7, 'lambda_l2': 1.6940432256237279}.\n"
     ]
    },
    {
     "name": "stdout",
     "output_type": "stream",
     "text": [
      "CV average RMSE: 2.87292\n"
     ]
    },
    {
     "name": "stderr",
     "output_type": "stream",
     "text": [
      "[I 2019-03-13 04:53:51,348] Finished a trial resulted in value: 2.872917829964581. Current best value is 2.7977652047610726 with parameters: {'num_leaves': 23, 'learning_rate': 0.09781853180879911, 'feature_fraction': 0.10398104148161227, 'bagging_fraction': 0.9157437375960312, 'bagging_freq': 7, 'lambda_l2': 1.6940432256237279}.\n"
     ]
    },
    {
     "name": "stdout",
     "output_type": "stream",
     "text": [
      "CV average RMSE: 2.89043\n"
     ]
    },
    {
     "name": "stderr",
     "output_type": "stream",
     "text": [
      "[I 2019-03-13 04:53:51,880] Finished a trial resulted in value: 2.890431430109539. Current best value is 2.7977652047610726 with parameters: {'num_leaves': 23, 'learning_rate': 0.09781853180879911, 'feature_fraction': 0.10398104148161227, 'bagging_fraction': 0.9157437375960312, 'bagging_freq': 7, 'lambda_l2': 1.6940432256237279}.\n"
     ]
    },
    {
     "name": "stdout",
     "output_type": "stream",
     "text": [
      "CV average RMSE: 2.84195\n"
     ]
    },
    {
     "name": "stderr",
     "output_type": "stream",
     "text": [
      "[I 2019-03-13 04:53:52,392] Finished a trial resulted in value: 2.8419524387401656. Current best value is 2.7977652047610726 with parameters: {'num_leaves': 23, 'learning_rate': 0.09781853180879911, 'feature_fraction': 0.10398104148161227, 'bagging_fraction': 0.9157437375960312, 'bagging_freq': 7, 'lambda_l2': 1.6940432256237279}.\n"
     ]
    },
    {
     "name": "stdout",
     "output_type": "stream",
     "text": [
      "CV average RMSE: 2.83248\n"
     ]
    },
    {
     "name": "stderr",
     "output_type": "stream",
     "text": [
      "[I 2019-03-13 04:53:52,836] Finished a trial resulted in value: 2.832482344128638. Current best value is 2.7977652047610726 with parameters: {'num_leaves': 23, 'learning_rate': 0.09781853180879911, 'feature_fraction': 0.10398104148161227, 'bagging_fraction': 0.9157437375960312, 'bagging_freq': 7, 'lambda_l2': 1.6940432256237279}.\n"
     ]
    },
    {
     "name": "stdout",
     "output_type": "stream",
     "text": [
      "CV average RMSE: 2.83612\n"
     ]
    },
    {
     "name": "stderr",
     "output_type": "stream",
     "text": [
      "[I 2019-03-13 04:53:53,408] Finished a trial resulted in value: 2.836121012540155. Current best value is 2.7977652047610726 with parameters: {'num_leaves': 23, 'learning_rate': 0.09781853180879911, 'feature_fraction': 0.10398104148161227, 'bagging_fraction': 0.9157437375960312, 'bagging_freq': 7, 'lambda_l2': 1.6940432256237279}.\n"
     ]
    },
    {
     "name": "stdout",
     "output_type": "stream",
     "text": [
      "CV average RMSE: 2.92521\n"
     ]
    },
    {
     "name": "stderr",
     "output_type": "stream",
     "text": [
      "[I 2019-03-13 04:53:53,830] Finished a trial resulted in value: 2.925206812086711. Current best value is 2.7977652047610726 with parameters: {'num_leaves': 23, 'learning_rate': 0.09781853180879911, 'feature_fraction': 0.10398104148161227, 'bagging_fraction': 0.9157437375960312, 'bagging_freq': 7, 'lambda_l2': 1.6940432256237279}.\n"
     ]
    },
    {
     "name": "stdout",
     "output_type": "stream",
     "text": [
      "CV average RMSE: 2.84933\n"
     ]
    },
    {
     "name": "stderr",
     "output_type": "stream",
     "text": [
      "[I 2019-03-13 04:53:54,268] Finished a trial resulted in value: 2.8493251111028544. Current best value is 2.7977652047610726 with parameters: {'num_leaves': 23, 'learning_rate': 0.09781853180879911, 'feature_fraction': 0.10398104148161227, 'bagging_fraction': 0.9157437375960312, 'bagging_freq': 7, 'lambda_l2': 1.6940432256237279}.\n"
     ]
    },
    {
     "name": "stdout",
     "output_type": "stream",
     "text": [
      "CV average RMSE: 2.8576\n"
     ]
    },
    {
     "name": "stderr",
     "output_type": "stream",
     "text": [
      "[I 2019-03-13 04:53:54,695] Finished a trial resulted in value: 2.857599843730146. Current best value is 2.7977652047610726 with parameters: {'num_leaves': 23, 'learning_rate': 0.09781853180879911, 'feature_fraction': 0.10398104148161227, 'bagging_fraction': 0.9157437375960312, 'bagging_freq': 7, 'lambda_l2': 1.6940432256237279}.\n"
     ]
    },
    {
     "name": "stdout",
     "output_type": "stream",
     "text": [
      "CV average RMSE: 2.89623\n"
     ]
    },
    {
     "name": "stderr",
     "output_type": "stream",
     "text": [
      "[I 2019-03-13 04:53:55,286] Finished a trial resulted in value: 2.8962332567454396. Current best value is 2.7977652047610726 with parameters: {'num_leaves': 23, 'learning_rate': 0.09781853180879911, 'feature_fraction': 0.10398104148161227, 'bagging_fraction': 0.9157437375960312, 'bagging_freq': 7, 'lambda_l2': 1.6940432256237279}.\n"
     ]
    },
    {
     "name": "stdout",
     "output_type": "stream",
     "text": [
      "CV average RMSE: 2.84114\n"
     ]
    },
    {
     "name": "stderr",
     "output_type": "stream",
     "text": [
      "[I 2019-03-13 04:53:55,771] Finished a trial resulted in value: 2.8411354692844766. Current best value is 2.7977652047610726 with parameters: {'num_leaves': 23, 'learning_rate': 0.09781853180879911, 'feature_fraction': 0.10398104148161227, 'bagging_fraction': 0.9157437375960312, 'bagging_freq': 7, 'lambda_l2': 1.6940432256237279}.\n"
     ]
    },
    {
     "name": "stdout",
     "output_type": "stream",
     "text": [
      "CV average RMSE: 2.88067\n"
     ]
    },
    {
     "name": "stderr",
     "output_type": "stream",
     "text": [
      "[I 2019-03-13 04:53:56,205] Finished a trial resulted in value: 2.880665870054581. Current best value is 2.7977652047610726 with parameters: {'num_leaves': 23, 'learning_rate': 0.09781853180879911, 'feature_fraction': 0.10398104148161227, 'bagging_fraction': 0.9157437375960312, 'bagging_freq': 7, 'lambda_l2': 1.6940432256237279}.\n"
     ]
    },
    {
     "name": "stdout",
     "output_type": "stream",
     "text": [
      "CV average RMSE: 2.86675\n"
     ]
    },
    {
     "name": "stderr",
     "output_type": "stream",
     "text": [
      "[I 2019-03-13 04:53:56,754] Finished a trial resulted in value: 2.866750670782403. Current best value is 2.7977652047610726 with parameters: {'num_leaves': 23, 'learning_rate': 0.09781853180879911, 'feature_fraction': 0.10398104148161227, 'bagging_fraction': 0.9157437375960312, 'bagging_freq': 7, 'lambda_l2': 1.6940432256237279}.\n"
     ]
    },
    {
     "name": "stdout",
     "output_type": "stream",
     "text": [
      "CV average RMSE: 2.87664\n"
     ]
    },
    {
     "name": "stderr",
     "output_type": "stream",
     "text": [
      "[I 2019-03-13 04:53:57,254] Finished a trial resulted in value: 2.87663575151236. Current best value is 2.7977652047610726 with parameters: {'num_leaves': 23, 'learning_rate': 0.09781853180879911, 'feature_fraction': 0.10398104148161227, 'bagging_fraction': 0.9157437375960312, 'bagging_freq': 7, 'lambda_l2': 1.6940432256237279}.\n"
     ]
    },
    {
     "name": "stdout",
     "output_type": "stream",
     "text": [
      "CV average RMSE: 2.86551\n"
     ]
    },
    {
     "name": "stderr",
     "output_type": "stream",
     "text": [
      "[I 2019-03-13 04:53:57,770] Finished a trial resulted in value: 2.8655147484691943. Current best value is 2.7977652047610726 with parameters: {'num_leaves': 23, 'learning_rate': 0.09781853180879911, 'feature_fraction': 0.10398104148161227, 'bagging_fraction': 0.9157437375960312, 'bagging_freq': 7, 'lambda_l2': 1.6940432256237279}.\n"
     ]
    },
    {
     "name": "stdout",
     "output_type": "stream",
     "text": [
      "CV average RMSE: 2.8412\n"
     ]
    },
    {
     "name": "stderr",
     "output_type": "stream",
     "text": [
      "[I 2019-03-13 04:53:58,227] Finished a trial resulted in value: 2.8411998870168844. Current best value is 2.7977652047610726 with parameters: {'num_leaves': 23, 'learning_rate': 0.09781853180879911, 'feature_fraction': 0.10398104148161227, 'bagging_fraction': 0.9157437375960312, 'bagging_freq': 7, 'lambda_l2': 1.6940432256237279}.\n"
     ]
    },
    {
     "name": "stdout",
     "output_type": "stream",
     "text": [
      "CV average RMSE: 2.86771\n"
     ]
    },
    {
     "name": "stderr",
     "output_type": "stream",
     "text": [
      "[I 2019-03-13 04:53:58,695] Finished a trial resulted in value: 2.8677148402100796. Current best value is 2.7977652047610726 with parameters: {'num_leaves': 23, 'learning_rate': 0.09781853180879911, 'feature_fraction': 0.10398104148161227, 'bagging_fraction': 0.9157437375960312, 'bagging_freq': 7, 'lambda_l2': 1.6940432256237279}.\n"
     ]
    },
    {
     "name": "stdout",
     "output_type": "stream",
     "text": [
      "CV average RMSE: 2.88149\n"
     ]
    },
    {
     "name": "stderr",
     "output_type": "stream",
     "text": [
      "[I 2019-03-13 04:53:59,142] Finished a trial resulted in value: 2.8814863764498844. Current best value is 2.7977652047610726 with parameters: {'num_leaves': 23, 'learning_rate': 0.09781853180879911, 'feature_fraction': 0.10398104148161227, 'bagging_fraction': 0.9157437375960312, 'bagging_freq': 7, 'lambda_l2': 1.6940432256237279}.\n"
     ]
    },
    {
     "name": "stdout",
     "output_type": "stream",
     "text": [
      "CV average RMSE: 2.87023\n"
     ]
    },
    {
     "name": "stderr",
     "output_type": "stream",
     "text": [
      "[I 2019-03-13 04:53:59,674] Finished a trial resulted in value: 2.8702254460029275. Current best value is 2.7977652047610726 with parameters: {'num_leaves': 23, 'learning_rate': 0.09781853180879911, 'feature_fraction': 0.10398104148161227, 'bagging_fraction': 0.9157437375960312, 'bagging_freq': 7, 'lambda_l2': 1.6940432256237279}.\n"
     ]
    },
    {
     "name": "stdout",
     "output_type": "stream",
     "text": [
      "CV average RMSE: 2.82233\n"
     ]
    },
    {
     "name": "stderr",
     "output_type": "stream",
     "text": [
      "[I 2019-03-13 04:54:00,195] Finished a trial resulted in value: 2.822333160468533. Current best value is 2.7977652047610726 with parameters: {'num_leaves': 23, 'learning_rate': 0.09781853180879911, 'feature_fraction': 0.10398104148161227, 'bagging_fraction': 0.9157437375960312, 'bagging_freq': 7, 'lambda_l2': 1.6940432256237279}.\n"
     ]
    },
    {
     "name": "stdout",
     "output_type": "stream",
     "text": [
      "CV average RMSE: 2.88537\n"
     ]
    },
    {
     "name": "stderr",
     "output_type": "stream",
     "text": [
      "[I 2019-03-13 04:54:00,770] Finished a trial resulted in value: 2.885370760407246. Current best value is 2.7977652047610726 with parameters: {'num_leaves': 23, 'learning_rate': 0.09781853180879911, 'feature_fraction': 0.10398104148161227, 'bagging_fraction': 0.9157437375960312, 'bagging_freq': 7, 'lambda_l2': 1.6940432256237279}.\n"
     ]
    },
    {
     "name": "stdout",
     "output_type": "stream",
     "text": [
      "CV average RMSE: 2.88033\n"
     ]
    },
    {
     "name": "stderr",
     "output_type": "stream",
     "text": [
      "[I 2019-03-13 04:54:01,269] Finished a trial resulted in value: 2.880327581805428. Current best value is 2.7977652047610726 with parameters: {'num_leaves': 23, 'learning_rate': 0.09781853180879911, 'feature_fraction': 0.10398104148161227, 'bagging_fraction': 0.9157437375960312, 'bagging_freq': 7, 'lambda_l2': 1.6940432256237279}.\n"
     ]
    },
    {
     "name": "stdout",
     "output_type": "stream",
     "text": [
      "CV average RMSE: 2.83126\n"
     ]
    },
    {
     "name": "stderr",
     "output_type": "stream",
     "text": [
      "[I 2019-03-13 04:54:01,738] Finished a trial resulted in value: 2.83125975521913. Current best value is 2.7977652047610726 with parameters: {'num_leaves': 23, 'learning_rate': 0.09781853180879911, 'feature_fraction': 0.10398104148161227, 'bagging_fraction': 0.9157437375960312, 'bagging_freq': 7, 'lambda_l2': 1.6940432256237279}.\n"
     ]
    },
    {
     "name": "stdout",
     "output_type": "stream",
     "text": [
      "CV average RMSE: 2.89449\n"
     ]
    },
    {
     "name": "stderr",
     "output_type": "stream",
     "text": [
      "[I 2019-03-13 04:54:02,400] Finished a trial resulted in value: 2.894489573742889. Current best value is 2.7977652047610726 with parameters: {'num_leaves': 23, 'learning_rate': 0.09781853180879911, 'feature_fraction': 0.10398104148161227, 'bagging_fraction': 0.9157437375960312, 'bagging_freq': 7, 'lambda_l2': 1.6940432256237279}.\n"
     ]
    },
    {
     "name": "stdout",
     "output_type": "stream",
     "text": [
      "CV average RMSE: 2.87002\n"
     ]
    },
    {
     "name": "stderr",
     "output_type": "stream",
     "text": [
      "[I 2019-03-13 04:54:02,866] Finished a trial resulted in value: 2.870016415106251. Current best value is 2.7977652047610726 with parameters: {'num_leaves': 23, 'learning_rate': 0.09781853180879911, 'feature_fraction': 0.10398104148161227, 'bagging_fraction': 0.9157437375960312, 'bagging_freq': 7, 'lambda_l2': 1.6940432256237279}.\n"
     ]
    },
    {
     "name": "stdout",
     "output_type": "stream",
     "text": [
      "CV average RMSE: 2.83502\n"
     ]
    },
    {
     "name": "stderr",
     "output_type": "stream",
     "text": [
      "[I 2019-03-13 04:54:03,443] Finished a trial resulted in value: 2.8350221856269395. Current best value is 2.7977652047610726 with parameters: {'num_leaves': 23, 'learning_rate': 0.09781853180879911, 'feature_fraction': 0.10398104148161227, 'bagging_fraction': 0.9157437375960312, 'bagging_freq': 7, 'lambda_l2': 1.6940432256237279}.\n"
     ]
    },
    {
     "name": "stdout",
     "output_type": "stream",
     "text": [
      "CV average RMSE: 2.99851\n"
     ]
    },
    {
     "name": "stderr",
     "output_type": "stream",
     "text": [
      "[I 2019-03-13 04:54:04,069] Finished a trial resulted in value: 2.9985066900155504. Current best value is 2.7977652047610726 with parameters: {'num_leaves': 23, 'learning_rate': 0.09781853180879911, 'feature_fraction': 0.10398104148161227, 'bagging_fraction': 0.9157437375960312, 'bagging_freq': 7, 'lambda_l2': 1.6940432256237279}.\n"
     ]
    },
    {
     "name": "stdout",
     "output_type": "stream",
     "text": [
      "CV average RMSE: 2.88088\n"
     ]
    },
    {
     "name": "stderr",
     "output_type": "stream",
     "text": [
      "[I 2019-03-13 04:54:04,525] Finished a trial resulted in value: 2.8808806119952446. Current best value is 2.7977652047610726 with parameters: {'num_leaves': 23, 'learning_rate': 0.09781853180879911, 'feature_fraction': 0.10398104148161227, 'bagging_fraction': 0.9157437375960312, 'bagging_freq': 7, 'lambda_l2': 1.6940432256237279}.\n"
     ]
    },
    {
     "name": "stdout",
     "output_type": "stream",
     "text": [
      "CV average RMSE: 2.83157\n"
     ]
    },
    {
     "name": "stderr",
     "output_type": "stream",
     "text": [
      "[I 2019-03-13 04:54:04,992] Finished a trial resulted in value: 2.8315742404338744. Current best value is 2.7977652047610726 with parameters: {'num_leaves': 23, 'learning_rate': 0.09781853180879911, 'feature_fraction': 0.10398104148161227, 'bagging_fraction': 0.9157437375960312, 'bagging_freq': 7, 'lambda_l2': 1.6940432256237279}.\n"
     ]
    },
    {
     "name": "stdout",
     "output_type": "stream",
     "text": [
      "CV average RMSE: 2.84447\n"
     ]
    },
    {
     "name": "stderr",
     "output_type": "stream",
     "text": [
      "[I 2019-03-13 04:54:05,493] Finished a trial resulted in value: 2.844466515521733. Current best value is 2.7977652047610726 with parameters: {'num_leaves': 23, 'learning_rate': 0.09781853180879911, 'feature_fraction': 0.10398104148161227, 'bagging_fraction': 0.9157437375960312, 'bagging_freq': 7, 'lambda_l2': 1.6940432256237279}.\n"
     ]
    },
    {
     "name": "stdout",
     "output_type": "stream",
     "text": [
      "CV average RMSE: 2.84916\n"
     ]
    },
    {
     "name": "stderr",
     "output_type": "stream",
     "text": [
      "[I 2019-03-13 04:54:05,944] Finished a trial resulted in value: 2.849160062080852. Current best value is 2.7977652047610726 with parameters: {'num_leaves': 23, 'learning_rate': 0.09781853180879911, 'feature_fraction': 0.10398104148161227, 'bagging_fraction': 0.9157437375960312, 'bagging_freq': 7, 'lambda_l2': 1.6940432256237279}.\n"
     ]
    },
    {
     "name": "stdout",
     "output_type": "stream",
     "text": [
      "CV average RMSE: 2.80406\n"
     ]
    },
    {
     "name": "stderr",
     "output_type": "stream",
     "text": [
      "[I 2019-03-13 04:54:06,432] Finished a trial resulted in value: 2.804060514232726. Current best value is 2.7977652047610726 with parameters: {'num_leaves': 23, 'learning_rate': 0.09781853180879911, 'feature_fraction': 0.10398104148161227, 'bagging_fraction': 0.9157437375960312, 'bagging_freq': 7, 'lambda_l2': 1.6940432256237279}.\n"
     ]
    },
    {
     "name": "stdout",
     "output_type": "stream",
     "text": [
      "CV average RMSE: 2.88025\n"
     ]
    },
    {
     "name": "stderr",
     "output_type": "stream",
     "text": [
      "[I 2019-03-13 04:54:06,944] Finished a trial resulted in value: 2.8802480820362555. Current best value is 2.7977652047610726 with parameters: {'num_leaves': 23, 'learning_rate': 0.09781853180879911, 'feature_fraction': 0.10398104148161227, 'bagging_fraction': 0.9157437375960312, 'bagging_freq': 7, 'lambda_l2': 1.6940432256237279}.\n"
     ]
    },
    {
     "name": "stdout",
     "output_type": "stream",
     "text": [
      "CV average RMSE: 2.87114\n"
     ]
    },
    {
     "name": "stderr",
     "output_type": "stream",
     "text": [
      "[I 2019-03-13 04:54:07,414] Finished a trial resulted in value: 2.8711400792270974. Current best value is 2.7977652047610726 with parameters: {'num_leaves': 23, 'learning_rate': 0.09781853180879911, 'feature_fraction': 0.10398104148161227, 'bagging_fraction': 0.9157437375960312, 'bagging_freq': 7, 'lambda_l2': 1.6940432256237279}.\n"
     ]
    },
    {
     "name": "stdout",
     "output_type": "stream",
     "text": [
      "CV average RMSE: 2.84517\n"
     ]
    },
    {
     "name": "stderr",
     "output_type": "stream",
     "text": [
      "[I 2019-03-13 04:54:07,943] Finished a trial resulted in value: 2.8451717171801247. Current best value is 2.7977652047610726 with parameters: {'num_leaves': 23, 'learning_rate': 0.09781853180879911, 'feature_fraction': 0.10398104148161227, 'bagging_fraction': 0.9157437375960312, 'bagging_freq': 7, 'lambda_l2': 1.6940432256237279}.\n"
     ]
    },
    {
     "name": "stdout",
     "output_type": "stream",
     "text": [
      "CV average RMSE: 2.87462\n"
     ]
    },
    {
     "name": "stderr",
     "output_type": "stream",
     "text": [
      "[I 2019-03-13 04:54:08,412] Finished a trial resulted in value: 2.874622595358398. Current best value is 2.7977652047610726 with parameters: {'num_leaves': 23, 'learning_rate': 0.09781853180879911, 'feature_fraction': 0.10398104148161227, 'bagging_fraction': 0.9157437375960312, 'bagging_freq': 7, 'lambda_l2': 1.6940432256237279}.\n"
     ]
    },
    {
     "name": "stdout",
     "output_type": "stream",
     "text": [
      "CV average RMSE: 2.88333\n"
     ]
    },
    {
     "name": "stderr",
     "output_type": "stream",
     "text": [
      "[I 2019-03-13 04:54:08,867] Finished a trial resulted in value: 2.8833303454395063. Current best value is 2.7977652047610726 with parameters: {'num_leaves': 23, 'learning_rate': 0.09781853180879911, 'feature_fraction': 0.10398104148161227, 'bagging_fraction': 0.9157437375960312, 'bagging_freq': 7, 'lambda_l2': 1.6940432256237279}.\n"
     ]
    },
    {
     "name": "stdout",
     "output_type": "stream",
     "text": [
      "CV average RMSE: 2.87571\n"
     ]
    },
    {
     "name": "stderr",
     "output_type": "stream",
     "text": [
      "[I 2019-03-13 04:54:09,307] Finished a trial resulted in value: 2.875707204430607. Current best value is 2.7977652047610726 with parameters: {'num_leaves': 23, 'learning_rate': 0.09781853180879911, 'feature_fraction': 0.10398104148161227, 'bagging_fraction': 0.9157437375960312, 'bagging_freq': 7, 'lambda_l2': 1.6940432256237279}.\n"
     ]
    },
    {
     "name": "stdout",
     "output_type": "stream",
     "text": [
      "CV average RMSE: 2.82455\n"
     ]
    },
    {
     "name": "stderr",
     "output_type": "stream",
     "text": [
      "[I 2019-03-13 04:54:09,806] Finished a trial resulted in value: 2.8245547592474147. Current best value is 2.7977652047610726 with parameters: {'num_leaves': 23, 'learning_rate': 0.09781853180879911, 'feature_fraction': 0.10398104148161227, 'bagging_fraction': 0.9157437375960312, 'bagging_freq': 7, 'lambda_l2': 1.6940432256237279}.\n"
     ]
    },
    {
     "name": "stdout",
     "output_type": "stream",
     "text": [
      "CV average RMSE: 2.88024\n"
     ]
    },
    {
     "name": "stderr",
     "output_type": "stream",
     "text": [
      "[I 2019-03-13 04:54:10,347] Finished a trial resulted in value: 2.8802390646942895. Current best value is 2.7977652047610726 with parameters: {'num_leaves': 23, 'learning_rate': 0.09781853180879911, 'feature_fraction': 0.10398104148161227, 'bagging_fraction': 0.9157437375960312, 'bagging_freq': 7, 'lambda_l2': 1.6940432256237279}.\n"
     ]
    },
    {
     "name": "stdout",
     "output_type": "stream",
     "text": [
      "CV average RMSE: 2.84158\n"
     ]
    },
    {
     "name": "stderr",
     "output_type": "stream",
     "text": [
      "[I 2019-03-13 04:54:10,817] Finished a trial resulted in value: 2.841583791113634. Current best value is 2.7977652047610726 with parameters: {'num_leaves': 23, 'learning_rate': 0.09781853180879911, 'feature_fraction': 0.10398104148161227, 'bagging_fraction': 0.9157437375960312, 'bagging_freq': 7, 'lambda_l2': 1.6940432256237279}.\n"
     ]
    },
    {
     "name": "stdout",
     "output_type": "stream",
     "text": [
      "CV average RMSE: 2.87237\n"
     ]
    },
    {
     "name": "stderr",
     "output_type": "stream",
     "text": [
      "[I 2019-03-13 04:54:11,321] Finished a trial resulted in value: 2.8723652876444317. Current best value is 2.7977652047610726 with parameters: {'num_leaves': 23, 'learning_rate': 0.09781853180879911, 'feature_fraction': 0.10398104148161227, 'bagging_fraction': 0.9157437375960312, 'bagging_freq': 7, 'lambda_l2': 1.6940432256237279}.\n"
     ]
    },
    {
     "name": "stdout",
     "output_type": "stream",
     "text": [
      "CV average RMSE: 2.86576\n"
     ]
    },
    {
     "name": "stderr",
     "output_type": "stream",
     "text": [
      "[I 2019-03-13 04:54:11,774] Finished a trial resulted in value: 2.865757916880156. Current best value is 2.7977652047610726 with parameters: {'num_leaves': 23, 'learning_rate': 0.09781853180879911, 'feature_fraction': 0.10398104148161227, 'bagging_fraction': 0.9157437375960312, 'bagging_freq': 7, 'lambda_l2': 1.6940432256237279}.\n"
     ]
    },
    {
     "name": "stdout",
     "output_type": "stream",
     "text": [
      "CV average RMSE: 2.91063\n"
     ]
    },
    {
     "name": "stderr",
     "output_type": "stream",
     "text": [
      "[I 2019-03-13 04:54:12,225] Finished a trial resulted in value: 2.910625986054267. Current best value is 2.7977652047610726 with parameters: {'num_leaves': 23, 'learning_rate': 0.09781853180879911, 'feature_fraction': 0.10398104148161227, 'bagging_fraction': 0.9157437375960312, 'bagging_freq': 7, 'lambda_l2': 1.6940432256237279}.\n"
     ]
    },
    {
     "name": "stdout",
     "output_type": "stream",
     "text": [
      "CV average RMSE: 2.85437\n"
     ]
    },
    {
     "name": "stderr",
     "output_type": "stream",
     "text": [
      "[I 2019-03-13 04:54:12,696] Finished a trial resulted in value: 2.854368987098577. Current best value is 2.7977652047610726 with parameters: {'num_leaves': 23, 'learning_rate': 0.09781853180879911, 'feature_fraction': 0.10398104148161227, 'bagging_fraction': 0.9157437375960312, 'bagging_freq': 7, 'lambda_l2': 1.6940432256237279}.\n"
     ]
    },
    {
     "name": "stdout",
     "output_type": "stream",
     "text": [
      "CV average RMSE: 2.82293\n"
     ]
    },
    {
     "name": "stderr",
     "output_type": "stream",
     "text": [
      "[I 2019-03-13 04:54:13,178] Finished a trial resulted in value: 2.8229274308336665. Current best value is 2.7977652047610726 with parameters: {'num_leaves': 23, 'learning_rate': 0.09781853180879911, 'feature_fraction': 0.10398104148161227, 'bagging_fraction': 0.9157437375960312, 'bagging_freq': 7, 'lambda_l2': 1.6940432256237279}.\n"
     ]
    },
    {
     "name": "stdout",
     "output_type": "stream",
     "text": [
      "CV average RMSE: 2.84547\n"
     ]
    },
    {
     "name": "stderr",
     "output_type": "stream",
     "text": [
      "[I 2019-03-13 04:54:13,774] Finished a trial resulted in value: 2.845468288352547. Current best value is 2.7977652047610726 with parameters: {'num_leaves': 23, 'learning_rate': 0.09781853180879911, 'feature_fraction': 0.10398104148161227, 'bagging_fraction': 0.9157437375960312, 'bagging_freq': 7, 'lambda_l2': 1.6940432256237279}.\n"
     ]
    },
    {
     "name": "stdout",
     "output_type": "stream",
     "text": [
      "CV average RMSE: 2.8527\n"
     ]
    },
    {
     "name": "stderr",
     "output_type": "stream",
     "text": [
      "[I 2019-03-13 04:54:14,211] Finished a trial resulted in value: 2.8527026301460157. Current best value is 2.7977652047610726 with parameters: {'num_leaves': 23, 'learning_rate': 0.09781853180879911, 'feature_fraction': 0.10398104148161227, 'bagging_fraction': 0.9157437375960312, 'bagging_freq': 7, 'lambda_l2': 1.6940432256237279}.\n"
     ]
    },
    {
     "name": "stdout",
     "output_type": "stream",
     "text": [
      "CV average RMSE: 2.85701\n"
     ]
    },
    {
     "name": "stderr",
     "output_type": "stream",
     "text": [
      "[I 2019-03-13 04:54:14,741] Finished a trial resulted in value: 2.857007794648328. Current best value is 2.7977652047610726 with parameters: {'num_leaves': 23, 'learning_rate': 0.09781853180879911, 'feature_fraction': 0.10398104148161227, 'bagging_fraction': 0.9157437375960312, 'bagging_freq': 7, 'lambda_l2': 1.6940432256237279}.\n"
     ]
    },
    {
     "name": "stdout",
     "output_type": "stream",
     "text": [
      "CV average RMSE: 2.87648\n"
     ]
    },
    {
     "name": "stderr",
     "output_type": "stream",
     "text": [
      "[I 2019-03-13 04:54:15,182] Finished a trial resulted in value: 2.876482710929955. Current best value is 2.7977652047610726 with parameters: {'num_leaves': 23, 'learning_rate': 0.09781853180879911, 'feature_fraction': 0.10398104148161227, 'bagging_fraction': 0.9157437375960312, 'bagging_freq': 7, 'lambda_l2': 1.6940432256237279}.\n"
     ]
    },
    {
     "name": "stdout",
     "output_type": "stream",
     "text": [
      "CV average RMSE: 2.87918\n"
     ]
    },
    {
     "name": "stderr",
     "output_type": "stream",
     "text": [
      "[I 2019-03-13 04:54:15,693] Finished a trial resulted in value: 2.8791794172730656. Current best value is 2.7977652047610726 with parameters: {'num_leaves': 23, 'learning_rate': 0.09781853180879911, 'feature_fraction': 0.10398104148161227, 'bagging_fraction': 0.9157437375960312, 'bagging_freq': 7, 'lambda_l2': 1.6940432256237279}.\n"
     ]
    },
    {
     "name": "stdout",
     "output_type": "stream",
     "text": [
      "CV average RMSE: 2.89662\n"
     ]
    },
    {
     "name": "stderr",
     "output_type": "stream",
     "text": [
      "[I 2019-03-13 04:54:16,131] Finished a trial resulted in value: 2.8966231429748177. Current best value is 2.7977652047610726 with parameters: {'num_leaves': 23, 'learning_rate': 0.09781853180879911, 'feature_fraction': 0.10398104148161227, 'bagging_fraction': 0.9157437375960312, 'bagging_freq': 7, 'lambda_l2': 1.6940432256237279}.\n"
     ]
    },
    {
     "name": "stdout",
     "output_type": "stream",
     "text": [
      "CV average RMSE: 2.89017\n"
     ]
    },
    {
     "name": "stderr",
     "output_type": "stream",
     "text": [
      "[I 2019-03-13 04:54:16,601] Finished a trial resulted in value: 2.890171448732935. Current best value is 2.7977652047610726 with parameters: {'num_leaves': 23, 'learning_rate': 0.09781853180879911, 'feature_fraction': 0.10398104148161227, 'bagging_fraction': 0.9157437375960312, 'bagging_freq': 7, 'lambda_l2': 1.6940432256237279}.\n"
     ]
    },
    {
     "name": "stdout",
     "output_type": "stream",
     "text": [
      "CV average RMSE: 2.86301\n"
     ]
    },
    {
     "name": "stderr",
     "output_type": "stream",
     "text": [
      "[I 2019-03-13 04:54:17,067] Finished a trial resulted in value: 2.863011548433638. Current best value is 2.7977652047610726 with parameters: {'num_leaves': 23, 'learning_rate': 0.09781853180879911, 'feature_fraction': 0.10398104148161227, 'bagging_fraction': 0.9157437375960312, 'bagging_freq': 7, 'lambda_l2': 1.6940432256237279}.\n"
     ]
    },
    {
     "name": "stdout",
     "output_type": "stream",
     "text": [
      "CV average RMSE: 2.81956\n"
     ]
    },
    {
     "name": "stderr",
     "output_type": "stream",
     "text": [
      "[I 2019-03-13 04:54:17,524] Finished a trial resulted in value: 2.819558272063195. Current best value is 2.7977652047610726 with parameters: {'num_leaves': 23, 'learning_rate': 0.09781853180879911, 'feature_fraction': 0.10398104148161227, 'bagging_fraction': 0.9157437375960312, 'bagging_freq': 7, 'lambda_l2': 1.6940432256237279}.\n"
     ]
    },
    {
     "name": "stdout",
     "output_type": "stream",
     "text": [
      "CV average RMSE: 3.78019\n"
     ]
    },
    {
     "name": "stderr",
     "output_type": "stream",
     "text": [
      "[I 2019-03-13 04:54:18,302] Finished a trial resulted in value: 3.780192918779643. Current best value is 2.7977652047610726 with parameters: {'num_leaves': 23, 'learning_rate': 0.09781853180879911, 'feature_fraction': 0.10398104148161227, 'bagging_fraction': 0.9157437375960312, 'bagging_freq': 7, 'lambda_l2': 1.6940432256237279}.\n"
     ]
    },
    {
     "name": "stdout",
     "output_type": "stream",
     "text": [
      "CV average RMSE: 2.83833\n"
     ]
    },
    {
     "name": "stderr",
     "output_type": "stream",
     "text": [
      "[I 2019-03-13 04:54:18,778] Finished a trial resulted in value: 2.8383323527812827. Current best value is 2.7977652047610726 with parameters: {'num_leaves': 23, 'learning_rate': 0.09781853180879911, 'feature_fraction': 0.10398104148161227, 'bagging_fraction': 0.9157437375960312, 'bagging_freq': 7, 'lambda_l2': 1.6940432256237279}.\n"
     ]
    },
    {
     "name": "stdout",
     "output_type": "stream",
     "text": [
      "CV average RMSE: 2.83014\n"
     ]
    },
    {
     "name": "stderr",
     "output_type": "stream",
     "text": [
      "[I 2019-03-13 04:54:19,352] Finished a trial resulted in value: 2.830138994587784. Current best value is 2.7977652047610726 with parameters: {'num_leaves': 23, 'learning_rate': 0.09781853180879911, 'feature_fraction': 0.10398104148161227, 'bagging_fraction': 0.9157437375960312, 'bagging_freq': 7, 'lambda_l2': 1.6940432256237279}.\n"
     ]
    },
    {
     "name": "stdout",
     "output_type": "stream",
     "text": [
      "CV average RMSE: 2.83687\n"
     ]
    },
    {
     "name": "stderr",
     "output_type": "stream",
     "text": [
      "[I 2019-03-13 04:54:19,866] Finished a trial resulted in value: 2.83687333193861. Current best value is 2.7977652047610726 with parameters: {'num_leaves': 23, 'learning_rate': 0.09781853180879911, 'feature_fraction': 0.10398104148161227, 'bagging_fraction': 0.9157437375960312, 'bagging_freq': 7, 'lambda_l2': 1.6940432256237279}.\n"
     ]
    },
    {
     "name": "stdout",
     "output_type": "stream",
     "text": [
      "CV average RMSE: 2.89752\n"
     ]
    },
    {
     "name": "stderr",
     "output_type": "stream",
     "text": [
      "[I 2019-03-13 04:54:20,412] Finished a trial resulted in value: 2.8975232422002923. Current best value is 2.7977652047610726 with parameters: {'num_leaves': 23, 'learning_rate': 0.09781853180879911, 'feature_fraction': 0.10398104148161227, 'bagging_fraction': 0.9157437375960312, 'bagging_freq': 7, 'lambda_l2': 1.6940432256237279}.\n"
     ]
    },
    {
     "name": "stdout",
     "output_type": "stream",
     "text": [
      "CV average RMSE: 2.84036\n"
     ]
    },
    {
     "name": "stderr",
     "output_type": "stream",
     "text": [
      "[I 2019-03-13 04:54:20,867] Finished a trial resulted in value: 2.8403615330806025. Current best value is 2.7977652047610726 with parameters: {'num_leaves': 23, 'learning_rate': 0.09781853180879911, 'feature_fraction': 0.10398104148161227, 'bagging_fraction': 0.9157437375960312, 'bagging_freq': 7, 'lambda_l2': 1.6940432256237279}.\n"
     ]
    },
    {
     "name": "stdout",
     "output_type": "stream",
     "text": [
      "CV average RMSE: 2.84985\n"
     ]
    },
    {
     "name": "stderr",
     "output_type": "stream",
     "text": [
      "[I 2019-03-13 04:54:21,398] Finished a trial resulted in value: 2.849846953125749. Current best value is 2.7977652047610726 with parameters: {'num_leaves': 23, 'learning_rate': 0.09781853180879911, 'feature_fraction': 0.10398104148161227, 'bagging_fraction': 0.9157437375960312, 'bagging_freq': 7, 'lambda_l2': 1.6940432256237279}.\n"
     ]
    },
    {
     "name": "stdout",
     "output_type": "stream",
     "text": [
      "CV average RMSE: 2.87607\n"
     ]
    },
    {
     "name": "stderr",
     "output_type": "stream",
     "text": [
      "[I 2019-03-13 04:54:21,838] Finished a trial resulted in value: 2.876068903942891. Current best value is 2.7977652047610726 with parameters: {'num_leaves': 23, 'learning_rate': 0.09781853180879911, 'feature_fraction': 0.10398104148161227, 'bagging_fraction': 0.9157437375960312, 'bagging_freq': 7, 'lambda_l2': 1.6940432256237279}.\n"
     ]
    },
    {
     "name": "stdout",
     "output_type": "stream",
     "text": [
      "CV average RMSE: 2.83456\n"
     ]
    },
    {
     "name": "stderr",
     "output_type": "stream",
     "text": [
      "[I 2019-03-13 04:54:22,320] Finished a trial resulted in value: 2.8345618137327495. Current best value is 2.7977652047610726 with parameters: {'num_leaves': 23, 'learning_rate': 0.09781853180879911, 'feature_fraction': 0.10398104148161227, 'bagging_fraction': 0.9157437375960312, 'bagging_freq': 7, 'lambda_l2': 1.6940432256237279}.\n"
     ]
    },
    {
     "name": "stdout",
     "output_type": "stream",
     "text": [
      "CV average RMSE: 2.87691\n"
     ]
    },
    {
     "name": "stderr",
     "output_type": "stream",
     "text": [
      "[I 2019-03-13 04:54:22,881] Finished a trial resulted in value: 2.876908411313946. Current best value is 2.7977652047610726 with parameters: {'num_leaves': 23, 'learning_rate': 0.09781853180879911, 'feature_fraction': 0.10398104148161227, 'bagging_fraction': 0.9157437375960312, 'bagging_freq': 7, 'lambda_l2': 1.6940432256237279}.\n"
     ]
    },
    {
     "name": "stdout",
     "output_type": "stream",
     "text": [
      "CV average RMSE: 2.81906\n"
     ]
    },
    {
     "name": "stderr",
     "output_type": "stream",
     "text": [
      "[I 2019-03-13 04:54:23,366] Finished a trial resulted in value: 2.8190602216700986. Current best value is 2.7977652047610726 with parameters: {'num_leaves': 23, 'learning_rate': 0.09781853180879911, 'feature_fraction': 0.10398104148161227, 'bagging_fraction': 0.9157437375960312, 'bagging_freq': 7, 'lambda_l2': 1.6940432256237279}.\n"
     ]
    },
    {
     "name": "stdout",
     "output_type": "stream",
     "text": [
      "CV average RMSE: 2.84125\n"
     ]
    },
    {
     "name": "stderr",
     "output_type": "stream",
     "text": [
      "[I 2019-03-13 04:54:23,885] Finished a trial resulted in value: 2.8412500461119263. Current best value is 2.7977652047610726 with parameters: {'num_leaves': 23, 'learning_rate': 0.09781853180879911, 'feature_fraction': 0.10398104148161227, 'bagging_fraction': 0.9157437375960312, 'bagging_freq': 7, 'lambda_l2': 1.6940432256237279}.\n"
     ]
    },
    {
     "name": "stdout",
     "output_type": "stream",
     "text": [
      "CV average RMSE: 2.90539\n"
     ]
    },
    {
     "name": "stderr",
     "output_type": "stream",
     "text": [
      "[I 2019-03-13 04:54:24,338] Finished a trial resulted in value: 2.9053879307296464. Current best value is 2.7977652047610726 with parameters: {'num_leaves': 23, 'learning_rate': 0.09781853180879911, 'feature_fraction': 0.10398104148161227, 'bagging_fraction': 0.9157437375960312, 'bagging_freq': 7, 'lambda_l2': 1.6940432256237279}.\n"
     ]
    },
    {
     "name": "stdout",
     "output_type": "stream",
     "text": [
      "CV average RMSE: 2.91988\n"
     ]
    },
    {
     "name": "stderr",
     "output_type": "stream",
     "text": [
      "[I 2019-03-13 04:54:24,822] Finished a trial resulted in value: 2.9198798045418637. Current best value is 2.7977652047610726 with parameters: {'num_leaves': 23, 'learning_rate': 0.09781853180879911, 'feature_fraction': 0.10398104148161227, 'bagging_fraction': 0.9157437375960312, 'bagging_freq': 7, 'lambda_l2': 1.6940432256237279}.\n"
     ]
    },
    {
     "name": "stdout",
     "output_type": "stream",
     "text": [
      "CV average RMSE: 2.8669\n"
     ]
    },
    {
     "name": "stderr",
     "output_type": "stream",
     "text": [
      "[I 2019-03-13 04:54:25,413] Finished a trial resulted in value: 2.86690234583378. Current best value is 2.7977652047610726 with parameters: {'num_leaves': 23, 'learning_rate': 0.09781853180879911, 'feature_fraction': 0.10398104148161227, 'bagging_fraction': 0.9157437375960312, 'bagging_freq': 7, 'lambda_l2': 1.6940432256237279}.\n"
     ]
    },
    {
     "name": "stdout",
     "output_type": "stream",
     "text": [
      "CV average RMSE: 2.87233\n"
     ]
    },
    {
     "name": "stderr",
     "output_type": "stream",
     "text": [
      "[I 2019-03-13 04:54:25,949] Finished a trial resulted in value: 2.872332261514117. Current best value is 2.7977652047610726 with parameters: {'num_leaves': 23, 'learning_rate': 0.09781853180879911, 'feature_fraction': 0.10398104148161227, 'bagging_fraction': 0.9157437375960312, 'bagging_freq': 7, 'lambda_l2': 1.6940432256237279}.\n"
     ]
    },
    {
     "name": "stdout",
     "output_type": "stream",
     "text": [
      "CV average RMSE: 4.41972\n"
     ]
    },
    {
     "name": "stderr",
     "output_type": "stream",
     "text": [
      "[I 2019-03-13 04:54:26,587] Finished a trial resulted in value: 4.419716755473966. Current best value is 2.7977652047610726 with parameters: {'num_leaves': 23, 'learning_rate': 0.09781853180879911, 'feature_fraction': 0.10398104148161227, 'bagging_fraction': 0.9157437375960312, 'bagging_freq': 7, 'lambda_l2': 1.6940432256237279}.\n"
     ]
    },
    {
     "name": "stdout",
     "output_type": "stream",
     "text": [
      "CV average RMSE: 2.85312\n"
     ]
    },
    {
     "name": "stderr",
     "output_type": "stream",
     "text": [
      "[I 2019-03-13 04:54:27,137] Finished a trial resulted in value: 2.853121439258225. Current best value is 2.7977652047610726 with parameters: {'num_leaves': 23, 'learning_rate': 0.09781853180879911, 'feature_fraction': 0.10398104148161227, 'bagging_fraction': 0.9157437375960312, 'bagging_freq': 7, 'lambda_l2': 1.6940432256237279}.\n"
     ]
    },
    {
     "name": "stdout",
     "output_type": "stream",
     "text": [
      "CV average RMSE: 2.84878\n"
     ]
    },
    {
     "name": "stderr",
     "output_type": "stream",
     "text": [
      "[I 2019-03-13 04:54:27,605] Finished a trial resulted in value: 2.8487838054844343. Current best value is 2.7977652047610726 with parameters: {'num_leaves': 23, 'learning_rate': 0.09781853180879911, 'feature_fraction': 0.10398104148161227, 'bagging_fraction': 0.9157437375960312, 'bagging_freq': 7, 'lambda_l2': 1.6940432256237279}.\n"
     ]
    },
    {
     "name": "stdout",
     "output_type": "stream",
     "text": [
      "CV average RMSE: 2.84212\n"
     ]
    },
    {
     "name": "stderr",
     "output_type": "stream",
     "text": [
      "[I 2019-03-13 04:54:28,179] Finished a trial resulted in value: 2.842118642369999. Current best value is 2.7977652047610726 with parameters: {'num_leaves': 23, 'learning_rate': 0.09781853180879911, 'feature_fraction': 0.10398104148161227, 'bagging_fraction': 0.9157437375960312, 'bagging_freq': 7, 'lambda_l2': 1.6940432256237279}.\n"
     ]
    },
    {
     "name": "stdout",
     "output_type": "stream",
     "text": [
      "CV average RMSE: 2.82646\n"
     ]
    },
    {
     "name": "stderr",
     "output_type": "stream",
     "text": [
      "[I 2019-03-13 04:54:28,678] Finished a trial resulted in value: 2.8264566748110704. Current best value is 2.7977652047610726 with parameters: {'num_leaves': 23, 'learning_rate': 0.09781853180879911, 'feature_fraction': 0.10398104148161227, 'bagging_fraction': 0.9157437375960312, 'bagging_freq': 7, 'lambda_l2': 1.6940432256237279}.\n"
     ]
    },
    {
     "name": "stdout",
     "output_type": "stream",
     "text": [
      "CV average RMSE: 2.89331\n"
     ]
    },
    {
     "name": "stderr",
     "output_type": "stream",
     "text": [
      "[I 2019-03-13 04:54:29,199] Finished a trial resulted in value: 2.8933116645785715. Current best value is 2.7977652047610726 with parameters: {'num_leaves': 23, 'learning_rate': 0.09781853180879911, 'feature_fraction': 0.10398104148161227, 'bagging_fraction': 0.9157437375960312, 'bagging_freq': 7, 'lambda_l2': 1.6940432256237279}.\n"
     ]
    },
    {
     "name": "stdout",
     "output_type": "stream",
     "text": [
      "CV average RMSE: 2.87008\n"
     ]
    },
    {
     "name": "stderr",
     "output_type": "stream",
     "text": [
      "[I 2019-03-13 04:54:29,699] Finished a trial resulted in value: 2.8700766628018695. Current best value is 2.7977652047610726 with parameters: {'num_leaves': 23, 'learning_rate': 0.09781853180879911, 'feature_fraction': 0.10398104148161227, 'bagging_fraction': 0.9157437375960312, 'bagging_freq': 7, 'lambda_l2': 1.6940432256237279}.\n"
     ]
    },
    {
     "name": "stdout",
     "output_type": "stream",
     "text": [
      "CV average RMSE: 2.86159\n"
     ]
    },
    {
     "name": "stderr",
     "output_type": "stream",
     "text": [
      "[I 2019-03-13 04:54:30,151] Finished a trial resulted in value: 2.861591193995806. Current best value is 2.7977652047610726 with parameters: {'num_leaves': 23, 'learning_rate': 0.09781853180879911, 'feature_fraction': 0.10398104148161227, 'bagging_fraction': 0.9157437375960312, 'bagging_freq': 7, 'lambda_l2': 1.6940432256237279}.\n"
     ]
    },
    {
     "name": "stdout",
     "output_type": "stream",
     "text": [
      "CV average RMSE: 2.87125\n"
     ]
    },
    {
     "name": "stderr",
     "output_type": "stream",
     "text": [
      "[I 2019-03-13 04:54:30,648] Finished a trial resulted in value: 2.8712481113184105. Current best value is 2.7977652047610726 with parameters: {'num_leaves': 23, 'learning_rate': 0.09781853180879911, 'feature_fraction': 0.10398104148161227, 'bagging_fraction': 0.9157437375960312, 'bagging_freq': 7, 'lambda_l2': 1.6940432256237279}.\n"
     ]
    },
    {
     "name": "stdout",
     "output_type": "stream",
     "text": [
      "CV average RMSE: 2.84725\n"
     ]
    },
    {
     "name": "stderr",
     "output_type": "stream",
     "text": [
      "[I 2019-03-13 04:54:31,210] Finished a trial resulted in value: 2.8472456375155115. Current best value is 2.7977652047610726 with parameters: {'num_leaves': 23, 'learning_rate': 0.09781853180879911, 'feature_fraction': 0.10398104148161227, 'bagging_fraction': 0.9157437375960312, 'bagging_freq': 7, 'lambda_l2': 1.6940432256237279}.\n"
     ]
    },
    {
     "name": "stdout",
     "output_type": "stream",
     "text": [
      "CV average RMSE: 2.87095\n"
     ]
    },
    {
     "name": "stderr",
     "output_type": "stream",
     "text": [
      "[I 2019-03-13 04:54:31,699] Finished a trial resulted in value: 2.870948765231834. Current best value is 2.7977652047610726 with parameters: {'num_leaves': 23, 'learning_rate': 0.09781853180879911, 'feature_fraction': 0.10398104148161227, 'bagging_fraction': 0.9157437375960312, 'bagging_freq': 7, 'lambda_l2': 1.6940432256237279}.\n"
     ]
    },
    {
     "name": "stdout",
     "output_type": "stream",
     "text": [
      "CV average RMSE: 2.83026\n"
     ]
    },
    {
     "name": "stderr",
     "output_type": "stream",
     "text": [
      "[I 2019-03-13 04:54:32,199] Finished a trial resulted in value: 2.830256562759845. Current best value is 2.7977652047610726 with parameters: {'num_leaves': 23, 'learning_rate': 0.09781853180879911, 'feature_fraction': 0.10398104148161227, 'bagging_fraction': 0.9157437375960312, 'bagging_freq': 7, 'lambda_l2': 1.6940432256237279}.\n"
     ]
    },
    {
     "name": "stdout",
     "output_type": "stream",
     "text": [
      "CV average RMSE: 2.87965\n"
     ]
    },
    {
     "name": "stderr",
     "output_type": "stream",
     "text": [
      "[I 2019-03-13 04:54:32,709] Finished a trial resulted in value: 2.879654658065463. Current best value is 2.7977652047610726 with parameters: {'num_leaves': 23, 'learning_rate': 0.09781853180879911, 'feature_fraction': 0.10398104148161227, 'bagging_fraction': 0.9157437375960312, 'bagging_freq': 7, 'lambda_l2': 1.6940432256237279}.\n"
     ]
    },
    {
     "name": "stdout",
     "output_type": "stream",
     "text": [
      "CV average RMSE: 2.88702\n"
     ]
    },
    {
     "name": "stderr",
     "output_type": "stream",
     "text": [
      "[I 2019-03-13 04:54:33,168] Finished a trial resulted in value: 2.8870150197715714. Current best value is 2.7977652047610726 with parameters: {'num_leaves': 23, 'learning_rate': 0.09781853180879911, 'feature_fraction': 0.10398104148161227, 'bagging_fraction': 0.9157437375960312, 'bagging_freq': 7, 'lambda_l2': 1.6940432256237279}.\n"
     ]
    },
    {
     "name": "stdout",
     "output_type": "stream",
     "text": [
      "CV average RMSE: 2.88659\n"
     ]
    },
    {
     "name": "stderr",
     "output_type": "stream",
     "text": [
      "[I 2019-03-13 04:54:33,681] Finished a trial resulted in value: 2.886585357098515. Current best value is 2.7977652047610726 with parameters: {'num_leaves': 23, 'learning_rate': 0.09781853180879911, 'feature_fraction': 0.10398104148161227, 'bagging_fraction': 0.9157437375960312, 'bagging_freq': 7, 'lambda_l2': 1.6940432256237279}.\n"
     ]
    },
    {
     "name": "stdout",
     "output_type": "stream",
     "text": [
      "CV average RMSE: 2.88911\n"
     ]
    },
    {
     "name": "stderr",
     "output_type": "stream",
     "text": [
      "[I 2019-03-13 04:54:34,151] Finished a trial resulted in value: 2.889108979283158. Current best value is 2.7977652047610726 with parameters: {'num_leaves': 23, 'learning_rate': 0.09781853180879911, 'feature_fraction': 0.10398104148161227, 'bagging_fraction': 0.9157437375960312, 'bagging_freq': 7, 'lambda_l2': 1.6940432256237279}.\n"
     ]
    },
    {
     "name": "stdout",
     "output_type": "stream",
     "text": [
      "CV average RMSE: 2.83949\n"
     ]
    },
    {
     "name": "stderr",
     "output_type": "stream",
     "text": [
      "[I 2019-03-13 04:54:34,603] Finished a trial resulted in value: 2.8394934327813046. Current best value is 2.7977652047610726 with parameters: {'num_leaves': 23, 'learning_rate': 0.09781853180879911, 'feature_fraction': 0.10398104148161227, 'bagging_fraction': 0.9157437375960312, 'bagging_freq': 7, 'lambda_l2': 1.6940432256237279}.\n"
     ]
    },
    {
     "name": "stdout",
     "output_type": "stream",
     "text": [
      "CV average RMSE: 2.82014\n"
     ]
    },
    {
     "name": "stderr",
     "output_type": "stream",
     "text": [
      "[I 2019-03-13 04:54:35,121] Finished a trial resulted in value: 2.8201445345761686. Current best value is 2.7977652047610726 with parameters: {'num_leaves': 23, 'learning_rate': 0.09781853180879911, 'feature_fraction': 0.10398104148161227, 'bagging_fraction': 0.9157437375960312, 'bagging_freq': 7, 'lambda_l2': 1.6940432256237279}.\n"
     ]
    },
    {
     "name": "stdout",
     "output_type": "stream",
     "text": [
      "CV average RMSE: 2.83307\n"
     ]
    },
    {
     "name": "stderr",
     "output_type": "stream",
     "text": [
      "[I 2019-03-13 04:54:35,681] Finished a trial resulted in value: 2.833068552992189. Current best value is 2.7977652047610726 with parameters: {'num_leaves': 23, 'learning_rate': 0.09781853180879911, 'feature_fraction': 0.10398104148161227, 'bagging_fraction': 0.9157437375960312, 'bagging_freq': 7, 'lambda_l2': 1.6940432256237279}.\n"
     ]
    },
    {
     "name": "stdout",
     "output_type": "stream",
     "text": [
      "CV average RMSE: 3.10259\n"
     ]
    },
    {
     "name": "stderr",
     "output_type": "stream",
     "text": [
      "[I 2019-03-13 04:54:36,323] Finished a trial resulted in value: 3.1025939767950597. Current best value is 2.7977652047610726 with parameters: {'num_leaves': 23, 'learning_rate': 0.09781853180879911, 'feature_fraction': 0.10398104148161227, 'bagging_fraction': 0.9157437375960312, 'bagging_freq': 7, 'lambda_l2': 1.6940432256237279}.\n"
     ]
    },
    {
     "name": "stdout",
     "output_type": "stream",
     "text": [
      "CV average RMSE: 2.88371\n"
     ]
    },
    {
     "name": "stderr",
     "output_type": "stream",
     "text": [
      "[I 2019-03-13 04:54:36,828] Finished a trial resulted in value: 2.8837070430314924. Current best value is 2.7977652047610726 with parameters: {'num_leaves': 23, 'learning_rate': 0.09781853180879911, 'feature_fraction': 0.10398104148161227, 'bagging_fraction': 0.9157437375960312, 'bagging_freq': 7, 'lambda_l2': 1.6940432256237279}.\n"
     ]
    },
    {
     "name": "stdout",
     "output_type": "stream",
     "text": [
      "CV average RMSE: 2.85801\n"
     ]
    },
    {
     "name": "stderr",
     "output_type": "stream",
     "text": [
      "[I 2019-03-13 04:54:37,296] Finished a trial resulted in value: 2.858006387368318. Current best value is 2.7977652047610726 with parameters: {'num_leaves': 23, 'learning_rate': 0.09781853180879911, 'feature_fraction': 0.10398104148161227, 'bagging_fraction': 0.9157437375960312, 'bagging_freq': 7, 'lambda_l2': 1.6940432256237279}.\n"
     ]
    },
    {
     "name": "stdout",
     "output_type": "stream",
     "text": [
      "CV average RMSE: 2.80154\n"
     ]
    },
    {
     "name": "stderr",
     "output_type": "stream",
     "text": [
      "[I 2019-03-13 04:54:37,839] Finished a trial resulted in value: 2.8015389326291293. Current best value is 2.7977652047610726 with parameters: {'num_leaves': 23, 'learning_rate': 0.09781853180879911, 'feature_fraction': 0.10398104148161227, 'bagging_fraction': 0.9157437375960312, 'bagging_freq': 7, 'lambda_l2': 1.6940432256237279}.\n"
     ]
    },
    {
     "name": "stdout",
     "output_type": "stream",
     "text": [
      "CV average RMSE: 2.82691\n"
     ]
    },
    {
     "name": "stderr",
     "output_type": "stream",
     "text": [
      "[I 2019-03-13 04:54:38,376] Finished a trial resulted in value: 2.826908848744984. Current best value is 2.7977652047610726 with parameters: {'num_leaves': 23, 'learning_rate': 0.09781853180879911, 'feature_fraction': 0.10398104148161227, 'bagging_fraction': 0.9157437375960312, 'bagging_freq': 7, 'lambda_l2': 1.6940432256237279}.\n"
     ]
    },
    {
     "name": "stdout",
     "output_type": "stream",
     "text": [
      "CV average RMSE: 2.82759\n"
     ]
    },
    {
     "name": "stderr",
     "output_type": "stream",
     "text": [
      "[I 2019-03-13 04:54:38,911] Finished a trial resulted in value: 2.8275883333669336. Current best value is 2.7977652047610726 with parameters: {'num_leaves': 23, 'learning_rate': 0.09781853180879911, 'feature_fraction': 0.10398104148161227, 'bagging_fraction': 0.9157437375960312, 'bagging_freq': 7, 'lambda_l2': 1.6940432256237279}.\n"
     ]
    },
    {
     "name": "stdout",
     "output_type": "stream",
     "text": [
      "CV average RMSE: 2.80829\n"
     ]
    },
    {
     "name": "stderr",
     "output_type": "stream",
     "text": [
      "[I 2019-03-13 04:54:39,492] Finished a trial resulted in value: 2.8082941904187644. Current best value is 2.7977652047610726 with parameters: {'num_leaves': 23, 'learning_rate': 0.09781853180879911, 'feature_fraction': 0.10398104148161227, 'bagging_fraction': 0.9157437375960312, 'bagging_freq': 7, 'lambda_l2': 1.6940432256237279}.\n"
     ]
    },
    {
     "name": "stdout",
     "output_type": "stream",
     "text": [
      "CV average RMSE: 2.83266\n"
     ]
    },
    {
     "name": "stderr",
     "output_type": "stream",
     "text": [
      "[I 2019-03-13 04:54:40,011] Finished a trial resulted in value: 2.8326553263620826. Current best value is 2.7977652047610726 with parameters: {'num_leaves': 23, 'learning_rate': 0.09781853180879911, 'feature_fraction': 0.10398104148161227, 'bagging_fraction': 0.9157437375960312, 'bagging_freq': 7, 'lambda_l2': 1.6940432256237279}.\n"
     ]
    },
    {
     "name": "stdout",
     "output_type": "stream",
     "text": [
      "CV average RMSE: 2.83643\n"
     ]
    },
    {
     "name": "stderr",
     "output_type": "stream",
     "text": [
      "[I 2019-03-13 04:54:40,603] Finished a trial resulted in value: 2.836432638813409. Current best value is 2.7977652047610726 with parameters: {'num_leaves': 23, 'learning_rate': 0.09781853180879911, 'feature_fraction': 0.10398104148161227, 'bagging_fraction': 0.9157437375960312, 'bagging_freq': 7, 'lambda_l2': 1.6940432256237279}.\n"
     ]
    },
    {
     "name": "stdout",
     "output_type": "stream",
     "text": [
      "CV average RMSE: 2.8038\n"
     ]
    },
    {
     "name": "stderr",
     "output_type": "stream",
     "text": [
      "[I 2019-03-13 04:54:41,117] Finished a trial resulted in value: 2.803796807837837. Current best value is 2.7977652047610726 with parameters: {'num_leaves': 23, 'learning_rate': 0.09781853180879911, 'feature_fraction': 0.10398104148161227, 'bagging_fraction': 0.9157437375960312, 'bagging_freq': 7, 'lambda_l2': 1.6940432256237279}.\n"
     ]
    },
    {
     "name": "stdout",
     "output_type": "stream",
     "text": [
      "CV average RMSE: 2.81218\n"
     ]
    },
    {
     "name": "stderr",
     "output_type": "stream",
     "text": [
      "[I 2019-03-13 04:54:41,677] Finished a trial resulted in value: 2.812176461713317. Current best value is 2.7977652047610726 with parameters: {'num_leaves': 23, 'learning_rate': 0.09781853180879911, 'feature_fraction': 0.10398104148161227, 'bagging_fraction': 0.9157437375960312, 'bagging_freq': 7, 'lambda_l2': 1.6940432256237279}.\n"
     ]
    },
    {
     "name": "stdout",
     "output_type": "stream",
     "text": [
      "CV average RMSE: 2.83094\n"
     ]
    },
    {
     "name": "stderr",
     "output_type": "stream",
     "text": [
      "[I 2019-03-13 04:54:42,168] Finished a trial resulted in value: 2.830939232747638. Current best value is 2.7977652047610726 with parameters: {'num_leaves': 23, 'learning_rate': 0.09781853180879911, 'feature_fraction': 0.10398104148161227, 'bagging_fraction': 0.9157437375960312, 'bagging_freq': 7, 'lambda_l2': 1.6940432256237279}.\n"
     ]
    },
    {
     "name": "stdout",
     "output_type": "stream",
     "text": [
      "CV average RMSE: 2.81208\n"
     ]
    },
    {
     "name": "stderr",
     "output_type": "stream",
     "text": [
      "[I 2019-03-13 04:54:42,702] Finished a trial resulted in value: 2.812083677353974. Current best value is 2.7977652047610726 with parameters: {'num_leaves': 23, 'learning_rate': 0.09781853180879911, 'feature_fraction': 0.10398104148161227, 'bagging_fraction': 0.9157437375960312, 'bagging_freq': 7, 'lambda_l2': 1.6940432256237279}.\n"
     ]
    },
    {
     "name": "stdout",
     "output_type": "stream",
     "text": [
      "CV average RMSE: 2.82234\n"
     ]
    },
    {
     "name": "stderr",
     "output_type": "stream",
     "text": [
      "[I 2019-03-13 04:54:43,188] Finished a trial resulted in value: 2.822342177819322. Current best value is 2.7977652047610726 with parameters: {'num_leaves': 23, 'learning_rate': 0.09781853180879911, 'feature_fraction': 0.10398104148161227, 'bagging_fraction': 0.9157437375960312, 'bagging_freq': 7, 'lambda_l2': 1.6940432256237279}.\n"
     ]
    },
    {
     "name": "stdout",
     "output_type": "stream",
     "text": [
      "CV average RMSE: 2.83481\n"
     ]
    },
    {
     "name": "stderr",
     "output_type": "stream",
     "text": [
      "[I 2019-03-13 04:54:43,737] Finished a trial resulted in value: 2.8348123163665484. Current best value is 2.7977652047610726 with parameters: {'num_leaves': 23, 'learning_rate': 0.09781853180879911, 'feature_fraction': 0.10398104148161227, 'bagging_fraction': 0.9157437375960312, 'bagging_freq': 7, 'lambda_l2': 1.6940432256237279}.\n"
     ]
    },
    {
     "name": "stdout",
     "output_type": "stream",
     "text": [
      "CV average RMSE: 2.8295\n"
     ]
    },
    {
     "name": "stderr",
     "output_type": "stream",
     "text": [
      "[I 2019-03-13 04:54:44,314] Finished a trial resulted in value: 2.829504386321741. Current best value is 2.7977652047610726 with parameters: {'num_leaves': 23, 'learning_rate': 0.09781853180879911, 'feature_fraction': 0.10398104148161227, 'bagging_fraction': 0.9157437375960312, 'bagging_freq': 7, 'lambda_l2': 1.6940432256237279}.\n"
     ]
    },
    {
     "name": "stdout",
     "output_type": "stream",
     "text": [
      "CV average RMSE: 2.84747\n"
     ]
    },
    {
     "name": "stderr",
     "output_type": "stream",
     "text": [
      "[I 2019-03-13 04:54:44,856] Finished a trial resulted in value: 2.847471099806247. Current best value is 2.7977652047610726 with parameters: {'num_leaves': 23, 'learning_rate': 0.09781853180879911, 'feature_fraction': 0.10398104148161227, 'bagging_fraction': 0.9157437375960312, 'bagging_freq': 7, 'lambda_l2': 1.6940432256237279}.\n"
     ]
    },
    {
     "name": "stdout",
     "output_type": "stream",
     "text": [
      "CV average RMSE: 2.83405\n"
     ]
    },
    {
     "name": "stderr",
     "output_type": "stream",
     "text": [
      "[I 2019-03-13 04:54:45,372] Finished a trial resulted in value: 2.83405275669698. Current best value is 2.7977652047610726 with parameters: {'num_leaves': 23, 'learning_rate': 0.09781853180879911, 'feature_fraction': 0.10398104148161227, 'bagging_fraction': 0.9157437375960312, 'bagging_freq': 7, 'lambda_l2': 1.6940432256237279}.\n"
     ]
    },
    {
     "name": "stdout",
     "output_type": "stream",
     "text": [
      "CV average RMSE: 2.84205\n"
     ]
    },
    {
     "name": "stderr",
     "output_type": "stream",
     "text": [
      "[I 2019-03-13 04:54:45,888] Finished a trial resulted in value: 2.8420457078174204. Current best value is 2.7977652047610726 with parameters: {'num_leaves': 23, 'learning_rate': 0.09781853180879911, 'feature_fraction': 0.10398104148161227, 'bagging_fraction': 0.9157437375960312, 'bagging_freq': 7, 'lambda_l2': 1.6940432256237279}.\n"
     ]
    },
    {
     "name": "stdout",
     "output_type": "stream",
     "text": [
      "CV average RMSE: 2.83574\n"
     ]
    },
    {
     "name": "stderr",
     "output_type": "stream",
     "text": [
      "[I 2019-03-13 04:54:46,420] Finished a trial resulted in value: 2.83574377445659. Current best value is 2.7977652047610726 with parameters: {'num_leaves': 23, 'learning_rate': 0.09781853180879911, 'feature_fraction': 0.10398104148161227, 'bagging_fraction': 0.9157437375960312, 'bagging_freq': 7, 'lambda_l2': 1.6940432256237279}.\n"
     ]
    },
    {
     "name": "stdout",
     "output_type": "stream",
     "text": [
      "CV average RMSE: 2.82878\n"
     ]
    },
    {
     "name": "stderr",
     "output_type": "stream",
     "text": [
      "[I 2019-03-13 04:54:46,984] Finished a trial resulted in value: 2.82877681370011. Current best value is 2.7977652047610726 with parameters: {'num_leaves': 23, 'learning_rate': 0.09781853180879911, 'feature_fraction': 0.10398104148161227, 'bagging_fraction': 0.9157437375960312, 'bagging_freq': 7, 'lambda_l2': 1.6940432256237279}.\n"
     ]
    },
    {
     "name": "stdout",
     "output_type": "stream",
     "text": [
      "CV average RMSE: 2.80128\n"
     ]
    },
    {
     "name": "stderr",
     "output_type": "stream",
     "text": [
      "[I 2019-03-13 04:54:47,483] Finished a trial resulted in value: 2.8012826644437494. Current best value is 2.7977652047610726 with parameters: {'num_leaves': 23, 'learning_rate': 0.09781853180879911, 'feature_fraction': 0.10398104148161227, 'bagging_fraction': 0.9157437375960312, 'bagging_freq': 7, 'lambda_l2': 1.6940432256237279}.\n"
     ]
    },
    {
     "name": "stdout",
     "output_type": "stream",
     "text": [
      "CV average RMSE: 2.84426\n"
     ]
    },
    {
     "name": "stderr",
     "output_type": "stream",
     "text": [
      "[I 2019-03-13 04:54:47,953] Finished a trial resulted in value: 2.8442610783961526. Current best value is 2.7977652047610726 with parameters: {'num_leaves': 23, 'learning_rate': 0.09781853180879911, 'feature_fraction': 0.10398104148161227, 'bagging_fraction': 0.9157437375960312, 'bagging_freq': 7, 'lambda_l2': 1.6940432256237279}.\n"
     ]
    },
    {
     "name": "stdout",
     "output_type": "stream",
     "text": [
      "CV average RMSE: 2.80661\n"
     ]
    },
    {
     "name": "stderr",
     "output_type": "stream",
     "text": [
      "[I 2019-03-13 04:54:48,437] Finished a trial resulted in value: 2.806611711523804. Current best value is 2.7977652047610726 with parameters: {'num_leaves': 23, 'learning_rate': 0.09781853180879911, 'feature_fraction': 0.10398104148161227, 'bagging_fraction': 0.9157437375960312, 'bagging_freq': 7, 'lambda_l2': 1.6940432256237279}.\n"
     ]
    },
    {
     "name": "stdout",
     "output_type": "stream",
     "text": [
      "CV average RMSE: 2.99817\n"
     ]
    },
    {
     "name": "stderr",
     "output_type": "stream",
     "text": [
      "[I 2019-03-13 04:54:49,094] Finished a trial resulted in value: 2.9981669139859157. Current best value is 2.7977652047610726 with parameters: {'num_leaves': 23, 'learning_rate': 0.09781853180879911, 'feature_fraction': 0.10398104148161227, 'bagging_fraction': 0.9157437375960312, 'bagging_freq': 7, 'lambda_l2': 1.6940432256237279}.\n"
     ]
    },
    {
     "name": "stdout",
     "output_type": "stream",
     "text": [
      "CV average RMSE: 2.82186\n"
     ]
    },
    {
     "name": "stderr",
     "output_type": "stream",
     "text": [
      "[I 2019-03-13 04:54:49,607] Finished a trial resulted in value: 2.821855876337689. Current best value is 2.7977652047610726 with parameters: {'num_leaves': 23, 'learning_rate': 0.09781853180879911, 'feature_fraction': 0.10398104148161227, 'bagging_fraction': 0.9157437375960312, 'bagging_freq': 7, 'lambda_l2': 1.6940432256237279}.\n"
     ]
    },
    {
     "name": "stdout",
     "output_type": "stream",
     "text": [
      "CV average RMSE: 2.84151\n"
     ]
    },
    {
     "name": "stderr",
     "output_type": "stream",
     "text": [
      "[I 2019-03-13 04:54:50,089] Finished a trial resulted in value: 2.841512235030873. Current best value is 2.7977652047610726 with parameters: {'num_leaves': 23, 'learning_rate': 0.09781853180879911, 'feature_fraction': 0.10398104148161227, 'bagging_fraction': 0.9157437375960312, 'bagging_freq': 7, 'lambda_l2': 1.6940432256237279}.\n"
     ]
    },
    {
     "name": "stdout",
     "output_type": "stream",
     "text": [
      "CV average RMSE: 2.85464\n"
     ]
    },
    {
     "name": "stderr",
     "output_type": "stream",
     "text": [
      "[I 2019-03-13 04:54:50,589] Finished a trial resulted in value: 2.854635128127514. Current best value is 2.7977652047610726 with parameters: {'num_leaves': 23, 'learning_rate': 0.09781853180879911, 'feature_fraction': 0.10398104148161227, 'bagging_fraction': 0.9157437375960312, 'bagging_freq': 7, 'lambda_l2': 1.6940432256237279}.\n"
     ]
    },
    {
     "name": "stdout",
     "output_type": "stream",
     "text": [
      "CV average RMSE: 2.82769\n"
     ]
    },
    {
     "name": "stderr",
     "output_type": "stream",
     "text": [
      "[I 2019-03-13 04:54:51,089] Finished a trial resulted in value: 2.8276856182719428. Current best value is 2.7977652047610726 with parameters: {'num_leaves': 23, 'learning_rate': 0.09781853180879911, 'feature_fraction': 0.10398104148161227, 'bagging_fraction': 0.9157437375960312, 'bagging_freq': 7, 'lambda_l2': 1.6940432256237279}.\n"
     ]
    },
    {
     "name": "stdout",
     "output_type": "stream",
     "text": [
      "CV average RMSE: 2.84654\n"
     ]
    },
    {
     "name": "stderr",
     "output_type": "stream",
     "text": [
      "[I 2019-03-13 04:54:51,641] Finished a trial resulted in value: 2.8465405419148944. Current best value is 2.7977652047610726 with parameters: {'num_leaves': 23, 'learning_rate': 0.09781853180879911, 'feature_fraction': 0.10398104148161227, 'bagging_fraction': 0.9157437375960312, 'bagging_freq': 7, 'lambda_l2': 1.6940432256237279}.\n"
     ]
    },
    {
     "name": "stdout",
     "output_type": "stream",
     "text": [
      "CV average RMSE: 2.88347\n"
     ]
    },
    {
     "name": "stderr",
     "output_type": "stream",
     "text": [
      "[I 2019-03-13 04:54:52,098] Finished a trial resulted in value: 2.883474892182393. Current best value is 2.7977652047610726 with parameters: {'num_leaves': 23, 'learning_rate': 0.09781853180879911, 'feature_fraction': 0.10398104148161227, 'bagging_fraction': 0.9157437375960312, 'bagging_freq': 7, 'lambda_l2': 1.6940432256237279}.\n"
     ]
    },
    {
     "name": "stdout",
     "output_type": "stream",
     "text": [
      "CV average RMSE: 2.80367\n"
     ]
    },
    {
     "name": "stderr",
     "output_type": "stream",
     "text": [
      "[I 2019-03-13 04:54:52,651] Finished a trial resulted in value: 2.8036739716402037. Current best value is 2.7977652047610726 with parameters: {'num_leaves': 23, 'learning_rate': 0.09781853180879911, 'feature_fraction': 0.10398104148161227, 'bagging_fraction': 0.9157437375960312, 'bagging_freq': 7, 'lambda_l2': 1.6940432256237279}.\n"
     ]
    },
    {
     "name": "stdout",
     "output_type": "stream",
     "text": [
      "CV average RMSE: 2.79297\n"
     ]
    },
    {
     "name": "stderr",
     "output_type": "stream",
     "text": [
      "[I 2019-03-13 04:54:53,154] Finished a trial resulted in value: 2.7929729979134543. Current best value is 2.7929729979134543 with parameters: {'num_leaves': 33, 'learning_rate': 0.09595571898476411, 'feature_fraction': 0.0012863849533878147, 'bagging_fraction': 0.9015408941759855, 'bagging_freq': 7, 'lambda_l2': 0.9863504229981706}.\n"
     ]
    },
    {
     "name": "stdout",
     "output_type": "stream",
     "text": [
      "CV average RMSE: 2.79537\n"
     ]
    },
    {
     "name": "stderr",
     "output_type": "stream",
     "text": [
      "[I 2019-03-13 04:54:53,733] Finished a trial resulted in value: 2.7953738626645417. Current best value is 2.7929729979134543 with parameters: {'num_leaves': 33, 'learning_rate': 0.09595571898476411, 'feature_fraction': 0.0012863849533878147, 'bagging_fraction': 0.9015408941759855, 'bagging_freq': 7, 'lambda_l2': 0.9863504229981706}.\n"
     ]
    },
    {
     "name": "stdout",
     "output_type": "stream",
     "text": [
      "CV average RMSE: 2.85312\n"
     ]
    },
    {
     "name": "stderr",
     "output_type": "stream",
     "text": [
      "[I 2019-03-13 04:54:54,267] Finished a trial resulted in value: 2.853115228710551. Current best value is 2.7929729979134543 with parameters: {'num_leaves': 33, 'learning_rate': 0.09595571898476411, 'feature_fraction': 0.0012863849533878147, 'bagging_fraction': 0.9015408941759855, 'bagging_freq': 7, 'lambda_l2': 0.9863504229981706}.\n"
     ]
    },
    {
     "name": "stdout",
     "output_type": "stream",
     "text": [
      "CV average RMSE: 2.81991\n"
     ]
    },
    {
     "name": "stderr",
     "output_type": "stream",
     "text": [
      "[I 2019-03-13 04:54:54,891] Finished a trial resulted in value: 2.8199100861565722. Current best value is 2.7929729979134543 with parameters: {'num_leaves': 33, 'learning_rate': 0.09595571898476411, 'feature_fraction': 0.0012863849533878147, 'bagging_fraction': 0.9015408941759855, 'bagging_freq': 7, 'lambda_l2': 0.9863504229981706}.\n"
     ]
    },
    {
     "name": "stdout",
     "output_type": "stream",
     "text": [
      "CV average RMSE: 2.8441\n"
     ]
    },
    {
     "name": "stderr",
     "output_type": "stream",
     "text": [
      "[I 2019-03-13 04:54:55,426] Finished a trial resulted in value: 2.844102960576624. Current best value is 2.7929729979134543 with parameters: {'num_leaves': 33, 'learning_rate': 0.09595571898476411, 'feature_fraction': 0.0012863849533878147, 'bagging_fraction': 0.9015408941759855, 'bagging_freq': 7, 'lambda_l2': 0.9863504229981706}.\n"
     ]
    },
    {
     "name": "stdout",
     "output_type": "stream",
     "text": [
      "CV average RMSE: 2.8409\n"
     ]
    },
    {
     "name": "stderr",
     "output_type": "stream",
     "text": [
      "[I 2019-03-13 04:54:55,998] Finished a trial resulted in value: 2.8408950182960853. Current best value is 2.7929729979134543 with parameters: {'num_leaves': 33, 'learning_rate': 0.09595571898476411, 'feature_fraction': 0.0012863849533878147, 'bagging_fraction': 0.9015408941759855, 'bagging_freq': 7, 'lambda_l2': 0.9863504229981706}.\n"
     ]
    },
    {
     "name": "stdout",
     "output_type": "stream",
     "text": [
      "CV average RMSE: 2.8321\n"
     ]
    },
    {
     "name": "stderr",
     "output_type": "stream",
     "text": [
      "[I 2019-03-13 04:54:56,528] Finished a trial resulted in value: 2.832102929137262. Current best value is 2.7929729979134543 with parameters: {'num_leaves': 33, 'learning_rate': 0.09595571898476411, 'feature_fraction': 0.0012863849533878147, 'bagging_fraction': 0.9015408941759855, 'bagging_freq': 7, 'lambda_l2': 0.9863504229981706}.\n"
     ]
    },
    {
     "name": "stdout",
     "output_type": "stream",
     "text": [
      "CV average RMSE: 2.87828\n"
     ]
    },
    {
     "name": "stderr",
     "output_type": "stream",
     "text": [
      "[I 2019-03-13 04:54:57,018] Finished a trial resulted in value: 2.878280449084093. Current best value is 2.7929729979134543 with parameters: {'num_leaves': 33, 'learning_rate': 0.09595571898476411, 'feature_fraction': 0.0012863849533878147, 'bagging_fraction': 0.9015408941759855, 'bagging_freq': 7, 'lambda_l2': 0.9863504229981706}.\n"
     ]
    },
    {
     "name": "stdout",
     "output_type": "stream",
     "text": [
      "CV average RMSE: 2.82244\n"
     ]
    },
    {
     "name": "stderr",
     "output_type": "stream",
     "text": [
      "[I 2019-03-13 04:54:57,535] Finished a trial resulted in value: 2.8224373770622893. Current best value is 2.7929729979134543 with parameters: {'num_leaves': 33, 'learning_rate': 0.09595571898476411, 'feature_fraction': 0.0012863849533878147, 'bagging_fraction': 0.9015408941759855, 'bagging_freq': 7, 'lambda_l2': 0.9863504229981706}.\n"
     ]
    },
    {
     "name": "stdout",
     "output_type": "stream",
     "text": [
      "CV average RMSE: 2.80247\n"
     ]
    },
    {
     "name": "stderr",
     "output_type": "stream",
     "text": [
      "[I 2019-03-13 04:54:58,030] Finished a trial resulted in value: 2.8024709817924363. Current best value is 2.7929729979134543 with parameters: {'num_leaves': 33, 'learning_rate': 0.09595571898476411, 'feature_fraction': 0.0012863849533878147, 'bagging_fraction': 0.9015408941759855, 'bagging_freq': 7, 'lambda_l2': 0.9863504229981706}.\n"
     ]
    },
    {
     "name": "stdout",
     "output_type": "stream",
     "text": [
      "CV average RMSE: 2.83402\n"
     ]
    },
    {
     "name": "stderr",
     "output_type": "stream",
     "text": [
      "[I 2019-03-13 04:54:58,542] Finished a trial resulted in value: 2.8340246486500766. Current best value is 2.7929729979134543 with parameters: {'num_leaves': 33, 'learning_rate': 0.09595571898476411, 'feature_fraction': 0.0012863849533878147, 'bagging_fraction': 0.9015408941759855, 'bagging_freq': 7, 'lambda_l2': 0.9863504229981706}.\n"
     ]
    },
    {
     "name": "stdout",
     "output_type": "stream",
     "text": [
      "CV average RMSE: 2.84241\n"
     ]
    },
    {
     "name": "stderr",
     "output_type": "stream",
     "text": [
      "[I 2019-03-13 04:54:59,028] Finished a trial resulted in value: 2.842413035894716. Current best value is 2.7929729979134543 with parameters: {'num_leaves': 33, 'learning_rate': 0.09595571898476411, 'feature_fraction': 0.0012863849533878147, 'bagging_fraction': 0.9015408941759855, 'bagging_freq': 7, 'lambda_l2': 0.9863504229981706}.\n"
     ]
    },
    {
     "name": "stdout",
     "output_type": "stream",
     "text": [
      "CV average RMSE: 2.84021\n"
     ]
    },
    {
     "name": "stderr",
     "output_type": "stream",
     "text": [
      "[I 2019-03-13 04:54:59,577] Finished a trial resulted in value: 2.8402059960902237. Current best value is 2.7929729979134543 with parameters: {'num_leaves': 33, 'learning_rate': 0.09595571898476411, 'feature_fraction': 0.0012863849533878147, 'bagging_fraction': 0.9015408941759855, 'bagging_freq': 7, 'lambda_l2': 0.9863504229981706}.\n"
     ]
    },
    {
     "name": "stdout",
     "output_type": "stream",
     "text": [
      "CV average RMSE: 2.84896\n"
     ]
    },
    {
     "name": "stderr",
     "output_type": "stream",
     "text": [
      "[I 2019-03-13 04:55:00,057] Finished a trial resulted in value: 2.848964433833882. Current best value is 2.7929729979134543 with parameters: {'num_leaves': 33, 'learning_rate': 0.09595571898476411, 'feature_fraction': 0.0012863849533878147, 'bagging_fraction': 0.9015408941759855, 'bagging_freq': 7, 'lambda_l2': 0.9863504229981706}.\n"
     ]
    },
    {
     "name": "stdout",
     "output_type": "stream",
     "text": [
      "CV average RMSE: 2.80709\n"
     ]
    },
    {
     "name": "stderr",
     "output_type": "stream",
     "text": [
      "[I 2019-03-13 04:55:00,622] Finished a trial resulted in value: 2.8070865624154506. Current best value is 2.7929729979134543 with parameters: {'num_leaves': 33, 'learning_rate': 0.09595571898476411, 'feature_fraction': 0.0012863849533878147, 'bagging_fraction': 0.9015408941759855, 'bagging_freq': 7, 'lambda_l2': 0.9863504229981706}.\n"
     ]
    },
    {
     "name": "stdout",
     "output_type": "stream",
     "text": [
      "CV average RMSE: 2.83925\n"
     ]
    },
    {
     "name": "stderr",
     "output_type": "stream",
     "text": [
      "[I 2019-03-13 04:55:01,176] Finished a trial resulted in value: 2.839250189283425. Current best value is 2.7929729979134543 with parameters: {'num_leaves': 33, 'learning_rate': 0.09595571898476411, 'feature_fraction': 0.0012863849533878147, 'bagging_fraction': 0.9015408941759855, 'bagging_freq': 7, 'lambda_l2': 0.9863504229981706}.\n"
     ]
    },
    {
     "name": "stdout",
     "output_type": "stream",
     "text": [
      "CV average RMSE: 2.83487\n"
     ]
    },
    {
     "name": "stderr",
     "output_type": "stream",
     "text": [
      "[I 2019-03-13 04:55:01,807] Finished a trial resulted in value: 2.834865583130675. Current best value is 2.7929729979134543 with parameters: {'num_leaves': 33, 'learning_rate': 0.09595571898476411, 'feature_fraction': 0.0012863849533878147, 'bagging_fraction': 0.9015408941759855, 'bagging_freq': 7, 'lambda_l2': 0.9863504229981706}.\n"
     ]
    },
    {
     "name": "stdout",
     "output_type": "stream",
     "text": [
      "CV average RMSE: 2.87114\n"
     ]
    },
    {
     "name": "stderr",
     "output_type": "stream",
     "text": [
      "[I 2019-03-13 04:55:02,302] Finished a trial resulted in value: 2.8711449363004524. Current best value is 2.7929729979134543 with parameters: {'num_leaves': 33, 'learning_rate': 0.09595571898476411, 'feature_fraction': 0.0012863849533878147, 'bagging_fraction': 0.9015408941759855, 'bagging_freq': 7, 'lambda_l2': 0.9863504229981706}.\n"
     ]
    },
    {
     "name": "stdout",
     "output_type": "stream",
     "text": [
      "CV average RMSE: 2.83967\n"
     ]
    },
    {
     "name": "stderr",
     "output_type": "stream",
     "text": [
      "[I 2019-03-13 04:55:02,861] Finished a trial resulted in value: 2.839674338925895. Current best value is 2.7929729979134543 with parameters: {'num_leaves': 33, 'learning_rate': 0.09595571898476411, 'feature_fraction': 0.0012863849533878147, 'bagging_fraction': 0.9015408941759855, 'bagging_freq': 7, 'lambda_l2': 0.9863504229981706}.\n"
     ]
    },
    {
     "name": "stdout",
     "output_type": "stream",
     "text": [
      "CV average RMSE: 2.886\n"
     ]
    },
    {
     "name": "stderr",
     "output_type": "stream",
     "text": [
      "[I 2019-03-13 04:55:03,342] Finished a trial resulted in value: 2.8860027034662687. Current best value is 2.7929729979134543 with parameters: {'num_leaves': 33, 'learning_rate': 0.09595571898476411, 'feature_fraction': 0.0012863849533878147, 'bagging_fraction': 0.9015408941759855, 'bagging_freq': 7, 'lambda_l2': 0.9863504229981706}.\n"
     ]
    },
    {
     "name": "stdout",
     "output_type": "stream",
     "text": [
      "CV average RMSE: 2.84792\n"
     ]
    },
    {
     "name": "stderr",
     "output_type": "stream",
     "text": [
      "[I 2019-03-13 04:55:03,922] Finished a trial resulted in value: 2.847917760165353. Current best value is 2.7929729979134543 with parameters: {'num_leaves': 33, 'learning_rate': 0.09595571898476411, 'feature_fraction': 0.0012863849533878147, 'bagging_fraction': 0.9015408941759855, 'bagging_freq': 7, 'lambda_l2': 0.9863504229981706}.\n"
     ]
    },
    {
     "name": "stdout",
     "output_type": "stream",
     "text": [
      "CV average RMSE: 2.79742\n"
     ]
    },
    {
     "name": "stderr",
     "output_type": "stream",
     "text": [
      "[I 2019-03-13 04:55:04,434] Finished a trial resulted in value: 2.7974186777464483. Current best value is 2.7929729979134543 with parameters: {'num_leaves': 33, 'learning_rate': 0.09595571898476411, 'feature_fraction': 0.0012863849533878147, 'bagging_fraction': 0.9015408941759855, 'bagging_freq': 7, 'lambda_l2': 0.9863504229981706}.\n"
     ]
    },
    {
     "name": "stdout",
     "output_type": "stream",
     "text": [
      "CV average RMSE: 2.87038\n"
     ]
    },
    {
     "name": "stderr",
     "output_type": "stream",
     "text": [
      "[I 2019-03-13 04:55:04,953] Finished a trial resulted in value: 2.870379610127201. Current best value is 2.7929729979134543 with parameters: {'num_leaves': 33, 'learning_rate': 0.09595571898476411, 'feature_fraction': 0.0012863849533878147, 'bagging_fraction': 0.9015408941759855, 'bagging_freq': 7, 'lambda_l2': 0.9863504229981706}.\n"
     ]
    },
    {
     "name": "stdout",
     "output_type": "stream",
     "text": [
      "CV average RMSE: 2.87124\n"
     ]
    },
    {
     "name": "stderr",
     "output_type": "stream",
     "text": [
      "[I 2019-03-13 04:55:05,451] Finished a trial resulted in value: 2.871243530459157. Current best value is 2.7929729979134543 with parameters: {'num_leaves': 33, 'learning_rate': 0.09595571898476411, 'feature_fraction': 0.0012863849533878147, 'bagging_fraction': 0.9015408941759855, 'bagging_freq': 7, 'lambda_l2': 0.9863504229981706}.\n"
     ]
    },
    {
     "name": "stdout",
     "output_type": "stream",
     "text": [
      "CV average RMSE: 2.81497\n"
     ]
    },
    {
     "name": "stderr",
     "output_type": "stream",
     "text": [
      "[I 2019-03-13 04:55:05,953] Finished a trial resulted in value: 2.8149716253364874. Current best value is 2.7929729979134543 with parameters: {'num_leaves': 33, 'learning_rate': 0.09595571898476411, 'feature_fraction': 0.0012863849533878147, 'bagging_fraction': 0.9015408941759855, 'bagging_freq': 7, 'lambda_l2': 0.9863504229981706}.\n"
     ]
    },
    {
     "name": "stdout",
     "output_type": "stream",
     "text": [
      "CV average RMSE: 2.88232\n"
     ]
    },
    {
     "name": "stderr",
     "output_type": "stream",
     "text": [
      "[I 2019-03-13 04:55:06,434] Finished a trial resulted in value: 2.882315479741799. Current best value is 2.7929729979134543 with parameters: {'num_leaves': 33, 'learning_rate': 0.09595571898476411, 'feature_fraction': 0.0012863849533878147, 'bagging_fraction': 0.9015408941759855, 'bagging_freq': 7, 'lambda_l2': 0.9863504229981706}.\n"
     ]
    },
    {
     "name": "stdout",
     "output_type": "stream",
     "text": [
      "CV average RMSE: 2.86389\n"
     ]
    },
    {
     "name": "stderr",
     "output_type": "stream",
     "text": [
      "[I 2019-03-13 04:55:06,924] Finished a trial resulted in value: 2.8638917659827756. Current best value is 2.7929729979134543 with parameters: {'num_leaves': 33, 'learning_rate': 0.09595571898476411, 'feature_fraction': 0.0012863849533878147, 'bagging_fraction': 0.9015408941759855, 'bagging_freq': 7, 'lambda_l2': 0.9863504229981706}.\n"
     ]
    },
    {
     "name": "stdout",
     "output_type": "stream",
     "text": [
      "CV average RMSE: 2.85742\n"
     ]
    },
    {
     "name": "stderr",
     "output_type": "stream",
     "text": [
      "[I 2019-03-13 04:55:07,420] Finished a trial resulted in value: 2.8574186232385976. Current best value is 2.7929729979134543 with parameters: {'num_leaves': 33, 'learning_rate': 0.09595571898476411, 'feature_fraction': 0.0012863849533878147, 'bagging_fraction': 0.9015408941759855, 'bagging_freq': 7, 'lambda_l2': 0.9863504229981706}.\n"
     ]
    },
    {
     "name": "stdout",
     "output_type": "stream",
     "text": [
      "CV average RMSE: 2.87733\n"
     ]
    },
    {
     "name": "stderr",
     "output_type": "stream",
     "text": [
      "[I 2019-03-13 04:55:07,907] Finished a trial resulted in value: 2.877333302925538. Current best value is 2.7929729979134543 with parameters: {'num_leaves': 33, 'learning_rate': 0.09595571898476411, 'feature_fraction': 0.0012863849533878147, 'bagging_fraction': 0.9015408941759855, 'bagging_freq': 7, 'lambda_l2': 0.9863504229981706}.\n"
     ]
    },
    {
     "name": "stdout",
     "output_type": "stream",
     "text": [
      "CV average RMSE: 2.86152\n"
     ]
    },
    {
     "name": "stderr",
     "output_type": "stream",
     "text": [
      "[I 2019-03-13 04:55:08,468] Finished a trial resulted in value: 2.861515726301936. Current best value is 2.7929729979134543 with parameters: {'num_leaves': 33, 'learning_rate': 0.09595571898476411, 'feature_fraction': 0.0012863849533878147, 'bagging_fraction': 0.9015408941759855, 'bagging_freq': 7, 'lambda_l2': 0.9863504229981706}.\n"
     ]
    },
    {
     "name": "stdout",
     "output_type": "stream",
     "text": [
      "CV average RMSE: 2.78967\n"
     ]
    },
    {
     "name": "stderr",
     "output_type": "stream",
     "text": [
      "[I 2019-03-13 04:55:08,970] Finished a trial resulted in value: 2.7896716317660784. Current best value is 2.7896716317660784 with parameters: {'num_leaves': 36, 'learning_rate': 0.09976132913222707, 'feature_fraction': 0.07700457447759154, 'bagging_fraction': 0.9045363739640161, 'bagging_freq': 7, 'lambda_l2': 1.1318936905174553}.\n"
     ]
    },
    {
     "name": "stdout",
     "output_type": "stream",
     "text": [
      "CV average RMSE: 2.87962\n"
     ]
    },
    {
     "name": "stderr",
     "output_type": "stream",
     "text": [
      "[I 2019-03-13 04:55:09,483] Finished a trial resulted in value: 2.879617106796239. Current best value is 2.7896716317660784 with parameters: {'num_leaves': 36, 'learning_rate': 0.09976132913222707, 'feature_fraction': 0.07700457447759154, 'bagging_fraction': 0.9045363739640161, 'bagging_freq': 7, 'lambda_l2': 1.1318936905174553}.\n"
     ]
    },
    {
     "name": "stdout",
     "output_type": "stream",
     "text": [
      "CV average RMSE: 2.84414\n"
     ]
    },
    {
     "name": "stderr",
     "output_type": "stream",
     "text": [
      "[I 2019-03-13 04:55:09,955] Finished a trial resulted in value: 2.8441364726785734. Current best value is 2.7896716317660784 with parameters: {'num_leaves': 36, 'learning_rate': 0.09976132913222707, 'feature_fraction': 0.07700457447759154, 'bagging_fraction': 0.9045363739640161, 'bagging_freq': 7, 'lambda_l2': 1.1318936905174553}.\n"
     ]
    },
    {
     "name": "stdout",
     "output_type": "stream",
     "text": [
      "CV average RMSE: 2.83262\n"
     ]
    },
    {
     "name": "stderr",
     "output_type": "stream",
     "text": [
      "[I 2019-03-13 04:55:10,487] Finished a trial resulted in value: 2.832624923547683. Current best value is 2.7896716317660784 with parameters: {'num_leaves': 36, 'learning_rate': 0.09976132913222707, 'feature_fraction': 0.07700457447759154, 'bagging_fraction': 0.9045363739640161, 'bagging_freq': 7, 'lambda_l2': 1.1318936905174553}.\n"
     ]
    },
    {
     "name": "stdout",
     "output_type": "stream",
     "text": [
      "CV average RMSE: 2.82727\n"
     ]
    },
    {
     "name": "stderr",
     "output_type": "stream",
     "text": [
      "[I 2019-03-13 04:55:10,998] Finished a trial resulted in value: 2.82726526291823. Current best value is 2.7896716317660784 with parameters: {'num_leaves': 36, 'learning_rate': 0.09976132913222707, 'feature_fraction': 0.07700457447759154, 'bagging_fraction': 0.9045363739640161, 'bagging_freq': 7, 'lambda_l2': 1.1318936905174553}.\n"
     ]
    },
    {
     "name": "stdout",
     "output_type": "stream",
     "text": [
      "CV average RMSE: 2.81969\n"
     ]
    },
    {
     "name": "stderr",
     "output_type": "stream",
     "text": [
      "[I 2019-03-13 04:55:11,485] Finished a trial resulted in value: 2.819689296532173. Current best value is 2.7896716317660784 with parameters: {'num_leaves': 36, 'learning_rate': 0.09976132913222707, 'feature_fraction': 0.07700457447759154, 'bagging_fraction': 0.9045363739640161, 'bagging_freq': 7, 'lambda_l2': 1.1318936905174553}.\n"
     ]
    },
    {
     "name": "stdout",
     "output_type": "stream",
     "text": [
      "CV average RMSE: 2.86876\n"
     ]
    },
    {
     "name": "stderr",
     "output_type": "stream",
     "text": [
      "[I 2019-03-13 04:55:12,000] Finished a trial resulted in value: 2.868755018767163. Current best value is 2.7896716317660784 with parameters: {'num_leaves': 36, 'learning_rate': 0.09976132913222707, 'feature_fraction': 0.07700457447759154, 'bagging_fraction': 0.9045363739640161, 'bagging_freq': 7, 'lambda_l2': 1.1318936905174553}.\n"
     ]
    },
    {
     "name": "stdout",
     "output_type": "stream",
     "text": [
      "CV average RMSE: 2.86036\n"
     ]
    },
    {
     "name": "stderr",
     "output_type": "stream",
     "text": [
      "[I 2019-03-13 04:55:12,480] Finished a trial resulted in value: 2.8603642334247406. Current best value is 2.7896716317660784 with parameters: {'num_leaves': 36, 'learning_rate': 0.09976132913222707, 'feature_fraction': 0.07700457447759154, 'bagging_fraction': 0.9045363739640161, 'bagging_freq': 7, 'lambda_l2': 1.1318936905174553}.\n"
     ]
    },
    {
     "name": "stdout",
     "output_type": "stream",
     "text": [
      "CV average RMSE: 2.83259\n"
     ]
    },
    {
     "name": "stderr",
     "output_type": "stream",
     "text": [
      "[I 2019-03-13 04:55:13,093] Finished a trial resulted in value: 2.832593827194047. Current best value is 2.7896716317660784 with parameters: {'num_leaves': 36, 'learning_rate': 0.09976132913222707, 'feature_fraction': 0.07700457447759154, 'bagging_fraction': 0.9045363739640161, 'bagging_freq': 7, 'lambda_l2': 1.1318936905174553}.\n"
     ]
    },
    {
     "name": "stdout",
     "output_type": "stream",
     "text": [
      "CV average RMSE: 2.86097\n"
     ]
    },
    {
     "name": "stderr",
     "output_type": "stream",
     "text": [
      "[I 2019-03-13 04:55:13,564] Finished a trial resulted in value: 2.86096671250315. Current best value is 2.7896716317660784 with parameters: {'num_leaves': 36, 'learning_rate': 0.09976132913222707, 'feature_fraction': 0.07700457447759154, 'bagging_fraction': 0.9045363739640161, 'bagging_freq': 7, 'lambda_l2': 1.1318936905174553}.\n"
     ]
    },
    {
     "name": "stdout",
     "output_type": "stream",
     "text": [
      "CV average RMSE: 2.84375\n"
     ]
    },
    {
     "name": "stderr",
     "output_type": "stream",
     "text": [
      "[I 2019-03-13 04:55:14,106] Finished a trial resulted in value: 2.8437536123239715. Current best value is 2.7896716317660784 with parameters: {'num_leaves': 36, 'learning_rate': 0.09976132913222707, 'feature_fraction': 0.07700457447759154, 'bagging_fraction': 0.9045363739640161, 'bagging_freq': 7, 'lambda_l2': 1.1318936905174553}.\n"
     ]
    },
    {
     "name": "stdout",
     "output_type": "stream",
     "text": [
      "CV average RMSE: 2.83265\n"
     ]
    },
    {
     "name": "stderr",
     "output_type": "stream",
     "text": [
      "[I 2019-03-13 04:55:14,606] Finished a trial resulted in value: 2.83264659152022. Current best value is 2.7896716317660784 with parameters: {'num_leaves': 36, 'learning_rate': 0.09976132913222707, 'feature_fraction': 0.07700457447759154, 'bagging_fraction': 0.9045363739640161, 'bagging_freq': 7, 'lambda_l2': 1.1318936905174553}.\n"
     ]
    },
    {
     "name": "stdout",
     "output_type": "stream",
     "text": [
      "CV average RMSE: 2.92818\n"
     ]
    },
    {
     "name": "stderr",
     "output_type": "stream",
     "text": [
      "[I 2019-03-13 04:55:15,325] Finished a trial resulted in value: 2.9281813143436164. Current best value is 2.7896716317660784 with parameters: {'num_leaves': 36, 'learning_rate': 0.09976132913222707, 'feature_fraction': 0.07700457447759154, 'bagging_fraction': 0.9045363739640161, 'bagging_freq': 7, 'lambda_l2': 1.1318936905174553}.\n"
     ]
    },
    {
     "name": "stdout",
     "output_type": "stream",
     "text": [
      "CV average RMSE: 2.82405\n"
     ]
    },
    {
     "name": "stderr",
     "output_type": "stream",
     "text": [
      "[I 2019-03-13 04:55:15,827] Finished a trial resulted in value: 2.824051901599785. Current best value is 2.7896716317660784 with parameters: {'num_leaves': 36, 'learning_rate': 0.09976132913222707, 'feature_fraction': 0.07700457447759154, 'bagging_fraction': 0.9045363739640161, 'bagging_freq': 7, 'lambda_l2': 1.1318936905174553}.\n"
     ]
    },
    {
     "name": "stdout",
     "output_type": "stream",
     "text": [
      "CV average RMSE: 2.92165\n"
     ]
    },
    {
     "name": "stderr",
     "output_type": "stream",
     "text": [
      "[I 2019-03-13 04:55:16,342] Finished a trial resulted in value: 2.921652417738515. Current best value is 2.7896716317660784 with parameters: {'num_leaves': 36, 'learning_rate': 0.09976132913222707, 'feature_fraction': 0.07700457447759154, 'bagging_fraction': 0.9045363739640161, 'bagging_freq': 7, 'lambda_l2': 1.1318936905174553}.\n"
     ]
    },
    {
     "name": "stdout",
     "output_type": "stream",
     "text": [
      "CV average RMSE: 2.86468\n"
     ]
    },
    {
     "name": "stderr",
     "output_type": "stream",
     "text": [
      "[I 2019-03-13 04:55:16,846] Finished a trial resulted in value: 2.864675690832956. Current best value is 2.7896716317660784 with parameters: {'num_leaves': 36, 'learning_rate': 0.09976132913222707, 'feature_fraction': 0.07700457447759154, 'bagging_fraction': 0.9045363739640161, 'bagging_freq': 7, 'lambda_l2': 1.1318936905174553}.\n"
     ]
    },
    {
     "name": "stdout",
     "output_type": "stream",
     "text": [
      "CV average RMSE: 2.83509\n"
     ]
    },
    {
     "name": "stderr",
     "output_type": "stream",
     "text": [
      "[I 2019-03-13 04:55:17,408] Finished a trial resulted in value: 2.835092538303939. Current best value is 2.7896716317660784 with parameters: {'num_leaves': 36, 'learning_rate': 0.09976132913222707, 'feature_fraction': 0.07700457447759154, 'bagging_fraction': 0.9045363739640161, 'bagging_freq': 7, 'lambda_l2': 1.1318936905174553}.\n"
     ]
    },
    {
     "name": "stdout",
     "output_type": "stream",
     "text": [
      "CV average RMSE: 2.84418\n"
     ]
    },
    {
     "name": "stderr",
     "output_type": "stream",
     "text": [
      "[I 2019-03-13 04:55:17,903] Finished a trial resulted in value: 2.8441804474535592. Current best value is 2.7896716317660784 with parameters: {'num_leaves': 36, 'learning_rate': 0.09976132913222707, 'feature_fraction': 0.07700457447759154, 'bagging_fraction': 0.9045363739640161, 'bagging_freq': 7, 'lambda_l2': 1.1318936905174553}.\n"
     ]
    },
    {
     "name": "stdout",
     "output_type": "stream",
     "text": [
      "CV average RMSE: 2.86024\n"
     ]
    },
    {
     "name": "stderr",
     "output_type": "stream",
     "text": [
      "[I 2019-03-13 04:55:18,438] Finished a trial resulted in value: 2.8602417891301757. Current best value is 2.7896716317660784 with parameters: {'num_leaves': 36, 'learning_rate': 0.09976132913222707, 'feature_fraction': 0.07700457447759154, 'bagging_fraction': 0.9045363739640161, 'bagging_freq': 7, 'lambda_l2': 1.1318936905174553}.\n"
     ]
    },
    {
     "name": "stdout",
     "output_type": "stream",
     "text": [
      "CV average RMSE: 2.80464\n"
     ]
    },
    {
     "name": "stderr",
     "output_type": "stream",
     "text": [
      "[I 2019-03-13 04:55:18,938] Finished a trial resulted in value: 2.80464245252069. Current best value is 2.7896716317660784 with parameters: {'num_leaves': 36, 'learning_rate': 0.09976132913222707, 'feature_fraction': 0.07700457447759154, 'bagging_fraction': 0.9045363739640161, 'bagging_freq': 7, 'lambda_l2': 1.1318936905174553}.\n"
     ]
    },
    {
     "name": "stdout",
     "output_type": "stream",
     "text": [
      "CV average RMSE: 2.81725\n"
     ]
    },
    {
     "name": "stderr",
     "output_type": "stream",
     "text": [
      "[I 2019-03-13 04:55:19,522] Finished a trial resulted in value: 2.8172490034572593. Current best value is 2.7896716317660784 with parameters: {'num_leaves': 36, 'learning_rate': 0.09976132913222707, 'feature_fraction': 0.07700457447759154, 'bagging_fraction': 0.9045363739640161, 'bagging_freq': 7, 'lambda_l2': 1.1318936905174553}.\n"
     ]
    },
    {
     "name": "stdout",
     "output_type": "stream",
     "text": [
      "CV average RMSE: 2.91106\n"
     ]
    },
    {
     "name": "stderr",
     "output_type": "stream",
     "text": [
      "[I 2019-03-13 04:55:19,999] Finished a trial resulted in value: 2.9110609110187666. Current best value is 2.7896716317660784 with parameters: {'num_leaves': 36, 'learning_rate': 0.09976132913222707, 'feature_fraction': 0.07700457447759154, 'bagging_fraction': 0.9045363739640161, 'bagging_freq': 7, 'lambda_l2': 1.1318936905174553}.\n"
     ]
    },
    {
     "name": "stdout",
     "output_type": "stream",
     "text": [
      "CV average RMSE: 2.8372\n"
     ]
    },
    {
     "name": "stderr",
     "output_type": "stream",
     "text": [
      "[I 2019-03-13 04:55:20,515] Finished a trial resulted in value: 2.8372036090871204. Current best value is 2.7896716317660784 with parameters: {'num_leaves': 36, 'learning_rate': 0.09976132913222707, 'feature_fraction': 0.07700457447759154, 'bagging_fraction': 0.9045363739640161, 'bagging_freq': 7, 'lambda_l2': 1.1318936905174553}.\n"
     ]
    },
    {
     "name": "stdout",
     "output_type": "stream",
     "text": [
      "CV average RMSE: 2.84135\n"
     ]
    },
    {
     "name": "stderr",
     "output_type": "stream",
     "text": [
      "[I 2019-03-13 04:55:21,020] Finished a trial resulted in value: 2.8413545558963387. Current best value is 2.7896716317660784 with parameters: {'num_leaves': 36, 'learning_rate': 0.09976132913222707, 'feature_fraction': 0.07700457447759154, 'bagging_fraction': 0.9045363739640161, 'bagging_freq': 7, 'lambda_l2': 1.1318936905174553}.\n"
     ]
    },
    {
     "name": "stdout",
     "output_type": "stream",
     "text": [
      "CV average RMSE: 2.83993\n"
     ]
    },
    {
     "name": "stderr",
     "output_type": "stream",
     "text": [
      "[I 2019-03-13 04:55:21,502] Finished a trial resulted in value: 2.8399339006739304. Current best value is 2.7896716317660784 with parameters: {'num_leaves': 36, 'learning_rate': 0.09976132913222707, 'feature_fraction': 0.07700457447759154, 'bagging_fraction': 0.9045363739640161, 'bagging_freq': 7, 'lambda_l2': 1.1318936905174553}.\n"
     ]
    },
    {
     "name": "stdout",
     "output_type": "stream",
     "text": [
      "CV average RMSE: 2.84029\n"
     ]
    },
    {
     "name": "stderr",
     "output_type": "stream",
     "text": [
      "[I 2019-03-13 04:55:22,035] Finished a trial resulted in value: 2.8402915958004935. Current best value is 2.7896716317660784 with parameters: {'num_leaves': 36, 'learning_rate': 0.09976132913222707, 'feature_fraction': 0.07700457447759154, 'bagging_fraction': 0.9045363739640161, 'bagging_freq': 7, 'lambda_l2': 1.1318936905174553}.\n"
     ]
    },
    {
     "name": "stdout",
     "output_type": "stream",
     "text": [
      "CV average RMSE: 2.8914\n"
     ]
    },
    {
     "name": "stderr",
     "output_type": "stream",
     "text": [
      "[I 2019-03-13 04:55:22,533] Finished a trial resulted in value: 2.891403100547133. Current best value is 2.7896716317660784 with parameters: {'num_leaves': 36, 'learning_rate': 0.09976132913222707, 'feature_fraction': 0.07700457447759154, 'bagging_fraction': 0.9045363739640161, 'bagging_freq': 7, 'lambda_l2': 1.1318936905174553}.\n"
     ]
    },
    {
     "name": "stdout",
     "output_type": "stream",
     "text": [
      "CV average RMSE: 2.83384\n"
     ]
    },
    {
     "name": "stderr",
     "output_type": "stream",
     "text": [
      "[I 2019-03-13 04:55:23,094] Finished a trial resulted in value: 2.8338447735085937. Current best value is 2.7896716317660784 with parameters: {'num_leaves': 36, 'learning_rate': 0.09976132913222707, 'feature_fraction': 0.07700457447759154, 'bagging_fraction': 0.9045363739640161, 'bagging_freq': 7, 'lambda_l2': 1.1318936905174553}.\n"
     ]
    },
    {
     "name": "stdout",
     "output_type": "stream",
     "text": [
      "CV average RMSE: 2.8583\n"
     ]
    },
    {
     "name": "stderr",
     "output_type": "stream",
     "text": [
      "[I 2019-03-13 04:55:23,612] Finished a trial resulted in value: 2.8583013354050766. Current best value is 2.7896716317660784 with parameters: {'num_leaves': 36, 'learning_rate': 0.09976132913222707, 'feature_fraction': 0.07700457447759154, 'bagging_fraction': 0.9045363739640161, 'bagging_freq': 7, 'lambda_l2': 1.1318936905174553}.\n"
     ]
    },
    {
     "name": "stdout",
     "output_type": "stream",
     "text": [
      "CV average RMSE: 2.83041\n"
     ]
    },
    {
     "name": "stderr",
     "output_type": "stream",
     "text": [
      "[I 2019-03-13 04:55:24,187] Finished a trial resulted in value: 2.8304103020860767. Current best value is 2.7896716317660784 with parameters: {'num_leaves': 36, 'learning_rate': 0.09976132913222707, 'feature_fraction': 0.07700457447759154, 'bagging_fraction': 0.9045363739640161, 'bagging_freq': 7, 'lambda_l2': 1.1318936905174553}.\n"
     ]
    },
    {
     "name": "stdout",
     "output_type": "stream",
     "text": [
      "CV average RMSE: 2.83006\n"
     ]
    },
    {
     "name": "stderr",
     "output_type": "stream",
     "text": [
      "[I 2019-03-13 04:55:24,705] Finished a trial resulted in value: 2.8300602985594843. Current best value is 2.7896716317660784 with parameters: {'num_leaves': 36, 'learning_rate': 0.09976132913222707, 'feature_fraction': 0.07700457447759154, 'bagging_fraction': 0.9045363739640161, 'bagging_freq': 7, 'lambda_l2': 1.1318936905174553}.\n"
     ]
    },
    {
     "name": "stdout",
     "output_type": "stream",
     "text": [
      "CV average RMSE: 2.87169\n"
     ]
    },
    {
     "name": "stderr",
     "output_type": "stream",
     "text": [
      "[I 2019-03-13 04:55:25,285] Finished a trial resulted in value: 2.871686247868145. Current best value is 2.7896716317660784 with parameters: {'num_leaves': 36, 'learning_rate': 0.09976132913222707, 'feature_fraction': 0.07700457447759154, 'bagging_fraction': 0.9045363739640161, 'bagging_freq': 7, 'lambda_l2': 1.1318936905174553}.\n"
     ]
    },
    {
     "name": "stdout",
     "output_type": "stream",
     "text": [
      "CV average RMSE: 2.85796\n"
     ]
    },
    {
     "name": "stderr",
     "output_type": "stream",
     "text": [
      "[I 2019-03-13 04:55:25,783] Finished a trial resulted in value: 2.8579609961830084. Current best value is 2.7896716317660784 with parameters: {'num_leaves': 36, 'learning_rate': 0.09976132913222707, 'feature_fraction': 0.07700457447759154, 'bagging_fraction': 0.9045363739640161, 'bagging_freq': 7, 'lambda_l2': 1.1318936905174553}.\n"
     ]
    },
    {
     "name": "stdout",
     "output_type": "stream",
     "text": [
      "CV average RMSE: 2.87272\n"
     ]
    },
    {
     "name": "stderr",
     "output_type": "stream",
     "text": [
      "[I 2019-03-13 04:55:26,327] Finished a trial resulted in value: 2.8727154766386236. Current best value is 2.7896716317660784 with parameters: {'num_leaves': 36, 'learning_rate': 0.09976132913222707, 'feature_fraction': 0.07700457447759154, 'bagging_fraction': 0.9045363739640161, 'bagging_freq': 7, 'lambda_l2': 1.1318936905174553}.\n"
     ]
    },
    {
     "name": "stdout",
     "output_type": "stream",
     "text": [
      "CV average RMSE: 2.83922\n"
     ]
    },
    {
     "name": "stderr",
     "output_type": "stream",
     "text": [
      "[I 2019-03-13 04:55:26,831] Finished a trial resulted in value: 2.839220152185337. Current best value is 2.7896716317660784 with parameters: {'num_leaves': 36, 'learning_rate': 0.09976132913222707, 'feature_fraction': 0.07700457447759154, 'bagging_fraction': 0.9045363739640161, 'bagging_freq': 7, 'lambda_l2': 1.1318936905174553}.\n"
     ]
    },
    {
     "name": "stdout",
     "output_type": "stream",
     "text": [
      "CV average RMSE: 2.83736\n"
     ]
    },
    {
     "name": "stderr",
     "output_type": "stream",
     "text": [
      "[I 2019-03-13 04:55:27,332] Finished a trial resulted in value: 2.837358522788358. Current best value is 2.7896716317660784 with parameters: {'num_leaves': 36, 'learning_rate': 0.09976132913222707, 'feature_fraction': 0.07700457447759154, 'bagging_fraction': 0.9045363739640161, 'bagging_freq': 7, 'lambda_l2': 1.1318936905174553}.\n"
     ]
    },
    {
     "name": "stdout",
     "output_type": "stream",
     "text": [
      "CV average RMSE: 2.86701\n"
     ]
    },
    {
     "name": "stderr",
     "output_type": "stream",
     "text": [
      "[I 2019-03-13 04:55:27,905] Finished a trial resulted in value: 2.867014347403866. Current best value is 2.7896716317660784 with parameters: {'num_leaves': 36, 'learning_rate': 0.09976132913222707, 'feature_fraction': 0.07700457447759154, 'bagging_fraction': 0.9045363739640161, 'bagging_freq': 7, 'lambda_l2': 1.1318936905174553}.\n"
     ]
    },
    {
     "name": "stdout",
     "output_type": "stream",
     "text": [
      "CV average RMSE: 2.82964\n"
     ]
    },
    {
     "name": "stderr",
     "output_type": "stream",
     "text": [
      "[I 2019-03-13 04:55:28,426] Finished a trial resulted in value: 2.8296369191327218. Current best value is 2.7896716317660784 with parameters: {'num_leaves': 36, 'learning_rate': 0.09976132913222707, 'feature_fraction': 0.07700457447759154, 'bagging_fraction': 0.9045363739640161, 'bagging_freq': 7, 'lambda_l2': 1.1318936905174553}.\n"
     ]
    },
    {
     "name": "stdout",
     "output_type": "stream",
     "text": [
      "CV average RMSE: 2.83627\n"
     ]
    },
    {
     "name": "stderr",
     "output_type": "stream",
     "text": [
      "[I 2019-03-13 04:55:28,951] Finished a trial resulted in value: 2.836267198067721. Current best value is 2.7896716317660784 with parameters: {'num_leaves': 36, 'learning_rate': 0.09976132913222707, 'feature_fraction': 0.07700457447759154, 'bagging_fraction': 0.9045363739640161, 'bagging_freq': 7, 'lambda_l2': 1.1318936905174553}.\n"
     ]
    },
    {
     "name": "stdout",
     "output_type": "stream",
     "text": [
      "CV average RMSE: 2.86321\n"
     ]
    },
    {
     "name": "stderr",
     "output_type": "stream",
     "text": [
      "[I 2019-03-13 04:55:29,439] Finished a trial resulted in value: 2.8632071416778166. Current best value is 2.7896716317660784 with parameters: {'num_leaves': 36, 'learning_rate': 0.09976132913222707, 'feature_fraction': 0.07700457447759154, 'bagging_fraction': 0.9045363739640161, 'bagging_freq': 7, 'lambda_l2': 1.1318936905174553}.\n"
     ]
    },
    {
     "name": "stdout",
     "output_type": "stream",
     "text": [
      "CV average RMSE: 2.8365\n"
     ]
    },
    {
     "name": "stderr",
     "output_type": "stream",
     "text": [
      "[I 2019-03-13 04:55:29,952] Finished a trial resulted in value: 2.836502252155373. Current best value is 2.7896716317660784 with parameters: {'num_leaves': 36, 'learning_rate': 0.09976132913222707, 'feature_fraction': 0.07700457447759154, 'bagging_fraction': 0.9045363739640161, 'bagging_freq': 7, 'lambda_l2': 1.1318936905174553}.\n"
     ]
    },
    {
     "name": "stdout",
     "output_type": "stream",
     "text": [
      "CV average RMSE: 2.8374\n"
     ]
    },
    {
     "name": "stderr",
     "output_type": "stream",
     "text": [
      "[I 2019-03-13 04:55:30,548] Finished a trial resulted in value: 2.8373996557906187. Current best value is 2.7896716317660784 with parameters: {'num_leaves': 36, 'learning_rate': 0.09976132913222707, 'feature_fraction': 0.07700457447759154, 'bagging_fraction': 0.9045363739640161, 'bagging_freq': 7, 'lambda_l2': 1.1318936905174553}.\n"
     ]
    },
    {
     "name": "stdout",
     "output_type": "stream",
     "text": [
      "CV average RMSE: 2.85028\n"
     ]
    },
    {
     "name": "stderr",
     "output_type": "stream",
     "text": [
      "[I 2019-03-13 04:55:31,094] Finished a trial resulted in value: 2.8502801112574887. Current best value is 2.7896716317660784 with parameters: {'num_leaves': 36, 'learning_rate': 0.09976132913222707, 'feature_fraction': 0.07700457447759154, 'bagging_fraction': 0.9045363739640161, 'bagging_freq': 7, 'lambda_l2': 1.1318936905174553}.\n"
     ]
    },
    {
     "name": "stdout",
     "output_type": "stream",
     "text": [
      "CV average RMSE: 2.83441\n"
     ]
    },
    {
     "name": "stderr",
     "output_type": "stream",
     "text": [
      "[I 2019-03-13 04:55:31,596] Finished a trial resulted in value: 2.834408251783147. Current best value is 2.7896716317660784 with parameters: {'num_leaves': 36, 'learning_rate': 0.09976132913222707, 'feature_fraction': 0.07700457447759154, 'bagging_fraction': 0.9045363739640161, 'bagging_freq': 7, 'lambda_l2': 1.1318936905174553}.\n"
     ]
    },
    {
     "name": "stdout",
     "output_type": "stream",
     "text": [
      "CV average RMSE: 2.84451\n"
     ]
    },
    {
     "name": "stderr",
     "output_type": "stream",
     "text": [
      "[I 2019-03-13 04:55:32,140] Finished a trial resulted in value: 2.8445137593223313. Current best value is 2.7896716317660784 with parameters: {'num_leaves': 36, 'learning_rate': 0.09976132913222707, 'feature_fraction': 0.07700457447759154, 'bagging_fraction': 0.9045363739640161, 'bagging_freq': 7, 'lambda_l2': 1.1318936905174553}.\n"
     ]
    },
    {
     "name": "stdout",
     "output_type": "stream",
     "text": [
      "CV average RMSE: 2.83825\n"
     ]
    },
    {
     "name": "stderr",
     "output_type": "stream",
     "text": [
      "[I 2019-03-13 04:55:32,688] Finished a trial resulted in value: 2.8382506874639697. Current best value is 2.7896716317660784 with parameters: {'num_leaves': 36, 'learning_rate': 0.09976132913222707, 'feature_fraction': 0.07700457447759154, 'bagging_fraction': 0.9045363739640161, 'bagging_freq': 7, 'lambda_l2': 1.1318936905174553}.\n"
     ]
    },
    {
     "name": "stdout",
     "output_type": "stream",
     "text": [
      "CV average RMSE: 2.80921\n"
     ]
    },
    {
     "name": "stderr",
     "output_type": "stream",
     "text": [
      "[I 2019-03-13 04:55:33,267] Finished a trial resulted in value: 2.8092146651919685. Current best value is 2.7896716317660784 with parameters: {'num_leaves': 36, 'learning_rate': 0.09976132913222707, 'feature_fraction': 0.07700457447759154, 'bagging_fraction': 0.9045363739640161, 'bagging_freq': 7, 'lambda_l2': 1.1318936905174553}.\n"
     ]
    },
    {
     "name": "stdout",
     "output_type": "stream",
     "text": [
      "CV average RMSE: 2.90058\n"
     ]
    },
    {
     "name": "stderr",
     "output_type": "stream",
     "text": [
      "[I 2019-03-13 04:55:33,752] Finished a trial resulted in value: 2.900579809883876. Current best value is 2.7896716317660784 with parameters: {'num_leaves': 36, 'learning_rate': 0.09976132913222707, 'feature_fraction': 0.07700457447759154, 'bagging_fraction': 0.9045363739640161, 'bagging_freq': 7, 'lambda_l2': 1.1318936905174553}.\n"
     ]
    },
    {
     "name": "stdout",
     "output_type": "stream",
     "text": [
      "CV average RMSE: 2.85111\n"
     ]
    },
    {
     "name": "stderr",
     "output_type": "stream",
     "text": [
      "[I 2019-03-13 04:55:34,286] Finished a trial resulted in value: 2.851106784122595. Current best value is 2.7896716317660784 with parameters: {'num_leaves': 36, 'learning_rate': 0.09976132913222707, 'feature_fraction': 0.07700457447759154, 'bagging_fraction': 0.9045363739640161, 'bagging_freq': 7, 'lambda_l2': 1.1318936905174553}.\n"
     ]
    },
    {
     "name": "stdout",
     "output_type": "stream",
     "text": [
      "CV average RMSE: 2.88731\n"
     ]
    },
    {
     "name": "stderr",
     "output_type": "stream",
     "text": [
      "[I 2019-03-13 04:55:34,784] Finished a trial resulted in value: 2.8873095917302884. Current best value is 2.7896716317660784 with parameters: {'num_leaves': 36, 'learning_rate': 0.09976132913222707, 'feature_fraction': 0.07700457447759154, 'bagging_fraction': 0.9045363739640161, 'bagging_freq': 7, 'lambda_l2': 1.1318936905174553}.\n"
     ]
    },
    {
     "name": "stdout",
     "output_type": "stream",
     "text": [
      "CV average RMSE: 2.8332\n"
     ]
    },
    {
     "name": "stderr",
     "output_type": "stream",
     "text": [
      "[I 2019-03-13 04:55:35,349] Finished a trial resulted in value: 2.8332016220482474. Current best value is 2.7896716317660784 with parameters: {'num_leaves': 36, 'learning_rate': 0.09976132913222707, 'feature_fraction': 0.07700457447759154, 'bagging_fraction': 0.9045363739640161, 'bagging_freq': 7, 'lambda_l2': 1.1318936905174553}.\n"
     ]
    },
    {
     "name": "stdout",
     "output_type": "stream",
     "text": [
      "CV average RMSE: 2.82555\n"
     ]
    },
    {
     "name": "stderr",
     "output_type": "stream",
     "text": [
      "[I 2019-03-13 04:55:35,879] Finished a trial resulted in value: 2.8255519513667187. Current best value is 2.7896716317660784 with parameters: {'num_leaves': 36, 'learning_rate': 0.09976132913222707, 'feature_fraction': 0.07700457447759154, 'bagging_fraction': 0.9045363739640161, 'bagging_freq': 7, 'lambda_l2': 1.1318936905174553}.\n"
     ]
    },
    {
     "name": "stdout",
     "output_type": "stream",
     "text": [
      "CV average RMSE: 2.80266\n"
     ]
    },
    {
     "name": "stderr",
     "output_type": "stream",
     "text": [
      "[I 2019-03-13 04:55:36,453] Finished a trial resulted in value: 2.8026634113448345. Current best value is 2.7896716317660784 with parameters: {'num_leaves': 36, 'learning_rate': 0.09976132913222707, 'feature_fraction': 0.07700457447759154, 'bagging_fraction': 0.9045363739640161, 'bagging_freq': 7, 'lambda_l2': 1.1318936905174553}.\n"
     ]
    },
    {
     "name": "stdout",
     "output_type": "stream",
     "text": [
      "CV average RMSE: 2.85538\n"
     ]
    },
    {
     "name": "stderr",
     "output_type": "stream",
     "text": [
      "[I 2019-03-13 04:55:36,944] Finished a trial resulted in value: 2.855379390962341. Current best value is 2.7896716317660784 with parameters: {'num_leaves': 36, 'learning_rate': 0.09976132913222707, 'feature_fraction': 0.07700457447759154, 'bagging_fraction': 0.9045363739640161, 'bagging_freq': 7, 'lambda_l2': 1.1318936905174553}.\n"
     ]
    },
    {
     "name": "stdout",
     "output_type": "stream",
     "text": [
      "CV average RMSE: 2.86197\n"
     ]
    },
    {
     "name": "stderr",
     "output_type": "stream",
     "text": [
      "[I 2019-03-13 04:55:37,487] Finished a trial resulted in value: 2.861965195872833. Current best value is 2.7896716317660784 with parameters: {'num_leaves': 36, 'learning_rate': 0.09976132913222707, 'feature_fraction': 0.07700457447759154, 'bagging_fraction': 0.9045363739640161, 'bagging_freq': 7, 'lambda_l2': 1.1318936905174553}.\n"
     ]
    },
    {
     "name": "stdout",
     "output_type": "stream",
     "text": [
      "CV average RMSE: 2.81528\n"
     ]
    },
    {
     "name": "stderr",
     "output_type": "stream",
     "text": [
      "[I 2019-03-13 04:55:37,986] Finished a trial resulted in value: 2.8152825791396956. Current best value is 2.7896716317660784 with parameters: {'num_leaves': 36, 'learning_rate': 0.09976132913222707, 'feature_fraction': 0.07700457447759154, 'bagging_fraction': 0.9045363739640161, 'bagging_freq': 7, 'lambda_l2': 1.1318936905174553}.\n"
     ]
    },
    {
     "name": "stdout",
     "output_type": "stream",
     "text": [
      "CV average RMSE: 2.83219\n"
     ]
    },
    {
     "name": "stderr",
     "output_type": "stream",
     "text": [
      "[I 2019-03-13 04:55:38,548] Finished a trial resulted in value: 2.832187123939837. Current best value is 2.7896716317660784 with parameters: {'num_leaves': 36, 'learning_rate': 0.09976132913222707, 'feature_fraction': 0.07700457447759154, 'bagging_fraction': 0.9045363739640161, 'bagging_freq': 7, 'lambda_l2': 1.1318936905174553}.\n"
     ]
    },
    {
     "name": "stdout",
     "output_type": "stream",
     "text": [
      "CV average RMSE: 2.85796\n"
     ]
    },
    {
     "name": "stderr",
     "output_type": "stream",
     "text": [
      "[I 2019-03-13 04:55:39,080] Finished a trial resulted in value: 2.857963167198605. Current best value is 2.7896716317660784 with parameters: {'num_leaves': 36, 'learning_rate': 0.09976132913222707, 'feature_fraction': 0.07700457447759154, 'bagging_fraction': 0.9045363739640161, 'bagging_freq': 7, 'lambda_l2': 1.1318936905174553}.\n"
     ]
    },
    {
     "name": "stdout",
     "output_type": "stream",
     "text": [
      "CV average RMSE: 5.59575\n"
     ]
    },
    {
     "name": "stderr",
     "output_type": "stream",
     "text": [
      "[I 2019-03-13 04:55:39,817] Finished a trial resulted in value: 5.595746916907698. Current best value is 2.7896716317660784 with parameters: {'num_leaves': 36, 'learning_rate': 0.09976132913222707, 'feature_fraction': 0.07700457447759154, 'bagging_fraction': 0.9045363739640161, 'bagging_freq': 7, 'lambda_l2': 1.1318936905174553}.\n"
     ]
    },
    {
     "name": "stdout",
     "output_type": "stream",
     "text": [
      "CV average RMSE: 2.83398\n"
     ]
    },
    {
     "name": "stderr",
     "output_type": "stream",
     "text": [
      "[I 2019-03-13 04:55:40,350] Finished a trial resulted in value: 2.8339835534010236. Current best value is 2.7896716317660784 with parameters: {'num_leaves': 36, 'learning_rate': 0.09976132913222707, 'feature_fraction': 0.07700457447759154, 'bagging_fraction': 0.9045363739640161, 'bagging_freq': 7, 'lambda_l2': 1.1318936905174553}.\n"
     ]
    },
    {
     "name": "stdout",
     "output_type": "stream",
     "text": [
      "CV average RMSE: 2.83698\n"
     ]
    },
    {
     "name": "stderr",
     "output_type": "stream",
     "text": [
      "[I 2019-03-13 04:55:40,892] Finished a trial resulted in value: 2.8369846789591286. Current best value is 2.7896716317660784 with parameters: {'num_leaves': 36, 'learning_rate': 0.09976132913222707, 'feature_fraction': 0.07700457447759154, 'bagging_fraction': 0.9045363739640161, 'bagging_freq': 7, 'lambda_l2': 1.1318936905174553}.\n"
     ]
    },
    {
     "name": "stdout",
     "output_type": "stream",
     "text": [
      "CV average RMSE: 2.85591\n"
     ]
    },
    {
     "name": "stderr",
     "output_type": "stream",
     "text": [
      "[I 2019-03-13 04:55:41,426] Finished a trial resulted in value: 2.855908702244874. Current best value is 2.7896716317660784 with parameters: {'num_leaves': 36, 'learning_rate': 0.09976132913222707, 'feature_fraction': 0.07700457447759154, 'bagging_fraction': 0.9045363739640161, 'bagging_freq': 7, 'lambda_l2': 1.1318936905174553}.\n"
     ]
    },
    {
     "name": "stdout",
     "output_type": "stream",
     "text": [
      "CV average RMSE: 2.874\n"
     ]
    },
    {
     "name": "stderr",
     "output_type": "stream",
     "text": [
      "[I 2019-03-13 04:55:41,941] Finished a trial resulted in value: 2.8739964893640386. Current best value is 2.7896716317660784 with parameters: {'num_leaves': 36, 'learning_rate': 0.09976132913222707, 'feature_fraction': 0.07700457447759154, 'bagging_fraction': 0.9045363739640161, 'bagging_freq': 7, 'lambda_l2': 1.1318936905174553}.\n"
     ]
    },
    {
     "name": "stdout",
     "output_type": "stream",
     "text": [
      "CV average RMSE: 2.85764\n"
     ]
    },
    {
     "name": "stderr",
     "output_type": "stream",
     "text": [
      "[I 2019-03-13 04:55:42,441] Finished a trial resulted in value: 2.8576393264756805. Current best value is 2.7896716317660784 with parameters: {'num_leaves': 36, 'learning_rate': 0.09976132913222707, 'feature_fraction': 0.07700457447759154, 'bagging_fraction': 0.9045363739640161, 'bagging_freq': 7, 'lambda_l2': 1.1318936905174553}.\n"
     ]
    },
    {
     "name": "stdout",
     "output_type": "stream",
     "text": [
      "CV average RMSE: 2.84383\n"
     ]
    },
    {
     "name": "stderr",
     "output_type": "stream",
     "text": [
      "[I 2019-03-13 04:55:42,955] Finished a trial resulted in value: 2.843828664015562. Current best value is 2.7896716317660784 with parameters: {'num_leaves': 36, 'learning_rate': 0.09976132913222707, 'feature_fraction': 0.07700457447759154, 'bagging_fraction': 0.9045363739640161, 'bagging_freq': 7, 'lambda_l2': 1.1318936905174553}.\n"
     ]
    },
    {
     "name": "stdout",
     "output_type": "stream",
     "text": [
      "CV average RMSE: 2.83425\n"
     ]
    },
    {
     "name": "stderr",
     "output_type": "stream",
     "text": [
      "[I 2019-03-13 04:55:43,488] Finished a trial resulted in value: 2.834251792848578. Current best value is 2.7896716317660784 with parameters: {'num_leaves': 36, 'learning_rate': 0.09976132913222707, 'feature_fraction': 0.07700457447759154, 'bagging_fraction': 0.9045363739640161, 'bagging_freq': 7, 'lambda_l2': 1.1318936905174553}.\n"
     ]
    },
    {
     "name": "stdout",
     "output_type": "stream",
     "text": [
      "CV average RMSE: 2.86656\n"
     ]
    },
    {
     "name": "stderr",
     "output_type": "stream",
     "text": [
      "[I 2019-03-13 04:55:43,984] Finished a trial resulted in value: 2.866555751909086. Current best value is 2.7896716317660784 with parameters: {'num_leaves': 36, 'learning_rate': 0.09976132913222707, 'feature_fraction': 0.07700457447759154, 'bagging_fraction': 0.9045363739640161, 'bagging_freq': 7, 'lambda_l2': 1.1318936905174553}.\n"
     ]
    },
    {
     "name": "stdout",
     "output_type": "stream",
     "text": [
      "CV average RMSE: 2.83082\n"
     ]
    },
    {
     "name": "stderr",
     "output_type": "stream",
     "text": [
      "[I 2019-03-13 04:55:44,535] Finished a trial resulted in value: 2.8308218749405123. Current best value is 2.7896716317660784 with parameters: {'num_leaves': 36, 'learning_rate': 0.09976132913222707, 'feature_fraction': 0.07700457447759154, 'bagging_fraction': 0.9045363739640161, 'bagging_freq': 7, 'lambda_l2': 1.1318936905174553}.\n"
     ]
    },
    {
     "name": "stdout",
     "output_type": "stream",
     "text": [
      "CV average RMSE: 2.80893\n"
     ]
    },
    {
     "name": "stderr",
     "output_type": "stream",
     "text": [
      "[I 2019-03-13 04:55:45,037] Finished a trial resulted in value: 2.8089291207436835. Current best value is 2.7896716317660784 with parameters: {'num_leaves': 36, 'learning_rate': 0.09976132913222707, 'feature_fraction': 0.07700457447759154, 'bagging_fraction': 0.9045363739640161, 'bagging_freq': 7, 'lambda_l2': 1.1318936905174553}.\n"
     ]
    },
    {
     "name": "stdout",
     "output_type": "stream",
     "text": [
      "CV average RMSE: 2.87372\n"
     ]
    },
    {
     "name": "stderr",
     "output_type": "stream",
     "text": [
      "[I 2019-03-13 04:55:45,616] Finished a trial resulted in value: 2.873723047329408. Current best value is 2.7896716317660784 with parameters: {'num_leaves': 36, 'learning_rate': 0.09976132913222707, 'feature_fraction': 0.07700457447759154, 'bagging_fraction': 0.9045363739640161, 'bagging_freq': 7, 'lambda_l2': 1.1318936905174553}.\n"
     ]
    },
    {
     "name": "stdout",
     "output_type": "stream",
     "text": [
      "CV average RMSE: 2.84263\n"
     ]
    },
    {
     "name": "stderr",
     "output_type": "stream",
     "text": [
      "[I 2019-03-13 04:55:46,131] Finished a trial resulted in value: 2.8426337097823002. Current best value is 2.7896716317660784 with parameters: {'num_leaves': 36, 'learning_rate': 0.09976132913222707, 'feature_fraction': 0.07700457447759154, 'bagging_fraction': 0.9045363739640161, 'bagging_freq': 7, 'lambda_l2': 1.1318936905174553}.\n"
     ]
    },
    {
     "name": "stdout",
     "output_type": "stream",
     "text": [
      "CV average RMSE: 2.8098\n"
     ]
    },
    {
     "name": "stderr",
     "output_type": "stream",
     "text": [
      "[I 2019-03-13 04:55:46,723] Finished a trial resulted in value: 2.8097960131604665. Current best value is 2.7896716317660784 with parameters: {'num_leaves': 36, 'learning_rate': 0.09976132913222707, 'feature_fraction': 0.07700457447759154, 'bagging_fraction': 0.9045363739640161, 'bagging_freq': 7, 'lambda_l2': 1.1318936905174553}.\n"
     ]
    },
    {
     "name": "stdout",
     "output_type": "stream",
     "text": [
      "CV average RMSE: 2.85622\n"
     ]
    },
    {
     "name": "stderr",
     "output_type": "stream",
     "text": [
      "[I 2019-03-13 04:55:47,234] Finished a trial resulted in value: 2.8562196497440837. Current best value is 2.7896716317660784 with parameters: {'num_leaves': 36, 'learning_rate': 0.09976132913222707, 'feature_fraction': 0.07700457447759154, 'bagging_fraction': 0.9045363739640161, 'bagging_freq': 7, 'lambda_l2': 1.1318936905174553}.\n"
     ]
    },
    {
     "name": "stdout",
     "output_type": "stream",
     "text": [
      "CV average RMSE: 2.83411\n"
     ]
    },
    {
     "name": "stderr",
     "output_type": "stream",
     "text": [
      "[I 2019-03-13 04:55:47,820] Finished a trial resulted in value: 2.8341083940771843. Current best value is 2.7896716317660784 with parameters: {'num_leaves': 36, 'learning_rate': 0.09976132913222707, 'feature_fraction': 0.07700457447759154, 'bagging_fraction': 0.9045363739640161, 'bagging_freq': 7, 'lambda_l2': 1.1318936905174553}.\n"
     ]
    },
    {
     "name": "stdout",
     "output_type": "stream",
     "text": [
      "CV average RMSE: 2.79999\n"
     ]
    },
    {
     "name": "stderr",
     "output_type": "stream",
     "text": [
      "[I 2019-03-13 04:55:48,396] Finished a trial resulted in value: 2.799991466012126. Current best value is 2.7896716317660784 with parameters: {'num_leaves': 36, 'learning_rate': 0.09976132913222707, 'feature_fraction': 0.07700457447759154, 'bagging_fraction': 0.9045363739640161, 'bagging_freq': 7, 'lambda_l2': 1.1318936905174553}.\n"
     ]
    },
    {
     "name": "stdout",
     "output_type": "stream",
     "text": [
      "CV average RMSE: 2.83524\n"
     ]
    },
    {
     "name": "stderr",
     "output_type": "stream",
     "text": [
      "[I 2019-03-13 04:55:48,973] Finished a trial resulted in value: 2.8352357183573362. Current best value is 2.7896716317660784 with parameters: {'num_leaves': 36, 'learning_rate': 0.09976132913222707, 'feature_fraction': 0.07700457447759154, 'bagging_fraction': 0.9045363739640161, 'bagging_freq': 7, 'lambda_l2': 1.1318936905174553}.\n"
     ]
    },
    {
     "name": "stdout",
     "output_type": "stream",
     "text": [
      "CV average RMSE: 2.89319\n"
     ]
    },
    {
     "name": "stderr",
     "output_type": "stream",
     "text": [
      "[I 2019-03-13 04:55:49,533] Finished a trial resulted in value: 2.893194966802299. Current best value is 2.7896716317660784 with parameters: {'num_leaves': 36, 'learning_rate': 0.09976132913222707, 'feature_fraction': 0.07700457447759154, 'bagging_fraction': 0.9045363739640161, 'bagging_freq': 7, 'lambda_l2': 1.1318936905174553}.\n"
     ]
    },
    {
     "name": "stdout",
     "output_type": "stream",
     "text": [
      "CV average RMSE: 2.84266\n"
     ]
    },
    {
     "name": "stderr",
     "output_type": "stream",
     "text": [
      "[I 2019-03-13 04:55:50,082] Finished a trial resulted in value: 2.8426636042437727. Current best value is 2.7896716317660784 with parameters: {'num_leaves': 36, 'learning_rate': 0.09976132913222707, 'feature_fraction': 0.07700457447759154, 'bagging_fraction': 0.9045363739640161, 'bagging_freq': 7, 'lambda_l2': 1.1318936905174553}.\n"
     ]
    },
    {
     "name": "stdout",
     "output_type": "stream",
     "text": [
      "CV average RMSE: 2.89148\n"
     ]
    },
    {
     "name": "stderr",
     "output_type": "stream",
     "text": [
      "[I 2019-03-13 04:55:50,630] Finished a trial resulted in value: 2.8914846776529624. Current best value is 2.7896716317660784 with parameters: {'num_leaves': 36, 'learning_rate': 0.09976132913222707, 'feature_fraction': 0.07700457447759154, 'bagging_fraction': 0.9045363739640161, 'bagging_freq': 7, 'lambda_l2': 1.1318936905174553}.\n"
     ]
    },
    {
     "name": "stdout",
     "output_type": "stream",
     "text": [
      "CV average RMSE: 2.86222\n"
     ]
    },
    {
     "name": "stderr",
     "output_type": "stream",
     "text": [
      "[I 2019-03-13 04:55:51,302] Finished a trial resulted in value: 2.8622188368168286. Current best value is 2.7896716317660784 with parameters: {'num_leaves': 36, 'learning_rate': 0.09976132913222707, 'feature_fraction': 0.07700457447759154, 'bagging_fraction': 0.9045363739640161, 'bagging_freq': 7, 'lambda_l2': 1.1318936905174553}.\n"
     ]
    },
    {
     "name": "stdout",
     "output_type": "stream",
     "text": [
      "CV average RMSE: 2.84335\n"
     ]
    },
    {
     "name": "stderr",
     "output_type": "stream",
     "text": [
      "[I 2019-03-13 04:55:51,907] Finished a trial resulted in value: 2.8433454984944464. Current best value is 2.7896716317660784 with parameters: {'num_leaves': 36, 'learning_rate': 0.09976132913222707, 'feature_fraction': 0.07700457447759154, 'bagging_fraction': 0.9045363739640161, 'bagging_freq': 7, 'lambda_l2': 1.1318936905174553}.\n"
     ]
    },
    {
     "name": "stdout",
     "output_type": "stream",
     "text": [
      "CV average RMSE: 2.87968\n"
     ]
    },
    {
     "name": "stderr",
     "output_type": "stream",
     "text": [
      "[I 2019-03-13 04:55:52,581] Finished a trial resulted in value: 2.8796752089094686. Current best value is 2.7896716317660784 with parameters: {'num_leaves': 36, 'learning_rate': 0.09976132913222707, 'feature_fraction': 0.07700457447759154, 'bagging_fraction': 0.9045363739640161, 'bagging_freq': 7, 'lambda_l2': 1.1318936905174553}.\n"
     ]
    },
    {
     "name": "stdout",
     "output_type": "stream",
     "text": [
      "CV average RMSE: 2.82035\n"
     ]
    },
    {
     "name": "stderr",
     "output_type": "stream",
     "text": [
      "[I 2019-03-13 04:55:53,146] Finished a trial resulted in value: 2.8203508227091363. Current best value is 2.7896716317660784 with parameters: {'num_leaves': 36, 'learning_rate': 0.09976132913222707, 'feature_fraction': 0.07700457447759154, 'bagging_fraction': 0.9045363739640161, 'bagging_freq': 7, 'lambda_l2': 1.1318936905174553}.\n"
     ]
    },
    {
     "name": "stdout",
     "output_type": "stream",
     "text": [
      "CV average RMSE: 3.22036\n"
     ]
    },
    {
     "name": "stderr",
     "output_type": "stream",
     "text": [
      "[I 2019-03-13 04:55:53,834] Finished a trial resulted in value: 3.2203625090354926. Current best value is 2.7896716317660784 with parameters: {'num_leaves': 36, 'learning_rate': 0.09976132913222707, 'feature_fraction': 0.07700457447759154, 'bagging_fraction': 0.9045363739640161, 'bagging_freq': 7, 'lambda_l2': 1.1318936905174553}.\n"
     ]
    },
    {
     "name": "stdout",
     "output_type": "stream",
     "text": [
      "CV average RMSE: 3.48026\n"
     ]
    },
    {
     "name": "stderr",
     "output_type": "stream",
     "text": [
      "[I 2019-03-13 04:55:54,611] Finished a trial resulted in value: 3.4802593702509648. Current best value is 2.7896716317660784 with parameters: {'num_leaves': 36, 'learning_rate': 0.09976132913222707, 'feature_fraction': 0.07700457447759154, 'bagging_fraction': 0.9045363739640161, 'bagging_freq': 7, 'lambda_l2': 1.1318936905174553}.\n"
     ]
    },
    {
     "name": "stdout",
     "output_type": "stream",
     "text": [
      "CV average RMSE: 2.84937\n"
     ]
    },
    {
     "name": "stderr",
     "output_type": "stream",
     "text": [
      "[I 2019-03-13 04:55:55,127] Finished a trial resulted in value: 2.8493654881084174. Current best value is 2.7896716317660784 with parameters: {'num_leaves': 36, 'learning_rate': 0.09976132913222707, 'feature_fraction': 0.07700457447759154, 'bagging_fraction': 0.9045363739640161, 'bagging_freq': 7, 'lambda_l2': 1.1318936905174553}.\n"
     ]
    },
    {
     "name": "stdout",
     "output_type": "stream",
     "text": [
      "CV average RMSE: 2.88819\n"
     ]
    },
    {
     "name": "stderr",
     "output_type": "stream",
     "text": [
      "[I 2019-03-13 04:55:55,647] Finished a trial resulted in value: 2.8881870039423374. Current best value is 2.7896716317660784 with parameters: {'num_leaves': 36, 'learning_rate': 0.09976132913222707, 'feature_fraction': 0.07700457447759154, 'bagging_fraction': 0.9045363739640161, 'bagging_freq': 7, 'lambda_l2': 1.1318936905174553}.\n"
     ]
    },
    {
     "name": "stdout",
     "output_type": "stream",
     "text": [
      "CV average RMSE: 2.83221\n"
     ]
    },
    {
     "name": "stderr",
     "output_type": "stream",
     "text": [
      "[I 2019-03-13 04:55:56,180] Finished a trial resulted in value: 2.8322125225933394. Current best value is 2.7896716317660784 with parameters: {'num_leaves': 36, 'learning_rate': 0.09976132913222707, 'feature_fraction': 0.07700457447759154, 'bagging_fraction': 0.9045363739640161, 'bagging_freq': 7, 'lambda_l2': 1.1318936905174553}.\n"
     ]
    },
    {
     "name": "stdout",
     "output_type": "stream",
     "text": [
      "CV average RMSE: 2.90244\n"
     ]
    },
    {
     "name": "stderr",
     "output_type": "stream",
     "text": [
      "[I 2019-03-13 04:55:56,759] Finished a trial resulted in value: 2.9024394274430962. Current best value is 2.7896716317660784 with parameters: {'num_leaves': 36, 'learning_rate': 0.09976132913222707, 'feature_fraction': 0.07700457447759154, 'bagging_fraction': 0.9045363739640161, 'bagging_freq': 7, 'lambda_l2': 1.1318936905174553}.\n"
     ]
    },
    {
     "name": "stdout",
     "output_type": "stream",
     "text": [
      "CV average RMSE: 2.79765\n"
     ]
    },
    {
     "name": "stderr",
     "output_type": "stream",
     "text": [
      "[I 2019-03-13 04:55:57,304] Finished a trial resulted in value: 2.797649042707133. Current best value is 2.7896716317660784 with parameters: {'num_leaves': 36, 'learning_rate': 0.09976132913222707, 'feature_fraction': 0.07700457447759154, 'bagging_fraction': 0.9045363739640161, 'bagging_freq': 7, 'lambda_l2': 1.1318936905174553}.\n"
     ]
    },
    {
     "name": "stdout",
     "output_type": "stream",
     "text": [
      "CV average RMSE: 2.82279\n"
     ]
    },
    {
     "name": "stderr",
     "output_type": "stream",
     "text": [
      "[I 2019-03-13 04:55:57,835] Finished a trial resulted in value: 2.822794946532387. Current best value is 2.7896716317660784 with parameters: {'num_leaves': 36, 'learning_rate': 0.09976132913222707, 'feature_fraction': 0.07700457447759154, 'bagging_fraction': 0.9045363739640161, 'bagging_freq': 7, 'lambda_l2': 1.1318936905174553}.\n"
     ]
    },
    {
     "name": "stdout",
     "output_type": "stream",
     "text": [
      "CV average RMSE: 2.90127\n"
     ]
    },
    {
     "name": "stderr",
     "output_type": "stream",
     "text": [
      "[I 2019-03-13 04:55:58,340] Finished a trial resulted in value: 2.9012725507761497. Current best value is 2.7896716317660784 with parameters: {'num_leaves': 36, 'learning_rate': 0.09976132913222707, 'feature_fraction': 0.07700457447759154, 'bagging_fraction': 0.9045363739640161, 'bagging_freq': 7, 'lambda_l2': 1.1318936905174553}.\n"
     ]
    },
    {
     "name": "stdout",
     "output_type": "stream",
     "text": [
      "CV average RMSE: 2.8257\n"
     ]
    },
    {
     "name": "stderr",
     "output_type": "stream",
     "text": [
      "[I 2019-03-13 04:55:58,883] Finished a trial resulted in value: 2.8256994565107414. Current best value is 2.7896716317660784 with parameters: {'num_leaves': 36, 'learning_rate': 0.09976132913222707, 'feature_fraction': 0.07700457447759154, 'bagging_fraction': 0.9045363739640161, 'bagging_freq': 7, 'lambda_l2': 1.1318936905174553}.\n"
     ]
    },
    {
     "name": "stdout",
     "output_type": "stream",
     "text": [
      "CV average RMSE: 2.82488\n"
     ]
    },
    {
     "name": "stderr",
     "output_type": "stream",
     "text": [
      "[I 2019-03-13 04:55:59,431] Finished a trial resulted in value: 2.824877479205365. Current best value is 2.7896716317660784 with parameters: {'num_leaves': 36, 'learning_rate': 0.09976132913222707, 'feature_fraction': 0.07700457447759154, 'bagging_fraction': 0.9045363739640161, 'bagging_freq': 7, 'lambda_l2': 1.1318936905174553}.\n"
     ]
    },
    {
     "name": "stdout",
     "output_type": "stream",
     "text": [
      "CV average RMSE: 2.87479\n"
     ]
    },
    {
     "name": "stderr",
     "output_type": "stream",
     "text": [
      "[I 2019-03-13 04:55:59,945] Finished a trial resulted in value: 2.874789665445548. Current best value is 2.7896716317660784 with parameters: {'num_leaves': 36, 'learning_rate': 0.09976132913222707, 'feature_fraction': 0.07700457447759154, 'bagging_fraction': 0.9045363739640161, 'bagging_freq': 7, 'lambda_l2': 1.1318936905174553}.\n"
     ]
    },
    {
     "name": "stdout",
     "output_type": "stream",
     "text": [
      "CV average RMSE: 2.81599\n"
     ]
    },
    {
     "name": "stderr",
     "output_type": "stream",
     "text": [
      "[I 2019-03-13 04:56:00,460] Finished a trial resulted in value: 2.815987654185986. Current best value is 2.7896716317660784 with parameters: {'num_leaves': 36, 'learning_rate': 0.09976132913222707, 'feature_fraction': 0.07700457447759154, 'bagging_fraction': 0.9045363739640161, 'bagging_freq': 7, 'lambda_l2': 1.1318936905174553}.\n"
     ]
    },
    {
     "name": "stdout",
     "output_type": "stream",
     "text": [
      "CV average RMSE: 2.8916\n"
     ]
    },
    {
     "name": "stderr",
     "output_type": "stream",
     "text": [
      "[I 2019-03-13 04:56:01,020] Finished a trial resulted in value: 2.8916013886737835. Current best value is 2.7896716317660784 with parameters: {'num_leaves': 36, 'learning_rate': 0.09976132913222707, 'feature_fraction': 0.07700457447759154, 'bagging_fraction': 0.9045363739640161, 'bagging_freq': 7, 'lambda_l2': 1.1318936905174553}.\n"
     ]
    },
    {
     "name": "stdout",
     "output_type": "stream",
     "text": [
      "CV average RMSE: 2.83034\n"
     ]
    },
    {
     "name": "stderr",
     "output_type": "stream",
     "text": [
      "[I 2019-03-13 04:56:01,535] Finished a trial resulted in value: 2.8303432693323973. Current best value is 2.7896716317660784 with parameters: {'num_leaves': 36, 'learning_rate': 0.09976132913222707, 'feature_fraction': 0.07700457447759154, 'bagging_fraction': 0.9045363739640161, 'bagging_freq': 7, 'lambda_l2': 1.1318936905174553}.\n"
     ]
    },
    {
     "name": "stdout",
     "output_type": "stream",
     "text": [
      "CV average RMSE: 2.89545\n"
     ]
    },
    {
     "name": "stderr",
     "output_type": "stream",
     "text": [
      "[I 2019-03-13 04:56:02,240] Finished a trial resulted in value: 2.895453585032409. Current best value is 2.7896716317660784 with parameters: {'num_leaves': 36, 'learning_rate': 0.09976132913222707, 'feature_fraction': 0.07700457447759154, 'bagging_fraction': 0.9045363739640161, 'bagging_freq': 7, 'lambda_l2': 1.1318936905174553}.\n"
     ]
    },
    {
     "name": "stdout",
     "output_type": "stream",
     "text": [
      "CV average RMSE: 2.82979\n"
     ]
    },
    {
     "name": "stderr",
     "output_type": "stream",
     "text": [
      "[I 2019-03-13 04:56:02,771] Finished a trial resulted in value: 2.8297876463688425. Current best value is 2.7896716317660784 with parameters: {'num_leaves': 36, 'learning_rate': 0.09976132913222707, 'feature_fraction': 0.07700457447759154, 'bagging_fraction': 0.9045363739640161, 'bagging_freq': 7, 'lambda_l2': 1.1318936905174553}.\n"
     ]
    },
    {
     "name": "stdout",
     "output_type": "stream",
     "text": [
      "CV average RMSE: 2.8327\n"
     ]
    },
    {
     "name": "stderr",
     "output_type": "stream",
     "text": [
      "[I 2019-03-13 04:56:03,362] Finished a trial resulted in value: 2.8327007376281546. Current best value is 2.7896716317660784 with parameters: {'num_leaves': 36, 'learning_rate': 0.09976132913222707, 'feature_fraction': 0.07700457447759154, 'bagging_fraction': 0.9045363739640161, 'bagging_freq': 7, 'lambda_l2': 1.1318936905174553}.\n"
     ]
    },
    {
     "name": "stdout",
     "output_type": "stream",
     "text": [
      "CV average RMSE: 2.91652\n"
     ]
    },
    {
     "name": "stderr",
     "output_type": "stream",
     "text": [
      "[I 2019-03-13 04:56:03,863] Finished a trial resulted in value: 2.916523898824747. Current best value is 2.7896716317660784 with parameters: {'num_leaves': 36, 'learning_rate': 0.09976132913222707, 'feature_fraction': 0.07700457447759154, 'bagging_fraction': 0.9045363739640161, 'bagging_freq': 7, 'lambda_l2': 1.1318936905174553}.\n"
     ]
    },
    {
     "name": "stdout",
     "output_type": "stream",
     "text": [
      "CV average RMSE: 2.82618\n"
     ]
    },
    {
     "name": "stderr",
     "output_type": "stream",
     "text": [
      "[I 2019-03-13 04:56:04,446] Finished a trial resulted in value: 2.8261780604666003. Current best value is 2.7896716317660784 with parameters: {'num_leaves': 36, 'learning_rate': 0.09976132913222707, 'feature_fraction': 0.07700457447759154, 'bagging_fraction': 0.9045363739640161, 'bagging_freq': 7, 'lambda_l2': 1.1318936905174553}.\n"
     ]
    },
    {
     "name": "stdout",
     "output_type": "stream",
     "text": [
      "CV average RMSE: 2.88576\n"
     ]
    },
    {
     "name": "stderr",
     "output_type": "stream",
     "text": [
      "[I 2019-03-13 04:56:05,035] Finished a trial resulted in value: 2.8857598393486237. Current best value is 2.7896716317660784 with parameters: {'num_leaves': 36, 'learning_rate': 0.09976132913222707, 'feature_fraction': 0.07700457447759154, 'bagging_fraction': 0.9045363739640161, 'bagging_freq': 7, 'lambda_l2': 1.1318936905174553}.\n"
     ]
    },
    {
     "name": "stdout",
     "output_type": "stream",
     "text": [
      "CV average RMSE: 2.87177\n"
     ]
    },
    {
     "name": "stderr",
     "output_type": "stream",
     "text": [
      "[I 2019-03-13 04:56:05,617] Finished a trial resulted in value: 2.8717658118968865. Current best value is 2.7896716317660784 with parameters: {'num_leaves': 36, 'learning_rate': 0.09976132913222707, 'feature_fraction': 0.07700457447759154, 'bagging_fraction': 0.9045363739640161, 'bagging_freq': 7, 'lambda_l2': 1.1318936905174553}.\n"
     ]
    },
    {
     "name": "stdout",
     "output_type": "stream",
     "text": [
      "CV average RMSE: 2.88173\n"
     ]
    },
    {
     "name": "stderr",
     "output_type": "stream",
     "text": [
      "[I 2019-03-13 04:56:06,332] Finished a trial resulted in value: 2.881729049817505. Current best value is 2.7896716317660784 with parameters: {'num_leaves': 36, 'learning_rate': 0.09976132913222707, 'feature_fraction': 0.07700457447759154, 'bagging_fraction': 0.9045363739640161, 'bagging_freq': 7, 'lambda_l2': 1.1318936905174553}.\n"
     ]
    },
    {
     "name": "stdout",
     "output_type": "stream",
     "text": [
      "CV average RMSE: 2.87476\n"
     ]
    },
    {
     "name": "stderr",
     "output_type": "stream",
     "text": [
      "[I 2019-03-13 04:56:06,895] Finished a trial resulted in value: 2.8747577402926834. Current best value is 2.7896716317660784 with parameters: {'num_leaves': 36, 'learning_rate': 0.09976132913222707, 'feature_fraction': 0.07700457447759154, 'bagging_fraction': 0.9045363739640161, 'bagging_freq': 7, 'lambda_l2': 1.1318936905174553}.\n"
     ]
    },
    {
     "name": "stdout",
     "output_type": "stream",
     "text": [
      "CV average RMSE: 2.85523\n"
     ]
    },
    {
     "name": "stderr",
     "output_type": "stream",
     "text": [
      "[I 2019-03-13 04:56:07,396] Finished a trial resulted in value: 2.8552284677295936. Current best value is 2.7896716317660784 with parameters: {'num_leaves': 36, 'learning_rate': 0.09976132913222707, 'feature_fraction': 0.07700457447759154, 'bagging_fraction': 0.9045363739640161, 'bagging_freq': 7, 'lambda_l2': 1.1318936905174553}.\n"
     ]
    },
    {
     "name": "stdout",
     "output_type": "stream",
     "text": [
      "CV average RMSE: 2.88182\n"
     ]
    },
    {
     "name": "stderr",
     "output_type": "stream",
     "text": [
      "[I 2019-03-13 04:56:07,931] Finished a trial resulted in value: 2.881820052108632. Current best value is 2.7896716317660784 with parameters: {'num_leaves': 36, 'learning_rate': 0.09976132913222707, 'feature_fraction': 0.07700457447759154, 'bagging_fraction': 0.9045363739640161, 'bagging_freq': 7, 'lambda_l2': 1.1318936905174553}.\n"
     ]
    },
    {
     "name": "stdout",
     "output_type": "stream",
     "text": [
      "CV average RMSE: 2.87537\n"
     ]
    },
    {
     "name": "stderr",
     "output_type": "stream",
     "text": [
      "[I 2019-03-13 04:56:08,444] Finished a trial resulted in value: 2.8753724474343536. Current best value is 2.7896716317660784 with parameters: {'num_leaves': 36, 'learning_rate': 0.09976132913222707, 'feature_fraction': 0.07700457447759154, 'bagging_fraction': 0.9045363739640161, 'bagging_freq': 7, 'lambda_l2': 1.1318936905174553}.\n"
     ]
    },
    {
     "name": "stdout",
     "output_type": "stream",
     "text": [
      "CV average RMSE: 2.80526\n"
     ]
    },
    {
     "name": "stderr",
     "output_type": "stream",
     "text": [
      "[I 2019-03-13 04:56:08,988] Finished a trial resulted in value: 2.8052626507795613. Current best value is 2.7896716317660784 with parameters: {'num_leaves': 36, 'learning_rate': 0.09976132913222707, 'feature_fraction': 0.07700457447759154, 'bagging_fraction': 0.9045363739640161, 'bagging_freq': 7, 'lambda_l2': 1.1318936905174553}.\n"
     ]
    },
    {
     "name": "stdout",
     "output_type": "stream",
     "text": [
      "CV average RMSE: 2.89564\n"
     ]
    },
    {
     "name": "stderr",
     "output_type": "stream",
     "text": [
      "[I 2019-03-13 04:56:09,490] Finished a trial resulted in value: 2.8956406356333133. Current best value is 2.7896716317660784 with parameters: {'num_leaves': 36, 'learning_rate': 0.09976132913222707, 'feature_fraction': 0.07700457447759154, 'bagging_fraction': 0.9045363739640161, 'bagging_freq': 7, 'lambda_l2': 1.1318936905174553}.\n"
     ]
    },
    {
     "name": "stdout",
     "output_type": "stream",
     "text": [
      "CV average RMSE: 2.84174\n"
     ]
    },
    {
     "name": "stderr",
     "output_type": "stream",
     "text": [
      "[I 2019-03-13 04:56:10,052] Finished a trial resulted in value: 2.8417403293881245. Current best value is 2.7896716317660784 with parameters: {'num_leaves': 36, 'learning_rate': 0.09976132913222707, 'feature_fraction': 0.07700457447759154, 'bagging_fraction': 0.9045363739640161, 'bagging_freq': 7, 'lambda_l2': 1.1318936905174553}.\n"
     ]
    },
    {
     "name": "stdout",
     "output_type": "stream",
     "text": [
      "CV average RMSE: 2.85146\n"
     ]
    },
    {
     "name": "stderr",
     "output_type": "stream",
     "text": [
      "[I 2019-03-13 04:56:10,584] Finished a trial resulted in value: 2.851457961009084. Current best value is 2.7896716317660784 with parameters: {'num_leaves': 36, 'learning_rate': 0.09976132913222707, 'feature_fraction': 0.07700457447759154, 'bagging_fraction': 0.9045363739640161, 'bagging_freq': 7, 'lambda_l2': 1.1318936905174553}.\n"
     ]
    },
    {
     "name": "stdout",
     "output_type": "stream",
     "text": [
      "CV average RMSE: 2.83628\n"
     ]
    },
    {
     "name": "stderr",
     "output_type": "stream",
     "text": [
      "[I 2019-03-13 04:56:11,193] Finished a trial resulted in value: 2.8362842553291787. Current best value is 2.7896716317660784 with parameters: {'num_leaves': 36, 'learning_rate': 0.09976132913222707, 'feature_fraction': 0.07700457447759154, 'bagging_fraction': 0.9045363739640161, 'bagging_freq': 7, 'lambda_l2': 1.1318936905174553}.\n"
     ]
    },
    {
     "name": "stdout",
     "output_type": "stream",
     "text": [
      "CV average RMSE: 2.85782\n"
     ]
    },
    {
     "name": "stderr",
     "output_type": "stream",
     "text": [
      "[I 2019-03-13 04:56:11,708] Finished a trial resulted in value: 2.857820085375285. Current best value is 2.7896716317660784 with parameters: {'num_leaves': 36, 'learning_rate': 0.09976132913222707, 'feature_fraction': 0.07700457447759154, 'bagging_fraction': 0.9045363739640161, 'bagging_freq': 7, 'lambda_l2': 1.1318936905174553}.\n"
     ]
    },
    {
     "name": "stdout",
     "output_type": "stream",
     "text": [
      "CV average RMSE: 2.79693\n"
     ]
    },
    {
     "name": "stderr",
     "output_type": "stream",
     "text": [
      "[I 2019-03-13 04:56:12,303] Finished a trial resulted in value: 2.796928584431409. Current best value is 2.7896716317660784 with parameters: {'num_leaves': 36, 'learning_rate': 0.09976132913222707, 'feature_fraction': 0.07700457447759154, 'bagging_fraction': 0.9045363739640161, 'bagging_freq': 7, 'lambda_l2': 1.1318936905174553}.\n"
     ]
    },
    {
     "name": "stdout",
     "output_type": "stream",
     "text": [
      "CV average RMSE: 2.83858\n"
     ]
    },
    {
     "name": "stderr",
     "output_type": "stream",
     "text": [
      "[I 2019-03-13 04:56:12,863] Finished a trial resulted in value: 2.8385794740590446. Current best value is 2.7896716317660784 with parameters: {'num_leaves': 36, 'learning_rate': 0.09976132913222707, 'feature_fraction': 0.07700457447759154, 'bagging_fraction': 0.9045363739640161, 'bagging_freq': 7, 'lambda_l2': 1.1318936905174553}.\n"
     ]
    },
    {
     "name": "stdout",
     "output_type": "stream",
     "text": [
      "CV average RMSE: 2.84048\n"
     ]
    },
    {
     "name": "stderr",
     "output_type": "stream",
     "text": [
      "[I 2019-03-13 04:56:13,441] Finished a trial resulted in value: 2.840477794607915. Current best value is 2.7896716317660784 with parameters: {'num_leaves': 36, 'learning_rate': 0.09976132913222707, 'feature_fraction': 0.07700457447759154, 'bagging_fraction': 0.9045363739640161, 'bagging_freq': 7, 'lambda_l2': 1.1318936905174553}.\n"
     ]
    },
    {
     "name": "stdout",
     "output_type": "stream",
     "text": [
      "CV average RMSE: 2.82719\n"
     ]
    },
    {
     "name": "stderr",
     "output_type": "stream",
     "text": [
      "[I 2019-03-13 04:56:14,022] Finished a trial resulted in value: 2.827194263935579. Current best value is 2.7896716317660784 with parameters: {'num_leaves': 36, 'learning_rate': 0.09976132913222707, 'feature_fraction': 0.07700457447759154, 'bagging_fraction': 0.9045363739640161, 'bagging_freq': 7, 'lambda_l2': 1.1318936905174553}.\n"
     ]
    },
    {
     "name": "stdout",
     "output_type": "stream",
     "text": [
      "CV average RMSE: 2.83148\n"
     ]
    },
    {
     "name": "stderr",
     "output_type": "stream",
     "text": [
      "[I 2019-03-13 04:56:14,605] Finished a trial resulted in value: 2.8314832633589413. Current best value is 2.7896716317660784 with parameters: {'num_leaves': 36, 'learning_rate': 0.09976132913222707, 'feature_fraction': 0.07700457447759154, 'bagging_fraction': 0.9045363739640161, 'bagging_freq': 7, 'lambda_l2': 1.1318936905174553}.\n"
     ]
    },
    {
     "name": "stdout",
     "output_type": "stream",
     "text": [
      "CV average RMSE: 2.82497\n"
     ]
    },
    {
     "name": "stderr",
     "output_type": "stream",
     "text": [
      "[I 2019-03-13 04:56:15,180] Finished a trial resulted in value: 2.82497112255624. Current best value is 2.7896716317660784 with parameters: {'num_leaves': 36, 'learning_rate': 0.09976132913222707, 'feature_fraction': 0.07700457447759154, 'bagging_fraction': 0.9045363739640161, 'bagging_freq': 7, 'lambda_l2': 1.1318936905174553}.\n"
     ]
    },
    {
     "name": "stdout",
     "output_type": "stream",
     "text": [
      "CV average RMSE: 2.83716\n"
     ]
    },
    {
     "name": "stderr",
     "output_type": "stream",
     "text": [
      "[I 2019-03-13 04:56:15,726] Finished a trial resulted in value: 2.8371648055744005. Current best value is 2.7896716317660784 with parameters: {'num_leaves': 36, 'learning_rate': 0.09976132913222707, 'feature_fraction': 0.07700457447759154, 'bagging_fraction': 0.9045363739640161, 'bagging_freq': 7, 'lambda_l2': 1.1318936905174553}.\n"
     ]
    },
    {
     "name": "stdout",
     "output_type": "stream",
     "text": [
      "CV average RMSE: 2.83408\n"
     ]
    },
    {
     "name": "stderr",
     "output_type": "stream",
     "text": [
      "[I 2019-03-13 04:56:16,291] Finished a trial resulted in value: 2.834077057834361. Current best value is 2.7896716317660784 with parameters: {'num_leaves': 36, 'learning_rate': 0.09976132913222707, 'feature_fraction': 0.07700457447759154, 'bagging_fraction': 0.9045363739640161, 'bagging_freq': 7, 'lambda_l2': 1.1318936905174553}.\n"
     ]
    },
    {
     "name": "stdout",
     "output_type": "stream",
     "text": [
      "CV average RMSE: 2.85249\n"
     ]
    },
    {
     "name": "stderr",
     "output_type": "stream",
     "text": [
      "[I 2019-03-13 04:56:16,961] Finished a trial resulted in value: 2.852487613430552. Current best value is 2.7896716317660784 with parameters: {'num_leaves': 36, 'learning_rate': 0.09976132913222707, 'feature_fraction': 0.07700457447759154, 'bagging_fraction': 0.9045363739640161, 'bagging_freq': 7, 'lambda_l2': 1.1318936905174553}.\n"
     ]
    },
    {
     "name": "stdout",
     "output_type": "stream",
     "text": [
      "CV average RMSE: 2.8174\n"
     ]
    },
    {
     "name": "stderr",
     "output_type": "stream",
     "text": [
      "[I 2019-03-13 04:56:17,571] Finished a trial resulted in value: 2.8174043957979107. Current best value is 2.7896716317660784 with parameters: {'num_leaves': 36, 'learning_rate': 0.09976132913222707, 'feature_fraction': 0.07700457447759154, 'bagging_fraction': 0.9045363739640161, 'bagging_freq': 7, 'lambda_l2': 1.1318936905174553}.\n"
     ]
    },
    {
     "name": "stdout",
     "output_type": "stream",
     "text": [
      "CV average RMSE: 2.87268\n"
     ]
    },
    {
     "name": "stderr",
     "output_type": "stream",
     "text": [
      "[I 2019-03-13 04:56:18,146] Finished a trial resulted in value: 2.8726804431526136. Current best value is 2.7896716317660784 with parameters: {'num_leaves': 36, 'learning_rate': 0.09976132913222707, 'feature_fraction': 0.07700457447759154, 'bagging_fraction': 0.9045363739640161, 'bagging_freq': 7, 'lambda_l2': 1.1318936905174553}.\n"
     ]
    },
    {
     "name": "stdout",
     "output_type": "stream",
     "text": [
      "CV average RMSE: 2.835\n"
     ]
    },
    {
     "name": "stderr",
     "output_type": "stream",
     "text": [
      "[I 2019-03-13 04:56:18,725] Finished a trial resulted in value: 2.8350020738712374. Current best value is 2.7896716317660784 with parameters: {'num_leaves': 36, 'learning_rate': 0.09976132913222707, 'feature_fraction': 0.07700457447759154, 'bagging_fraction': 0.9045363739640161, 'bagging_freq': 7, 'lambda_l2': 1.1318936905174553}.\n"
     ]
    },
    {
     "name": "stdout",
     "output_type": "stream",
     "text": [
      "CV average RMSE: 2.86903\n"
     ]
    },
    {
     "name": "stderr",
     "output_type": "stream",
     "text": [
      "[I 2019-03-13 04:56:19,276] Finished a trial resulted in value: 2.869033855265381. Current best value is 2.7896716317660784 with parameters: {'num_leaves': 36, 'learning_rate': 0.09976132913222707, 'feature_fraction': 0.07700457447759154, 'bagging_fraction': 0.9045363739640161, 'bagging_freq': 7, 'lambda_l2': 1.1318936905174553}.\n"
     ]
    },
    {
     "name": "stdout",
     "output_type": "stream",
     "text": [
      "CV average RMSE: 2.81785\n"
     ]
    },
    {
     "name": "stderr",
     "output_type": "stream",
     "text": [
      "[I 2019-03-13 04:56:19,835] Finished a trial resulted in value: 2.8178546897572643. Current best value is 2.7896716317660784 with parameters: {'num_leaves': 36, 'learning_rate': 0.09976132913222707, 'feature_fraction': 0.07700457447759154, 'bagging_fraction': 0.9045363739640161, 'bagging_freq': 7, 'lambda_l2': 1.1318936905174553}.\n"
     ]
    },
    {
     "name": "stdout",
     "output_type": "stream",
     "text": [
      "CV average RMSE: 2.83898\n"
     ]
    },
    {
     "name": "stderr",
     "output_type": "stream",
     "text": [
      "[I 2019-03-13 04:56:20,415] Finished a trial resulted in value: 2.838981437697283. Current best value is 2.7896716317660784 with parameters: {'num_leaves': 36, 'learning_rate': 0.09976132913222707, 'feature_fraction': 0.07700457447759154, 'bagging_fraction': 0.9045363739640161, 'bagging_freq': 7, 'lambda_l2': 1.1318936905174553}.\n"
     ]
    },
    {
     "name": "stdout",
     "output_type": "stream",
     "text": [
      "CV average RMSE: 2.87972\n"
     ]
    },
    {
     "name": "stderr",
     "output_type": "stream",
     "text": [
      "[I 2019-03-13 04:56:20,930] Finished a trial resulted in value: 2.8797233421409407. Current best value is 2.7896716317660784 with parameters: {'num_leaves': 36, 'learning_rate': 0.09976132913222707, 'feature_fraction': 0.07700457447759154, 'bagging_fraction': 0.9045363739640161, 'bagging_freq': 7, 'lambda_l2': 1.1318936905174553}.\n"
     ]
    },
    {
     "name": "stdout",
     "output_type": "stream",
     "text": [
      "CV average RMSE: 2.79964\n"
     ]
    },
    {
     "name": "stderr",
     "output_type": "stream",
     "text": [
      "[I 2019-03-13 04:56:21,526] Finished a trial resulted in value: 2.7996429475022326. Current best value is 2.7896716317660784 with parameters: {'num_leaves': 36, 'learning_rate': 0.09976132913222707, 'feature_fraction': 0.07700457447759154, 'bagging_fraction': 0.9045363739640161, 'bagging_freq': 7, 'lambda_l2': 1.1318936905174553}.\n"
     ]
    },
    {
     "name": "stdout",
     "output_type": "stream",
     "text": [
      "CV average RMSE: 2.84091\n"
     ]
    },
    {
     "name": "stderr",
     "output_type": "stream",
     "text": [
      "[I 2019-03-13 04:56:22,084] Finished a trial resulted in value: 2.840910363001087. Current best value is 2.7896716317660784 with parameters: {'num_leaves': 36, 'learning_rate': 0.09976132913222707, 'feature_fraction': 0.07700457447759154, 'bagging_fraction': 0.9045363739640161, 'bagging_freq': 7, 'lambda_l2': 1.1318936905174553}.\n"
     ]
    },
    {
     "name": "stdout",
     "output_type": "stream",
     "text": [
      "CV average RMSE: 2.83461\n"
     ]
    },
    {
     "name": "stderr",
     "output_type": "stream",
     "text": [
      "[I 2019-03-13 04:56:22,698] Finished a trial resulted in value: 2.8346094359618514. Current best value is 2.7896716317660784 with parameters: {'num_leaves': 36, 'learning_rate': 0.09976132913222707, 'feature_fraction': 0.07700457447759154, 'bagging_fraction': 0.9045363739640161, 'bagging_freq': 7, 'lambda_l2': 1.1318936905174553}.\n"
     ]
    },
    {
     "name": "stdout",
     "output_type": "stream",
     "text": [
      "CV average RMSE: 2.86907\n"
     ]
    },
    {
     "name": "stderr",
     "output_type": "stream",
     "text": [
      "[I 2019-03-13 04:56:23,277] Finished a trial resulted in value: 2.869065817811058. Current best value is 2.7896716317660784 with parameters: {'num_leaves': 36, 'learning_rate': 0.09976132913222707, 'feature_fraction': 0.07700457447759154, 'bagging_fraction': 0.9045363739640161, 'bagging_freq': 7, 'lambda_l2': 1.1318936905174553}.\n"
     ]
    },
    {
     "name": "stdout",
     "output_type": "stream",
     "text": [
      "CV average RMSE: 2.82986\n"
     ]
    },
    {
     "name": "stderr",
     "output_type": "stream",
     "text": [
      "[I 2019-03-13 04:56:23,853] Finished a trial resulted in value: 2.8298572346261466. Current best value is 2.7896716317660784 with parameters: {'num_leaves': 36, 'learning_rate': 0.09976132913222707, 'feature_fraction': 0.07700457447759154, 'bagging_fraction': 0.9045363739640161, 'bagging_freq': 7, 'lambda_l2': 1.1318936905174553}.\n"
     ]
    },
    {
     "name": "stdout",
     "output_type": "stream",
     "text": [
      "CV average RMSE: 2.84671\n"
     ]
    },
    {
     "name": "stderr",
     "output_type": "stream",
     "text": [
      "[I 2019-03-13 04:56:24,442] Finished a trial resulted in value: 2.84670935543705. Current best value is 2.7896716317660784 with parameters: {'num_leaves': 36, 'learning_rate': 0.09976132913222707, 'feature_fraction': 0.07700457447759154, 'bagging_fraction': 0.9045363739640161, 'bagging_freq': 7, 'lambda_l2': 1.1318936905174553}.\n"
     ]
    },
    {
     "name": "stdout",
     "output_type": "stream",
     "text": [
      "CV average RMSE: 2.8884\n"
     ]
    },
    {
     "name": "stderr",
     "output_type": "stream",
     "text": [
      "[I 2019-03-13 04:56:25,005] Finished a trial resulted in value: 2.888403427472468. Current best value is 2.7896716317660784 with parameters: {'num_leaves': 36, 'learning_rate': 0.09976132913222707, 'feature_fraction': 0.07700457447759154, 'bagging_fraction': 0.9045363739640161, 'bagging_freq': 7, 'lambda_l2': 1.1318936905174553}.\n"
     ]
    },
    {
     "name": "stdout",
     "output_type": "stream",
     "text": [
      "CV average RMSE: 2.93953\n"
     ]
    },
    {
     "name": "stderr",
     "output_type": "stream",
     "text": [
      "[I 2019-03-13 04:56:25,747] Finished a trial resulted in value: 2.939531823022044. Current best value is 2.7896716317660784 with parameters: {'num_leaves': 36, 'learning_rate': 0.09976132913222707, 'feature_fraction': 0.07700457447759154, 'bagging_fraction': 0.9045363739640161, 'bagging_freq': 7, 'lambda_l2': 1.1318936905174553}.\n"
     ]
    },
    {
     "name": "stdout",
     "output_type": "stream",
     "text": [
      "CV average RMSE: 2.80251\n"
     ]
    },
    {
     "name": "stderr",
     "output_type": "stream",
     "text": [
      "[I 2019-03-13 04:56:26,304] Finished a trial resulted in value: 2.8025128165066007. Current best value is 2.7896716317660784 with parameters: {'num_leaves': 36, 'learning_rate': 0.09976132913222707, 'feature_fraction': 0.07700457447759154, 'bagging_fraction': 0.9045363739640161, 'bagging_freq': 7, 'lambda_l2': 1.1318936905174553}.\n"
     ]
    },
    {
     "name": "stdout",
     "output_type": "stream",
     "text": [
      "CV average RMSE: 2.83545\n"
     ]
    },
    {
     "name": "stderr",
     "output_type": "stream",
     "text": [
      "[I 2019-03-13 04:56:26,916] Finished a trial resulted in value: 2.8354456500385967. Current best value is 2.7896716317660784 with parameters: {'num_leaves': 36, 'learning_rate': 0.09976132913222707, 'feature_fraction': 0.07700457447759154, 'bagging_fraction': 0.9045363739640161, 'bagging_freq': 7, 'lambda_l2': 1.1318936905174553}.\n"
     ]
    },
    {
     "name": "stdout",
     "output_type": "stream",
     "text": [
      "CV average RMSE: 2.81867\n"
     ]
    },
    {
     "name": "stderr",
     "output_type": "stream",
     "text": [
      "[I 2019-03-13 04:56:27,474] Finished a trial resulted in value: 2.8186663364741458. Current best value is 2.7896716317660784 with parameters: {'num_leaves': 36, 'learning_rate': 0.09976132913222707, 'feature_fraction': 0.07700457447759154, 'bagging_fraction': 0.9045363739640161, 'bagging_freq': 7, 'lambda_l2': 1.1318936905174553}.\n"
     ]
    },
    {
     "name": "stdout",
     "output_type": "stream",
     "text": [
      "CV average RMSE: 2.8683\n"
     ]
    },
    {
     "name": "stderr",
     "output_type": "stream",
     "text": [
      "[I 2019-03-13 04:56:28,012] Finished a trial resulted in value: 2.8682994361399916. Current best value is 2.7896716317660784 with parameters: {'num_leaves': 36, 'learning_rate': 0.09976132913222707, 'feature_fraction': 0.07700457447759154, 'bagging_fraction': 0.9045363739640161, 'bagging_freq': 7, 'lambda_l2': 1.1318936905174553}.\n"
     ]
    },
    {
     "name": "stdout",
     "output_type": "stream",
     "text": [
      "CV average RMSE: 2.86816\n"
     ]
    },
    {
     "name": "stderr",
     "output_type": "stream",
     "text": [
      "[I 2019-03-13 04:56:28,540] Finished a trial resulted in value: 2.8681577897787682. Current best value is 2.7896716317660784 with parameters: {'num_leaves': 36, 'learning_rate': 0.09976132913222707, 'feature_fraction': 0.07700457447759154, 'bagging_fraction': 0.9045363739640161, 'bagging_freq': 7, 'lambda_l2': 1.1318936905174553}.\n"
     ]
    },
    {
     "name": "stdout",
     "output_type": "stream",
     "text": [
      "CV average RMSE: 2.83029\n"
     ]
    },
    {
     "name": "stderr",
     "output_type": "stream",
     "text": [
      "[I 2019-03-13 04:56:29,115] Finished a trial resulted in value: 2.8302868296018713. Current best value is 2.7896716317660784 with parameters: {'num_leaves': 36, 'learning_rate': 0.09976132913222707, 'feature_fraction': 0.07700457447759154, 'bagging_fraction': 0.9045363739640161, 'bagging_freq': 7, 'lambda_l2': 1.1318936905174553}.\n"
     ]
    },
    {
     "name": "stdout",
     "output_type": "stream",
     "text": [
      "CV average RMSE: 2.85879\n"
     ]
    },
    {
     "name": "stderr",
     "output_type": "stream",
     "text": [
      "[I 2019-03-13 04:56:29,680] Finished a trial resulted in value: 2.858786210761154. Current best value is 2.7896716317660784 with parameters: {'num_leaves': 36, 'learning_rate': 0.09976132913222707, 'feature_fraction': 0.07700457447759154, 'bagging_fraction': 0.9045363739640161, 'bagging_freq': 7, 'lambda_l2': 1.1318936905174553}.\n"
     ]
    },
    {
     "name": "stdout",
     "output_type": "stream",
     "text": [
      "CV average RMSE: 2.89005\n"
     ]
    },
    {
     "name": "stderr",
     "output_type": "stream",
     "text": [
      "[I 2019-03-13 04:56:30,216] Finished a trial resulted in value: 2.8900499013491427. Current best value is 2.7896716317660784 with parameters: {'num_leaves': 36, 'learning_rate': 0.09976132913222707, 'feature_fraction': 0.07700457447759154, 'bagging_fraction': 0.9045363739640161, 'bagging_freq': 7, 'lambda_l2': 1.1318936905174553}.\n"
     ]
    },
    {
     "name": "stdout",
     "output_type": "stream",
     "text": [
      "CV average RMSE: 2.8064\n"
     ]
    },
    {
     "name": "stderr",
     "output_type": "stream",
     "text": [
      "[I 2019-03-13 04:56:30,792] Finished a trial resulted in value: 2.8063951858860583. Current best value is 2.7896716317660784 with parameters: {'num_leaves': 36, 'learning_rate': 0.09976132913222707, 'feature_fraction': 0.07700457447759154, 'bagging_fraction': 0.9045363739640161, 'bagging_freq': 7, 'lambda_l2': 1.1318936905174553}.\n"
     ]
    },
    {
     "name": "stdout",
     "output_type": "stream",
     "text": [
      "CV average RMSE: 2.86225\n"
     ]
    },
    {
     "name": "stderr",
     "output_type": "stream",
     "text": [
      "[I 2019-03-13 04:56:31,338] Finished a trial resulted in value: 2.8622459977657657. Current best value is 2.7896716317660784 with parameters: {'num_leaves': 36, 'learning_rate': 0.09976132913222707, 'feature_fraction': 0.07700457447759154, 'bagging_fraction': 0.9045363739640161, 'bagging_freq': 7, 'lambda_l2': 1.1318936905174553}.\n"
     ]
    },
    {
     "name": "stdout",
     "output_type": "stream",
     "text": [
      "CV average RMSE: 2.89804\n"
     ]
    },
    {
     "name": "stderr",
     "output_type": "stream",
     "text": [
      "[I 2019-03-13 04:56:32,039] Finished a trial resulted in value: 2.8980397980848567. Current best value is 2.7896716317660784 with parameters: {'num_leaves': 36, 'learning_rate': 0.09976132913222707, 'feature_fraction': 0.07700457447759154, 'bagging_fraction': 0.9045363739640161, 'bagging_freq': 7, 'lambda_l2': 1.1318936905174553}.\n"
     ]
    },
    {
     "name": "stdout",
     "output_type": "stream",
     "text": [
      "CV average RMSE: 2.87227\n"
     ]
    },
    {
     "name": "stderr",
     "output_type": "stream",
     "text": [
      "[I 2019-03-13 04:56:32,617] Finished a trial resulted in value: 2.872272831587029. Current best value is 2.7896716317660784 with parameters: {'num_leaves': 36, 'learning_rate': 0.09976132913222707, 'feature_fraction': 0.07700457447759154, 'bagging_fraction': 0.9045363739640161, 'bagging_freq': 7, 'lambda_l2': 1.1318936905174553}.\n"
     ]
    },
    {
     "name": "stdout",
     "output_type": "stream",
     "text": [
      "CV average RMSE: 2.82516\n"
     ]
    },
    {
     "name": "stderr",
     "output_type": "stream",
     "text": [
      "[I 2019-03-13 04:56:33,199] Finished a trial resulted in value: 2.8251564081331955. Current best value is 2.7896716317660784 with parameters: {'num_leaves': 36, 'learning_rate': 0.09976132913222707, 'feature_fraction': 0.07700457447759154, 'bagging_fraction': 0.9045363739640161, 'bagging_freq': 7, 'lambda_l2': 1.1318936905174553}.\n"
     ]
    },
    {
     "name": "stdout",
     "output_type": "stream",
     "text": [
      "CV average RMSE: 2.83305\n"
     ]
    },
    {
     "name": "stderr",
     "output_type": "stream",
     "text": [
      "[I 2019-03-13 04:56:33,856] Finished a trial resulted in value: 2.833051682447842. Current best value is 2.7896716317660784 with parameters: {'num_leaves': 36, 'learning_rate': 0.09976132913222707, 'feature_fraction': 0.07700457447759154, 'bagging_fraction': 0.9045363739640161, 'bagging_freq': 7, 'lambda_l2': 1.1318936905174553}.\n"
     ]
    },
    {
     "name": "stdout",
     "output_type": "stream",
     "text": [
      "CV average RMSE: 2.83417\n"
     ]
    },
    {
     "name": "stderr",
     "output_type": "stream",
     "text": [
      "[I 2019-03-13 04:56:34,530] Finished a trial resulted in value: 2.8341670936940853. Current best value is 2.7896716317660784 with parameters: {'num_leaves': 36, 'learning_rate': 0.09976132913222707, 'feature_fraction': 0.07700457447759154, 'bagging_fraction': 0.9045363739640161, 'bagging_freq': 7, 'lambda_l2': 1.1318936905174553}.\n"
     ]
    },
    {
     "name": "stdout",
     "output_type": "stream",
     "text": [
      "CV average RMSE: 2.82716\n"
     ]
    },
    {
     "name": "stderr",
     "output_type": "stream",
     "text": [
      "[I 2019-03-13 04:56:35,119] Finished a trial resulted in value: 2.8271628187191027. Current best value is 2.7896716317660784 with parameters: {'num_leaves': 36, 'learning_rate': 0.09976132913222707, 'feature_fraction': 0.07700457447759154, 'bagging_fraction': 0.9045363739640161, 'bagging_freq': 7, 'lambda_l2': 1.1318936905174553}.\n"
     ]
    },
    {
     "name": "stdout",
     "output_type": "stream",
     "text": [
      "CV average RMSE: 2.89565\n"
     ]
    },
    {
     "name": "stderr",
     "output_type": "stream",
     "text": [
      "[I 2019-03-13 04:56:35,682] Finished a trial resulted in value: 2.895654879108325. Current best value is 2.7896716317660784 with parameters: {'num_leaves': 36, 'learning_rate': 0.09976132913222707, 'feature_fraction': 0.07700457447759154, 'bagging_fraction': 0.9045363739640161, 'bagging_freq': 7, 'lambda_l2': 1.1318936905174553}.\n"
     ]
    },
    {
     "name": "stdout",
     "output_type": "stream",
     "text": [
      "CV average RMSE: 2.83642\n"
     ]
    },
    {
     "name": "stderr",
     "output_type": "stream",
     "text": [
      "[I 2019-03-13 04:56:36,241] Finished a trial resulted in value: 2.8364217971586205. Current best value is 2.7896716317660784 with parameters: {'num_leaves': 36, 'learning_rate': 0.09976132913222707, 'feature_fraction': 0.07700457447759154, 'bagging_fraction': 0.9045363739640161, 'bagging_freq': 7, 'lambda_l2': 1.1318936905174553}.\n"
     ]
    },
    {
     "name": "stdout",
     "output_type": "stream",
     "text": [
      "CV average RMSE: 2.84832\n"
     ]
    },
    {
     "name": "stderr",
     "output_type": "stream",
     "text": [
      "[I 2019-03-13 04:56:36,793] Finished a trial resulted in value: 2.8483233937470898. Current best value is 2.7896716317660784 with parameters: {'num_leaves': 36, 'learning_rate': 0.09976132913222707, 'feature_fraction': 0.07700457447759154, 'bagging_fraction': 0.9045363739640161, 'bagging_freq': 7, 'lambda_l2': 1.1318936905174553}.\n"
     ]
    },
    {
     "name": "stdout",
     "output_type": "stream",
     "text": [
      "CV average RMSE: 2.855\n"
     ]
    },
    {
     "name": "stderr",
     "output_type": "stream",
     "text": [
      "[I 2019-03-13 04:56:37,323] Finished a trial resulted in value: 2.854997640080156. Current best value is 2.7896716317660784 with parameters: {'num_leaves': 36, 'learning_rate': 0.09976132913222707, 'feature_fraction': 0.07700457447759154, 'bagging_fraction': 0.9045363739640161, 'bagging_freq': 7, 'lambda_l2': 1.1318936905174553}.\n"
     ]
    }
   ],
   "source": [
    "study = optuna.create_study()\n",
    "study.optimize(objective, n_trials=1000)"
   ]
  },
  {
   "cell_type": "code",
   "execution_count": 14,
   "metadata": {},
   "outputs": [
    {
     "data": {
      "text/plain": [
       "2.7896716317660784"
      ]
     },
     "execution_count": 14,
     "metadata": {},
     "output_type": "execute_result"
    }
   ],
   "source": [
    "study.best_value"
   ]
  },
  {
   "cell_type": "code",
   "execution_count": 15,
   "metadata": {},
   "outputs": [
    {
     "data": {
      "text/plain": [
       "{'num_leaves': 36,\n",
       " 'learning_rate': 0.09976132913222707,\n",
       " 'feature_fraction': 0.07700457447759154,\n",
       " 'bagging_fraction': 0.9045363739640161,\n",
       " 'bagging_freq': 7,\n",
       " 'lambda_l2': 1.1318936905174553}"
      ]
     },
     "execution_count": 15,
     "metadata": {},
     "output_type": "execute_result"
    }
   ],
   "source": [
    "study.best_params"
   ]
  },
  {
   "cell_type": "code",
   "execution_count": 18,
   "metadata": {},
   "outputs": [],
   "source": [
    "params = {                                                                                   \n",
    "        'boosting_type': 'gbdt',                                                                             \n",
    "        'objective': 'regression_l2',                                                        \n",
    "        'metric': 'RMSE',                                               \n",
    "        'num_leaves': study.best_params['num_leaves'],                                                      \n",
    "        'learning_rate': study.best_params['learning_rate'],                                                         \n",
    "        'feature_fraction': study.best_params['feature_fraction'],                                                                  \n",
    "        'bagging_fraction': study.best_params['bagging_fraction'],                                                                       \n",
    "        'bagging_freq': study.best_params['bagging_freq'],\n",
    "        'lambda_l2': study.best_params['lambda_l2'],\n",
    "    }"
   ]
  },
  {
   "cell_type": "code",
   "execution_count": 21,
   "metadata": {},
   "outputs": [
    {
     "name": "stdout",
     "output_type": "stream",
     "text": [
      "Fold 1 CV RMSE: 2.90328\n",
      "Fold 2 CV RMSE: 2.94539\n",
      "Fold 3 CV RMSE: 2.47432\n",
      "Fold 4 CV RMSE: 3.09358\n",
      "Fold 5 CV RMSE: 2.53179\n"
     ]
    }
   ],
   "source": [
    "test_pred = np.zeros(len(test_df))\n",
    "accuracy_train = []\n",
    "index = 1\n",
    "for train, test in kf.split(train_df):\n",
    "    X_train = train_df.iloc[train]\n",
    "    y_train = X_train['mpg'].values\n",
    "    X_train = X_train[feature_list].values\n",
    "\n",
    "    X_test = train_df.iloc[test]\n",
    "    y_test = X_test['mpg'].values\n",
    "    X_test = X_test[feature_list].values\n",
    "\n",
    "    train_data_set = lgb.Dataset(X_train, y_train)\n",
    "    test_data_set = lgb.Dataset(X_test, y_test, reference=train_data_set)\n",
    "\n",
    "    model = create_model(params, train_data_set, test_data_set)\n",
    "    pred_train = model.predict(X_test, num_iteration=model.best_iteration)\n",
    "\n",
    "    test_data = test_df[feature_list].values\n",
    "    test_pred += model.predict(test_data, num_iteration=model.best_iteration)/N\n",
    "    accuracy_train.append(np.sqrt(mean_squared_error(y_test, pred_train)))\n",
    "    print('Fold {} CV RMSE: {:.6}'.format(index, accuracy_train[-1]))\n",
    "    index += 1\n",
    "ave = sum(accuracy_train)/len(accuracy_train)"
   ]
  },
  {
   "cell_type": "code",
   "execution_count": 22,
   "metadata": {},
   "outputs": [],
   "source": [
    "import csv\n",
    "f = open('lgbm.csv', 'w')\n",
    "writer = csv.writer(f, lineterminator='\\n')\n",
    "csvlist = [[] for i in range(len(test_pred))]\n",
    "for i in range(len(test_pred)):\n",
    "    csvlist[i].append(test_id[i])\n",
    "    csvlist[i].append(test_pred[i])\n",
    "    writer.writerow(csvlist[i])\n",
    "f.close()"
   ]
  },
  {
   "cell_type": "code",
   "execution_count": null,
   "metadata": {},
   "outputs": [],
   "source": []
  }
 ],
 "metadata": {
  "kernelspec": {
   "display_name": "Python 3",
   "language": "python",
   "name": "python3"
  },
  "language_info": {
   "codemirror_mode": {
    "name": "ipython",
    "version": 3
   },
   "file_extension": ".py",
   "mimetype": "text/x-python",
   "name": "python",
   "nbconvert_exporter": "python",
   "pygments_lexer": "ipython3",
   "version": "3.6.7"
  }
 },
 "nbformat": 4,
 "nbformat_minor": 2
}
